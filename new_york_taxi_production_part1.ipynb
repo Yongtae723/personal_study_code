{
  "nbformat": 4,
  "nbformat_minor": 0,
  "metadata": {
    "colab": {
      "name": "new york taxi production part1.ipynb",
      "provenance": [],
      "collapsed_sections": [],
      "toc_visible": true,
      "include_colab_link": true
    },
    "kernelspec": {
      "name": "python3",
      "display_name": "Python 3"
    },
    "accelerator": "GPU"
  },
  "cells": [
    {
      "cell_type": "markdown",
      "metadata": {
        "id": "view-in-github",
        "colab_type": "text"
      },
      "source": [
        "<a href=\"https://colab.research.google.com/github/Yongtae723/personal_study_code/blob/main/new_york_taxi_production_part1.ipynb\" target=\"_parent\"><img src=\"https://colab.research.google.com/assets/colab-badge.svg\" alt=\"Open In Colab\"/></a>"
      ]
    },
    {
      "cell_type": "markdown",
      "metadata": {
        "id": "v0FFHph-nFMJ"
      },
      "source": [
        "# taxiの運賃を予想するAI\n",
        "Kaggleのデータセットに加えて、天気の情報pick upした場所から、drop offした場所まで最短距離をOSRM(Open Source Routing Machine)で計算した物も情報として加えた"
      ]
    },
    {
      "cell_type": "markdown",
      "metadata": {
        "id": "aQGIPmcZnfnd"
      },
      "source": [
        "## Kaggle のデータ"
      ]
    },
    {
      "cell_type": "code",
      "metadata": {
        "id": "IVYIbJfieq7T",
        "colab": {
          "resources": {
            "http://localhost:8080/nbextensions/google.colab/files.js": {
              "data": "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",
              "ok": true,
              "headers": [
                [
                  "content-type",
                  "application/javascript"
                ]
              ],
              "status": 200,
              "status_text": ""
            }
          },
          "base_uri": "https://localhost:8080/",
          "height": 63
        },
        "outputId": "2285d403-932e-4207-f85f-afefb946bbaa"
      },
      "source": [
        "from google.colab import files\n",
        "files.upload()\n"
      ],
      "execution_count": null,
      "outputs": [
        {
          "output_type": "display_data",
          "data": {
            "text/html": [
              "\n",
              "     <input type=\"file\" id=\"files-f4617c9a-142c-4063-b116-abe5816f089e\" name=\"files[]\" multiple disabled />\n",
              "     <output id=\"result-f4617c9a-142c-4063-b116-abe5816f089e\">\n",
              "      Upload widget is only available when the cell has been executed in the\n",
              "      current browser session. Please rerun this cell to enable.\n",
              "      </output>\n",
              "      <script src=\"/nbextensions/google.colab/files.js\"></script> "
            ],
            "text/plain": [
              "<IPython.core.display.HTML object>"
            ]
          },
          "metadata": {
            "tags": []
          }
        },
        {
          "output_type": "execute_result",
          "data": {
            "text/plain": [
              "{}"
            ]
          },
          "metadata": {
            "tags": []
          },
          "execution_count": 13
        }
      ]
    },
    {
      "cell_type": "code",
      "metadata": {
        "id": "jrhdw2NJezPr"
      },
      "source": [
        "!mkdir -p ~/.kaggle  #kaggleのファイルを作る\n",
        "!cp kaggle.json ~/.kaggle  #kaggleのトークンをコピーする\n",
        "\n",
        "#kaggleのアクセス権を変更する\n",
        "!chmod 600 ~/.kaggle/kaggle.json"
      ],
      "execution_count": null,
      "outputs": []
    },
    {
      "cell_type": "code",
      "metadata": {
        "id": "iWxBaKXXe3PG",
        "colab": {
          "base_uri": "https://localhost:8080/",
          "height": 179
        },
        "outputId": "244a1f63-1b63-4437-a9b2-675ce301c924"
      },
      "source": [
        "!kaggle competitions download -c nyc-taxi-trip-duration"
      ],
      "execution_count": null,
      "outputs": [
        {
          "output_type": "stream",
          "text": [
            "Downloading sample_submission.zip to /content\n",
            "\r  0% 0.00/2.49M [00:00<?, ?B/s]\n",
            "100% 2.49M/2.49M [00:00<00:00, 84.0MB/s]\n",
            "Downloading test.zip to /content\n",
            " 44% 9.00M/20.3M [00:00<00:00, 51.5MB/s]\n",
            "100% 20.3M/20.3M [00:00<00:00, 80.5MB/s]\n",
            "Downloading train.zip to /content\n",
            " 92% 58.0M/62.9M [00:03<00:00, 18.4MB/s]\n",
            "100% 62.9M/62.9M [00:03<00:00, 21.4MB/s]\n"
          ],
          "name": "stdout"
        }
      ]
    },
    {
      "cell_type": "code",
      "metadata": {
        "id": "rhzHv3Ome7WU",
        "colab": {
          "base_uri": "https://localhost:8080/",
          "height": 89
        },
        "outputId": "d714bd38-7510-48dc-c4ae-c50ad312905b"
      },
      "source": [
        "!unzip test.zip\n",
        "!unzip train.zip"
      ],
      "execution_count": null,
      "outputs": [
        {
          "output_type": "stream",
          "text": [
            "Archive:  test.zip\n",
            "  inflating: test.csv                \n",
            "Archive:  train.zip\n",
            "  inflating: train.csv               \n"
          ],
          "name": "stdout"
        }
      ]
    },
    {
      "cell_type": "markdown",
      "metadata": {
        "id": "DesxCHuajnyy"
      },
      "source": [
        "## 天気の情報をインストール"
      ]
    },
    {
      "cell_type": "code",
      "metadata": {
        "id": "bIk31qnpjm7o",
        "colab": {
          "base_uri": "https://localhost:8080/",
          "height": 71
        },
        "outputId": "73d9effa-d3ff-4364-af53-4165bafb27ad"
      },
      "source": [
        "!kaggle datasets download -d mathijs/weather-data-in-new-york-city-2016"
      ],
      "execution_count": null,
      "outputs": [
        {
          "output_type": "stream",
          "text": [
            "Downloading weather-data-in-new-york-city-2016.zip to /content\n",
            "\r  0% 0.00/3.14k [00:00<?, ?B/s]\n",
            "\r100% 3.14k/3.14k [00:00<00:00, 2.52MB/s]\n"
          ],
          "name": "stdout"
        }
      ]
    },
    {
      "cell_type": "code",
      "metadata": {
        "id": "vUpNJOAIkBH3",
        "colab": {
          "base_uri": "https://localhost:8080/",
          "height": 53
        },
        "outputId": "a5fe4c0f-b427-4f3c-ab31-7c65d7190b5c"
      },
      "source": [
        "!unzip weather-data-in-new-york-city-2016"
      ],
      "execution_count": null,
      "outputs": [
        {
          "output_type": "stream",
          "text": [
            "Archive:  weather-data-in-new-york-city-2016.zip\n",
            "  inflating: weather_data_nyc_centralpark_2016(1).csv  \n"
          ],
          "name": "stdout"
        }
      ]
    },
    {
      "cell_type": "markdown",
      "metadata": {
        "id": "pxtcmBXrlmIU"
      },
      "source": [
        "## OSRMのデータはgithubに落ちてた"
      ]
    },
    {
      "cell_type": "code",
      "metadata": {
        "id": "orUbilkHlmWL",
        "colab": {
          "base_uri": "https://localhost:8080/",
          "height": 125
        },
        "outputId": "44d84ae6-0f17-4026-9116-d537a8a57dae"
      },
      "source": [
        "!git clone https://github.com/PaulEmmanuelSotir/NYC_TaxiTripDuration.git"
      ],
      "execution_count": null,
      "outputs": [
        {
          "output_type": "stream",
          "text": [
            "Cloning into 'NYC_TaxiTripDuration'...\n",
            "remote: Enumerating objects: 275, done.\u001b[K\n",
            "remote: Total 275 (delta 0), reused 0 (delta 0), pack-reused 275\n",
            "Receiving objects: 100% (275/275), 387.20 MiB | 40.10 MiB/s, done.\n",
            "Resolving deltas: 100% (171/171), done.\n",
            "Checking out files: 100% (15/15), done.\n"
          ],
          "name": "stdout"
        }
      ]
    },
    {
      "cell_type": "code",
      "metadata": {
        "id": "JEtyrARwlt_8",
        "colab": {
          "base_uri": "https://localhost:8080/",
          "height": 125
        },
        "outputId": "5f3544b5-b98f-468b-d8a8-18d43a4deeda"
      },
      "source": [
        "!unzip ./NYC_TaxiTripDuration/NYC_taxi_data_2016/osrm/fastest_routes_test.zip\n",
        "!unzip ./NYC_TaxiTripDuration/NYC_taxi_data_2016/osrm/fastest_routes_train_part_1.zip\n",
        "!unzip ./NYC_TaxiTripDuration/NYC_taxi_data_2016/osrm/fastest_routes_train_part_2.zip"
      ],
      "execution_count": null,
      "outputs": [
        {
          "output_type": "stream",
          "text": [
            "Archive:  ./NYC_TaxiTripDuration/NYC_taxi_data_2016/osrm/fastest_routes_test.zip\n",
            "  inflating: fastest_routes_test.csv  \n",
            "Archive:  ./NYC_TaxiTripDuration/NYC_taxi_data_2016/osrm/fastest_routes_train_part_1.zip\n",
            "  inflating: fastest_routes_train_part_1.csv  \n",
            "Archive:  ./NYC_TaxiTripDuration/NYC_taxi_data_2016/osrm/fastest_routes_train_part_2.zip\n",
            "  inflating: fastest_routes_train_part_2.csv  \n"
          ],
          "name": "stdout"
        }
      ]
    },
    {
      "cell_type": "code",
      "metadata": {
        "id": "HVMv5gHQmNzU"
      },
      "source": [
        ""
      ],
      "execution_count": null,
      "outputs": []
    },
    {
      "cell_type": "markdown",
      "metadata": {
        "id": "UTDnYcUwns4V"
      },
      "source": [
        "## data処理"
      ]
    },
    {
      "cell_type": "code",
      "metadata": {
        "id": "oxY1ey0ofEgC"
      },
      "source": [
        "import numpy as np \n",
        "import pandas as pd\n",
        "import seaborn as sns\n",
        "import matplotlib.pyplot as plt\n",
        "from sklearn.model_selection import ShuffleSplit\n",
        "from sklearn.model_selection import cross_val_score\n",
        "from sklearn.model_selection import GridSearchCV\n",
        "import xgboost\n",
        "%matplotlib inline\n",
        "\n",
        "from subprocess import check_output\n",
        "# print(check_output([\"ls\", \"input/\"]).decode(\"utf8\"))"
      ],
      "execution_count": null,
      "outputs": []
    },
    {
      "cell_type": "code",
      "metadata": {
        "id": "iI-ToAI6i803",
        "colab": {
          "base_uri": "https://localhost:8080/",
          "height": 233
        },
        "outputId": "cb473f49-e1c0-44a7-c8bc-5f09faef4865"
      },
      "source": [
        "df = pd.read_csv('train.csv')\n",
        "df.dtypes"
      ],
      "execution_count": null,
      "outputs": [
        {
          "output_type": "execute_result",
          "data": {
            "text/plain": [
              "id                     object\n",
              "vendor_id               int64\n",
              "pickup_datetime        object\n",
              "dropoff_datetime       object\n",
              "passenger_count         int64\n",
              "pickup_longitude      float64\n",
              "pickup_latitude       float64\n",
              "dropoff_longitude     float64\n",
              "dropoff_latitude      float64\n",
              "store_and_fwd_flag     object\n",
              "trip_duration           int64\n",
              "dtype: object"
            ]
          },
          "metadata": {
            "tags": []
          },
          "execution_count": 10
        }
      ]
    },
    {
      "cell_type": "code",
      "metadata": {
        "id": "OPoZuIhapeI6",
        "colab": {
          "base_uri": "https://localhost:8080/",
          "height": 345
        },
        "outputId": "5c43d648-6602-4888-cdc9-a53b2a2ac4eb"
      },
      "source": [
        "#dataのメモリの量をへらす\n",
        "print(f\" memory amount of before data is {df.memory_usage().sum()/2**20}\")\n",
        "df.passenger_count = df.passenger_count.astype(np.uint8)\n",
        "df.vendor_id = df.vendor_id.astype(np.uint8)\n",
        "df.trip_duration = df.trip_duration.astype(np.uint32)\n",
        "for c in [c for c in df.columns if c.endswith('tude')]:\n",
        "    df.loc[:,c] = df[c].astype(np.float32)\n",
        "print(f\" memory amount of after data is {df.memory_usage().sum()/2**20}\")\n",
        "\n",
        "#インストールしたデータの\"daytime\"のdtyoeがobjectだったので変換する\n",
        "df.pickup_datetime=pd.to_datetime(df.pickup_datetime)\n",
        "df.dropoff_datetime=pd.to_datetime(df.dropoff_datetime)\n",
        "\n",
        "\n",
        "df['pu_hour'] = df.pickup_datetime.dt.hour\n",
        "df['yday'] = df.pickup_datetime.dt.dayofyear\n",
        "df['wday'] = df.pickup_datetime.dt.dayofweek\n",
        "df['month'] = df.pickup_datetime.dt.month\n",
        "df.head()"
      ],
      "execution_count": null,
      "outputs": [
        {
          "output_type": "stream",
          "text": [
            " memory amount of before data is 122.41435241699219\n",
            " memory amount of after data is 75.11792755126953\n"
          ],
          "name": "stdout"
        },
        {
          "output_type": "execute_result",
          "data": {
            "text/html": [
              "<div>\n",
              "<style scoped>\n",
              "    .dataframe tbody tr th:only-of-type {\n",
              "        vertical-align: middle;\n",
              "    }\n",
              "\n",
              "    .dataframe tbody tr th {\n",
              "        vertical-align: top;\n",
              "    }\n",
              "\n",
              "    .dataframe thead th {\n",
              "        text-align: right;\n",
              "    }\n",
              "</style>\n",
              "<table border=\"1\" class=\"dataframe\">\n",
              "  <thead>\n",
              "    <tr style=\"text-align: right;\">\n",
              "      <th></th>\n",
              "      <th>id</th>\n",
              "      <th>vendor_id</th>\n",
              "      <th>pickup_datetime</th>\n",
              "      <th>dropoff_datetime</th>\n",
              "      <th>passenger_count</th>\n",
              "      <th>pickup_longitude</th>\n",
              "      <th>pickup_latitude</th>\n",
              "      <th>dropoff_longitude</th>\n",
              "      <th>dropoff_latitude</th>\n",
              "      <th>store_and_fwd_flag</th>\n",
              "      <th>trip_duration</th>\n",
              "      <th>pu_hour</th>\n",
              "      <th>yday</th>\n",
              "      <th>wday</th>\n",
              "      <th>month</th>\n",
              "    </tr>\n",
              "  </thead>\n",
              "  <tbody>\n",
              "    <tr>\n",
              "      <th>0</th>\n",
              "      <td>id2875421</td>\n",
              "      <td>2</td>\n",
              "      <td>2016-03-14 17:24:55</td>\n",
              "      <td>2016-03-14 17:32:30</td>\n",
              "      <td>1</td>\n",
              "      <td>-73.982155</td>\n",
              "      <td>40.767937</td>\n",
              "      <td>-73.964630</td>\n",
              "      <td>40.765602</td>\n",
              "      <td>N</td>\n",
              "      <td>455</td>\n",
              "      <td>17</td>\n",
              "      <td>74</td>\n",
              "      <td>0</td>\n",
              "      <td>3</td>\n",
              "    </tr>\n",
              "    <tr>\n",
              "      <th>1</th>\n",
              "      <td>id2377394</td>\n",
              "      <td>1</td>\n",
              "      <td>2016-06-12 00:43:35</td>\n",
              "      <td>2016-06-12 00:54:38</td>\n",
              "      <td>1</td>\n",
              "      <td>-73.980415</td>\n",
              "      <td>40.738564</td>\n",
              "      <td>-73.999481</td>\n",
              "      <td>40.731152</td>\n",
              "      <td>N</td>\n",
              "      <td>663</td>\n",
              "      <td>0</td>\n",
              "      <td>164</td>\n",
              "      <td>6</td>\n",
              "      <td>6</td>\n",
              "    </tr>\n",
              "    <tr>\n",
              "      <th>2</th>\n",
              "      <td>id3858529</td>\n",
              "      <td>2</td>\n",
              "      <td>2016-01-19 11:35:24</td>\n",
              "      <td>2016-01-19 12:10:48</td>\n",
              "      <td>1</td>\n",
              "      <td>-73.979027</td>\n",
              "      <td>40.763939</td>\n",
              "      <td>-74.005333</td>\n",
              "      <td>40.710087</td>\n",
              "      <td>N</td>\n",
              "      <td>2124</td>\n",
              "      <td>11</td>\n",
              "      <td>19</td>\n",
              "      <td>1</td>\n",
              "      <td>1</td>\n",
              "    </tr>\n",
              "    <tr>\n",
              "      <th>3</th>\n",
              "      <td>id3504673</td>\n",
              "      <td>2</td>\n",
              "      <td>2016-04-06 19:32:31</td>\n",
              "      <td>2016-04-06 19:39:40</td>\n",
              "      <td>1</td>\n",
              "      <td>-74.010040</td>\n",
              "      <td>40.719971</td>\n",
              "      <td>-74.012268</td>\n",
              "      <td>40.706718</td>\n",
              "      <td>N</td>\n",
              "      <td>429</td>\n",
              "      <td>19</td>\n",
              "      <td>97</td>\n",
              "      <td>2</td>\n",
              "      <td>4</td>\n",
              "    </tr>\n",
              "    <tr>\n",
              "      <th>4</th>\n",
              "      <td>id2181028</td>\n",
              "      <td>2</td>\n",
              "      <td>2016-03-26 13:30:55</td>\n",
              "      <td>2016-03-26 13:38:10</td>\n",
              "      <td>1</td>\n",
              "      <td>-73.973053</td>\n",
              "      <td>40.793209</td>\n",
              "      <td>-73.972923</td>\n",
              "      <td>40.782520</td>\n",
              "      <td>N</td>\n",
              "      <td>435</td>\n",
              "      <td>13</td>\n",
              "      <td>86</td>\n",
              "      <td>5</td>\n",
              "      <td>3</td>\n",
              "    </tr>\n",
              "  </tbody>\n",
              "</table>\n",
              "</div>"
            ],
            "text/plain": [
              "          id  vendor_id     pickup_datetime  ... yday  wday  month\n",
              "0  id2875421          2 2016-03-14 17:24:55  ...   74     0      3\n",
              "1  id2377394          1 2016-06-12 00:43:35  ...  164     6      6\n",
              "2  id3858529          2 2016-01-19 11:35:24  ...   19     1      1\n",
              "3  id3504673          2 2016-04-06 19:32:31  ...   97     2      4\n",
              "4  id2181028          2 2016-03-26 13:30:55  ...   86     5      3\n",
              "\n",
              "[5 rows x 15 columns]"
            ]
          },
          "metadata": {
            "tags": []
          },
          "execution_count": 11
        }
      ]
    },
    {
      "cell_type": "code",
      "metadata": {
        "id": "IwviHL2ppsW2",
        "colab": {
          "base_uri": "https://localhost:8080/",
          "height": 305
        },
        "outputId": "f1d1aa99-e155-48e7-8fe0-0a6d1d2fe0dd"
      },
      "source": [
        "df.dtypes"
      ],
      "execution_count": null,
      "outputs": [
        {
          "output_type": "execute_result",
          "data": {
            "text/plain": [
              "id                            object\n",
              "vendor_id                      uint8\n",
              "pickup_datetime       datetime64[ns]\n",
              "dropoff_datetime      datetime64[ns]\n",
              "passenger_count                uint8\n",
              "pickup_longitude             float32\n",
              "pickup_latitude              float32\n",
              "dropoff_longitude            float32\n",
              "dropoff_latitude             float32\n",
              "store_and_fwd_flag            object\n",
              "trip_duration                 uint32\n",
              "pu_hour                        int64\n",
              "yday                           int64\n",
              "wday                           int64\n",
              "month                          int64\n",
              "dtype: object"
            ]
          },
          "metadata": {
            "tags": []
          },
          "execution_count": 12
        }
      ]
    },
    {
      "cell_type": "code",
      "metadata": {
        "id": "hRXSi1O9rVIq",
        "colab": {
          "base_uri": "https://localhost:8080/",
          "height": 599
        },
        "outputId": "21f11fc8-522a-45eb-a3f8-e81fa49d10cc"
      },
      "source": [
        "#データの相関を見る\n",
        "sns.set_style('white')\n",
        "sns.set_context(\"paper\",font_scale=2)\n",
        "corr = df.corr()\n",
        "mask = np.zeros_like(corr, dtype=np.bool)#corrと同じ型ですべての要素がFalseの配列\n",
        "mask[np.triu_indices_from(mask)] = True#上三角行列をTrueに\n",
        "f, ax = plt.subplots(figsize=(9,7))\n",
        "cmap = sns.diverging_palette(220, 10, as_cmap=True)\n",
        "sns.heatmap(corr, mask=mask, cmap=cmap, vmax=0.3, center=0,\n",
        "           square=True, linewidths=0.5, cbar_kws={\"shrink\":0.5})"
      ],
      "execution_count": null,
      "outputs": [
        {
          "output_type": "execute_result",
          "data": {
            "text/plain": [
              "<matplotlib.axes._subplots.AxesSubplot at 0x7f78d261c278>"
            ]
          },
          "metadata": {
            "tags": []
          },
          "execution_count": 13
        },
        {
          "output_type": "display_data",
          "data": {
            "image/png": "[encoded data removed]",
            "text/plain": [
              "<Figure size 648x504 with 2 Axes>"
            ]
          },
          "metadata": {
            "tags": []
          }
        }
      ]
    },
    {
      "cell_type": "code",
      "metadata": {
        "id": "gMJx_vgMsLZ4",
        "colab": {
          "base_uri": "https://localhost:8080/",
          "height": 321
        },
        "outputId": "7c1a4858-2f89-45cd-ac84-5e72a3e2a312"
      },
      "source": [
        "fig, ax = plt.subplots(ncols=1, nrows=1)\n",
        "sns.distplot(df['trip_duration']/3600,ax=ax,bins=100,kde=False,hist_kws={'log':True})"
      ],
      "execution_count": null,
      "outputs": [
        {
          "output_type": "execute_result",
          "data": {
            "text/plain": [
              "<matplotlib.axes._subplots.AxesSubplot at 0x7f78d2619748>"
            ]
          },
          "metadata": {
            "tags": []
          },
          "execution_count": 14
        },
        {
          "output_type": "display_data",
          "data": {
            "image/png": "[encoded data removed]",
            "text/plain": [
              "<Figure size 432x288 with 1 Axes>"
            ]
          },
          "metadata": {
            "tags": []
          }
        }
      ]
    },
    {
      "cell_type": "code",
      "metadata": {
        "id": "NtSyYe1JvEHP",
        "colab": {
          "base_uri": "https://localhost:8080/",
          "height": 321
        },
        "outputId": "cb66b35c-bb48-4787-90e9-1b56336ff171"
      },
      "source": [
        "fig, ax = plt.subplots(ncols=1, nrows=1)\n",
        "ax.set_xlim(0,30)\n",
        "sns.distplot(df['trip_duration']/3600,ax=ax,bins=1000,kde=False,hist_kws={'log':True})"
      ],
      "execution_count": null,
      "outputs": [
        {
          "output_type": "execute_result",
          "data": {
            "text/plain": [
              "<matplotlib.axes._subplots.AxesSubplot at 0x7f78d749ee48>"
            ]
          },
          "metadata": {
            "tags": []
          },
          "execution_count": 15
        },
        {
          "output_type": "display_data",
          "data": {
            "image/png": "[encoded data removed]",
            "text/plain": [
              "<Figure size 432x288 with 1 Axes>"
            ]
          },
          "metadata": {
            "tags": []
          }
        }
      ]
    },
    {
      "cell_type": "code",
      "metadata": {
        "id": "iB79-p85vh8V"
      },
      "source": [
        "def haversine(lon1, lat1, lon2, lat2):\n",
        "  \"\"\"\n",
        "  地球のような球面における2点間の距離はhaversine formula(球面三角法)で計算される\n",
        "  \"\"\"\n",
        "  lon1, lat1, lon2, lat2 = map(np.radians, [lon1, lat1, lon2, lat2])\n",
        "\n",
        "  dlon = lon2 - lon1\n",
        "  dlat = lat2 - lat1\n",
        "\n",
        "  a = np.sin(dlat/2.0)**2 + np.cos(lat1) * np.cos(lat2) * np.sin(dlon/2.0)**2\n",
        "\n",
        "  c = 2 * np.arcsin(np.sqrt(a))\n",
        "  km = 6367 * c\n",
        "  miles = km *  0.621371\n",
        "  return miles"
      ],
      "execution_count": null,
      "outputs": []
    },
    {
      "cell_type": "code",
      "metadata": {
        "id": "COjg5cO8wG8g"
      },
      "source": [
        "df['distance'] = haversine(df.pickup_longitude, df.pickup_latitude,\n",
        "                                           df.dropoff_longitude, df.dropoff_latitude)"
      ],
      "execution_count": null,
      "outputs": []
    },
    {
      "cell_type": "code",
      "metadata": {
        "id": "0qnn30sxwHJq",
        "colab": {
          "base_uri": "https://localhost:8080/",
          "height": 321
        },
        "outputId": "b9933b36-c1fb-4eec-ae84-63234e80c4c2"
      },
      "source": [
        "fig, ax = plt.subplots(ncols=1, nrows=1)\n",
        "sns.distplot(df['distance'],ax=ax,bins=100,kde=False,hist_kws={'log':True})"
      ],
      "execution_count": null,
      "outputs": [
        {
          "output_type": "execute_result",
          "data": {
            "text/plain": [
              "<matplotlib.axes._subplots.AxesSubplot at 0x7f78e31c5390>"
            ]
          },
          "metadata": {
            "tags": []
          },
          "execution_count": 18
        },
        {
          "output_type": "display_data",
          "data": {
            "image/png": "[encoded data removed]",
            "text/plain": [
              "<Figure size 432x288 with 1 Axes>"
            ]
          },
          "metadata": {
            "tags": []
          }
        }
      ]
    },
    {
      "cell_type": "code",
      "metadata": {
        "id": "Eop5Pi5ewMsP",
        "colab": {
          "base_uri": "https://localhost:8080/",
          "height": 306
        },
        "outputId": "dd5a5045-9d80-4421-b8e7-4623f021ccb6"
      },
      "source": [
        "#about weather\n",
        "wdf = pd.read_csv('weather_data_nyc_centralpark_2016(1).csv')\n",
        "wdf.head()"
      ],
      "execution_count": null,
      "outputs": [
        {
          "output_type": "execute_result",
          "data": {
            "text/html": [
              "<div>\n",
              "<style scoped>\n",
              "    .dataframe tbody tr th:only-of-type {\n",
              "        vertical-align: middle;\n",
              "    }\n",
              "\n",
              "    .dataframe tbody tr th {\n",
              "        vertical-align: top;\n",
              "    }\n",
              "\n",
              "    .dataframe thead th {\n",
              "        text-align: right;\n",
              "    }\n",
              "</style>\n",
              "<table border=\"1\" class=\"dataframe\">\n",
              "  <thead>\n",
              "    <tr style=\"text-align: right;\">\n",
              "      <th></th>\n",
              "      <th>date</th>\n",
              "      <th>maximum temperature</th>\n",
              "      <th>minimum temperature</th>\n",
              "      <th>average temperature</th>\n",
              "      <th>precipitation</th>\n",
              "      <th>snow fall</th>\n",
              "      <th>snow depth</th>\n",
              "    </tr>\n",
              "  </thead>\n",
              "  <tbody>\n",
              "    <tr>\n",
              "      <th>0</th>\n",
              "      <td>1-1-2016</td>\n",
              "      <td>42</td>\n",
              "      <td>34</td>\n",
              "      <td>38.0</td>\n",
              "      <td>0.00</td>\n",
              "      <td>0.0</td>\n",
              "      <td>0</td>\n",
              "    </tr>\n",
              "    <tr>\n",
              "      <th>1</th>\n",
              "      <td>2-1-2016</td>\n",
              "      <td>40</td>\n",
              "      <td>32</td>\n",
              "      <td>36.0</td>\n",
              "      <td>0.00</td>\n",
              "      <td>0.0</td>\n",
              "      <td>0</td>\n",
              "    </tr>\n",
              "    <tr>\n",
              "      <th>2</th>\n",
              "      <td>3-1-2016</td>\n",
              "      <td>45</td>\n",
              "      <td>35</td>\n",
              "      <td>40.0</td>\n",
              "      <td>0.00</td>\n",
              "      <td>0.0</td>\n",
              "      <td>0</td>\n",
              "    </tr>\n",
              "    <tr>\n",
              "      <th>3</th>\n",
              "      <td>4-1-2016</td>\n",
              "      <td>36</td>\n",
              "      <td>14</td>\n",
              "      <td>25.0</td>\n",
              "      <td>0.00</td>\n",
              "      <td>0.0</td>\n",
              "      <td>0</td>\n",
              "    </tr>\n",
              "    <tr>\n",
              "      <th>4</th>\n",
              "      <td>5-1-2016</td>\n",
              "      <td>29</td>\n",
              "      <td>11</td>\n",
              "      <td>20.0</td>\n",
              "      <td>0.00</td>\n",
              "      <td>0.0</td>\n",
              "      <td>0</td>\n",
              "    </tr>\n",
              "  </tbody>\n",
              "</table>\n",
              "</div>"
            ],
            "text/plain": [
              "       date  maximum temperature  ...  snow fall  snow depth\n",
              "0  1-1-2016                   42  ...        0.0           0\n",
              "1  2-1-2016                   40  ...        0.0           0\n",
              "2  3-1-2016                   45  ...        0.0           0\n",
              "3  4-1-2016                   36  ...        0.0           0\n",
              "4  5-1-2016                   29  ...        0.0           0\n",
              "\n",
              "[5 rows x 7 columns]"
            ]
          },
          "metadata": {
            "tags": []
          },
          "execution_count": 19
        }
      ]
    },
    {
      "cell_type": "code",
      "metadata": {
        "id": "Vl-Lg_FJxb7c"
      },
      "source": [
        "wdf['date']=pd.to_datetime(wdf.date,format='%d-%m-%Y')\n",
        "wdf['yday'] = wdf.date.dt.dayofyear"
      ],
      "execution_count": null,
      "outputs": []
    },
    {
      "cell_type": "code",
      "metadata": {
        "id": "Qf_ua48Gxqwp",
        "colab": {
          "base_uri": "https://localhost:8080/",
          "height": 306
        },
        "outputId": "604e5b58-7f47-4620-b5b5-a007afa72555"
      },
      "source": [
        "wdf.head()"
      ],
      "execution_count": null,
      "outputs": [
        {
          "output_type": "execute_result",
          "data": {
            "text/html": [
              "<div>\n",
              "<style scoped>\n",
              "    .dataframe tbody tr th:only-of-type {\n",
              "        vertical-align: middle;\n",
              "    }\n",
              "\n",
              "    .dataframe tbody tr th {\n",
              "        vertical-align: top;\n",
              "    }\n",
              "\n",
              "    .dataframe thead th {\n",
              "        text-align: right;\n",
              "    }\n",
              "</style>\n",
              "<table border=\"1\" class=\"dataframe\">\n",
              "  <thead>\n",
              "    <tr style=\"text-align: right;\">\n",
              "      <th></th>\n",
              "      <th>date</th>\n",
              "      <th>maximum temperature</th>\n",
              "      <th>minimum temperature</th>\n",
              "      <th>average temperature</th>\n",
              "      <th>precipitation</th>\n",
              "      <th>snow fall</th>\n",
              "      <th>snow depth</th>\n",
              "      <th>yday</th>\n",
              "    </tr>\n",
              "  </thead>\n",
              "  <tbody>\n",
              "    <tr>\n",
              "      <th>0</th>\n",
              "      <td>2016-01-01</td>\n",
              "      <td>42</td>\n",
              "      <td>34</td>\n",
              "      <td>38.0</td>\n",
              "      <td>0.00</td>\n",
              "      <td>0.0</td>\n",
              "      <td>0</td>\n",
              "      <td>1</td>\n",
              "    </tr>\n",
              "    <tr>\n",
              "      <th>1</th>\n",
              "      <td>2016-01-02</td>\n",
              "      <td>40</td>\n",
              "      <td>32</td>\n",
              "      <td>36.0</td>\n",
              "      <td>0.00</td>\n",
              "      <td>0.0</td>\n",
              "      <td>0</td>\n",
              "      <td>2</td>\n",
              "    </tr>\n",
              "    <tr>\n",
              "      <th>2</th>\n",
              "      <td>2016-01-03</td>\n",
              "      <td>45</td>\n",
              "      <td>35</td>\n",
              "      <td>40.0</td>\n",
              "      <td>0.00</td>\n",
              "      <td>0.0</td>\n",
              "      <td>0</td>\n",
              "      <td>3</td>\n",
              "    </tr>\n",
              "    <tr>\n",
              "      <th>3</th>\n",
              "      <td>2016-01-04</td>\n",
              "      <td>36</td>\n",
              "      <td>14</td>\n",
              "      <td>25.0</td>\n",
              "      <td>0.00</td>\n",
              "      <td>0.0</td>\n",
              "      <td>0</td>\n",
              "      <td>4</td>\n",
              "    </tr>\n",
              "    <tr>\n",
              "      <th>4</th>\n",
              "      <td>2016-01-05</td>\n",
              "      <td>29</td>\n",
              "      <td>11</td>\n",
              "      <td>20.0</td>\n",
              "      <td>0.00</td>\n",
              "      <td>0.0</td>\n",
              "      <td>0</td>\n",
              "      <td>5</td>\n",
              "    </tr>\n",
              "  </tbody>\n",
              "</table>\n",
              "</div>"
            ],
            "text/plain": [
              "        date  maximum temperature  ...  snow depth  yday\n",
              "0 2016-01-01                   42  ...           0     1\n",
              "1 2016-01-02                   40  ...           0     2\n",
              "2 2016-01-03                   45  ...           0     3\n",
              "3 2016-01-04                   36  ...           0     4\n",
              "4 2016-01-05                   29  ...           0     5\n",
              "\n",
              "[5 rows x 8 columns]"
            ]
          },
          "metadata": {
            "tags": []
          },
          "execution_count": 21
        }
      ]
    },
    {
      "cell_type": "code",
      "metadata": {
        "id": "iU6AtMO2xr1J"
      },
      "source": [
        "\n",
        "#weatherのtable微小の降水量があると\"T\"と表示されるらしい。。。しかしなぜTを0.05に変換するのか不明\n",
        "wdf['snowfall'] = wdf['snow fall'].replace(['T'],0.05).astype(np.float32)\n",
        "wdf['precipitation'] = wdf['precipitation'].replace(['T'],0.05).astype(np.float32)\n",
        "wdf['snowdepth'] = wdf['snow depth'].replace(['T'],0.05).astype(np.float32)"
      ],
      "execution_count": null,
      "outputs": []
    },
    {
      "cell_type": "code",
      "metadata": {
        "id": "v5cPUUZKx-tf"
      },
      "source": [
        "df = pd.merge(df,wdf,on='yday')\n"
      ],
      "execution_count": null,
      "outputs": []
    },
    {
      "cell_type": "code",
      "metadata": {
        "id": "WezswubKy2zF",
        "colab": {
          "base_uri": "https://localhost:8080/",
          "height": 143
        },
        "outputId": "2857819f-860f-44d1-e55a-d685c219ce83"
      },
      "source": [
        "df.columns"
      ],
      "execution_count": null,
      "outputs": [
        {
          "output_type": "execute_result",
          "data": {
            "text/plain": [
              "Index(['id', 'vendor_id', 'pickup_datetime', 'dropoff_datetime',\n",
              "       'passenger_count', 'pickup_longitude', 'pickup_latitude',\n",
              "       'dropoff_longitude', 'dropoff_latitude', 'store_and_fwd_flag',\n",
              "       'trip_duration', 'pu_hour', 'yday', 'wday', 'month', 'distance', 'date',\n",
              "       'maximum temperature', 'minimum temperature', 'average temperature',\n",
              "       'precipitation', 'snow fall', 'snow depth', 'snowfall', 'snowdepth'],\n",
              "      dtype='object')"
            ]
          },
          "metadata": {
            "tags": []
          },
          "execution_count": 24
        }
      ]
    },
    {
      "cell_type": "code",
      "metadata": {
        "id": "-YmJdwUrzUoR"
      },
      "source": [
        "df = df.drop(['date','maximum temperature','minimum temperature'],axis=1)"
      ],
      "execution_count": null,
      "outputs": []
    },
    {
      "cell_type": "code",
      "metadata": {
        "id": "T3mkUHkZzeuj",
        "colab": {
          "base_uri": "https://localhost:8080/",
          "height": 761
        },
        "outputId": "631ed58d-e9e0-40cd-a805-0a224efbb070"
      },
      "source": [
        "sns.set_style('white')\n",
        "sns.set_context(\"paper\",font_scale=2)\n",
        "corr = df.corr()\n",
        "mask = np.zeros_like(corr, dtype=np.bool)\n",
        "mask[np.triu_indices_from(mask)] = True\n",
        "f, ax = plt.subplots(figsize=(11,9))\n",
        "cmap = sns.diverging_palette(220, 10, as_cmap=True)\n",
        "sns.heatmap(corr, mask=mask, cmap=cmap, vmax=0.3, center=0,\n",
        "           square=True, linewidths=0.5, cbar_kws={\"shrink\":0.5})"
      ],
      "execution_count": null,
      "outputs": [
        {
          "output_type": "execute_result",
          "data": {
            "text/plain": [
              "<matplotlib.axes._subplots.AxesSubplot at 0x7f78e0ac1f60>"
            ]
          },
          "metadata": {
            "tags": []
          },
          "execution_count": 26
        },
        {
          "output_type": "display_data",
          "data": {
            "image/png": "[encoded data removed]",
            "text/plain": [
              "<Figure size 792x648 with 2 Axes>"
            ]
          },
          "metadata": {
            "tags": []
          }
        }
      ]
    },
    {
      "cell_type": "code",
      "metadata": {
        "id": "SsBTG48czhOB",
        "colab": {
          "base_uri": "https://localhost:8080/",
          "height": 594
        },
        "outputId": "87396c8d-dd0c-416c-cda5-9a0377d9410b"
      },
      "source": [
        "corr"
      ],
      "execution_count": null,
      "outputs": [
        {
          "output_type": "execute_result",
          "data": {
            "text/html": [
              "<div>\n",
              "<style scoped>\n",
              "    .dataframe tbody tr th:only-of-type {\n",
              "        vertical-align: middle;\n",
              "    }\n",
              "\n",
              "    .dataframe tbody tr th {\n",
              "        vertical-align: top;\n",
              "    }\n",
              "\n",
              "    .dataframe thead th {\n",
              "        text-align: right;\n",
              "    }\n",
              "</style>\n",
              "<table border=\"1\" class=\"dataframe\">\n",
              "  <thead>\n",
              "    <tr style=\"text-align: right;\">\n",
              "      <th></th>\n",
              "      <th>vendor_id</th>\n",
              "      <th>passenger_count</th>\n",
              "      <th>pickup_longitude</th>\n",
              "      <th>pickup_latitude</th>\n",
              "      <th>dropoff_longitude</th>\n",
              "      <th>dropoff_latitude</th>\n",
              "      <th>trip_duration</th>\n",
              "      <th>pu_hour</th>\n",
              "      <th>yday</th>\n",
              "      <th>wday</th>\n",
              "      <th>month</th>\n",
              "      <th>distance</th>\n",
              "      <th>average temperature</th>\n",
              "      <th>precipitation</th>\n",
              "      <th>snowfall</th>\n",
              "      <th>snowdepth</th>\n",
              "    </tr>\n",
              "  </thead>\n",
              "  <tbody>\n",
              "    <tr>\n",
              "      <th>vendor_id</th>\n",
              "      <td>1.000000</td>\n",
              "      <td>0.287415</td>\n",
              "      <td>0.007820</td>\n",
              "      <td>0.001742</td>\n",
              "      <td>0.001528</td>\n",
              "      <td>0.004496</td>\n",
              "      <td>0.020304</td>\n",
              "      <td>0.009299</td>\n",
              "      <td>-0.006025</td>\n",
              "      <td>0.001311</td>\n",
              "      <td>-0.006221</td>\n",
              "      <td>0.008109</td>\n",
              "      <td>-0.005760</td>\n",
              "      <td>0.001385</td>\n",
              "      <td>0.000207</td>\n",
              "      <td>0.006036</td>\n",
              "    </tr>\n",
              "    <tr>\n",
              "      <th>passenger_count</th>\n",
              "      <td>0.287415</td>\n",
              "      <td>1.000000</td>\n",
              "      <td>0.002169</td>\n",
              "      <td>-0.005125</td>\n",
              "      <td>-0.000343</td>\n",
              "      <td>-0.002762</td>\n",
              "      <td>0.008471</td>\n",
              "      <td>0.009101</td>\n",
              "      <td>-0.001784</td>\n",
              "      <td>0.025191</td>\n",
              "      <td>-0.002143</td>\n",
              "      <td>0.010306</td>\n",
              "      <td>-0.001203</td>\n",
              "      <td>0.001415</td>\n",
              "      <td>0.000510</td>\n",
              "      <td>0.000733</td>\n",
              "    </tr>\n",
              "    <tr>\n",
              "      <th>pickup_longitude</th>\n",
              "      <td>0.007820</td>\n",
              "      <td>0.002169</td>\n",
              "      <td>1.000000</td>\n",
              "      <td>0.022568</td>\n",
              "      <td>0.783582</td>\n",
              "      <td>0.100190</td>\n",
              "      <td>0.026542</td>\n",
              "      <td>0.010150</td>\n",
              "      <td>0.004263</td>\n",
              "      <td>-0.016356</td>\n",
              "      <td>0.004474</td>\n",
              "      <td>0.259780</td>\n",
              "      <td>0.005547</td>\n",
              "      <td>0.001418</td>\n",
              "      <td>-0.003288</td>\n",
              "      <td>0.003602</td>\n",
              "    </tr>\n",
              "    <tr>\n",
              "      <th>pickup_latitude</th>\n",
              "      <td>0.001742</td>\n",
              "      <td>-0.005125</td>\n",
              "      <td>0.022568</td>\n",
              "      <td>1.000000</td>\n",
              "      <td>0.114884</td>\n",
              "      <td>0.494038</td>\n",
              "      <td>-0.029204</td>\n",
              "      <td>0.010603</td>\n",
              "      <td>-0.002516</td>\n",
              "      <td>-0.028976</td>\n",
              "      <td>-0.001439</td>\n",
              "      <td>-0.210354</td>\n",
              "      <td>-0.002011</td>\n",
              "      <td>-0.004180</td>\n",
              "      <td>-0.005058</td>\n",
              "      <td>-0.000112</td>\n",
              "    </tr>\n",
              "    <tr>\n",
              "      <th>dropoff_longitude</th>\n",
              "      <td>0.001528</td>\n",
              "      <td>-0.000343</td>\n",
              "      <td>0.783582</td>\n",
              "      <td>0.114884</td>\n",
              "      <td>1.000000</td>\n",
              "      <td>0.124873</td>\n",
              "      <td>0.014678</td>\n",
              "      <td>-0.022455</td>\n",
              "      <td>0.004612</td>\n",
              "      <td>-0.001130</td>\n",
              "      <td>0.004758</td>\n",
              "      <td>0.134033</td>\n",
              "      <td>0.005502</td>\n",
              "      <td>0.001660</td>\n",
              "      <td>0.000774</td>\n",
              "      <td>0.001092</td>\n",
              "    </tr>\n",
              "    <tr>\n",
              "      <th>dropoff_latitude</th>\n",
              "      <td>0.004496</td>\n",
              "      <td>-0.002762</td>\n",
              "      <td>0.100190</td>\n",
              "      <td>0.494038</td>\n",
              "      <td>0.124873</td>\n",
              "      <td>1.000000</td>\n",
              "      <td>-0.020677</td>\n",
              "      <td>0.013612</td>\n",
              "      <td>-0.001554</td>\n",
              "      <td>-0.021762</td>\n",
              "      <td>-0.000607</td>\n",
              "      <td>-0.142128</td>\n",
              "      <td>-0.000997</td>\n",
              "      <td>-0.002710</td>\n",
              "      <td>-0.002434</td>\n",
              "      <td>0.000454</td>\n",
              "    </tr>\n",
              "    <tr>\n",
              "      <th>trip_duration</th>\n",
              "      <td>0.020304</td>\n",
              "      <td>0.008471</td>\n",
              "      <td>0.026542</td>\n",
              "      <td>-0.029204</td>\n",
              "      <td>0.014678</td>\n",
              "      <td>-0.020677</td>\n",
              "      <td>1.000000</td>\n",
              "      <td>0.003690</td>\n",
              "      <td>0.006625</td>\n",
              "      <td>-0.000708</td>\n",
              "      <td>0.006607</td>\n",
              "      <td>0.094777</td>\n",
              "      <td>0.004574</td>\n",
              "      <td>-0.002590</td>\n",
              "      <td>-0.000190</td>\n",
              "      <td>0.002716</td>\n",
              "    </tr>\n",
              "    <tr>\n",
              "      <th>pu_hour</th>\n",
              "      <td>0.009299</td>\n",
              "      <td>0.009101</td>\n",
              "      <td>0.010150</td>\n",
              "      <td>0.010603</td>\n",
              "      <td>-0.022455</td>\n",
              "      <td>0.013612</td>\n",
              "      <td>0.003690</td>\n",
              "      <td>1.000000</td>\n",
              "      <td>-0.003340</td>\n",
              "      <td>-0.084255</td>\n",
              "      <td>-0.003438</td>\n",
              "      <td>-0.015813</td>\n",
              "      <td>-0.004948</td>\n",
              "      <td>-0.028656</td>\n",
              "      <td>-0.048589</td>\n",
              "      <td>0.014215</td>\n",
              "    </tr>\n",
              "    <tr>\n",
              "      <th>yday</th>\n",
              "      <td>-0.006025</td>\n",
              "      <td>-0.001784</td>\n",
              "      <td>0.004263</td>\n",
              "      <td>-0.002516</td>\n",
              "      <td>0.004612</td>\n",
              "      <td>-0.001554</td>\n",
              "      <td>0.006625</td>\n",
              "      <td>-0.003340</td>\n",
              "      <td>1.000000</td>\n",
              "      <td>-0.013615</td>\n",
              "      <td>0.985657</td>\n",
              "      <td>0.016443</td>\n",
              "      <td>0.837212</td>\n",
              "      <td>-0.031407</td>\n",
              "      <td>-0.077248</td>\n",
              "      <td>-0.229351</td>\n",
              "    </tr>\n",
              "    <tr>\n",
              "      <th>wday</th>\n",
              "      <td>0.001311</td>\n",
              "      <td>0.025191</td>\n",
              "      <td>-0.016356</td>\n",
              "      <td>-0.028976</td>\n",
              "      <td>-0.001130</td>\n",
              "      <td>-0.021762</td>\n",
              "      <td>-0.000708</td>\n",
              "      <td>-0.084255</td>\n",
              "      <td>-0.013615</td>\n",
              "      <td>1.000000</td>\n",
              "      <td>-0.014544</td>\n",
              "      <td>0.007599</td>\n",
              "      <td>-0.019799</td>\n",
              "      <td>-0.041673</td>\n",
              "      <td>0.028427</td>\n",
              "      <td>-0.034647</td>\n",
              "    </tr>\n",
              "    <tr>\n",
              "      <th>month</th>\n",
              "      <td>-0.006221</td>\n",
              "      <td>-0.002143</td>\n",
              "      <td>0.004474</td>\n",
              "      <td>-0.001439</td>\n",
              "      <td>0.004758</td>\n",
              "      <td>-0.000607</td>\n",
              "      <td>0.006607</td>\n",
              "      <td>-0.003438</td>\n",
              "      <td>0.985657</td>\n",
              "      <td>-0.014544</td>\n",
              "      <td>1.000000</td>\n",
              "      <td>0.015668</td>\n",
              "      <td>0.814295</td>\n",
              "      <td>-0.022469</td>\n",
              "      <td>-0.079563</td>\n",
              "      <td>-0.268631</td>\n",
              "    </tr>\n",
              "    <tr>\n",
              "      <th>distance</th>\n",
              "      <td>0.008109</td>\n",
              "      <td>0.010306</td>\n",
              "      <td>0.259780</td>\n",
              "      <td>-0.210354</td>\n",
              "      <td>0.134033</td>\n",
              "      <td>-0.142128</td>\n",
              "      <td>0.094777</td>\n",
              "      <td>-0.015813</td>\n",
              "      <td>0.016443</td>\n",
              "      <td>0.007599</td>\n",
              "      <td>0.015668</td>\n",
              "      <td>1.000000</td>\n",
              "      <td>0.018631</td>\n",
              "      <td>0.001317</td>\n",
              "      <td>-0.003175</td>\n",
              "      <td>0.000548</td>\n",
              "    </tr>\n",
              "    <tr>\n",
              "      <th>average temperature</th>\n",
              "      <td>-0.005760</td>\n",
              "      <td>-0.001203</td>\n",
              "      <td>0.005547</td>\n",
              "      <td>-0.002011</td>\n",
              "      <td>0.005502</td>\n",
              "      <td>-0.000997</td>\n",
              "      <td>0.004574</td>\n",
              "      <td>-0.004948</td>\n",
              "      <td>0.837212</td>\n",
              "      <td>-0.019799</td>\n",
              "      <td>0.814295</td>\n",
              "      <td>0.018631</td>\n",
              "      <td>1.000000</td>\n",
              "      <td>0.020519</td>\n",
              "      <td>-0.094767</td>\n",
              "      <td>-0.170218</td>\n",
              "    </tr>\n",
              "    <tr>\n",
              "      <th>precipitation</th>\n",
              "      <td>0.001385</td>\n",
              "      <td>0.001415</td>\n",
              "      <td>0.001418</td>\n",
              "      <td>-0.004180</td>\n",
              "      <td>0.001660</td>\n",
              "      <td>-0.002710</td>\n",
              "      <td>-0.002590</td>\n",
              "      <td>-0.028656</td>\n",
              "      <td>-0.031407</td>\n",
              "      <td>-0.041673</td>\n",
              "      <td>-0.022469</td>\n",
              "      <td>0.001317</td>\n",
              "      <td>0.020519</td>\n",
              "      <td>1.000000</td>\n",
              "      <td>0.329554</td>\n",
              "      <td>-0.023126</td>\n",
              "    </tr>\n",
              "    <tr>\n",
              "      <th>snowfall</th>\n",
              "      <td>0.000207</td>\n",
              "      <td>0.000510</td>\n",
              "      <td>-0.003288</td>\n",
              "      <td>-0.005058</td>\n",
              "      <td>0.000774</td>\n",
              "      <td>-0.002434</td>\n",
              "      <td>-0.000190</td>\n",
              "      <td>-0.048589</td>\n",
              "      <td>-0.077248</td>\n",
              "      <td>0.028427</td>\n",
              "      <td>-0.079563</td>\n",
              "      <td>-0.003175</td>\n",
              "      <td>-0.094767</td>\n",
              "      <td>0.329554</td>\n",
              "      <td>1.000000</td>\n",
              "      <td>0.083143</td>\n",
              "    </tr>\n",
              "    <tr>\n",
              "      <th>snowdepth</th>\n",
              "      <td>0.006036</td>\n",
              "      <td>0.000733</td>\n",
              "      <td>0.003602</td>\n",
              "      <td>-0.000112</td>\n",
              "      <td>0.001092</td>\n",
              "      <td>0.000454</td>\n",
              "      <td>0.002716</td>\n",
              "      <td>0.014215</td>\n",
              "      <td>-0.229351</td>\n",
              "      <td>-0.034647</td>\n",
              "      <td>-0.268631</td>\n",
              "      <td>0.000548</td>\n",
              "      <td>-0.170218</td>\n",
              "      <td>-0.023126</td>\n",
              "      <td>0.083143</td>\n",
              "      <td>1.000000</td>\n",
              "    </tr>\n",
              "  </tbody>\n",
              "</table>\n",
              "</div>"
            ],
            "text/plain": [
              "                     vendor_id  passenger_count  ...  snowfall  snowdepth\n",
              "vendor_id             1.000000         0.287415  ...  0.000207   0.006036\n",
              "passenger_count       0.287415         1.000000  ...  0.000510   0.000733\n",
              "pickup_longitude      0.007820         0.002169  ... -0.003288   0.003602\n",
              "pickup_latitude       0.001742        -0.005125  ... -0.005058  -0.000112\n",
              "dropoff_longitude     0.001528        -0.000343  ...  0.000774   0.001092\n",
              "dropoff_latitude      0.004496        -0.002762  ... -0.002434   0.000454\n",
              "trip_duration         0.020304         0.008471  ... -0.000190   0.002716\n",
              "pu_hour               0.009299         0.009101  ... -0.048589   0.014215\n",
              "yday                 -0.006025        -0.001784  ... -0.077248  -0.229351\n",
              "wday                  0.001311         0.025191  ...  0.028427  -0.034647\n",
              "month                -0.006221        -0.002143  ... -0.079563  -0.268631\n",
              "distance              0.008109         0.010306  ... -0.003175   0.000548\n",
              "average temperature  -0.005760        -0.001203  ... -0.094767  -0.170218\n",
              "precipitation         0.001385         0.001415  ...  0.329554  -0.023126\n",
              "snowfall              0.000207         0.000510  ...  1.000000   0.083143\n",
              "snowdepth             0.006036         0.000733  ...  0.083143   1.000000\n",
              "\n",
              "[16 rows x 16 columns]"
            ]
          },
          "metadata": {
            "tags": []
          },
          "execution_count": 27
        }
      ]
    },
    {
      "cell_type": "code",
      "metadata": {
        "id": "NrcUTH3szpdy",
        "colab": {
          "base_uri": "https://localhost:8080/",
          "height": 202
        },
        "outputId": "11cf72f9-6cfd-4d34-8b25-f4f6e408cbd4"
      },
      "source": [
        "fastest1 = pd.read_csv('fastest_routes_train_part_1.csv')\n",
        "fastest2 = pd.read_csv('fastest_routes_train_part_2.csv')\n",
        "fastest = pd.concat([fastest1,fastest2],ignore_index=True)\n",
        "fastest = fastest.drop(['step_location_list','step_direction','step_maneuvers','travel_time_per_step','distance_per_step','street_for_each_step','number_of_steps','starting_street','end_street'],axis=1)\n",
        "fastest.head() #"
      ],
      "execution_count": null,
      "outputs": [
        {
          "output_type": "execute_result",
          "data": {
            "text/html": [
              "<div>\n",
              "<style scoped>\n",
              "    .dataframe tbody tr th:only-of-type {\n",
              "        vertical-align: middle;\n",
              "    }\n",
              "\n",
              "    .dataframe tbody tr th {\n",
              "        vertical-align: top;\n",
              "    }\n",
              "\n",
              "    .dataframe thead th {\n",
              "        text-align: right;\n",
              "    }\n",
              "</style>\n",
              "<table border=\"1\" class=\"dataframe\">\n",
              "  <thead>\n",
              "    <tr style=\"text-align: right;\">\n",
              "      <th></th>\n",
              "      <th>id</th>\n",
              "      <th>total_distance</th>\n",
              "      <th>total_travel_time</th>\n",
              "    </tr>\n",
              "  </thead>\n",
              "  <tbody>\n",
              "    <tr>\n",
              "      <th>0</th>\n",
              "      <td>id2875421</td>\n",
              "      <td>2009.1</td>\n",
              "      <td>164.9</td>\n",
              "    </tr>\n",
              "    <tr>\n",
              "      <th>1</th>\n",
              "      <td>id2377394</td>\n",
              "      <td>2513.2</td>\n",
              "      <td>332.0</td>\n",
              "    </tr>\n",
              "    <tr>\n",
              "      <th>2</th>\n",
              "      <td>id3504673</td>\n",
              "      <td>1779.4</td>\n",
              "      <td>235.8</td>\n",
              "    </tr>\n",
              "    <tr>\n",
              "      <th>3</th>\n",
              "      <td>id2181028</td>\n",
              "      <td>1614.9</td>\n",
              "      <td>140.1</td>\n",
              "    </tr>\n",
              "    <tr>\n",
              "      <th>4</th>\n",
              "      <td>id0801584</td>\n",
              "      <td>1393.5</td>\n",
              "      <td>189.4</td>\n",
              "    </tr>\n",
              "  </tbody>\n",
              "</table>\n",
              "</div>"
            ],
            "text/plain": [
              "          id  total_distance  total_travel_time\n",
              "0  id2875421          2009.1              164.9\n",
              "1  id2377394          2513.2              332.0\n",
              "2  id3504673          1779.4              235.8\n",
              "3  id2181028          1614.9              140.1\n",
              "4  id0801584          1393.5              189.4"
            ]
          },
          "metadata": {
            "tags": []
          },
          "execution_count": 28
        }
      ]
    },
    {
      "cell_type": "code",
      "metadata": {
        "id": "-LdiJHLAzyql",
        "colab": {
          "base_uri": "https://localhost:8080/",
          "height": 326
        },
        "outputId": "ec61ad1f-f63a-4494-da73-22b6e9987403"
      },
      "source": [
        "#上記のidとdfのidが同じなのでDataFrameをmergeする\n",
        "df = pd.merge(df,fastest,on='id',how='outer')\n",
        "df.head()"
      ],
      "execution_count": null,
      "outputs": [
        {
          "output_type": "execute_result",
          "data": {
            "text/html": [
              "<div>\n",
              "<style scoped>\n",
              "    .dataframe tbody tr th:only-of-type {\n",
              "        vertical-align: middle;\n",
              "    }\n",
              "\n",
              "    .dataframe tbody tr th {\n",
              "        vertical-align: top;\n",
              "    }\n",
              "\n",
              "    .dataframe thead th {\n",
              "        text-align: right;\n",
              "    }\n",
              "</style>\n",
              "<table border=\"1\" class=\"dataframe\">\n",
              "  <thead>\n",
              "    <tr style=\"text-align: right;\">\n",
              "      <th></th>\n",
              "      <th>id</th>\n",
              "      <th>vendor_id</th>\n",
              "      <th>pickup_datetime</th>\n",
              "      <th>dropoff_datetime</th>\n",
              "      <th>passenger_count</th>\n",
              "      <th>pickup_longitude</th>\n",
              "      <th>pickup_latitude</th>\n",
              "      <th>dropoff_longitude</th>\n",
              "      <th>dropoff_latitude</th>\n",
              "      <th>store_and_fwd_flag</th>\n",
              "      <th>trip_duration</th>\n",
              "      <th>pu_hour</th>\n",
              "      <th>yday</th>\n",
              "      <th>wday</th>\n",
              "      <th>month</th>\n",
              "      <th>distance</th>\n",
              "      <th>average temperature</th>\n",
              "      <th>precipitation</th>\n",
              "      <th>snow fall</th>\n",
              "      <th>snow depth</th>\n",
              "      <th>snowfall</th>\n",
              "      <th>snowdepth</th>\n",
              "      <th>total_distance</th>\n",
              "      <th>total_travel_time</th>\n",
              "    </tr>\n",
              "  </thead>\n",
              "  <tbody>\n",
              "    <tr>\n",
              "      <th>0</th>\n",
              "      <td>id2875421</td>\n",
              "      <td>2</td>\n",
              "      <td>2016-03-14 17:24:55</td>\n",
              "      <td>2016-03-14 17:32:30</td>\n",
              "      <td>1</td>\n",
              "      <td>-73.982155</td>\n",
              "      <td>40.767937</td>\n",
              "      <td>-73.964630</td>\n",
              "      <td>40.765602</td>\n",
              "      <td>N</td>\n",
              "      <td>455</td>\n",
              "      <td>17</td>\n",
              "      <td>74</td>\n",
              "      <td>0</td>\n",
              "      <td>3</td>\n",
              "      <td>0.930648</td>\n",
              "      <td>45.5</td>\n",
              "      <td>0.29</td>\n",
              "      <td>0.0</td>\n",
              "      <td>0</td>\n",
              "      <td>0.0</td>\n",
              "      <td>0.0</td>\n",
              "      <td>2009.1</td>\n",
              "      <td>164.9</td>\n",
              "    </tr>\n",
              "    <tr>\n",
              "      <th>1</th>\n",
              "      <td>id2129090</td>\n",
              "      <td>1</td>\n",
              "      <td>2016-03-14 14:05:39</td>\n",
              "      <td>2016-03-14 14:28:05</td>\n",
              "      <td>1</td>\n",
              "      <td>-73.975090</td>\n",
              "      <td>40.758766</td>\n",
              "      <td>-73.953201</td>\n",
              "      <td>40.765068</td>\n",
              "      <td>N</td>\n",
              "      <td>1346</td>\n",
              "      <td>14</td>\n",
              "      <td>74</td>\n",
              "      <td>0</td>\n",
              "      <td>3</td>\n",
              "      <td>1.224526</td>\n",
              "      <td>45.5</td>\n",
              "      <td>0.29</td>\n",
              "      <td>0.0</td>\n",
              "      <td>0</td>\n",
              "      <td>0.0</td>\n",
              "      <td>0.0</td>\n",
              "      <td>2782.9</td>\n",
              "      <td>244.6</td>\n",
              "    </tr>\n",
              "    <tr>\n",
              "      <th>2</th>\n",
              "      <td>id0256505</td>\n",
              "      <td>1</td>\n",
              "      <td>2016-03-14 15:04:38</td>\n",
              "      <td>2016-03-14 15:16:13</td>\n",
              "      <td>1</td>\n",
              "      <td>-73.994484</td>\n",
              "      <td>40.745087</td>\n",
              "      <td>-73.998993</td>\n",
              "      <td>40.722710</td>\n",
              "      <td>N</td>\n",
              "      <td>695</td>\n",
              "      <td>15</td>\n",
              "      <td>74</td>\n",
              "      <td>0</td>\n",
              "      <td>3</td>\n",
              "      <td>1.563173</td>\n",
              "      <td>45.5</td>\n",
              "      <td>0.29</td>\n",
              "      <td>0.0</td>\n",
              "      <td>0</td>\n",
              "      <td>0.0</td>\n",
              "      <td>0.0</td>\n",
              "      <td>3124.4</td>\n",
              "      <td>419.9</td>\n",
              "    </tr>\n",
              "    <tr>\n",
              "      <th>3</th>\n",
              "      <td>id3863815</td>\n",
              "      <td>2</td>\n",
              "      <td>2016-03-14 04:24:36</td>\n",
              "      <td>2016-03-14 04:37:11</td>\n",
              "      <td>3</td>\n",
              "      <td>-73.944359</td>\n",
              "      <td>40.714489</td>\n",
              "      <td>-73.910530</td>\n",
              "      <td>40.709492</td>\n",
              "      <td>N</td>\n",
              "      <td>755</td>\n",
              "      <td>4</td>\n",
              "      <td>74</td>\n",
              "      <td>0</td>\n",
              "      <td>3</td>\n",
              "      <td>1.803944</td>\n",
              "      <td>45.5</td>\n",
              "      <td>0.29</td>\n",
              "      <td>0.0</td>\n",
              "      <td>0</td>\n",
              "      <td>0.0</td>\n",
              "      <td>0.0</td>\n",
              "      <td>3327.8</td>\n",
              "      <td>280.8</td>\n",
              "    </tr>\n",
              "    <tr>\n",
              "      <th>4</th>\n",
              "      <td>id3817493</td>\n",
              "      <td>2</td>\n",
              "      <td>2016-03-14 14:57:56</td>\n",
              "      <td>2016-03-14 15:15:26</td>\n",
              "      <td>1</td>\n",
              "      <td>-73.952881</td>\n",
              "      <td>40.766468</td>\n",
              "      <td>-73.978630</td>\n",
              "      <td>40.761921</td>\n",
              "      <td>N</td>\n",
              "      <td>1050</td>\n",
              "      <td>14</td>\n",
              "      <td>74</td>\n",
              "      <td>0</td>\n",
              "      <td>3</td>\n",
              "      <td>1.382826</td>\n",
              "      <td>45.5</td>\n",
              "      <td>0.29</td>\n",
              "      <td>0.0</td>\n",
              "      <td>0</td>\n",
              "      <td>0.0</td>\n",
              "      <td>0.0</td>\n",
              "      <td>3354.8</td>\n",
              "      <td>270.3</td>\n",
              "    </tr>\n",
              "  </tbody>\n",
              "</table>\n",
              "</div>"
            ],
            "text/plain": [
              "          id  vendor_id  ... total_distance total_travel_time\n",
              "0  id2875421          2  ...         2009.1             164.9\n",
              "1  id2129090          1  ...         2782.9             244.6\n",
              "2  id0256505          1  ...         3124.4             419.9\n",
              "3  id3863815          2  ...         3327.8             280.8\n",
              "4  id3817493          2  ...         3354.8             270.3\n",
              "\n",
              "[5 rows x 24 columns]"
            ]
          },
          "metadata": {
            "tags": []
          },
          "execution_count": 29
        }
      ]
    },
    {
      "cell_type": "code",
      "metadata": {
        "id": "UZ0vo3iV0QWE",
        "colab": {
          "base_uri": "https://localhost:8080/",
          "height": 761
        },
        "outputId": "85c03268-8f46-4397-fb18-9de99fcc76a2"
      },
      "source": [
        "sns.set_style('white')\n",
        "sns.set_context(\"paper\",font_scale=2)\n",
        "corr = df.corr()\n",
        "mask = np.zeros_like(corr, dtype=np.bool)\n",
        "mask[np.triu_indices_from(mask)] = True\n",
        "f, ax = plt.subplots(figsize=(11,9))\n",
        "cmap = sns.diverging_palette(220, 10, as_cmap=True)\n",
        "sns.heatmap(corr, mask=mask, cmap=cmap, vmax=0.3, center=0,\n",
        "           square=True, linewidths=0.5, cbar_kws={\"shrink\":0.5})"
      ],
      "execution_count": null,
      "outputs": [
        {
          "output_type": "execute_result",
          "data": {
            "text/plain": [
              "<matplotlib.axes._subplots.AxesSubplot at 0x7f789ff20c50>"
            ]
          },
          "metadata": {
            "tags": []
          },
          "execution_count": 30
        },
        {
          "output_type": "display_data",
          "data": {
            "image/png": "[encoded data removed]",
            "text/plain": [
              "<Figure size 792x648 with 2 Axes>"
            ]
          },
          "metadata": {
            "tags": []
          }
        }
      ]
    },
    {
      "cell_type": "code",
      "metadata": {
        "id": "TL_3juPL0rsm"
      },
      "source": [
        "#外れ値の排除\n",
        "mask = ((df.trip_duration > 60) & (df.distance < 0.05))\n",
        "df = df[~mask]\n",
        "mask = (df.trip_duration < 60) \n",
        "df = df[~mask]\n",
        "mask =  df.trip_duration > 79200\n",
        "df = df[~mask]\n",
        "mask = df.distance/(df.trip_duration/3600) > 60\n",
        "df = df[~mask]\n",
        "df.trip_duration = df.trip_duration.astype(np.uint16)\n",
        "df = df[df.passenger_count > 0]"
      ],
      "execution_count": null,
      "outputs": []
    },
    {
      "cell_type": "code",
      "metadata": {
        "id": "Gly-9iEh096h"
      },
      "source": [
        "m = df.groupby(['wday','vendor_id'])[['trip_duration']].apply(np.median)\n",
        "m.name = 'trip_duration_median'\n",
        "df = df.join(m, on=['wday','vendor_id'])"
      ],
      "execution_count": null,
      "outputs": []
    },
    {
      "cell_type": "code",
      "metadata": {
        "id": "R7W_xEch1fse",
        "colab": {
          "base_uri": "https://localhost:8080/",
          "height": 305
        },
        "outputId": "81b12360-313f-4f20-a0c1-0d779ed7907d"
      },
      "source": [
        "print(m)"
      ],
      "execution_count": null,
      "outputs": [
        {
          "output_type": "stream",
          "text": [
            "wday  vendor_id\n",
            "0     1            633.0\n",
            "      2            634.0\n",
            "1     1            679.0\n",
            "      2            685.0\n",
            "2     1            694.0\n",
            "      2            700.0\n",
            "3     1            707.0\n",
            "      2            719.0\n",
            "4     1            689.0\n",
            "      2            690.0\n",
            "5     1            638.0\n",
            "      2            641.0\n",
            "6     1            604.0\n",
            "      2            606.0\n",
            "Name: trip_duration_median, dtype: float64\n"
          ],
          "name": "stdout"
        }
      ]
    },
    {
      "cell_type": "code",
      "metadata": {
        "id": "E1Z-gq6pS15d",
        "colab": {
          "base_uri": "https://localhost:8080/",
          "height": 326
        },
        "outputId": "2672e1d2-1727-4d89-de79-71ea400681cd"
      },
      "source": [
        "df.head()"
      ],
      "execution_count": null,
      "outputs": [
        {
          "output_type": "execute_result",
          "data": {
            "text/html": [
              "<div>\n",
              "<style scoped>\n",
              "    .dataframe tbody tr th:only-of-type {\n",
              "        vertical-align: middle;\n",
              "    }\n",
              "\n",
              "    .dataframe tbody tr th {\n",
              "        vertical-align: top;\n",
              "    }\n",
              "\n",
              "    .dataframe thead th {\n",
              "        text-align: right;\n",
              "    }\n",
              "</style>\n",
              "<table border=\"1\" class=\"dataframe\">\n",
              "  <thead>\n",
              "    <tr style=\"text-align: right;\">\n",
              "      <th></th>\n",
              "      <th>id</th>\n",
              "      <th>vendor_id</th>\n",
              "      <th>pickup_datetime</th>\n",
              "      <th>dropoff_datetime</th>\n",
              "      <th>passenger_count</th>\n",
              "      <th>pickup_longitude</th>\n",
              "      <th>pickup_latitude</th>\n",
              "      <th>dropoff_longitude</th>\n",
              "      <th>dropoff_latitude</th>\n",
              "      <th>store_and_fwd_flag</th>\n",
              "      <th>trip_duration</th>\n",
              "      <th>pu_hour</th>\n",
              "      <th>yday</th>\n",
              "      <th>wday</th>\n",
              "      <th>month</th>\n",
              "      <th>distance</th>\n",
              "      <th>average temperature</th>\n",
              "      <th>precipitation</th>\n",
              "      <th>snow fall</th>\n",
              "      <th>snow depth</th>\n",
              "      <th>snowfall</th>\n",
              "      <th>snowdepth</th>\n",
              "      <th>total_distance</th>\n",
              "      <th>total_travel_time</th>\n",
              "      <th>trip_duration_median</th>\n",
              "    </tr>\n",
              "  </thead>\n",
              "  <tbody>\n",
              "    <tr>\n",
              "      <th>0</th>\n",
              "      <td>id2875421</td>\n",
              "      <td>2</td>\n",
              "      <td>2016-03-14 17:24:55</td>\n",
              "      <td>2016-03-14 17:32:30</td>\n",
              "      <td>1</td>\n",
              "      <td>-73.982155</td>\n",
              "      <td>40.767937</td>\n",
              "      <td>-73.964630</td>\n",
              "      <td>40.765602</td>\n",
              "      <td>N</td>\n",
              "      <td>455</td>\n",
              "      <td>17</td>\n",
              "      <td>74</td>\n",
              "      <td>0</td>\n",
              "      <td>3</td>\n",
              "      <td>0.930648</td>\n",
              "      <td>45.5</td>\n",
              "      <td>0.29</td>\n",
              "      <td>0.0</td>\n",
              "      <td>0</td>\n",
              "      <td>0.0</td>\n",
              "      <td>0.0</td>\n",
              "      <td>2009.1</td>\n",
              "      <td>164.9</td>\n",
              "      <td>634.0</td>\n",
              "    </tr>\n",
              "    <tr>\n",
              "      <th>1</th>\n",
              "      <td>id2129090</td>\n",
              "      <td>1</td>\n",
              "      <td>2016-03-14 14:05:39</td>\n",
              "      <td>2016-03-14 14:28:05</td>\n",
              "      <td>1</td>\n",
              "      <td>-73.975090</td>\n",
              "      <td>40.758766</td>\n",
              "      <td>-73.953201</td>\n",
              "      <td>40.765068</td>\n",
              "      <td>N</td>\n",
              "      <td>1346</td>\n",
              "      <td>14</td>\n",
              "      <td>74</td>\n",
              "      <td>0</td>\n",
              "      <td>3</td>\n",
              "      <td>1.224526</td>\n",
              "      <td>45.5</td>\n",
              "      <td>0.29</td>\n",
              "      <td>0.0</td>\n",
              "      <td>0</td>\n",
              "      <td>0.0</td>\n",
              "      <td>0.0</td>\n",
              "      <td>2782.9</td>\n",
              "      <td>244.6</td>\n",
              "      <td>633.0</td>\n",
              "    </tr>\n",
              "    <tr>\n",
              "      <th>2</th>\n",
              "      <td>id0256505</td>\n",
              "      <td>1</td>\n",
              "      <td>2016-03-14 15:04:38</td>\n",
              "      <td>2016-03-14 15:16:13</td>\n",
              "      <td>1</td>\n",
              "      <td>-73.994484</td>\n",
              "      <td>40.745087</td>\n",
              "      <td>-73.998993</td>\n",
              "      <td>40.722710</td>\n",
              "      <td>N</td>\n",
              "      <td>695</td>\n",
              "      <td>15</td>\n",
              "      <td>74</td>\n",
              "      <td>0</td>\n",
              "      <td>3</td>\n",
              "      <td>1.563173</td>\n",
              "      <td>45.5</td>\n",
              "      <td>0.29</td>\n",
              "      <td>0.0</td>\n",
              "      <td>0</td>\n",
              "      <td>0.0</td>\n",
              "      <td>0.0</td>\n",
              "      <td>3124.4</td>\n",
              "      <td>419.9</td>\n",
              "      <td>633.0</td>\n",
              "    </tr>\n",
              "    <tr>\n",
              "      <th>3</th>\n",
              "      <td>id3863815</td>\n",
              "      <td>2</td>\n",
              "      <td>2016-03-14 04:24:36</td>\n",
              "      <td>2016-03-14 04:37:11</td>\n",
              "      <td>3</td>\n",
              "      <td>-73.944359</td>\n",
              "      <td>40.714489</td>\n",
              "      <td>-73.910530</td>\n",
              "      <td>40.709492</td>\n",
              "      <td>N</td>\n",
              "      <td>755</td>\n",
              "      <td>4</td>\n",
              "      <td>74</td>\n",
              "      <td>0</td>\n",
              "      <td>3</td>\n",
              "      <td>1.803944</td>\n",
              "      <td>45.5</td>\n",
              "      <td>0.29</td>\n",
              "      <td>0.0</td>\n",
              "      <td>0</td>\n",
              "      <td>0.0</td>\n",
              "      <td>0.0</td>\n",
              "      <td>3327.8</td>\n",
              "      <td>280.8</td>\n",
              "      <td>634.0</td>\n",
              "    </tr>\n",
              "    <tr>\n",
              "      <th>4</th>\n",
              "      <td>id3817493</td>\n",
              "      <td>2</td>\n",
              "      <td>2016-03-14 14:57:56</td>\n",
              "      <td>2016-03-14 15:15:26</td>\n",
              "      <td>1</td>\n",
              "      <td>-73.952881</td>\n",
              "      <td>40.766468</td>\n",
              "      <td>-73.978630</td>\n",
              "      <td>40.761921</td>\n",
              "      <td>N</td>\n",
              "      <td>1050</td>\n",
              "      <td>14</td>\n",
              "      <td>74</td>\n",
              "      <td>0</td>\n",
              "      <td>3</td>\n",
              "      <td>1.382826</td>\n",
              "      <td>45.5</td>\n",
              "      <td>0.29</td>\n",
              "      <td>0.0</td>\n",
              "      <td>0</td>\n",
              "      <td>0.0</td>\n",
              "      <td>0.0</td>\n",
              "      <td>3354.8</td>\n",
              "      <td>270.3</td>\n",
              "      <td>634.0</td>\n",
              "    </tr>\n",
              "  </tbody>\n",
              "</table>\n",
              "</div>"
            ],
            "text/plain": [
              "          id  vendor_id  ... total_travel_time trip_duration_median\n",
              "0  id2875421          2  ...             164.9                634.0\n",
              "1  id2129090          1  ...             244.6                633.0\n",
              "2  id0256505          1  ...             419.9                633.0\n",
              "3  id3863815          2  ...             280.8                634.0\n",
              "4  id3817493          2  ...             270.3                634.0\n",
              "\n",
              "[5 rows x 25 columns]"
            ]
          },
          "metadata": {
            "tags": []
          },
          "execution_count": 35
        }
      ]
    },
    {
      "cell_type": "code",
      "metadata": {
        "id": "DSQYgYSFTAKR",
        "colab": {
          "base_uri": "https://localhost:8080/",
          "height": 367
        },
        "outputId": "0f21ab67-2bc6-4abd-b01c-5b0527d7b0c7"
      },
      "source": [
        "sns.lmplot(y='trip_duration_median', x='wday',data=df, fit_reg=False, hue='vendor_id')"
      ],
      "execution_count": null,
      "outputs": [
        {
          "output_type": "execute_result",
          "data": {
            "text/plain": [
              "<seaborn.axisgrid.FacetGrid at 0x7f78e0a86550>"
            ]
          },
          "metadata": {
            "tags": []
          },
          "execution_count": 36
        },
        {
          "output_type": "display_data",
          "data": {
            "image/png": "[encoded data removed]",
            "text/plain": [
              "<Figure size 454.58x360 with 1 Axes>"
            ]
          },
          "metadata": {
            "tags": []
          }
        }
      ]
    },
    {
      "cell_type": "code",
      "metadata": {
        "id": "N4ixrmhOTJfd"
      },
      "source": [
        "\n",
        "m = df.groupby(['pu_hour','vendor_id'])[['trip_duration']].apply(np.median)\n",
        "m.name ='trip_duration_median_hour'\n",
        "df = df.join(m, on=['pu_hour','vendor_id'])"
      ],
      "execution_count": null,
      "outputs": []
    },
    {
      "cell_type": "code",
      "metadata": {
        "id": "ThY7xZo1TPgn",
        "colab": {
          "base_uri": "https://localhost:8080/",
          "height": 367
        },
        "outputId": "49b8f1ef-6e78-4451-a54b-2232f59aeeca"
      },
      "source": [
        "sns.lmplot(y='trip_duration_median_hour', x='pu_hour',data=df, fit_reg=False, hue='vendor_id')"
      ],
      "execution_count": null,
      "outputs": [
        {
          "output_type": "execute_result",
          "data": {
            "text/plain": [
              "<seaborn.axisgrid.FacetGrid at 0x7f78e0aad0f0>"
            ]
          },
          "metadata": {
            "tags": []
          },
          "execution_count": 38
        },
        {
          "output_type": "display_data",
          "data": {
            "image/png": "[encoded data removed]",
            "text/plain": [
              "<Figure size 454.58x360 with 1 Axes>"
            ]
          },
          "metadata": {
            "tags": []
          }
        }
      ]
    },
    {
      "cell_type": "code",
      "metadata": {
        "id": "u6W4Ly7kTQzz"
      },
      "source": [
        "#ジョンFケネディ国際空港の場所\n",
        "jfk_lon = -73.778889\n",
        "jfk_lat = 40.639722\n",
        "\n",
        "#ラガーディア国際空港の場所\n",
        "lga_lon = -73.872611\n",
        "lga_lat = 40.77725"
      ],
      "execution_count": null,
      "outputs": []
    },
    {
      "cell_type": "code",
      "metadata": {
        "id": "tUcKeBCMUkae"
      },
      "source": [
        "#国際空港でタクシーを乗った人間かどうかを判断するために乗降した場所と2つの国際空港の距離を調べる\n",
        "df['jfk_pickup_dist'] = df.apply(lambda row: haversine(jfk_lon, jfk_lat, row['pickup_longitude'],row['pickup_latitude']), axis=1)\n",
        "df['lga_pickup_dist'] = df.apply(lambda row: haversine(lga_lon, lga_lat, row['pickup_longitude'],row['pickup_latitude']), axis=1)\n",
        "df['jfk_dropoff_dist'] = df.apply(lambda row: haversine(jfk_lon, jfk_lat, row['dropoff_longitude'],row['dropoff_latitude']), axis=1)\n",
        "df['lga_dropoff_dist'] = df.apply(lambda row: haversine(lga_lon, lga_lat, row['dropoff_longitude'],row['dropoff_latitude']), axis=1)"
      ],
      "execution_count": null,
      "outputs": []
    },
    {
      "cell_type": "code",
      "metadata": {
        "id": "9i48OW_NTlfr",
        "colab": {
          "base_uri": "https://localhost:8080/",
          "height": 321
        },
        "outputId": "1f972709-f4ee-40e1-a304-ed0736bb5172"
      },
      "source": [
        "fig, ax = plt.subplots(ncols=2, nrows=2, sharex=True)\n",
        "ax[0,0].set_xlim(0,50)\n",
        "\n",
        "sns.distplot(df['jfk_pickup_dist'],ax=ax[0,0],bins=100,kde=False,hist_kws={'log':True})\n",
        "sns.distplot(df['jfk_dropoff_dist'],ax=ax[0,1],bins=100,kde=False,hist_kws={'log':True})\n",
        "sns.distplot(df['lga_pickup_dist'],ax=ax[1,0],bins=100,kde=False,hist_kws={'log':True})\n",
        "sns.distplot(df['lga_dropoff_dist'],ax=ax[1,1],bins=100,kde=False,hist_kws={'log':True})"
      ],
      "execution_count": null,
      "outputs": [
        {
          "output_type": "execute_result",
          "data": {
            "text/plain": [
              "<matplotlib.axes._subplots.AxesSubplot at 0x7f782cda0c18>"
            ]
          },
          "metadata": {
            "tags": []
          },
          "execution_count": 42
        },
        {
          "output_type": "display_data",
          "data": {
            "image/png": "[encoded data removed]",
            "text/plain": [
              "<Figure size 432x288 with 4 Axes>"
            ]
          },
          "metadata": {
            "tags": []
          }
        }
      ]
    },
    {
      "cell_type": "code",
      "metadata": {
        "id": "nHmyz9qNT2DF",
        "colab": {
          "base_uri": "https://localhost:8080/",
          "height": 326
        },
        "outputId": "a00422c2-a76d-4e9b-e0bb-52029408d402"
      },
      "source": [
        "df['jfk'] = ((df['jfk_pickup_dist'] < 2) | (df['jfk_dropoff_dist'] < 2))\n",
        "df['lga'] = ((df['lga_pickup_dist'] < 2) | (df['lga_dropoff_dist'] < 2))\n",
        "df = df.drop(['jfk_pickup_dist','lga_pickup_dist','jfk_dropoff_dist','lga_dropoff_dist'],axis=1)\n",
        "df.head()"
      ],
      "execution_count": null,
      "outputs": [
        {
          "output_type": "execute_result",
          "data": {
            "text/html": [
              "<div>\n",
              "<style scoped>\n",
              "    .dataframe tbody tr th:only-of-type {\n",
              "        vertical-align: middle;\n",
              "    }\n",
              "\n",
              "    .dataframe tbody tr th {\n",
              "        vertical-align: top;\n",
              "    }\n",
              "\n",
              "    .dataframe thead th {\n",
              "        text-align: right;\n",
              "    }\n",
              "</style>\n",
              "<table border=\"1\" class=\"dataframe\">\n",
              "  <thead>\n",
              "    <tr style=\"text-align: right;\">\n",
              "      <th></th>\n",
              "      <th>id</th>\n",
              "      <th>vendor_id</th>\n",
              "      <th>pickup_datetime</th>\n",
              "      <th>dropoff_datetime</th>\n",
              "      <th>passenger_count</th>\n",
              "      <th>pickup_longitude</th>\n",
              "      <th>pickup_latitude</th>\n",
              "      <th>dropoff_longitude</th>\n",
              "      <th>dropoff_latitude</th>\n",
              "      <th>store_and_fwd_flag</th>\n",
              "      <th>trip_duration</th>\n",
              "      <th>pu_hour</th>\n",
              "      <th>yday</th>\n",
              "      <th>wday</th>\n",
              "      <th>month</th>\n",
              "      <th>distance</th>\n",
              "      <th>average temperature</th>\n",
              "      <th>precipitation</th>\n",
              "      <th>snow fall</th>\n",
              "      <th>snow depth</th>\n",
              "      <th>snowfall</th>\n",
              "      <th>snowdepth</th>\n",
              "      <th>total_distance</th>\n",
              "      <th>total_travel_time</th>\n",
              "      <th>trip_duration_median</th>\n",
              "      <th>trip_duration_median_hour</th>\n",
              "      <th>jfk</th>\n",
              "      <th>lga</th>\n",
              "    </tr>\n",
              "  </thead>\n",
              "  <tbody>\n",
              "    <tr>\n",
              "      <th>0</th>\n",
              "      <td>id2875421</td>\n",
              "      <td>2</td>\n",
              "      <td>2016-03-14 17:24:55</td>\n",
              "      <td>2016-03-14 17:32:30</td>\n",
              "      <td>1</td>\n",
              "      <td>-73.982155</td>\n",
              "      <td>40.767937</td>\n",
              "      <td>-73.964630</td>\n",
              "      <td>40.765602</td>\n",
              "      <td>N</td>\n",
              "      <td>455</td>\n",
              "      <td>17</td>\n",
              "      <td>74</td>\n",
              "      <td>0</td>\n",
              "      <td>3</td>\n",
              "      <td>0.930648</td>\n",
              "      <td>45.5</td>\n",
              "      <td>0.29</td>\n",
              "      <td>0.0</td>\n",
              "      <td>0</td>\n",
              "      <td>0.0</td>\n",
              "      <td>0.0</td>\n",
              "      <td>2009.1</td>\n",
              "      <td>164.9</td>\n",
              "      <td>634.0</td>\n",
              "      <td>709.0</td>\n",
              "      <td>False</td>\n",
              "      <td>False</td>\n",
              "    </tr>\n",
              "    <tr>\n",
              "      <th>1</th>\n",
              "      <td>id2129090</td>\n",
              "      <td>1</td>\n",
              "      <td>2016-03-14 14:05:39</td>\n",
              "      <td>2016-03-14 14:28:05</td>\n",
              "      <td>1</td>\n",
              "      <td>-73.975090</td>\n",
              "      <td>40.758766</td>\n",
              "      <td>-73.953201</td>\n",
              "      <td>40.765068</td>\n",
              "      <td>N</td>\n",
              "      <td>1346</td>\n",
              "      <td>14</td>\n",
              "      <td>74</td>\n",
              "      <td>0</td>\n",
              "      <td>3</td>\n",
              "      <td>1.224526</td>\n",
              "      <td>45.5</td>\n",
              "      <td>0.29</td>\n",
              "      <td>0.0</td>\n",
              "      <td>0</td>\n",
              "      <td>0.0</td>\n",
              "      <td>0.0</td>\n",
              "      <td>2782.9</td>\n",
              "      <td>244.6</td>\n",
              "      <td>633.0</td>\n",
              "      <td>727.0</td>\n",
              "      <td>False</td>\n",
              "      <td>False</td>\n",
              "    </tr>\n",
              "    <tr>\n",
              "      <th>2</th>\n",
              "      <td>id0256505</td>\n",
              "      <td>1</td>\n",
              "      <td>2016-03-14 15:04:38</td>\n",
              "      <td>2016-03-14 15:16:13</td>\n",
              "      <td>1</td>\n",
              "      <td>-73.994484</td>\n",
              "      <td>40.745087</td>\n",
              "      <td>-73.998993</td>\n",
              "      <td>40.722710</td>\n",
              "      <td>N</td>\n",
              "      <td>695</td>\n",
              "      <td>15</td>\n",
              "      <td>74</td>\n",
              "      <td>0</td>\n",
              "      <td>3</td>\n",
              "      <td>1.563173</td>\n",
              "      <td>45.5</td>\n",
              "      <td>0.29</td>\n",
              "      <td>0.0</td>\n",
              "      <td>0</td>\n",
              "      <td>0.0</td>\n",
              "      <td>0.0</td>\n",
              "      <td>3124.4</td>\n",
              "      <td>419.9</td>\n",
              "      <td>633.0</td>\n",
              "      <td>724.0</td>\n",
              "      <td>False</td>\n",
              "      <td>False</td>\n",
              "    </tr>\n",
              "    <tr>\n",
              "      <th>3</th>\n",
              "      <td>id3863815</td>\n",
              "      <td>2</td>\n",
              "      <td>2016-03-14 04:24:36</td>\n",
              "      <td>2016-03-14 04:37:11</td>\n",
              "      <td>3</td>\n",
              "      <td>-73.944359</td>\n",
              "      <td>40.714489</td>\n",
              "      <td>-73.910530</td>\n",
              "      <td>40.709492</td>\n",
              "      <td>N</td>\n",
              "      <td>755</td>\n",
              "      <td>4</td>\n",
              "      <td>74</td>\n",
              "      <td>0</td>\n",
              "      <td>3</td>\n",
              "      <td>1.803944</td>\n",
              "      <td>45.5</td>\n",
              "      <td>0.29</td>\n",
              "      <td>0.0</td>\n",
              "      <td>0</td>\n",
              "      <td>0.0</td>\n",
              "      <td>0.0</td>\n",
              "      <td>3327.8</td>\n",
              "      <td>280.8</td>\n",
              "      <td>634.0</td>\n",
              "      <td>633.5</td>\n",
              "      <td>False</td>\n",
              "      <td>False</td>\n",
              "    </tr>\n",
              "    <tr>\n",
              "      <th>4</th>\n",
              "      <td>id3817493</td>\n",
              "      <td>2</td>\n",
              "      <td>2016-03-14 14:57:56</td>\n",
              "      <td>2016-03-14 15:15:26</td>\n",
              "      <td>1</td>\n",
              "      <td>-73.952881</td>\n",
              "      <td>40.766468</td>\n",
              "      <td>-73.978630</td>\n",
              "      <td>40.761921</td>\n",
              "      <td>N</td>\n",
              "      <td>1050</td>\n",
              "      <td>14</td>\n",
              "      <td>74</td>\n",
              "      <td>0</td>\n",
              "      <td>3</td>\n",
              "      <td>1.382826</td>\n",
              "      <td>45.5</td>\n",
              "      <td>0.29</td>\n",
              "      <td>0.0</td>\n",
              "      <td>0</td>\n",
              "      <td>0.0</td>\n",
              "      <td>0.0</td>\n",
              "      <td>3354.8</td>\n",
              "      <td>270.3</td>\n",
              "      <td>634.0</td>\n",
              "      <td>735.0</td>\n",
              "      <td>False</td>\n",
              "      <td>False</td>\n",
              "    </tr>\n",
              "  </tbody>\n",
              "</table>\n",
              "</div>"
            ],
            "text/plain": [
              "          id  vendor_id  ...    jfk    lga\n",
              "0  id2875421          2  ...  False  False\n",
              "1  id2129090          1  ...  False  False\n",
              "2  id0256505          1  ...  False  False\n",
              "3  id3863815          2  ...  False  False\n",
              "4  id3817493          2  ...  False  False\n",
              "\n",
              "[5 rows x 28 columns]"
            ]
          },
          "metadata": {
            "tags": []
          },
          "execution_count": 43
        }
      ]
    },
    {
      "cell_type": "code",
      "metadata": {
        "id": "oyD3wf8lT3e1",
        "colab": {
          "base_uri": "https://localhost:8080/",
          "height": 326
        },
        "outputId": "f5566f8a-eb64-4951-b84a-8b0755a09a74"
      },
      "source": [
        "df['workday'] = ((df['pu_hour'] > 8) & (df['pu_hour'] < 18))\n",
        "df.head()"
      ],
      "execution_count": null,
      "outputs": [
        {
          "output_type": "execute_result",
          "data": {
            "text/html": [
              "<div>\n",
              "<style scoped>\n",
              "    .dataframe tbody tr th:only-of-type {\n",
              "        vertical-align: middle;\n",
              "    }\n",
              "\n",
              "    .dataframe tbody tr th {\n",
              "        vertical-align: top;\n",
              "    }\n",
              "\n",
              "    .dataframe thead th {\n",
              "        text-align: right;\n",
              "    }\n",
              "</style>\n",
              "<table border=\"1\" class=\"dataframe\">\n",
              "  <thead>\n",
              "    <tr style=\"text-align: right;\">\n",
              "      <th></th>\n",
              "      <th>id</th>\n",
              "      <th>vendor_id</th>\n",
              "      <th>pickup_datetime</th>\n",
              "      <th>dropoff_datetime</th>\n",
              "      <th>passenger_count</th>\n",
              "      <th>pickup_longitude</th>\n",
              "      <th>pickup_latitude</th>\n",
              "      <th>dropoff_longitude</th>\n",
              "      <th>dropoff_latitude</th>\n",
              "      <th>store_and_fwd_flag</th>\n",
              "      <th>trip_duration</th>\n",
              "      <th>pu_hour</th>\n",
              "      <th>yday</th>\n",
              "      <th>wday</th>\n",
              "      <th>month</th>\n",
              "      <th>distance</th>\n",
              "      <th>average temperature</th>\n",
              "      <th>precipitation</th>\n",
              "      <th>snow fall</th>\n",
              "      <th>snow depth</th>\n",
              "      <th>snowfall</th>\n",
              "      <th>snowdepth</th>\n",
              "      <th>total_distance</th>\n",
              "      <th>total_travel_time</th>\n",
              "      <th>trip_duration_median</th>\n",
              "      <th>trip_duration_median_hour</th>\n",
              "      <th>jfk</th>\n",
              "      <th>lga</th>\n",
              "      <th>workday</th>\n",
              "    </tr>\n",
              "  </thead>\n",
              "  <tbody>\n",
              "    <tr>\n",
              "      <th>0</th>\n",
              "      <td>id2875421</td>\n",
              "      <td>2</td>\n",
              "      <td>2016-03-14 17:24:55</td>\n",
              "      <td>2016-03-14 17:32:30</td>\n",
              "      <td>1</td>\n",
              "      <td>-73.982155</td>\n",
              "      <td>40.767937</td>\n",
              "      <td>-73.964630</td>\n",
              "      <td>40.765602</td>\n",
              "      <td>N</td>\n",
              "      <td>455</td>\n",
              "      <td>17</td>\n",
              "      <td>74</td>\n",
              "      <td>0</td>\n",
              "      <td>3</td>\n",
              "      <td>0.930648</td>\n",
              "      <td>45.5</td>\n",
              "      <td>0.29</td>\n",
              "      <td>0.0</td>\n",
              "      <td>0</td>\n",
              "      <td>0.0</td>\n",
              "      <td>0.0</td>\n",
              "      <td>2009.1</td>\n",
              "      <td>164.9</td>\n",
              "      <td>634.0</td>\n",
              "      <td>709.0</td>\n",
              "      <td>False</td>\n",
              "      <td>False</td>\n",
              "      <td>True</td>\n",
              "    </tr>\n",
              "    <tr>\n",
              "      <th>1</th>\n",
              "      <td>id2129090</td>\n",
              "      <td>1</td>\n",
              "      <td>2016-03-14 14:05:39</td>\n",
              "      <td>2016-03-14 14:28:05</td>\n",
              "      <td>1</td>\n",
              "      <td>-73.975090</td>\n",
              "      <td>40.758766</td>\n",
              "      <td>-73.953201</td>\n",
              "      <td>40.765068</td>\n",
              "      <td>N</td>\n",
              "      <td>1346</td>\n",
              "      <td>14</td>\n",
              "      <td>74</td>\n",
              "      <td>0</td>\n",
              "      <td>3</td>\n",
              "      <td>1.224526</td>\n",
              "      <td>45.5</td>\n",
              "      <td>0.29</td>\n",
              "      <td>0.0</td>\n",
              "      <td>0</td>\n",
              "      <td>0.0</td>\n",
              "      <td>0.0</td>\n",
              "      <td>2782.9</td>\n",
              "      <td>244.6</td>\n",
              "      <td>633.0</td>\n",
              "      <td>727.0</td>\n",
              "      <td>False</td>\n",
              "      <td>False</td>\n",
              "      <td>True</td>\n",
              "    </tr>\n",
              "    <tr>\n",
              "      <th>2</th>\n",
              "      <td>id0256505</td>\n",
              "      <td>1</td>\n",
              "      <td>2016-03-14 15:04:38</td>\n",
              "      <td>2016-03-14 15:16:13</td>\n",
              "      <td>1</td>\n",
              "      <td>-73.994484</td>\n",
              "      <td>40.745087</td>\n",
              "      <td>-73.998993</td>\n",
              "      <td>40.722710</td>\n",
              "      <td>N</td>\n",
              "      <td>695</td>\n",
              "      <td>15</td>\n",
              "      <td>74</td>\n",
              "      <td>0</td>\n",
              "      <td>3</td>\n",
              "      <td>1.563173</td>\n",
              "      <td>45.5</td>\n",
              "      <td>0.29</td>\n",
              "      <td>0.0</td>\n",
              "      <td>0</td>\n",
              "      <td>0.0</td>\n",
              "      <td>0.0</td>\n",
              "      <td>3124.4</td>\n",
              "      <td>419.9</td>\n",
              "      <td>633.0</td>\n",
              "      <td>724.0</td>\n",
              "      <td>False</td>\n",
              "      <td>False</td>\n",
              "      <td>True</td>\n",
              "    </tr>\n",
              "    <tr>\n",
              "      <th>3</th>\n",
              "      <td>id3863815</td>\n",
              "      <td>2</td>\n",
              "      <td>2016-03-14 04:24:36</td>\n",
              "      <td>2016-03-14 04:37:11</td>\n",
              "      <td>3</td>\n",
              "      <td>-73.944359</td>\n",
              "      <td>40.714489</td>\n",
              "      <td>-73.910530</td>\n",
              "      <td>40.709492</td>\n",
              "      <td>N</td>\n",
              "      <td>755</td>\n",
              "      <td>4</td>\n",
              "      <td>74</td>\n",
              "      <td>0</td>\n",
              "      <td>3</td>\n",
              "      <td>1.803944</td>\n",
              "      <td>45.5</td>\n",
              "      <td>0.29</td>\n",
              "      <td>0.0</td>\n",
              "      <td>0</td>\n",
              "      <td>0.0</td>\n",
              "      <td>0.0</td>\n",
              "      <td>3327.8</td>\n",
              "      <td>280.8</td>\n",
              "      <td>634.0</td>\n",
              "      <td>633.5</td>\n",
              "      <td>False</td>\n",
              "      <td>False</td>\n",
              "      <td>False</td>\n",
              "    </tr>\n",
              "    <tr>\n",
              "      <th>4</th>\n",
              "      <td>id3817493</td>\n",
              "      <td>2</td>\n",
              "      <td>2016-03-14 14:57:56</td>\n",
              "      <td>2016-03-14 15:15:26</td>\n",
              "      <td>1</td>\n",
              "      <td>-73.952881</td>\n",
              "      <td>40.766468</td>\n",
              "      <td>-73.978630</td>\n",
              "      <td>40.761921</td>\n",
              "      <td>N</td>\n",
              "      <td>1050</td>\n",
              "      <td>14</td>\n",
              "      <td>74</td>\n",
              "      <td>0</td>\n",
              "      <td>3</td>\n",
              "      <td>1.382826</td>\n",
              "      <td>45.5</td>\n",
              "      <td>0.29</td>\n",
              "      <td>0.0</td>\n",
              "      <td>0</td>\n",
              "      <td>0.0</td>\n",
              "      <td>0.0</td>\n",
              "      <td>3354.8</td>\n",
              "      <td>270.3</td>\n",
              "      <td>634.0</td>\n",
              "      <td>735.0</td>\n",
              "      <td>False</td>\n",
              "      <td>False</td>\n",
              "      <td>True</td>\n",
              "    </tr>\n",
              "  </tbody>\n",
              "</table>\n",
              "</div>"
            ],
            "text/plain": [
              "          id  vendor_id     pickup_datetime  ...    jfk    lga  workday\n",
              "0  id2875421          2 2016-03-14 17:24:55  ...  False  False     True\n",
              "1  id2129090          1 2016-03-14 14:05:39  ...  False  False     True\n",
              "2  id0256505          1 2016-03-14 15:04:38  ...  False  False     True\n",
              "3  id3863815          2 2016-03-14 04:24:36  ...  False  False    False\n",
              "4  id3817493          2 2016-03-14 14:57:56  ...  False  False     True\n",
              "\n",
              "[5 rows x 29 columns]"
            ]
          },
          "metadata": {
            "tags": []
          },
          "execution_count": 44
        }
      ]
    },
    {
      "cell_type": "code",
      "metadata": {
        "id": "CCe1i-gKT5Zr",
        "colab": {
          "base_uri": "https://localhost:8080/",
          "height": 647
        },
        "outputId": "91e52b9a-0c05-47a7-82dc-1e83eed4525d"
      },
      "source": [
        "fig, ax = plt.subplots(ncols=1, nrows=1,figsize=(12,10))\n",
        "plt.ylim(40.6, 40.9)\n",
        "plt.xlim(-74.1,-73.7)\n",
        "ax.scatter(df['pickup_longitude'],df['pickup_latitude'], s=0.01, alpha=1)"
      ],
      "execution_count": null,
      "outputs": [
        {
          "output_type": "execute_result",
          "data": {
            "text/plain": [
              "<matplotlib.collections.PathCollection at 0x7f7864c8ca58>"
            ]
          },
          "metadata": {
            "tags": []
          },
          "execution_count": 45
        },
        {
          "output_type": "display_data",
          "data": {
            "image/png": "[encoded data removed]",
            "text/plain": [
              "<Figure size 864x720 with 1 Axes>"
            ]
          },
          "metadata": {
            "tags": []
          }
        }
      ]
    },
    {
      "cell_type": "markdown",
      "metadata": {
        "id": "z3UMZ84iV_mm"
      },
      "source": [
        "## RMSLE: Evaluation Metric\n",
        "RMSLE (Root Mean Squared Logarithmic Error)はRMSE (Root Mean Squared Error)の改良版\n",
        "logを取ることで、外れ値に強く、より正規分布に近いErrorを生むことが出来る。\n",
        "詳細は[ここ](http://data-analysis-stats.jp/2019/04/29/rmsle-%E3%82%92%E7%94%A8%E3%81%84%E3%81%9F%E8%A9%95%E4%BE%A1%E6%8C%87%E6%A8%99/)で\n"
      ]
    },
    {
      "cell_type": "code",
      "metadata": {
        "id": "XWqMtdz1V_Kc"
      },
      "source": [
        "def rmsle(evaluator,X,real):\n",
        "    sum = 0.0\n",
        "    predicted = evaluator.predict(X)\n",
        "    print(\"Number predicted less than 0: {}\".format(np.where(predicted < 0)[0].shape))\n",
        "\n",
        "    predicted[predicted < 0] = 0\n",
        "    for x in range(len(predicted)):\n",
        "        p = np.log(predicted[x]+1)\n",
        "        r = np.log(real[x]+1)\n",
        "        sum = sum + (p-r)**2\n",
        "    return (sum/len(predicted))**0.5"
      ],
      "execution_count": null,
      "outputs": []
    },
    {
      "cell_type": "markdown",
      "metadata": {
        "id": "BXmv5corW1lF"
      },
      "source": [
        "## Load Test Data"
      ]
    },
    {
      "cell_type": "code",
      "metadata": {
        "id": "EY0eCtMXW2ov"
      },
      "source": [
        "tdf = pd.read_csv('test.csv')\n",
        "tdf.pickup_datetime=pd.to_datetime(tdf.pickup_datetime)\n",
        "#tdf.dropoff_datetime=pd.to_datetime(tdf.dropoff_datetime)\n",
        "tdf['pu_hour'] = tdf.pickup_datetime.dt.hour\n",
        "tdf['yday'] = tdf.pickup_datetime.dt.dayofyear\n",
        "tdf['wday'] = tdf.pickup_datetime.dt.dayofweek\n",
        "tdf['month'] = tdf.pickup_datetime.dt.month\n",
        "tdf['distance'] = haversine(tdf.pickup_longitude, tdf.pickup_latitude,\n",
        "                                           tdf.dropoff_longitude, tdf.dropoff_latitude)"
      ],
      "execution_count": null,
      "outputs": []
    },
    {
      "cell_type": "code",
      "metadata": {
        "id": "ZOM-gzO9W_u6"
      },
      "source": [
        "fastest_test = pd.read_csv('fastest_routes_test.csv')\n",
        "tdf = pd.merge(tdf,fastest_test,on='id',how='outer')\n",
        "tdf = tdf.drop(['step_location_list','step_direction','step_maneuvers','travel_time_per_step','distance_per_step','street_for_each_step','number_of_steps','starting_street','end_street'],axis=1)\n",
        "tdf = pd.merge(tdf,wdf,on='yday')\n",
        "tdf = tdf.drop(['date','maximum temperature','minimum temperature'],axis=1)"
      ],
      "execution_count": null,
      "outputs": []
    },
    {
      "cell_type": "code",
      "metadata": {
        "id": "B0-uB4c-XYdU",
        "colab": {
          "base_uri": "https://localhost:8080/",
          "height": 143
        },
        "outputId": "94060800-00df-4a2c-d34e-0c15764b9239"
      },
      "source": [
        "tdf.columns"
      ],
      "execution_count": null,
      "outputs": [
        {
          "output_type": "execute_result",
          "data": {
            "text/plain": [
              "Index(['id', 'vendor_id', 'pickup_datetime', 'passenger_count',\n",
              "       'pickup_longitude', 'pickup_latitude', 'dropoff_longitude',\n",
              "       'dropoff_latitude', 'store_and_fwd_flag', 'pu_hour', 'yday', 'wday',\n",
              "       'month', 'distance', 'total_distance', 'total_travel_time',\n",
              "       'average temperature', 'precipitation', 'snow fall', 'snow depth',\n",
              "       'snowfall', 'snowdepth'],\n",
              "      dtype='object')"
            ]
          },
          "metadata": {
            "tags": []
          },
          "execution_count": 55
        }
      ]
    },
    {
      "cell_type": "code",
      "metadata": {
        "id": "x-ylm6l9XPba"
      },
      "source": [
        "tdf['jfk_pickup_dist'] = tdf.apply(lambda row: haversine(jfk_lon, jfk_lat, row['pickup_longitude'],row['pickup_latitude']), axis=1)\n",
        "tdf['lga_pickup_dist'] = tdf.apply(lambda row: haversine(lga_lon, lga_lat, row['pickup_longitude'],row['pickup_latitude']), axis=1)\n",
        "tdf['jfk_dropoff_dist'] = tdf.apply(lambda row: haversine(jfk_lon, jfk_lat, row['dropoff_longitude'],row['dropoff_latitude']), axis=1)\n",
        "tdf['lga_dropoff_dist'] = tdf.apply(lambda row: haversine(lga_lon, lga_lat, row['dropoff_longitude'],row['dropoff_latitude']), axis=1)\n",
        "tdf['jfk'] = ((tdf['jfk_pickup_dist'] < 2) | (tdf['jfk_dropoff_dist'] < 2))\n",
        "tdf['lga'] = ((tdf['lga_pickup_dist'] < 2) | (tdf['lga_dropoff_dist'] < 2))\n",
        "tdf = tdf.drop(['jfk_pickup_dist','lga_pickup_dist','jfk_dropoff_dist','lga_dropoff_dist'],axis=1)\n",
        "tdf['workday'] = ((tdf['pu_hour'] > 8) & (tdf['pu_hour'] < 18))"
      ],
      "execution_count": null,
      "outputs": []
    },
    {
      "cell_type": "code",
      "metadata": {
        "id": "ehLFW0FYX8lb",
        "colab": {
          "base_uri": "https://localhost:8080/",
          "height": 326
        },
        "outputId": "46e04061-7ffd-4fbc-d32e-7345b85fad98"
      },
      "source": [
        "tdf['snowfall'] = tdf['snow fall'].replace(['T'],0.05)\n",
        "tdf['precipitation'] = tdf['precipitation'].replace(['T'],0.05)\n",
        "tdf['snowdepth'] = tdf['snow depth'].replace(['T'],0.05)\n",
        "tdf.head()"
      ],
      "execution_count": null,
      "outputs": [
        {
          "output_type": "execute_result",
          "data": {
            "text/html": [
              "<div>\n",
              "<style scoped>\n",
              "    .dataframe tbody tr th:only-of-type {\n",
              "        vertical-align: middle;\n",
              "    }\n",
              "\n",
              "    .dataframe tbody tr th {\n",
              "        vertical-align: top;\n",
              "    }\n",
              "\n",
              "    .dataframe thead th {\n",
              "        text-align: right;\n",
              "    }\n",
              "</style>\n",
              "<table border=\"1\" class=\"dataframe\">\n",
              "  <thead>\n",
              "    <tr style=\"text-align: right;\">\n",
              "      <th></th>\n",
              "      <th>id</th>\n",
              "      <th>vendor_id</th>\n",
              "      <th>pickup_datetime</th>\n",
              "      <th>passenger_count</th>\n",
              "      <th>pickup_longitude</th>\n",
              "      <th>pickup_latitude</th>\n",
              "      <th>dropoff_longitude</th>\n",
              "      <th>dropoff_latitude</th>\n",
              "      <th>store_and_fwd_flag</th>\n",
              "      <th>pu_hour</th>\n",
              "      <th>yday</th>\n",
              "      <th>wday</th>\n",
              "      <th>month</th>\n",
              "      <th>distance</th>\n",
              "      <th>total_distance</th>\n",
              "      <th>total_travel_time</th>\n",
              "      <th>average temperature</th>\n",
              "      <th>precipitation</th>\n",
              "      <th>snow fall</th>\n",
              "      <th>snow depth</th>\n",
              "      <th>snowfall</th>\n",
              "      <th>snowdepth</th>\n",
              "      <th>jfk</th>\n",
              "      <th>lga</th>\n",
              "      <th>workday</th>\n",
              "    </tr>\n",
              "  </thead>\n",
              "  <tbody>\n",
              "    <tr>\n",
              "      <th>0</th>\n",
              "      <td>id3004672</td>\n",
              "      <td>1</td>\n",
              "      <td>2016-06-30 23:59:58</td>\n",
              "      <td>1</td>\n",
              "      <td>-73.988129</td>\n",
              "      <td>40.732029</td>\n",
              "      <td>-73.990173</td>\n",
              "      <td>40.756680</td>\n",
              "      <td>N</td>\n",
              "      <td>23</td>\n",
              "      <td>182</td>\n",
              "      <td>3</td>\n",
              "      <td>6</td>\n",
              "      <td>1.705478</td>\n",
              "      <td>3795.9</td>\n",
              "      <td>424.6</td>\n",
              "      <td>76.0</td>\n",
              "      <td>0.0</td>\n",
              "      <td>0.0</td>\n",
              "      <td>0</td>\n",
              "      <td>0.0</td>\n",
              "      <td>0</td>\n",
              "      <td>False</td>\n",
              "      <td>False</td>\n",
              "      <td>False</td>\n",
              "    </tr>\n",
              "    <tr>\n",
              "      <th>1</th>\n",
              "      <td>id3505355</td>\n",
              "      <td>1</td>\n",
              "      <td>2016-06-30 23:59:53</td>\n",
              "      <td>1</td>\n",
              "      <td>-73.964203</td>\n",
              "      <td>40.679993</td>\n",
              "      <td>-73.959808</td>\n",
              "      <td>40.655403</td>\n",
              "      <td>N</td>\n",
              "      <td>23</td>\n",
              "      <td>182</td>\n",
              "      <td>3</td>\n",
              "      <td>6</td>\n",
              "      <td>1.713435</td>\n",
              "      <td>2904.5</td>\n",
              "      <td>200.0</td>\n",
              "      <td>76.0</td>\n",
              "      <td>0.0</td>\n",
              "      <td>0.0</td>\n",
              "      <td>0</td>\n",
              "      <td>0.0</td>\n",
              "      <td>0</td>\n",
              "      <td>False</td>\n",
              "      <td>False</td>\n",
              "      <td>False</td>\n",
              "    </tr>\n",
              "    <tr>\n",
              "      <th>2</th>\n",
              "      <td>id1217141</td>\n",
              "      <td>1</td>\n",
              "      <td>2016-06-30 23:59:47</td>\n",
              "      <td>1</td>\n",
              "      <td>-73.997437</td>\n",
              "      <td>40.737583</td>\n",
              "      <td>-73.986160</td>\n",
              "      <td>40.729523</td>\n",
              "      <td>N</td>\n",
              "      <td>23</td>\n",
              "      <td>182</td>\n",
              "      <td>3</td>\n",
              "      <td>6</td>\n",
              "      <td>0.811098</td>\n",
              "      <td>1499.5</td>\n",
              "      <td>193.2</td>\n",
              "      <td>76.0</td>\n",
              "      <td>0.0</td>\n",
              "      <td>0.0</td>\n",
              "      <td>0</td>\n",
              "      <td>0.0</td>\n",
              "      <td>0</td>\n",
              "      <td>False</td>\n",
              "      <td>False</td>\n",
              "      <td>False</td>\n",
              "    </tr>\n",
              "    <tr>\n",
              "      <th>3</th>\n",
              "      <td>id2150126</td>\n",
              "      <td>2</td>\n",
              "      <td>2016-06-30 23:59:41</td>\n",
              "      <td>1</td>\n",
              "      <td>-73.956070</td>\n",
              "      <td>40.771900</td>\n",
              "      <td>-73.986427</td>\n",
              "      <td>40.730469</td>\n",
              "      <td>N</td>\n",
              "      <td>23</td>\n",
              "      <td>182</td>\n",
              "      <td>3</td>\n",
              "      <td>6</td>\n",
              "      <td>3.272003</td>\n",
              "      <td>7023.9</td>\n",
              "      <td>494.8</td>\n",
              "      <td>76.0</td>\n",
              "      <td>0.0</td>\n",
              "      <td>0.0</td>\n",
              "      <td>0</td>\n",
              "      <td>0.0</td>\n",
              "      <td>0</td>\n",
              "      <td>False</td>\n",
              "      <td>False</td>\n",
              "      <td>False</td>\n",
              "    </tr>\n",
              "    <tr>\n",
              "      <th>4</th>\n",
              "      <td>id1598245</td>\n",
              "      <td>1</td>\n",
              "      <td>2016-06-30 23:59:33</td>\n",
              "      <td>1</td>\n",
              "      <td>-73.970215</td>\n",
              "      <td>40.761475</td>\n",
              "      <td>-73.961510</td>\n",
              "      <td>40.755890</td>\n",
              "      <td>N</td>\n",
              "      <td>23</td>\n",
              "      <td>182</td>\n",
              "      <td>3</td>\n",
              "      <td>6</td>\n",
              "      <td>0.596664</td>\n",
              "      <td>1108.2</td>\n",
              "      <td>103.2</td>\n",
              "      <td>76.0</td>\n",
              "      <td>0.0</td>\n",
              "      <td>0.0</td>\n",
              "      <td>0</td>\n",
              "      <td>0.0</td>\n",
              "      <td>0</td>\n",
              "      <td>False</td>\n",
              "      <td>False</td>\n",
              "      <td>False</td>\n",
              "    </tr>\n",
              "  </tbody>\n",
              "</table>\n",
              "</div>"
            ],
            "text/plain": [
              "          id  vendor_id     pickup_datetime  ...    jfk    lga  workday\n",
              "0  id3004672          1 2016-06-30 23:59:58  ...  False  False    False\n",
              "1  id3505355          1 2016-06-30 23:59:53  ...  False  False    False\n",
              "2  id1217141          1 2016-06-30 23:59:47  ...  False  False    False\n",
              "3  id2150126          2 2016-06-30 23:59:41  ...  False  False    False\n",
              "4  id1598245          1 2016-06-30 23:59:33  ...  False  False    False\n",
              "\n",
              "[5 rows x 25 columns]"
            ]
          },
          "metadata": {
            "tags": []
          },
          "execution_count": 57
        }
      ]
    },
    {
      "cell_type": "markdown",
      "metadata": {
        "id": "iZJNHq7TX_DC"
      },
      "source": [
        "## データの保存"
      ]
    },
    {
      "cell_type": "code",
      "metadata": {
        "id": "WCcZWLyIUAQp",
        "colab": {
          "base_uri": "https://localhost:8080/",
          "height": 127
        },
        "outputId": "ead594db-13a4-4a65-f286-1c883b3a9a7f"
      },
      "source": [
        "from google.colab import drive\n",
        "drive.mount('/content/drive')"
      ],
      "execution_count": null,
      "outputs": [
        {
          "output_type": "stream",
          "text": [
            "Go to this URL in a browser: https://accounts.google.com/o/oauth2/auth?client_id=947318989803-6bn6qk8qdgf4n4g3pfee6491hc0brc4i.apps.googleusercontent.com&redirect_uri=urn%3Aietf%3Awg%3Aoauth%3A2.0%3Aoob&scope=email%20https%3A%2F%2Fwww.googleapis.com%2Fauth%2Fdocs.test%20https%3A%2F%2Fwww.googleapis.com%2Fauth%2Fdrive%20https%3A%2F%2Fwww.googleapis.com%2Fauth%2Fdrive.photos.readonly%20https%3A%2F%2Fwww.googleapis.com%2Fauth%2Fpeopleapi.readonly&response_type=code\n",
            "\n",
            "Enter your authorization code:\n",
            "··········\n",
            "Mounted at /content/drive\n"
          ],
          "name": "stdout"
        }
      ]
    },
    {
      "cell_type": "code",
      "metadata": {
        "id": "dr9sTz2SYBM7"
      },
      "source": [
        "import os\n",
        "os.chdir('/content/drive/My Drive/Kggle data of Taxi in New York')"
      ],
      "execution_count": null,
      "outputs": []
    },
    {
      "cell_type": "code",
      "metadata": {
        "id": "RDtxxhewYemT"
      },
      "source": [
        "# os.mkdir('Kggle data of Taxi in New York')\n",
        "# os.chdir('Kggle data of Taxi in New York')"
      ],
      "execution_count": null,
      "outputs": []
    },
    {
      "cell_type": "code",
      "metadata": {
        "id": "f5GJbqBYYnhG"
      },
      "source": [
        "df.to_csv('train_data.csv',index=False)\n",
        "tdf.to_csv('test_data.csv',index=False)"
      ],
      "execution_count": null,
      "outputs": []
    },
    {
      "cell_type": "markdown",
      "metadata": {
        "id": "FIhnu08YY8mI"
      },
      "source": [
        "## Benchmark Model"
      ]
    },
    {
      "cell_type": "code",
      "metadata": {
        "id": "zsfipKneYq4y",
        "colab": {
          "base_uri": "https://localhost:8080/",
          "height": 202
        },
        "outputId": "6b60113e-37c0-4bb2-fd88-846bdac62dac"
      },
      "source": [
        "benchmark = fastest_test[['id','total_travel_time']]\n",
        "benchmark = benchmark.rename(index=str, columns={\"total_travel_time\": \"trip_duration\"})\n",
        "benchmark.head()"
      ],
      "execution_count": null,
      "outputs": [
        {
          "output_type": "execute_result",
          "data": {
            "text/html": [
              "<div>\n",
              "<style scoped>\n",
              "    .dataframe tbody tr th:only-of-type {\n",
              "        vertical-align: middle;\n",
              "    }\n",
              "\n",
              "    .dataframe tbody tr th {\n",
              "        vertical-align: top;\n",
              "    }\n",
              "\n",
              "    .dataframe thead th {\n",
              "        text-align: right;\n",
              "    }\n",
              "</style>\n",
              "<table border=\"1\" class=\"dataframe\">\n",
              "  <thead>\n",
              "    <tr style=\"text-align: right;\">\n",
              "      <th></th>\n",
              "      <th>id</th>\n",
              "      <th>trip_duration</th>\n",
              "    </tr>\n",
              "  </thead>\n",
              "  <tbody>\n",
              "    <tr>\n",
              "      <th>0</th>\n",
              "      <td>id0771704</td>\n",
              "      <td>200.2</td>\n",
              "    </tr>\n",
              "    <tr>\n",
              "      <th>1</th>\n",
              "      <td>id3274209</td>\n",
              "      <td>141.5</td>\n",
              "    </tr>\n",
              "    <tr>\n",
              "      <th>2</th>\n",
              "      <td>id2756455</td>\n",
              "      <td>324.6</td>\n",
              "    </tr>\n",
              "    <tr>\n",
              "      <th>3</th>\n",
              "      <td>id3684027</td>\n",
              "      <td>84.2</td>\n",
              "    </tr>\n",
              "    <tr>\n",
              "      <th>4</th>\n",
              "      <td>id3101285</td>\n",
              "      <td>294.7</td>\n",
              "    </tr>\n",
              "  </tbody>\n",
              "</table>\n",
              "</div>"
            ],
            "text/plain": [
              "          id  trip_duration\n",
              "0  id0771704          200.2\n",
              "1  id3274209          141.5\n",
              "2  id2756455          324.6\n",
              "3  id3684027           84.2\n",
              "4  id3101285          294.7"
            ]
          },
          "metadata": {
            "tags": []
          },
          "execution_count": 62
        }
      ]
    },
    {
      "cell_type": "code",
      "metadata": {
        "id": "F8H2u0cLZCac"
      },
      "source": [
        "benchmark['trip_duration'].isnull().values.any()\n",
        "benchmark.to_csv('benchmark.csv',index=False)\n",
        "#RMSLE=0.990"
      ],
      "execution_count": null,
      "outputs": []
    },
    {
      "cell_type": "markdown",
      "metadata": {
        "id": "DFfFwMwFZryB"
      },
      "source": [
        "### 以下の解析でtotal_travel_timeを入れるのはさすがにチート感がある。。。\n",
        "時間の洋右があればこれ抜きでPredictionしてみよう"
      ]
    },
    {
      "cell_type": "code",
      "metadata": {
        "id": "_pWiMKwIZMFg"
      },
      "source": [
        "features = df[['vendor_id','passenger_count','pickup_latitude','pickup_longitude','dropoff_latitude','dropoff_longitude','pu_hour','wday','month','workday','precipitation','snowfall','snowdepth','total_distance','total_travel_time','jfk','lga']]\n",
        "target = df['trip_duration']"
      ],
      "execution_count": null,
      "outputs": []
    },
    {
      "cell_type": "code",
      "metadata": {
        "id": "grrvolSGZOk7"
      },
      "source": [
        "#Columnsはtestと同じ\n",
        "tfeatures = tdf[['vendor_id','passenger_count','pickup_latitude','pickup_longitude','dropoff_latitude','dropoff_longitude','pu_hour','wday','month','workday','precipitation','snowfall','snowdepth','total_distance','total_travel_time','jfk','lga']]"
      ],
      "execution_count": null,
      "outputs": []
    },
    {
      "cell_type": "markdown",
      "metadata": {
        "id": "-NlYy3MtZkLa"
      },
      "source": [
        "# Ai解析"
      ]
    },
    {
      "cell_type": "code",
      "metadata": {
        "id": "bAQ5z1Kinl0R",
        "colab": {
          "base_uri": "https://localhost:8080/",
          "height": 73
        },
        "outputId": "83df0ed0-d319-4917-cee4-ce1a39255abd"
      },
      "source": [
        "df = pd.read_csv('train_data.csv')\n",
        "tdf = pd.read_csv('test_data.csv')"
      ],
      "execution_count": null,
      "outputs": [
        {
          "output_type": "stream",
          "text": [
            "/usr/local/lib/python3.6/dist-packages/IPython/core/interactiveshell.py:2718: DtypeWarning: Columns (18,19) have mixed types. Specify dtype option on import or set low_memory=False.\n",
            "  interactivity=interactivity, compiler=compiler, result=result)\n"
          ],
          "name": "stderr"
        }
      ]
    },
    {
      "cell_type": "markdown",
      "metadata": {
        "id": "hOeqxXPhZpPn"
      },
      "source": [
        "## Linear Regression"
      ]
    },
    {
      "cell_type": "code",
      "metadata": {
        "id": "i3vJaYhsZPzh",
        "colab": {
          "base_uri": "https://localhost:8080/",
          "height": 125
        },
        "outputId": "d01564ee-7b2b-4b4c-e70f-b6978e3a932f"
      },
      "source": [
        "from sklearn import linear_model\n",
        "\n",
        "reg = linear_model.LinearRegression()\n",
        "cv = ShuffleSplit(n_splits=4, test_size=0.1, random_state=0)\n",
        "print(cross_val_score(reg, features, np.ravel(target), cv=cv, scoring=rmsle))\n",
        "reg.fit(features, target)"
      ],
      "execution_count": null,
      "outputs": [
        {
          "output_type": "stream",
          "text": [
            "Number predicted less than 0: (14,)\n",
            "Number predicted less than 0: (9,)\n",
            "Number predicted less than 0: (17,)\n",
            "Number predicted less than 0: (12,)\n",
            "[0.43999626 0.44022776 0.43897465 0.44073689]\n"
          ],
          "name": "stdout"
        },
        {
          "output_type": "execute_result",
          "data": {
            "text/plain": [
              "LinearRegression(copy_X=True, fit_intercept=True, n_jobs=None, normalize=False)"
            ]
          },
          "metadata": {
            "tags": []
          },
          "execution_count": 66
        }
      ]
    },
    {
      "cell_type": "code",
      "metadata": {
        "id": "LLsS8KvZaA86",
        "colab": {
          "base_uri": "https://localhost:8080/",
          "height": 35
        },
        "outputId": "c49f0952-0e8b-49d4-af9b-9b3c686e2d19"
      },
      "source": [
        "tfeatures.shape"
      ],
      "execution_count": null,
      "outputs": [
        {
          "output_type": "execute_result",
          "data": {
            "text/plain": [
              "(625134, 17)"
            ]
          },
          "metadata": {
            "tags": []
          },
          "execution_count": 69
        }
      ]
    },
    {
      "cell_type": "code",
      "metadata": {
        "id": "wpWuRyvAbbXM",
        "colab": {
          "base_uri": "https://localhost:8080/",
          "height": 35
        },
        "outputId": "3d3fcbfa-8308-47f8-c80f-cf8095d8446c"
      },
      "source": [
        "pred = reg.predict(tfeatures)\n",
        "print(np.where(pred < 0)[0].shape)\n",
        "pred[pred < 0]=0"
      ],
      "execution_count": null,
      "outputs": [
        {
          "output_type": "stream",
          "text": [
            "(490,)\n"
          ],
          "name": "stdout"
        }
      ]
    },
    {
      "cell_type": "code",
      "metadata": {
        "id": "RG7Z_CacbnpA"
      },
      "source": [
        "tdf['trip_duration']=pred.astype(int)\n",
        "out = tdf[['id','trip_duration']]"
      ],
      "execution_count": null,
      "outputs": []
    },
    {
      "cell_type": "code",
      "metadata": {
        "id": "op1oXlZCb1MP",
        "colab": {
          "base_uri": "https://localhost:8080/",
          "height": 35
        },
        "outputId": "b119a748-0996-417c-9537-13dfe73a3a23"
      },
      "source": [
        "out['trip_duration'].isnull().values.any()"
      ],
      "execution_count": null,
      "outputs": [
        {
          "output_type": "execute_result",
          "data": {
            "text/plain": [
              "False"
            ]
          },
          "metadata": {
            "tags": []
          },
          "execution_count": 72
        }
      ]
    },
    {
      "cell_type": "code",
      "metadata": {
        "id": "AOmMU0blb7uM"
      },
      "source": [
        "out.to_csv('pred_linear.csv',index=False)\n",
        "#RMSLE=0.535"
      ],
      "execution_count": null,
      "outputs": []
    },
    {
      "cell_type": "markdown",
      "metadata": {
        "id": "nSEX7I1RcHFD"
      },
      "source": [
        "## K-nearest Neighbors Regression"
      ]
    },
    {
      "cell_type": "code",
      "metadata": {
        "id": "zOguxCf4b-N-",
        "colab": {
          "base_uri": "https://localhost:8080/",
          "height": 161
        },
        "outputId": "5f1dd35c-fa99-4886-bb37-5b41c1845cf1"
      },
      "source": [
        "from sklearn.neighbors import KNeighborsRegressor\n",
        "neigh = KNeighborsRegressor(n_neighbors=10)\n",
        "cv = ShuffleSplit(n_splits=4, test_size=0.1, random_state=0)\n",
        "print(cross_val_score(neigh, features, np.ravel(target), cv=cv,scoring=rmsle))\n",
        "neigh.fit(features,target)"
      ],
      "execution_count": null,
      "outputs": [
        {
          "output_type": "stream",
          "text": [
            "Number predicted less than 0: (0,)\n",
            "Number predicted less than 0: (0,)\n",
            "Number predicted less than 0: (0,)\n",
            "Number predicted less than 0: (0,)\n",
            "[0.42011203 0.4194096  0.41947696 0.41968832]\n"
          ],
          "name": "stdout"
        },
        {
          "output_type": "execute_result",
          "data": {
            "text/plain": [
              "KNeighborsRegressor(algorithm='auto', leaf_size=30, metric='minkowski',\n",
              "                    metric_params=None, n_jobs=None, n_neighbors=10, p=2,\n",
              "                    weights='uniform')"
            ]
          },
          "metadata": {
            "tags": []
          },
          "execution_count": 74
        }
      ]
    },
    {
      "cell_type": "code",
      "metadata": {
        "id": "zxXRtO8FcLvz",
        "colab": {
          "base_uri": "https://localhost:8080/",
          "height": 35
        },
        "outputId": "f6741488-aa77-4162-b847-c2f7ef348934"
      },
      "source": [
        "pred = neigh.predict(tfeatures)\n",
        "print(np.where(pred < 0)[0].shape)"
      ],
      "execution_count": null,
      "outputs": [
        {
          "output_type": "stream",
          "text": [
            "(0,)\n"
          ],
          "name": "stdout"
        }
      ]
    },
    {
      "cell_type": "code",
      "metadata": {
        "id": "x8E82R6EcUgM"
      },
      "source": [
        "tdf['trip_duration']=pred.astype(int)\n",
        "out = tdf[['id','trip_duration']]\n",
        "out.to_csv('pred_knn.csv',index=False)\n",
        "#RMSLE=0.505"
      ],
      "execution_count": null,
      "outputs": []
    },
    {
      "cell_type": "markdown",
      "metadata": {
        "id": "nwPWqHT2cYln"
      },
      "source": [
        "## Ramdom Forest"
      ]
    },
    {
      "cell_type": "code",
      "metadata": {
        "id": "Rg8fihqccYPw",
        "colab": {
          "base_uri": "https://localhost:8080/",
          "height": 307
        },
        "outputId": "c86f52a6-af76-4f7a-92f8-ed1a8b9bf826"
      },
      "source": [
        "from sklearn.ensemble import RandomForestRegressor\n",
        "rf = RandomForestRegressor()\n",
        "cv = ShuffleSplit(n_splits=4, test_size=0.1, random_state=0)\n",
        "print(cross_val_score(rf, features, np.ravel(target), cv=cv,scoring=rmsle))\n",
        "rf = rf.fit(features,np.ravel(target))"
      ],
      "execution_count": null,
      "outputs": [
        {
          "output_type": "stream",
          "text": [
            "/usr/local/lib/python3.6/dist-packages/sklearn/ensemble/forest.py:245: FutureWarning: The default value of n_estimators will change from 10 in version 0.20 to 100 in 0.22.\n",
            "  \"10 in version 0.20 to 100 in 0.22.\", FutureWarning)\n"
          ],
          "name": "stderr"
        },
        {
          "output_type": "stream",
          "text": [
            "Number predicted less than 0: (0,)\n"
          ],
          "name": "stdout"
        },
        {
          "output_type": "stream",
          "text": [
            "/usr/local/lib/python3.6/dist-packages/sklearn/ensemble/forest.py:245: FutureWarning: The default value of n_estimators will change from 10 in version 0.20 to 100 in 0.22.\n",
            "  \"10 in version 0.20 to 100 in 0.22.\", FutureWarning)\n"
          ],
          "name": "stderr"
        },
        {
          "output_type": "stream",
          "text": [
            "Number predicted less than 0: (0,)\n"
          ],
          "name": "stdout"
        },
        {
          "output_type": "stream",
          "text": [
            "/usr/local/lib/python3.6/dist-packages/sklearn/ensemble/forest.py:245: FutureWarning: The default value of n_estimators will change from 10 in version 0.20 to 100 in 0.22.\n",
            "  \"10 in version 0.20 to 100 in 0.22.\", FutureWarning)\n"
          ],
          "name": "stderr"
        },
        {
          "output_type": "stream",
          "text": [
            "Number predicted less than 0: (0,)\n"
          ],
          "name": "stdout"
        },
        {
          "output_type": "stream",
          "text": [
            "/usr/local/lib/python3.6/dist-packages/sklearn/ensemble/forest.py:245: FutureWarning: The default value of n_estimators will change from 10 in version 0.20 to 100 in 0.22.\n",
            "  \"10 in version 0.20 to 100 in 0.22.\", FutureWarning)\n"
          ],
          "name": "stderr"
        },
        {
          "output_type": "stream",
          "text": [
            "Number predicted less than 0: (0,)\n",
            "[0.3503923  0.35071053 0.35024337 0.35079207]\n"
          ],
          "name": "stdout"
        },
        {
          "output_type": "stream",
          "text": [
            "/usr/local/lib/python3.6/dist-packages/sklearn/ensemble/forest.py:245: FutureWarning: The default value of n_estimators will change from 10 in version 0.20 to 100 in 0.22.\n",
            "  \"10 in version 0.20 to 100 in 0.22.\", FutureWarning)\n"
          ],
          "name": "stderr"
        }
      ]
    },
    {
      "cell_type": "code",
      "metadata": {
        "id": "SJ7WgRsKcXGL",
        "colab": {
          "base_uri": "https://localhost:8080/",
          "height": 35
        },
        "outputId": "26e19931-0237-4fb7-83c5-113248ddcdb9"
      },
      "source": [
        "pred = rf.predict(tfeatures)\n",
        "print(np.where(pred < 0)[0].shape)"
      ],
      "execution_count": null,
      "outputs": [
        {
          "output_type": "stream",
          "text": [
            "(0,)\n"
          ],
          "name": "stdout"
        }
      ]
    },
    {
      "cell_type": "code",
      "metadata": {
        "id": "SvcFDT3Pcfi6"
      },
      "source": [
        "tdf['trip_duration']=pred.astype(int)\n",
        "out = tdf[['id','trip_duration']]\n",
        "out.to_csv('pred_rf.csv',index=False)\n",
        "#RMSLE=0.473"
      ],
      "execution_count": null,
      "outputs": []
    },
    {
      "cell_type": "markdown",
      "metadata": {
        "id": "wEEVLMUIdaIX"
      },
      "source": [
        "## XGBoost"
      ]
    },
    {
      "cell_type": "code",
      "metadata": {
        "id": "vvKRE8D4ci6w",
        "colab": {
          "base_uri": "https://localhost:8080/",
          "height": 415
        },
        "outputId": "b24f109b-07a3-46cb-c268-b6a167c3f2d2"
      },
      "source": [
        "reg = xgboost.XGBRegressor(n_estimators=100, learning_rate=0.08, gamma=0, subsample=0.75,\n",
        "                           colsample_bytree=1, max_depth=7)\n",
        "\n",
        "cv = ShuffleSplit(n_splits=4, test_size=0.1, random_state=0)\n",
        "print(cross_val_score(reg, features, np.ravel(target), cv=cv,scoring=rmsle))\n",
        "reg.fit(features,target)"
      ],
      "execution_count": null,
      "outputs": [
        {
          "output_type": "stream",
          "text": [
            "[01:49:35] WARNING: /workspace/src/objective/regression_obj.cu:152: reg:linear is now deprecated in favor of reg:squarederror.\n",
            "Number predicted less than 0: (0,)\n",
            "[02:07:08] WARNING: /workspace/src/objective/regression_obj.cu:152: reg:linear is now deprecated in favor of reg:squarederror.\n",
            "Number predicted less than 0: (0,)\n",
            "[02:24:52] WARNING: /workspace/src/objective/regression_obj.cu:152: reg:linear is now deprecated in favor of reg:squarederror.\n",
            "Number predicted less than 0: (0,)\n",
            "[02:43:08] WARNING: /workspace/src/objective/regression_obj.cu:152: reg:linear is now deprecated in favor of reg:squarederror.\n",
            "Number predicted less than 0: (0,)\n",
            "[0.34320702 0.3440338  0.34316219 0.3432831 ]\n"
          ],
          "name": "stdout"
        },
        {
          "output_type": "stream",
          "text": [
            "/usr/local/lib/python3.6/dist-packages/xgboost/core.py:587: FutureWarning: Series.base is deprecated and will be removed in a future version\n",
            "  if getattr(data, 'base', None) is not None and \\\n",
            "/usr/local/lib/python3.6/dist-packages/xgboost/core.py:588: FutureWarning: Series.base is deprecated and will be removed in a future version\n",
            "  data.base is not None and isinstance(data, np.ndarray) \\\n"
          ],
          "name": "stderr"
        },
        {
          "output_type": "stream",
          "text": [
            "[03:02:45] WARNING: /workspace/src/objective/regression_obj.cu:152: reg:linear is now deprecated in favor of reg:squarederror.\n"
          ],
          "name": "stdout"
        },
        {
          "output_type": "execute_result",
          "data": {
            "text/plain": [
              "XGBRegressor(base_score=0.5, booster='gbtree', colsample_bylevel=1,\n",
              "             colsample_bynode=1, colsample_bytree=1, gamma=0,\n",
              "             importance_type='gain', learning_rate=0.08, max_delta_step=0,\n",
              "             max_depth=7, min_child_weight=1, missing=None, n_estimators=100,\n",
              "             n_jobs=1, nthread=None, objective='reg:linear', random_state=0,\n",
              "             reg_alpha=0, reg_lambda=1, scale_pos_weight=1, seed=None,\n",
              "             silent=None, subsample=0.75, verbosity=1)"
            ]
          },
          "metadata": {
            "tags": []
          },
          "execution_count": 9
        }
      ]
    },
    {
      "cell_type": "code",
      "metadata": {
        "id": "Px0BnxhudGhH",
        "colab": {
          "base_uri": "https://localhost:8080/",
          "height": 81
        },
        "outputId": "ab037508-4774-4d54-9501-ca1b5b3ec47d"
      },
      "source": [
        "from xgboost import plot_tree\n",
        "plot_tree(reg)"
      ],
      "execution_count": null,
      "outputs": [
        {
          "output_type": "execute_result",
          "data": {
            "text/plain": [
              "<matplotlib.axes._subplots.AxesSubplot at 0x7fb109e98b38>"
            ]
          },
          "metadata": {
            "tags": []
          },
          "execution_count": 12
        },
        {
          "output_type": "display_data",
          "data": {
            "image/png": "[encoded data removed]",
            "text/plain": [
              "<Figure size 432x288 with 1 Axes>"
            ]
          },
          "metadata": {
            "tags": []
          }
        }
      ]
    },
    {
      "cell_type": "code",
      "metadata": {
        "id": "bRJcqFnFdJwg"
      },
      "source": [
        "import pickle\n",
        "pickle.dump(reg, open('xgb_model.sav','wb'),protocol=2)"
      ],
      "execution_count": null,
      "outputs": []
    },
    {
      "cell_type": "code",
      "metadata": {
        "id": "kzFxkhh0dLos"
      },
      "source": [
        ""
      ],
      "execution_count": null,
      "outputs": []
    }
  ]
}