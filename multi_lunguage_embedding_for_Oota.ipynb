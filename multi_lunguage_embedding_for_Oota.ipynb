{
  "nbformat": 4,
  "nbformat_minor": 0,
  "metadata": {
    "colab": {
      "name": "multi_lunguage_embedding_for_Oota.ipynb",
      "provenance": [],
      "collapsed_sections": [],
      "toc_visible": true,
      "mount_file_id": "12zN0uxEkpGtEI9iDNJpSyS0HcbiFUswa",
      "authorship_tag": "ABX9TyN4FPxS+4JJ21ziJ713d5oh",
      "include_colab_link": true
    },
    "kernelspec": {
      "name": "python3",
      "display_name": "Python 3"
    }
  },
  "cells": [
    {
      "cell_type": "markdown",
      "metadata": {
        "id": "view-in-github",
        "colab_type": "text"
      },
      "source": [
        "<a href=\"https://colab.research.google.com/github/Yongtae723/personal_study_code/blob/main/multi_lunguage_embedding_for_Oota.ipynb\" target=\"_parent\"><img src=\"https://colab.research.google.com/assets/colab-badge.svg\" alt=\"Open In Colab\"/></a>"
      ]
    },
    {
      "cell_type": "code",
      "metadata": {
        "colab": {
          "base_uri": "https://localhost:8080/"
        },
        "id": "xQzJiq_mwiF8",
        "outputId": "50f93aa8-b4c3-41d7-e7de-64e666c4988f"
      },
      "source": [
        "!pip install bert-for-tf2\n",
        "!pip install tensorflow_text\n",
        "!pip install langdetect\n",
        "!apt-get -y install fonts-ipafont-gothic\n",
        "!rm /root/.cache/matplotlib/fontlist-v310.json \n",
        "!pip install faiss-gpu\n"
      ],
      "execution_count": null,
      "outputs": [
        {
          "output_type": "stream",
          "text": [
            "Collecting bert-for-tf2\n",
            "\u001b[?25l  Downloading https://files.pythonhosted.org/packages/a5/a1/acb891630749c56901e770a34d6bac8a509a367dd74a05daf7306952e910/bert-for-tf2-0.14.9.tar.gz (41kB)\n",
            "\r\u001b[K     |████████                        | 10kB 15.1MB/s eta 0:00:01\r\u001b[K     |████████████████                | 20kB 12.0MB/s eta 0:00:01\r\u001b[K     |███████████████████████▉        | 30kB 8.1MB/s eta 0:00:01\r\u001b[K     |███████████████████████████████▉| 40kB 7.3MB/s eta 0:00:01\r\u001b[K     |████████████████████████████████| 51kB 3.3MB/s \n",
            "\u001b[?25hCollecting py-params>=0.9.6\n",
            "  Downloading https://files.pythonhosted.org/packages/aa/e0/4f663d8abf83c8084b75b995bd2ab3a9512ebc5b97206fde38cef906ab07/py-params-0.10.2.tar.gz\n",
            "Collecting params-flow>=0.8.0\n",
            "  Downloading https://files.pythonhosted.org/packages/a9/95/ff49f5ebd501f142a6f0aaf42bcfd1c192dc54909d1d9eb84ab031d46056/params-flow-0.8.2.tar.gz\n",
            "Requirement already satisfied: numpy in /usr/local/lib/python3.7/dist-packages (from params-flow>=0.8.0->bert-for-tf2) (1.19.5)\n",
            "Requirement already satisfied: tqdm in /usr/local/lib/python3.7/dist-packages (from params-flow>=0.8.0->bert-for-tf2) (4.41.1)\n",
            "Building wheels for collected packages: bert-for-tf2, py-params, params-flow\n",
            "  Building wheel for bert-for-tf2 (setup.py) ... \u001b[?25l\u001b[?25hdone\n",
            "  Created wheel for bert-for-tf2: filename=bert_for_tf2-0.14.9-cp37-none-any.whl size=30535 sha256=559d42f7b57e2316322e7a94408e8d1dc5a0f553373fdf9ab7af57e99a6a9819\n",
            "  Stored in directory: /root/.cache/pip/wheels/a1/04/ee/347bd9f5b821b637c76411d280271a857aece00358896a230f\n",
            "  Building wheel for py-params (setup.py) ... \u001b[?25l\u001b[?25hdone\n",
            "  Created wheel for py-params: filename=py_params-0.10.2-cp37-none-any.whl size=7912 sha256=8664f01ee454e52382a9ceb4ef2f4b8aa22f5194bd7d3c25abb95d55f5a97d7d\n",
            "  Stored in directory: /root/.cache/pip/wheels/d0/4a/70/ff12450229ff1955abf01f365051d4faae1c20aef53ab4cf09\n",
            "  Building wheel for params-flow (setup.py) ... \u001b[?25l\u001b[?25hdone\n",
            "  Created wheel for params-flow: filename=params_flow-0.8.2-cp37-none-any.whl size=19472 sha256=a318f761478f8b56f6961e0b7b304eff687280f98486e2bb1a2fbc165d78e678\n",
            "  Stored in directory: /root/.cache/pip/wheels/08/c8/7f/81c86b9ff2b86e2c477e3914175be03e679e596067dc630c06\n",
            "Successfully built bert-for-tf2 py-params params-flow\n",
            "Installing collected packages: py-params, params-flow, bert-for-tf2\n",
            "Successfully installed bert-for-tf2-0.14.9 params-flow-0.8.2 py-params-0.10.2\n",
            "Collecting tensorflow_text\n",
            "\u001b[?25l  Downloading https://files.pythonhosted.org/packages/b6/c0/c0fed4301f592c3b56638ae7292612c17d91a43891ba1aaf9636d535beae/tensorflow_text-2.4.3-cp37-cp37m-manylinux1_x86_64.whl (3.4MB)\n",
            "\u001b[K     |████████████████████████████████| 3.4MB 5.9MB/s \n",
            "\u001b[?25hRequirement already satisfied: tensorflow<2.5,>=2.4.0 in /usr/local/lib/python3.7/dist-packages (from tensorflow_text) (2.4.1)\n",
            "Requirement already satisfied: tensorflow-hub>=0.8.0 in /usr/local/lib/python3.7/dist-packages (from tensorflow_text) (0.11.0)\n",
            "Requirement already satisfied: protobuf>=3.9.2 in /usr/local/lib/python3.7/dist-packages (from tensorflow<2.5,>=2.4.0->tensorflow_text) (3.12.4)\n",
            "Requirement already satisfied: google-pasta~=0.2 in /usr/local/lib/python3.7/dist-packages (from tensorflow<2.5,>=2.4.0->tensorflow_text) (0.2.0)\n",
            "Requirement already satisfied: opt-einsum~=3.3.0 in /usr/local/lib/python3.7/dist-packages (from tensorflow<2.5,>=2.4.0->tensorflow_text) (3.3.0)\n",
            "Requirement already satisfied: gast==0.3.3 in /usr/local/lib/python3.7/dist-packages (from tensorflow<2.5,>=2.4.0->tensorflow_text) (0.3.3)\n",
            "Requirement already satisfied: six~=1.15.0 in /usr/local/lib/python3.7/dist-packages (from tensorflow<2.5,>=2.4.0->tensorflow_text) (1.15.0)\n",
            "Requirement already satisfied: keras-preprocessing~=1.1.2 in /usr/local/lib/python3.7/dist-packages (from tensorflow<2.5,>=2.4.0->tensorflow_text) (1.1.2)\n",
            "Requirement already satisfied: tensorboard~=2.4 in /usr/local/lib/python3.7/dist-packages (from tensorflow<2.5,>=2.4.0->tensorflow_text) (2.4.1)\n",
            "Requirement already satisfied: tensorflow-estimator<2.5.0,>=2.4.0 in /usr/local/lib/python3.7/dist-packages (from tensorflow<2.5,>=2.4.0->tensorflow_text) (2.4.0)\n",
            "Requirement already satisfied: grpcio~=1.32.0 in /usr/local/lib/python3.7/dist-packages (from tensorflow<2.5,>=2.4.0->tensorflow_text) (1.32.0)\n",
            "Requirement already satisfied: termcolor~=1.1.0 in /usr/local/lib/python3.7/dist-packages (from tensorflow<2.5,>=2.4.0->tensorflow_text) (1.1.0)\n",
            "Requirement already satisfied: wheel~=0.35 in /usr/local/lib/python3.7/dist-packages (from tensorflow<2.5,>=2.4.0->tensorflow_text) (0.36.2)\n",
            "Requirement already satisfied: numpy~=1.19.2 in /usr/local/lib/python3.7/dist-packages (from tensorflow<2.5,>=2.4.0->tensorflow_text) (1.19.5)\n",
            "Requirement already satisfied: h5py~=2.10.0 in /usr/local/lib/python3.7/dist-packages (from tensorflow<2.5,>=2.4.0->tensorflow_text) (2.10.0)\n",
            "Requirement already satisfied: wrapt~=1.12.1 in /usr/local/lib/python3.7/dist-packages (from tensorflow<2.5,>=2.4.0->tensorflow_text) (1.12.1)\n",
            "Requirement already satisfied: absl-py~=0.10 in /usr/local/lib/python3.7/dist-packages (from tensorflow<2.5,>=2.4.0->tensorflow_text) (0.12.0)\n",
            "Requirement already satisfied: astunparse~=1.6.3 in /usr/local/lib/python3.7/dist-packages (from tensorflow<2.5,>=2.4.0->tensorflow_text) (1.6.3)\n",
            "Requirement already satisfied: flatbuffers~=1.12.0 in /usr/local/lib/python3.7/dist-packages (from tensorflow<2.5,>=2.4.0->tensorflow_text) (1.12)\n",
            "Requirement already satisfied: typing-extensions~=3.7.4 in /usr/local/lib/python3.7/dist-packages (from tensorflow<2.5,>=2.4.0->tensorflow_text) (3.7.4.3)\n",
            "Requirement already satisfied: setuptools in /usr/local/lib/python3.7/dist-packages (from protobuf>=3.9.2->tensorflow<2.5,>=2.4.0->tensorflow_text) (54.2.0)\n",
            "Requirement already satisfied: google-auth-oauthlib<0.5,>=0.4.1 in /usr/local/lib/python3.7/dist-packages (from tensorboard~=2.4->tensorflow<2.5,>=2.4.0->tensorflow_text) (0.4.3)\n",
            "Requirement already satisfied: markdown>=2.6.8 in /usr/local/lib/python3.7/dist-packages (from tensorboard~=2.4->tensorflow<2.5,>=2.4.0->tensorflow_text) (3.3.4)\n",
            "Requirement already satisfied: werkzeug>=0.11.15 in /usr/local/lib/python3.7/dist-packages (from tensorboard~=2.4->tensorflow<2.5,>=2.4.0->tensorflow_text) (1.0.1)\n",
            "Requirement already satisfied: tensorboard-plugin-wit>=1.6.0 in /usr/local/lib/python3.7/dist-packages (from tensorboard~=2.4->tensorflow<2.5,>=2.4.0->tensorflow_text) (1.8.0)\n",
            "Requirement already satisfied: requests<3,>=2.21.0 in /usr/local/lib/python3.7/dist-packages (from tensorboard~=2.4->tensorflow<2.5,>=2.4.0->tensorflow_text) (2.23.0)\n",
            "Requirement already satisfied: google-auth<2,>=1.6.3 in /usr/local/lib/python3.7/dist-packages (from tensorboard~=2.4->tensorflow<2.5,>=2.4.0->tensorflow_text) (1.28.0)\n",
            "Requirement already satisfied: requests-oauthlib>=0.7.0 in /usr/local/lib/python3.7/dist-packages (from google-auth-oauthlib<0.5,>=0.4.1->tensorboard~=2.4->tensorflow<2.5,>=2.4.0->tensorflow_text) (1.3.0)\n",
            "Requirement already satisfied: importlib-metadata; python_version < \"3.8\" in /usr/local/lib/python3.7/dist-packages (from markdown>=2.6.8->tensorboard~=2.4->tensorflow<2.5,>=2.4.0->tensorflow_text) (3.8.1)\n",
            "Requirement already satisfied: idna<3,>=2.5 in /usr/local/lib/python3.7/dist-packages (from requests<3,>=2.21.0->tensorboard~=2.4->tensorflow<2.5,>=2.4.0->tensorflow_text) (2.10)\n",
            "Requirement already satisfied: certifi>=2017.4.17 in /usr/local/lib/python3.7/dist-packages (from requests<3,>=2.21.0->tensorboard~=2.4->tensorflow<2.5,>=2.4.0->tensorflow_text) (2020.12.5)\n",
            "Requirement already satisfied: chardet<4,>=3.0.2 in /usr/local/lib/python3.7/dist-packages (from requests<3,>=2.21.0->tensorboard~=2.4->tensorflow<2.5,>=2.4.0->tensorflow_text) (3.0.4)\n",
            "Requirement already satisfied: urllib3!=1.25.0,!=1.25.1,<1.26,>=1.21.1 in /usr/local/lib/python3.7/dist-packages (from requests<3,>=2.21.0->tensorboard~=2.4->tensorflow<2.5,>=2.4.0->tensorflow_text) (1.24.3)\n",
            "Requirement already satisfied: cachetools<5.0,>=2.0.0 in /usr/local/lib/python3.7/dist-packages (from google-auth<2,>=1.6.3->tensorboard~=2.4->tensorflow<2.5,>=2.4.0->tensorflow_text) (4.2.1)\n",
            "Requirement already satisfied: rsa<5,>=3.1.4; python_version >= \"3.6\" in /usr/local/lib/python3.7/dist-packages (from google-auth<2,>=1.6.3->tensorboard~=2.4->tensorflow<2.5,>=2.4.0->tensorflow_text) (4.7.2)\n",
            "Requirement already satisfied: pyasn1-modules>=0.2.1 in /usr/local/lib/python3.7/dist-packages (from google-auth<2,>=1.6.3->tensorboard~=2.4->tensorflow<2.5,>=2.4.0->tensorflow_text) (0.2.8)\n",
            "Requirement already satisfied: oauthlib>=3.0.0 in /usr/local/lib/python3.7/dist-packages (from requests-oauthlib>=0.7.0->google-auth-oauthlib<0.5,>=0.4.1->tensorboard~=2.4->tensorflow<2.5,>=2.4.0->tensorflow_text) (3.1.0)\n",
            "Requirement already satisfied: zipp>=0.5 in /usr/local/lib/python3.7/dist-packages (from importlib-metadata; python_version < \"3.8\"->markdown>=2.6.8->tensorboard~=2.4->tensorflow<2.5,>=2.4.0->tensorflow_text) (3.4.1)\n",
            "Requirement already satisfied: pyasn1>=0.1.3 in /usr/local/lib/python3.7/dist-packages (from rsa<5,>=3.1.4; python_version >= \"3.6\"->google-auth<2,>=1.6.3->tensorboard~=2.4->tensorflow<2.5,>=2.4.0->tensorflow_text) (0.4.8)\n",
            "Installing collected packages: tensorflow-text\n",
            "Successfully installed tensorflow-text-2.4.3\n",
            "Collecting langdetect\n",
            "\u001b[?25l  Downloading https://files.pythonhosted.org/packages/56/a3/8407c1e62d5980188b4acc45ef3d94b933d14a2ebc9ef3505f22cf772570/langdetect-1.0.8.tar.gz (981kB)\n",
            "\u001b[K     |████████████████████████████████| 983kB 5.2MB/s \n",
            "\u001b[?25hRequirement already satisfied: six in /usr/local/lib/python3.7/dist-packages (from langdetect) (1.15.0)\n",
            "Building wheels for collected packages: langdetect\n",
            "  Building wheel for langdetect (setup.py) ... \u001b[?25l\u001b[?25hdone\n",
            "  Created wheel for langdetect: filename=langdetect-1.0.8-cp37-none-any.whl size=993193 sha256=f379f680a445cef119307ecc64bdb837a68c00a1cb95267bd07396398fa61661\n",
            "  Stored in directory: /root/.cache/pip/wheels/8d/b3/aa/6d99de9f3841d7d3d40a60ea06e6d669e8e5012e6c8b947a57\n",
            "Successfully built langdetect\n",
            "Installing collected packages: langdetect\n",
            "Successfully installed langdetect-1.0.8\n",
            "Reading package lists... Done\n",
            "Building dependency tree       \n",
            "Reading state information... Done\n",
            "The following additional packages will be installed:\n",
            "  fonts-ipafont-mincho\n",
            "The following NEW packages will be installed:\n",
            "  fonts-ipafont-gothic fonts-ipafont-mincho\n",
            "0 upgraded, 2 newly installed, 0 to remove and 30 not upgraded.\n",
            "Need to get 8,251 kB of archives.\n",
            "After this operation, 28.7 MB of additional disk space will be used.\n",
            "Get:1 http://archive.ubuntu.com/ubuntu bionic/universe amd64 fonts-ipafont-gothic all 00303-18ubuntu1 [3,526 kB]\n",
            "Get:2 http://archive.ubuntu.com/ubuntu bionic/universe amd64 fonts-ipafont-mincho all 00303-18ubuntu1 [4,725 kB]\n",
            "Fetched 8,251 kB in 3s (2,670 kB/s)\n",
            "Selecting previously unselected package fonts-ipafont-gothic.\n",
            "(Reading database ... 160980 files and directories currently installed.)\n",
            "Preparing to unpack .../fonts-ipafont-gothic_00303-18ubuntu1_all.deb ...\n",
            "Unpacking fonts-ipafont-gothic (00303-18ubuntu1) ...\n",
            "Selecting previously unselected package fonts-ipafont-mincho.\n",
            "Preparing to unpack .../fonts-ipafont-mincho_00303-18ubuntu1_all.deb ...\n",
            "Unpacking fonts-ipafont-mincho (00303-18ubuntu1) ...\n",
            "Setting up fonts-ipafont-gothic (00303-18ubuntu1) ...\n",
            "update-alternatives: using /usr/share/fonts/opentype/ipafont-gothic/ipag.ttf to provide /usr/share/fonts/truetype/fonts-japanese-gothic.ttf (fonts-japanese-gothic.ttf) in auto mode\n",
            "Setting up fonts-ipafont-mincho (00303-18ubuntu1) ...\n",
            "update-alternatives: using /usr/share/fonts/opentype/ipafont-mincho/ipam.ttf to provide /usr/share/fonts/truetype/fonts-japanese-mincho.ttf (fonts-japanese-mincho.ttf) in auto mode\n",
            "Processing triggers for fontconfig (2.12.6-0ubuntu2) ...\n",
            "Collecting faiss-gpu\n",
            "\u001b[?25l  Downloading https://files.pythonhosted.org/packages/5d/36/383911b8edf8c29cb7e9e8aee4e6b69b0f36c52237e3a06ce64a9551ef22/faiss_gpu-1.7.0-cp37-cp37m-manylinux2014_x86_64.whl (89.4MB)\n",
            "\u001b[K     |████████████████████████████████| 89.4MB 47kB/s \n",
            "\u001b[?25hInstalling collected packages: faiss-gpu\n",
            "Successfully installed faiss-gpu-1.7.0\n"
          ],
          "name": "stdout"
        }
      ]
    },
    {
      "cell_type": "code",
      "metadata": {
        "colab": {
          "base_uri": "https://localhost:8080/"
        },
        "id": "ZJAzDYZX4ywk",
        "outputId": "9e90de01-0ac7-4a04-cb9c-68727df43a21"
      },
      "source": [
        "!ls -ll /root/.cache/matplotlib/"
      ],
      "execution_count": null,
      "outputs": [
        {
          "output_type": "stream",
          "text": [
            "total 52\n",
            "-rw-r--r-- 1 root root 46443 Mar 12 14:47 fontList.json\n",
            "drwxr-xr-x 2 root root  4096 Mar 12 14:28 tex.cache\n"
          ],
          "name": "stdout"
        }
      ]
    },
    {
      "cell_type": "code",
      "metadata": {
        "id": "L2RbX5Gkxi9j"
      },
      "source": [
        "import bert\n",
        "import numpy as np\n",
        "import pandas as pd\n",
        "import tensorflow as tf\n",
        "import tensorflow_hub as hub\n",
        "import tensorflow_text as text  # Needed for loading universal-sentence-encoder-cmlm/multilingual-preprocess\n",
        "import seaborn as sns\n",
        "sns.set(font = \"IPAPGothic\")\n"
      ],
      "execution_count": null,
      "outputs": []
    },
    {
      "cell_type": "code",
      "metadata": {
        "colab": {
          "base_uri": "https://localhost:8080/"
        },
        "id": "1T8bQw6MtiLI",
        "outputId": "dc8a3ef3-891f-476c-bfc1-da2ead977c56"
      },
      "source": [
        "!pip freeze"
      ],
      "execution_count": null,
      "outputs": [
        {
          "output_type": "stream",
          "text": [
            "absl-py==0.12.0\n",
            "alabaster==0.7.12\n",
            "albumentations==0.1.12\n",
            "altair==4.1.0\n",
            "appdirs==1.4.4\n",
            "argon2-cffi==20.1.0\n",
            "astor==0.8.1\n",
            "astropy==4.2\n",
            "astunparse==1.6.3\n",
            "async-generator==1.10\n",
            "atari-py==0.2.6\n",
            "atomicwrites==1.4.0\n",
            "attrs==20.3.0\n",
            "audioread==2.1.9\n",
            "autograd==1.3\n",
            "Babel==2.9.0\n",
            "backcall==0.2.0\n",
            "beautifulsoup4==4.6.3\n",
            "bert-for-tf2==0.14.9\n",
            "bleach==3.3.0\n",
            "blis==0.4.1\n",
            "bokeh==2.3.0\n",
            "Bottleneck==1.3.2\n",
            "branca==0.4.2\n",
            "bs4==0.0.1\n",
            "CacheControl==0.12.6\n",
            "cachetools==4.2.1\n",
            "catalogue==1.0.0\n",
            "certifi==2020.12.5\n",
            "cffi==1.14.5\n",
            "chainer==7.4.0\n",
            "chardet==3.0.4\n",
            "click==7.1.2\n",
            "cloudpickle==1.3.0\n",
            "cmake==3.12.0\n",
            "cmdstanpy==0.9.5\n",
            "colorcet==2.0.6\n",
            "colorlover==0.3.0\n",
            "community==1.0.0b1\n",
            "contextlib2==0.5.5\n",
            "convertdate==2.3.2\n",
            "coverage==3.7.1\n",
            "coveralls==0.5\n",
            "crcmod==1.7\n",
            "cufflinks==0.17.3\n",
            "cvxopt==1.2.6\n",
            "cvxpy==1.0.31\n",
            "cycler==0.10.0\n",
            "cymem==2.0.5\n",
            "Cython==0.29.22\n",
            "daft==0.0.4\n",
            "dask==2.12.0\n",
            "datascience==0.10.6\n",
            "debugpy==1.0.0\n",
            "decorator==4.4.2\n",
            "defusedxml==0.7.1\n",
            "descartes==1.1.0\n",
            "dill==0.3.3\n",
            "distributed==1.25.3\n",
            "dlib==19.18.0\n",
            "dm-tree==0.1.5\n",
            "docopt==0.6.2\n",
            "docutils==0.16\n",
            "dopamine-rl==1.0.5\n",
            "earthengine-api==0.1.258\n",
            "easydict==1.9\n",
            "ecos==2.0.7.post1\n",
            "editdistance==0.5.3\n",
            "en-core-web-sm==2.2.5\n",
            "entrypoints==0.3\n",
            "ephem==3.7.7.1\n",
            "et-xmlfile==1.0.1\n",
            "fa2==0.3.5\n",
            "faiss-gpu==1.7.0\n",
            "fancyimpute==0.4.3\n",
            "fastai==1.0.61\n",
            "fastdtw==0.3.4\n",
            "fastprogress==1.0.0\n",
            "fastrlock==0.6\n",
            "fbprophet==0.7.1\n",
            "feather-format==0.4.1\n",
            "filelock==3.0.12\n",
            "firebase-admin==4.4.0\n",
            "fix-yahoo-finance==0.0.22\n",
            "Flask==1.1.2\n",
            "flatbuffers==1.12\n",
            "folium==0.8.3\n",
            "future==0.16.0\n",
            "gast==0.3.3\n",
            "GDAL==2.2.2\n",
            "gdown==3.6.4\n",
            "gensim==3.6.0\n",
            "geographiclib==1.50\n",
            "geopy==1.17.0\n",
            "gin-config==0.4.0\n",
            "glob2==0.7\n",
            "google==2.0.3\n",
            "google-api-core==1.26.2\n",
            "google-api-python-client==1.12.8\n",
            "google-auth==1.28.0\n",
            "google-auth-httplib2==0.0.4\n",
            "google-auth-oauthlib==0.4.3\n",
            "google-cloud-bigquery==1.21.0\n",
            "google-cloud-bigquery-storage==1.1.0\n",
            "google-cloud-core==1.0.3\n",
            "google-cloud-datastore==1.8.0\n",
            "google-cloud-firestore==1.7.0\n",
            "google-cloud-language==1.2.0\n",
            "google-cloud-storage==1.18.1\n",
            "google-cloud-translate==1.5.0\n",
            "google-colab==1.0.0\n",
            "google-pasta==0.2.0\n",
            "google-resumable-media==0.4.1\n",
            "googleapis-common-protos==1.53.0\n",
            "googledrivedownloader==0.4\n",
            "graphviz==0.10.1\n",
            "greenlet==1.0.0\n",
            "grpcio==1.32.0\n",
            "gspread==3.0.1\n",
            "gspread-dataframe==3.0.8\n",
            "gym==0.17.3\n",
            "h5py==2.10.0\n",
            "HeapDict==1.0.1\n",
            "hijri-converter==2.1.1\n",
            "holidays==0.10.5.2\n",
            "holoviews==1.14.2\n",
            "html5lib==1.0.1\n",
            "httpimport==0.5.18\n",
            "httplib2==0.17.4\n",
            "httplib2shim==0.0.3\n",
            "humanize==0.5.1\n",
            "hyperopt==0.1.2\n",
            "ideep4py==2.0.0.post3\n",
            "idna==2.10\n",
            "imageio==2.4.1\n",
            "imagesize==1.2.0\n",
            "imbalanced-learn==0.4.3\n",
            "imblearn==0.0\n",
            "imgaug==0.2.9\n",
            "importlib-metadata==3.8.1\n",
            "importlib-resources==5.1.2\n",
            "imutils==0.5.4\n",
            "inflect==2.1.0\n",
            "iniconfig==1.1.1\n",
            "intel-openmp==2021.2.0\n",
            "intervaltree==2.1.0\n",
            "ipykernel==4.10.1\n",
            "ipython==5.5.0\n",
            "ipython-genutils==0.2.0\n",
            "ipython-sql==0.3.9\n",
            "ipywidgets==7.6.3\n",
            "itsdangerous==1.1.0\n",
            "jax==0.2.11\n",
            "jaxlib==0.1.64+cuda110\n",
            "jdcal==1.4.1\n",
            "jedi==0.18.0\n",
            "jieba==0.42.1\n",
            "Jinja2==2.11.3\n",
            "joblib==1.0.1\n",
            "jpeg4py==0.1.4\n",
            "jsonschema==2.6.0\n",
            "jupyter==1.0.0\n",
            "jupyter-client==5.3.5\n",
            "jupyter-console==5.2.0\n",
            "jupyter-core==4.7.1\n",
            "jupyterlab-pygments==0.1.2\n",
            "jupyterlab-widgets==1.0.0\n",
            "kaggle==1.5.12\n",
            "kapre==0.1.3.1\n",
            "Keras==2.4.3\n",
            "Keras-Preprocessing==1.1.2\n",
            "keras-vis==0.4.1\n",
            "kiwisolver==1.3.1\n",
            "knnimpute==0.1.0\n",
            "korean-lunar-calendar==0.2.1\n",
            "langdetect==1.0.8\n",
            "librosa==0.8.0\n",
            "lightgbm==2.2.3\n",
            "llvmlite==0.34.0\n",
            "lmdb==0.99\n",
            "LunarCalendar==0.0.9\n",
            "lxml==4.2.6\n",
            "Markdown==3.3.4\n",
            "MarkupSafe==1.1.1\n",
            "matplotlib==3.2.2\n",
            "matplotlib-venn==0.11.6\n",
            "missingno==0.4.2\n",
            "mistune==0.8.4\n",
            "mizani==0.6.0\n",
            "mkl==2019.0\n",
            "mlxtend==0.14.0\n",
            "more-itertools==8.7.0\n",
            "moviepy==0.2.3.5\n",
            "mpmath==1.2.1\n",
            "msgpack==1.0.2\n",
            "multiprocess==0.70.11.1\n",
            "multitasking==0.0.9\n",
            "murmurhash==1.0.5\n",
            "music21==5.5.0\n",
            "natsort==5.5.0\n",
            "nbclient==0.5.3\n",
            "nbconvert==5.6.1\n",
            "nbformat==5.1.2\n",
            "nest-asyncio==1.5.1\n",
            "networkx==2.5\n",
            "nibabel==3.0.2\n",
            "nltk==3.2.5\n",
            "notebook==5.3.1\n",
            "np-utils==0.5.12.1\n",
            "numba==0.51.2\n",
            "numexpr==2.7.3\n",
            "numpy==1.19.5\n",
            "nvidia-ml-py3==7.352.0\n",
            "oauth2client==4.1.3\n",
            "oauthlib==3.1.0\n",
            "okgrade==0.4.3\n",
            "opencv-contrib-python==4.1.2.30\n",
            "opencv-python==4.1.2.30\n",
            "openpyxl==2.5.9\n",
            "opt-einsum==3.3.0\n",
            "osqp==0.6.2.post0\n",
            "packaging==20.9\n",
            "palettable==3.3.0\n",
            "pandas==1.1.5\n",
            "pandas-datareader==0.9.0\n",
            "pandas-gbq==0.13.3\n",
            "pandas-profiling==1.4.1\n",
            "pandocfilters==1.4.3\n",
            "panel==0.11.1\n",
            "param==1.10.1\n",
            "params-flow==0.8.2\n",
            "parso==0.8.1\n",
            "pathlib==1.0.1\n",
            "patsy==0.5.1\n",
            "pexpect==4.8.0\n",
            "pickleshare==0.7.5\n",
            "Pillow==7.1.2\n",
            "pip-tools==4.5.1\n",
            "plac==1.1.3\n",
            "plotly==4.4.1\n",
            "plotnine==0.6.0\n",
            "pluggy==0.7.1\n",
            "pooch==1.3.0\n",
            "portpicker==1.3.1\n",
            "prefetch-generator==1.0.1\n",
            "preshed==3.0.5\n",
            "prettytable==2.1.0\n",
            "progressbar2==3.38.0\n",
            "prometheus-client==0.9.0\n",
            "promise==2.3\n",
            "prompt-toolkit==1.0.18\n",
            "protobuf==3.12.4\n",
            "psutil==5.4.8\n",
            "psycopg2==2.7.6.1\n",
            "ptyprocess==0.7.0\n",
            "py==1.10.0\n",
            "py-params==0.10.2\n",
            "pyarrow==3.0.0\n",
            "pyasn1==0.4.8\n",
            "pyasn1-modules==0.2.8\n",
            "pycocotools==2.0.2\n",
            "pycparser==2.20\n",
            "pyct==0.4.8\n",
            "pydata-google-auth==1.1.0\n",
            "pydot==1.3.0\n",
            "pydot-ng==2.0.0\n",
            "pydotplus==2.0.2\n",
            "PyDrive==1.3.1\n",
            "pyemd==0.5.1\n",
            "pyerfa==1.7.2\n",
            "pyglet==1.5.0\n",
            "Pygments==2.6.1\n",
            "pygobject==3.26.1\n",
            "pymc3==3.7\n",
            "PyMeeus==0.5.11\n",
            "pymongo==3.11.3\n",
            "pymystem3==0.2.0\n",
            "PyOpenGL==3.1.5\n",
            "pyparsing==2.4.7\n",
            "pyrsistent==0.17.3\n",
            "pysndfile==1.3.8\n",
            "PySocks==1.7.1\n",
            "pystan==2.19.1.1\n",
            "pytest==3.6.4\n",
            "python-apt==0.0.0\n",
            "python-chess==0.23.11\n",
            "python-dateutil==2.8.1\n",
            "python-louvain==0.15\n",
            "python-slugify==4.0.1\n",
            "python-utils==2.5.6\n",
            "pytz==2018.9\n",
            "pyviz-comms==2.0.1\n",
            "PyWavelets==1.1.1\n",
            "PyYAML==3.13\n",
            "pyzmq==22.0.3\n",
            "qdldl==0.1.5.post0\n",
            "qtconsole==5.0.3\n",
            "QtPy==1.9.0\n",
            "regex==2019.12.20\n",
            "requests==2.23.0\n",
            "requests-oauthlib==1.3.0\n",
            "resampy==0.2.2\n",
            "retrying==1.3.3\n",
            "rpy2==3.4.3\n",
            "rsa==4.7.2\n",
            "scikit-image==0.16.2\n",
            "scikit-learn==0.22.2.post1\n",
            "scipy==1.4.1\n",
            "screen-resolution-extra==0.0.0\n",
            "scs==2.1.2\n",
            "seaborn==0.11.1\n",
            "Send2Trash==1.5.0\n",
            "setuptools-git==1.2\n",
            "Shapely==1.7.1\n",
            "simplegeneric==0.8.1\n",
            "six==1.15.0\n",
            "sklearn==0.0\n",
            "sklearn-pandas==1.8.0\n",
            "smart-open==4.2.0\n",
            "snowballstemmer==2.1.0\n",
            "sortedcontainers==2.3.0\n",
            "SoundFile==0.10.3.post1\n",
            "spacy==2.2.4\n",
            "Sphinx==1.8.5\n",
            "sphinxcontrib-serializinghtml==1.1.4\n",
            "sphinxcontrib-websupport==1.2.4\n",
            "SQLAlchemy==1.4.3\n",
            "sqlparse==0.4.1\n",
            "srsly==1.0.5\n",
            "statsmodels==0.10.2\n",
            "sympy==1.7.1\n",
            "tables==3.4.4\n",
            "tabulate==0.8.9\n",
            "tblib==1.7.0\n",
            "tensorboard==2.4.1\n",
            "tensorboard-plugin-wit==1.8.0\n",
            "tensorflow==2.4.1\n",
            "tensorflow-datasets==4.0.1\n",
            "tensorflow-estimator==2.4.0\n",
            "tensorflow-gcs-config==2.4.0\n",
            "tensorflow-hub==0.11.0\n",
            "tensorflow-metadata==0.29.0\n",
            "tensorflow-probability==0.12.1\n",
            "tensorflow-text==2.4.3\n",
            "termcolor==1.1.0\n",
            "terminado==0.9.3\n",
            "testpath==0.4.4\n",
            "text-unidecode==1.3\n",
            "textblob==0.15.3\n",
            "textgenrnn==1.4.1\n",
            "Theano==1.0.5\n",
            "thinc==7.4.0\n",
            "tifffile==2021.3.17\n",
            "toml==0.10.2\n",
            "toolz==0.11.1\n",
            "torch==1.8.1+cu101\n",
            "torchsummary==1.5.1\n",
            "torchtext==0.9.1\n",
            "torchvision==0.9.1+cu101\n",
            "tornado==5.1.1\n",
            "tqdm==4.41.1\n",
            "traitlets==5.0.5\n",
            "tweepy==3.10.0\n",
            "typeguard==2.7.1\n",
            "typing-extensions==3.7.4.3\n",
            "tzlocal==1.5.1\n",
            "uritemplate==3.0.1\n",
            "urllib3==1.24.3\n",
            "vega-datasets==0.9.0\n",
            "wasabi==0.8.2\n",
            "wcwidth==0.2.5\n",
            "webencodings==0.5.1\n",
            "Werkzeug==1.0.1\n",
            "widgetsnbextension==3.5.1\n",
            "wordcloud==1.5.0\n",
            "wrapt==1.12.1\n",
            "xarray==0.15.1\n",
            "xgboost==0.90\n",
            "xkit==0.0.0\n",
            "xlrd==1.1.0\n",
            "xlwt==1.3.0\n",
            "yellowbrick==0.9.1\n",
            "zict==2.0.0\n",
            "zipp==3.4.1\n"
          ],
          "name": "stdout"
        }
      ]
    },
    {
      "cell_type": "markdown",
      "metadata": {
        "id": "0M3IvLnLyt2e"
      },
      "source": [
        "## dataのimportと確認\n"
      ]
    },
    {
      "cell_type": "code",
      "metadata": {
        "colab": {
          "base_uri": "https://localhost:8080/",
          "height": 674
        },
        "id": "ItSh0YvWxmyc",
        "outputId": "7fd1d6b2-ccbe-47de-b386-8693c9bc7f21"
      },
      "source": [
        "yokohama_df = pd.read_csv(\"yokohama_qanda.csv\", encoding=\"shift-jis\", index_col=0)\n",
        "yokohama_df.head(500)"
      ],
      "execution_count": null,
      "outputs": [
        {
          "output_type": "execute_result",
          "data": {
            "text/html": [
              "<div>\n",
              "<style scoped>\n",
              "    .dataframe tbody tr th:only-of-type {\n",
              "        vertical-align: middle;\n",
              "    }\n",
              "\n",
              "    .dataframe tbody tr th {\n",
              "        vertical-align: top;\n",
              "    }\n",
              "\n",
              "    .dataframe thead th {\n",
              "        text-align: right;\n",
              "    }\n",
              "</style>\n",
              "<table border=\"1\" class=\"dataframe\">\n",
              "  <thead>\n",
              "    <tr style=\"text-align: right;\">\n",
              "      <th></th>\n",
              "      <th>Question</th>\n",
              "      <th>Answer</th>\n",
              "      <th>URL</th>\n",
              "    </tr>\n",
              "  </thead>\n",
              "  <tbody>\n",
              "    <tr>\n",
              "      <th>0</th>\n",
              "      <td>特別養護老人ホーム入退所指針の見直しのポイントは何ですか。またどのような項目になっていますか。</td>\n",
              "      <td>特別養護老人ホーム入退所指針検討委員会での意見を踏まえ、介護を必要とする入所希望者本人の状況...</td>\n",
              "      <td>https://qa.city.yokohama.lg.jp/search-detail/1</td>\n",
              "    </tr>\n",
              "    <tr>\n",
              "      <th>1</th>\n",
              "      <td>要支援１または２ですが特別養護老人ホームへ入所申込できますか。</td>\n",
              "      <td>特別養護老人ホームの利用は要介護１以上の方が対象となります。このため要支援１・２では利用する...</td>\n",
              "      <td>https://qa.city.yokohama.lg.jp/search-detail/2</td>\n",
              "    </tr>\n",
              "    <tr>\n",
              "      <th>2</th>\n",
              "      <td>よこはま動物園ズーラシアの植物・花などにはどんなものがありますか。</td>\n",
              "      <td>ズーラシアでは、「生命の共生、自然との調和」をテーマにして、「熱帯」や「亜寒帯」などの「気...</td>\n",
              "      <td>https://qa.city.yokohama.lg.jp/search-detail/3</td>\n",
              "    </tr>\n",
              "    <tr>\n",
              "      <th>3</th>\n",
              "      <td>土地の所有者など、登記の内容を知りたいのですが。</td>\n",
              "      <td>土地の所有者等の登記記録は、国の機関である法務局（登記所）に備え付けられている不動産登記簿...</td>\n",
              "      <td>https://qa.city.yokohama.lg.jp/search-detail/5</td>\n",
              "    </tr>\n",
              "    <tr>\n",
              "      <th>4</th>\n",
              "      <td>特別養護老人ホームの入所申込書が欲しいがどこで手に入るか</td>\n",
              "      <td>各区役所高齢（・障害）支援課、地域ケアプラザ、市内特別養護老人ホーム、健康福祉局高齢施設課に...</td>\n",
              "      <td>https://qa.city.yokohama.lg.jp/search-detail/6</td>\n",
              "    </tr>\n",
              "    <tr>\n",
              "      <th>...</th>\n",
              "      <td>...</td>\n",
              "      <td>...</td>\n",
              "      <td>...</td>\n",
              "    </tr>\n",
              "    <tr>\n",
              "      <th>495</th>\n",
              "      <td>都市計画道路予定地ですが、未整備なので売ってもらえませんか？もしくは、貸してもらえませんか？</td>\n",
              "      <td>現在は未整備であっても、今後道路として整備する予定がありますので、詳細については【道路局企画...</td>\n",
              "      <td>https://qa.city.yokohama.lg.jp/search-detail/819</td>\n",
              "    </tr>\n",
              "    <tr>\n",
              "      <th>496</th>\n",
              "      <td>青葉区区政運営方針について知りたい</td>\n",
              "      <td>青葉区区政運営方針については、青葉区区政推進課企画調整係にお問い合わせください。また、方針...</td>\n",
              "      <td>https://qa.city.yokohama.lg.jp/search-detail/820</td>\n",
              "    </tr>\n",
              "    <tr>\n",
              "      <th>497</th>\n",
              "      <td>シニアボランティアに登録するにはどうすればいいですか。</td>\n",
              "      <td>市が開催する登録研修会を受講してください。研修会終了時にポイントカードを交付します。　その...</td>\n",
              "      <td>https://qa.city.yokohama.lg.jp/search-detail/821</td>\n",
              "    </tr>\n",
              "    <tr>\n",
              "      <th>498</th>\n",
              "      <td>青葉区ドッグランについて</td>\n",
              "      <td>あおばドッグランは、谷本公園（下谷元町31-10）の駐車場の隣に期間限定で設置された施設です...</td>\n",
              "      <td>NaN</td>\n",
              "    </tr>\n",
              "    <tr>\n",
              "      <th>あおばドッグランの存続を求める会電話／FAX　045-903-5654</th>\n",
              "      <td>NaN</td>\n",
              "      <td>NaN</td>\n",
              "      <td>NaN</td>\n",
              "    </tr>\n",
              "  </tbody>\n",
              "</table>\n",
              "<p>500 rows × 3 columns</p>\n",
              "</div>"
            ],
            "text/plain": [
              "                                                                            Question  ...                                               URL\n",
              "0                                    特別養護老人ホーム入退所指針の見直しのポイントは何ですか。またどのような項目になっていますか。  ...    https://qa.city.yokohama.lg.jp/search-detail/1\n",
              "1                                                    要支援１または２ですが特別養護老人ホームへ入所申込できますか。  ...    https://qa.city.yokohama.lg.jp/search-detail/2\n",
              "2                                                  よこはま動物園ズーラシアの植物・花などにはどんなものがありますか。  ...    https://qa.city.yokohama.lg.jp/search-detail/3\n",
              "3                                                           土地の所有者など、登記の内容を知りたいのですが。  ...    https://qa.city.yokohama.lg.jp/search-detail/5\n",
              "4                                                       特別養護老人ホームの入所申込書が欲しいがどこで手に入るか  ...    https://qa.city.yokohama.lg.jp/search-detail/6\n",
              "...                                                                              ...  ...                                               ...\n",
              "495                                   都市計画道路予定地ですが、未整備なので売ってもらえませんか？もしくは、貸してもらえませんか？  ...  https://qa.city.yokohama.lg.jp/search-detail/819\n",
              "496                                                                青葉区区政運営方針について知りたい  ...  https://qa.city.yokohama.lg.jp/search-detail/820\n",
              "497                                                      シニアボランティアに登録するにはどうすればいいですか。  ...  https://qa.city.yokohama.lg.jp/search-detail/821\n",
              "498                                                                     青葉区ドッグランについて  ...                                               NaN\n",
              "あおばドッグランの存続を求める会電話／FAX　045-903-5654                                              NaN  ...                                               NaN\n",
              "\n",
              "[500 rows x 3 columns]"
            ]
          },
          "metadata": {
            "tags": []
          },
          "execution_count": 2
        }
      ]
    },
    {
      "cell_type": "code",
      "metadata": {
        "colab": {
          "base_uri": "https://localhost:8080/",
          "height": 190
        },
        "id": "44w29UvmJZS9",
        "outputId": "b82c4820-9814-43df-e824-4581d2714b6a"
      },
      "source": [
        "yokohama_df.describe()"
      ],
      "execution_count": null,
      "outputs": [
        {
          "output_type": "execute_result",
          "data": {
            "text/html": [
              "<div>\n",
              "<style scoped>\n",
              "    .dataframe tbody tr th:only-of-type {\n",
              "        vertical-align: middle;\n",
              "    }\n",
              "\n",
              "    .dataframe tbody tr th {\n",
              "        vertical-align: top;\n",
              "    }\n",
              "\n",
              "    .dataframe thead th {\n",
              "        text-align: right;\n",
              "    }\n",
              "</style>\n",
              "<table border=\"1\" class=\"dataframe\">\n",
              "  <thead>\n",
              "    <tr style=\"text-align: right;\">\n",
              "      <th></th>\n",
              "      <th>Question</th>\n",
              "      <th>Answer</th>\n",
              "      <th>URL</th>\n",
              "    </tr>\n",
              "  </thead>\n",
              "  <tbody>\n",
              "    <tr>\n",
              "      <th>count</th>\n",
              "      <td>2110</td>\n",
              "      <td>2109</td>\n",
              "      <td>2108</td>\n",
              "    </tr>\n",
              "    <tr>\n",
              "      <th>unique</th>\n",
              "      <td>2110</td>\n",
              "      <td>2109</td>\n",
              "      <td>2108</td>\n",
              "    </tr>\n",
              "    <tr>\n",
              "      <th>top</th>\n",
              "      <td>退職した従業員の給与支払報告書は提出する必要があるか。</td>\n",
              "      <td>都市計画による制限について調べる場合と、その他建築造成、地域まちづくりの制限について調べる場...</td>\n",
              "      <td>https://qa.city.yokohama.lg.jp/search-detail/199</td>\n",
              "    </tr>\n",
              "    <tr>\n",
              "      <th>freq</th>\n",
              "      <td>1</td>\n",
              "      <td>1</td>\n",
              "      <td>1</td>\n",
              "    </tr>\n",
              "  </tbody>\n",
              "</table>\n",
              "</div>"
            ],
            "text/plain": [
              "                           Question  ...                                               URL\n",
              "count                          2110  ...                                              2108\n",
              "unique                         2110  ...                                              2108\n",
              "top     退職した従業員の給与支払報告書は提出する必要があるか。  ...  https://qa.city.yokohama.lg.jp/search-detail/199\n",
              "freq                              1  ...                                                 1\n",
              "\n",
              "[4 rows x 3 columns]"
            ]
          },
          "metadata": {
            "tags": []
          },
          "execution_count": 51
        }
      ]
    },
    {
      "cell_type": "code",
      "metadata": {
        "colab": {
          "base_uri": "https://localhost:8080/"
        },
        "id": "UmGn6GzBJgHA",
        "outputId": "9d1a531c-17ba-4517-f7a4-791861e5fa00"
      },
      "source": [
        "yokohama_df.shape"
      ],
      "execution_count": null,
      "outputs": [
        {
          "output_type": "execute_result",
          "data": {
            "text/plain": [
              "(2111, 3)"
            ]
          },
          "metadata": {
            "tags": []
          },
          "execution_count": 53
        }
      ]
    },
    {
      "cell_type": "markdown",
      "metadata": {
        "id": "j9tr3uesIyYf"
      },
      "source": [
        "###データの前処理\n"
      ]
    },
    {
      "cell_type": "code",
      "metadata": {
        "colab": {
          "base_uri": "https://localhost:8080/"
        },
        "id": "o3KFTckYF70c",
        "outputId": "ccb00102-1d3b-4213-b347-f778aefa19e7"
      },
      "source": [
        "yokohama_df.dtypes"
      ],
      "execution_count": null,
      "outputs": [
        {
          "output_type": "execute_result",
          "data": {
            "text/plain": [
              "Question    object\n",
              "Answer      object\n",
              "URL         object\n",
              "dtype: object"
            ]
          },
          "metadata": {
            "tags": []
          },
          "execution_count": 29
        }
      ]
    },
    {
      "cell_type": "code",
      "metadata": {
        "colab": {
          "base_uri": "https://localhost:8080/"
        },
        "id": "WIeDaSI1GByf",
        "outputId": "1efc7c7b-e083-4e0e-89e7-f130fc47cec6"
      },
      "source": [
        "yokohama_df.isnull().any()"
      ],
      "execution_count": null,
      "outputs": [
        {
          "output_type": "execute_result",
          "data": {
            "text/plain": [
              "Question    True\n",
              "Answer      True\n",
              "URL         True\n",
              "dtype: bool"
            ]
          },
          "metadata": {
            "tags": []
          },
          "execution_count": 42
        }
      ]
    },
    {
      "cell_type": "code",
      "metadata": {
        "colab": {
          "base_uri": "https://localhost:8080/"
        },
        "id": "uxAgNJAIHS_e",
        "outputId": "ac376dfa-bbae-44f8-9b13-b266bf1e80c9"
      },
      "source": [
        "yokohama_df.isnull().values.sum()"
      ],
      "execution_count": null,
      "outputs": [
        {
          "output_type": "execute_result",
          "data": {
            "text/plain": [
              "6"
            ]
          },
          "metadata": {
            "tags": []
          },
          "execution_count": 44
        }
      ]
    },
    {
      "cell_type": "markdown",
      "metadata": {
        "id": "67xAz3jJI1rf"
      },
      "source": [
        "### 欠損値の除去\n"
      ]
    },
    {
      "cell_type": "code",
      "metadata": {
        "id": "i4aPxUlEI1T4"
      },
      "source": [
        "yokohama_df = yokohama_df.dropna(how = \"any\", axis=0)"
      ],
      "execution_count": null,
      "outputs": []
    },
    {
      "cell_type": "code",
      "metadata": {
        "colab": {
          "base_uri": "https://localhost:8080/",
          "height": 289
        },
        "id": "GKuorAmSJMIH",
        "outputId": "06c8b405-009f-47b8-c782-be462b3b07a5"
      },
      "source": [
        "yokohama_df.head()"
      ],
      "execution_count": null,
      "outputs": [
        {
          "output_type": "execute_result",
          "data": {
            "text/html": [
              "<div>\n",
              "<style scoped>\n",
              "    .dataframe tbody tr th:only-of-type {\n",
              "        vertical-align: middle;\n",
              "    }\n",
              "\n",
              "    .dataframe tbody tr th {\n",
              "        vertical-align: top;\n",
              "    }\n",
              "\n",
              "    .dataframe thead th {\n",
              "        text-align: right;\n",
              "    }\n",
              "</style>\n",
              "<table border=\"1\" class=\"dataframe\">\n",
              "  <thead>\n",
              "    <tr style=\"text-align: right;\">\n",
              "      <th></th>\n",
              "      <th>Question</th>\n",
              "      <th>Answer</th>\n",
              "      <th>URL</th>\n",
              "    </tr>\n",
              "  </thead>\n",
              "  <tbody>\n",
              "    <tr>\n",
              "      <th>0</th>\n",
              "      <td>特別養護老人ホーム入退所指針の見直しのポイントは何ですか。またどのような項目になっていますか。</td>\n",
              "      <td>特別養護老人ホーム入退所指針検討委員会での意見を踏まえ、介護を必要とする入所希望者本人の状況...</td>\n",
              "      <td>https://qa.city.yokohama.lg.jp/search-detail/1</td>\n",
              "    </tr>\n",
              "    <tr>\n",
              "      <th>1</th>\n",
              "      <td>要支援１または２ですが特別養護老人ホームへ入所申込できますか。</td>\n",
              "      <td>特別養護老人ホームの利用は要介護１以上の方が対象となります。このため要支援１・２では利用する...</td>\n",
              "      <td>https://qa.city.yokohama.lg.jp/search-detail/2</td>\n",
              "    </tr>\n",
              "    <tr>\n",
              "      <th>2</th>\n",
              "      <td>よこはま動物園ズーラシアの植物・花などにはどんなものがありますか。</td>\n",
              "      <td>ズーラシアでは、「生命の共生、自然との調和」をテーマにして、「熱帯」や「亜寒帯」などの「気...</td>\n",
              "      <td>https://qa.city.yokohama.lg.jp/search-detail/3</td>\n",
              "    </tr>\n",
              "    <tr>\n",
              "      <th>3</th>\n",
              "      <td>土地の所有者など、登記の内容を知りたいのですが。</td>\n",
              "      <td>土地の所有者等の登記記録は、国の機関である法務局（登記所）に備え付けられている不動産登記簿...</td>\n",
              "      <td>https://qa.city.yokohama.lg.jp/search-detail/5</td>\n",
              "    </tr>\n",
              "    <tr>\n",
              "      <th>4</th>\n",
              "      <td>特別養護老人ホームの入所申込書が欲しいがどこで手に入るか</td>\n",
              "      <td>各区役所高齢（・障害）支援課、地域ケアプラザ、市内特別養護老人ホーム、健康福祉局高齢施設課に...</td>\n",
              "      <td>https://qa.city.yokohama.lg.jp/search-detail/6</td>\n",
              "    </tr>\n",
              "  </tbody>\n",
              "</table>\n",
              "</div>"
            ],
            "text/plain": [
              "                                          Question  ...                                             URL\n",
              "0  特別養護老人ホーム入退所指針の見直しのポイントは何ですか。またどのような項目になっていますか。  ...  https://qa.city.yokohama.lg.jp/search-detail/1\n",
              "1                  要支援１または２ですが特別養護老人ホームへ入所申込できますか。  ...  https://qa.city.yokohama.lg.jp/search-detail/2\n",
              "2                よこはま動物園ズーラシアの植物・花などにはどんなものがありますか。  ...  https://qa.city.yokohama.lg.jp/search-detail/3\n",
              "3                         土地の所有者など、登記の内容を知りたいのですが。  ...  https://qa.city.yokohama.lg.jp/search-detail/5\n",
              "4                     特別養護老人ホームの入所申込書が欲しいがどこで手に入るか  ...  https://qa.city.yokohama.lg.jp/search-detail/6\n",
              "\n",
              "[5 rows x 3 columns]"
            ]
          },
          "metadata": {
            "tags": []
          },
          "execution_count": 55
        }
      ]
    },
    {
      "cell_type": "code",
      "metadata": {
        "colab": {
          "base_uri": "https://localhost:8080/",
          "height": 190
        },
        "id": "vmLlefk3JnhM",
        "outputId": "2097b740-f8a2-4fed-de20-c126ec68a840"
      },
      "source": [
        "yokohama_df.describe()"
      ],
      "execution_count": null,
      "outputs": [
        {
          "output_type": "execute_result",
          "data": {
            "text/html": [
              "<div>\n",
              "<style scoped>\n",
              "    .dataframe tbody tr th:only-of-type {\n",
              "        vertical-align: middle;\n",
              "    }\n",
              "\n",
              "    .dataframe tbody tr th {\n",
              "        vertical-align: top;\n",
              "    }\n",
              "\n",
              "    .dataframe thead th {\n",
              "        text-align: right;\n",
              "    }\n",
              "</style>\n",
              "<table border=\"1\" class=\"dataframe\">\n",
              "  <thead>\n",
              "    <tr style=\"text-align: right;\">\n",
              "      <th></th>\n",
              "      <th>Question</th>\n",
              "      <th>Answer</th>\n",
              "      <th>URL</th>\n",
              "    </tr>\n",
              "  </thead>\n",
              "  <tbody>\n",
              "    <tr>\n",
              "      <th>count</th>\n",
              "      <td>2108</td>\n",
              "      <td>2108</td>\n",
              "      <td>2108</td>\n",
              "    </tr>\n",
              "    <tr>\n",
              "      <th>unique</th>\n",
              "      <td>2108</td>\n",
              "      <td>2108</td>\n",
              "      <td>2108</td>\n",
              "    </tr>\n",
              "    <tr>\n",
              "      <th>top</th>\n",
              "      <td>退職した従業員の給与支払報告書は提出する必要があるか。</td>\n",
              "      <td>都市計画による制限について調べる場合と、その他建築造成、地域まちづくりの制限について調べる場...</td>\n",
              "      <td>https://qa.city.yokohama.lg.jp/search-detail/199</td>\n",
              "    </tr>\n",
              "    <tr>\n",
              "      <th>freq</th>\n",
              "      <td>1</td>\n",
              "      <td>1</td>\n",
              "      <td>1</td>\n",
              "    </tr>\n",
              "  </tbody>\n",
              "</table>\n",
              "</div>"
            ],
            "text/plain": [
              "                           Question  ...                                               URL\n",
              "count                          2108  ...                                              2108\n",
              "unique                         2108  ...                                              2108\n",
              "top     退職した従業員の給与支払報告書は提出する必要があるか。  ...  https://qa.city.yokohama.lg.jp/search-detail/199\n",
              "freq                              1  ...                                                 1\n",
              "\n",
              "[4 rows x 3 columns]"
            ]
          },
          "metadata": {
            "tags": []
          },
          "execution_count": 56
        }
      ]
    },
    {
      "cell_type": "markdown",
      "metadata": {
        "id": "OUxPhDxN2AuC"
      },
      "source": [
        "## Universal Sentense Encode(USE) Model\n"
      ]
    },
    {
      "cell_type": "code",
      "metadata": {
        "id": "gItRjg1b2EwV"
      },
      "source": [
        "model_url = 'https://tfhub.dev/google/universal-sentence-encoder-multilingual-large/3'\n",
        "encoder = hub.KerasLayer(model_url, trainable=False)"
      ],
      "execution_count": null,
      "outputs": []
    },
    {
      "cell_type": "code",
      "metadata": {
        "id": "zNQMsZD2r1Dj"
      },
      "source": [
        "import json\n",
        "\n",
        "\n",
        "model_detail = {\n",
        "    \"model_folder\":None,\n",
        "    \"model_name\" : \"USE\"\n",
        "}\n",
        "with open( 'model_detail.json', mode='wt', encoding='utf-8') as file:\n",
        "    json.dump(model_detail, file, ensure_ascii=False, indent=2)"
      ],
      "execution_count": null,
      "outputs": []
    },
    {
      "cell_type": "code",
      "metadata": {
        "id": "dEMIontouabh"
      },
      "source": [
        "with open( 'model_detail.json', mode='rt', encoding='utf-8') as file:\n",
        "    data = json.load(file)"
      ],
      "execution_count": null,
      "outputs": []
    },
    {
      "cell_type": "code",
      "metadata": {
        "colab": {
          "base_uri": "https://localhost:8080/"
        },
        "id": "sgb25olFuq-4",
        "outputId": "be213bbd-27b3-4e35-e974-e0d11fddc430"
      },
      "source": [
        "data"
      ],
      "execution_count": null,
      "outputs": [
        {
          "output_type": "execute_result",
          "data": {
            "text/plain": [
              "{'model_folder': None, 'model_name': 'USE'}"
            ]
          },
          "metadata": {
            "tags": []
          },
          "execution_count": 10
        }
      ]
    },
    {
      "cell_type": "markdown",
      "metadata": {
        "id": "WVO8Ocja2ib9"
      },
      "source": [
        "### USEがうまく動作しているかの確認\n"
      ]
    },
    {
      "cell_type": "code",
      "metadata": {
        "id": "fSd4Sxvn2QBq"
      },
      "source": [
        "def plot_similarity(xlabels, ylabels, corr, rotation=90):\n",
        "  sns.set(font_scale=1.2, font='IPAGothic')\n",
        "  g = sns.heatmap(\n",
        "      corr,\n",
        "      xticklabels=xlabels,\n",
        "      yticklabels=ylabels,\n",
        "      vmin=0,\n",
        "      vmax=1,\n",
        "      cmap='YlOrRd')\n",
        "  g.set_xticklabels(xlabels, rotation=rotation)\n",
        "  g.set_title('Semantic Textual Similarity')\n",
        "\n",
        "\n",
        "def truncate(sent, max_len=15):\n",
        "  return sent if len(sent) <= max_len else sent[:max_len] + '...'\n"
      ],
      "execution_count": null,
      "outputs": []
    },
    {
      "cell_type": "code",
      "metadata": {
        "colab": {
          "base_uri": "https://localhost:8080/",
          "height": 394
        },
        "id": "G6RZiOp62nul",
        "outputId": "08305c56-306a-4355-abc1-5b24f271b5e4"
      },
      "source": [
        "english_sentences = [\n",
        "  'dog',\n",
        "  'Puppies are nice.',\n",
        "  'I enjoy taking long walks along the beach with my dog.'\n",
        "]\n",
        "\n",
        "japanese_sentences = [\n",
        "  '犬',\n",
        "  '子犬はいいです',\n",
        "  '私は犬と一緒にビーチを散歩するのが好きです'\n",
        "]\n",
        "\n",
        "english_embeddings = encoder(english_sentences)\n",
        "japanese_embeddings = encoder(japanese_sentences)\n",
        "\n",
        "english_sentences = [truncate(sent) for sent in english_sentences]\n",
        "japanese_sentences = [truncate(sent, 10) for sent in japanese_sentences]\n",
        "\n",
        "plot_similarity(\n",
        "    xlabels=english_sentences,\n",
        "    ylabels=japanese_sentences,\n",
        "    corr=np.matmul(english_embeddings, np.transpose(japanese_embeddings))\n",
        ")"
      ],
      "execution_count": null,
      "outputs": [
        {
          "output_type": "display_data",
          "data": {
            "image/png": "[encoded data removed]",
            "text/plain": [
              "<Figure size 432x288 with 2 Axes>"
            ]
          },
          "metadata": {
            "tags": []
          }
        }
      ]
    },
    {
      "cell_type": "code",
      "metadata": {
        "colab": {
          "base_uri": "https://localhost:8080/"
        },
        "id": "IwFWBNOL6QH7",
        "outputId": "41c8104c-3d5e-4bac-8f1d-27535de737d7"
      },
      "source": [
        "# embeddingの確認\n",
        "print(japanese_embeddings[0].numpy().shape)"
      ],
      "execution_count": null,
      "outputs": [
        {
          "output_type": "stream",
          "text": [
            "(512,)\n"
          ],
          "name": "stdout"
        }
      ]
    },
    {
      "cell_type": "markdown",
      "metadata": {
        "id": "XnnGSoNhAgmj"
      },
      "source": [
        "##いくつかの例\n"
      ]
    },
    {
      "cell_type": "code",
      "metadata": {
        "id": "Pl0apOyb9XGN"
      },
      "source": [
        "# 出典: https://qiita.com/sonoisa/items/775ac4c7871ced6ed4c3 で公開されている「いらすとや」さんの画像タイトル抜粋（「のイラスト」「のマーク」「のキャラクター」という文言を削った）\n",
        "sentences = [\"お辞儀をしている男性会社員\", \"笑い袋\", \"テクニカルエバンジェリスト（女性）\", \"戦うAI\", \"笑う男性（5段階）\", \n",
        "\"漫才師\", \"お辞儀をしている医者（女性）\", \"お辞儀をしている薬剤師\", \"福笑いをしている人\", \"AIの家族\", \"コント師\", \n",
        "\"福笑い（女性）\", \"お辞儀をしている犬\", \"苦笑いをする女性\", \"お辞儀をしている医者\", \"いろいろな漫符\", \n",
        "\"雛人形「仕丁・三人上戸」\", \"ダンス「踊る男性」\", \"拍手をしている人\", \"定年（男性）\", \"ものまね芸人\", \"福笑いのおたふく\", \n",
        "\"お辞儀をしている看護師（男性）\", \"愛想笑い\", \"福笑い（ひょっとこ）\", \"成長する人工知能\", \"苦笑いをする男性\", \n",
        "\"運動会「徒競走・白組」\", \"人工知能と喧嘩をする人\", \"人工知能\", \"ありがた迷惑\", \"お辞儀をしているクマ\", \"笑う女性（5段階）\", \n",
        "\"人工知能とメールをする人（男性）\", \"技術書\", \"笑いをこらえる人（女性）\", \"ダンス「踊る女性」\", \"お辞儀をしている猫\", \n",
        "\"福笑い（男性）\", \"武器を持つAI\", \"作曲する人工知能\", \"縄跳びを飛んでいる女性\", \"福笑い（おかめ）\", \"茅の輪くぐり\", \"表情\", \n",
        "\"AIと仲良くなる人間\", \"お笑い芸人「漫才師」\", \"人工知能とメールをする人（女性）\", \"人工知能と戦う囲碁の棋士\", \"拍手している女の子\", \n",
        "\"検索する人工知能\", \"ピースサインを出す人（女性）\", \"啓示を受けた人（女性）\", \"仕事をする人工知能\", \"一輪車に乗る女の子\", \n",
        "\"お辞儀をしているウサギ\", \"走る猫（笑顔）\", \"人工知能と戦う将棋の棋士\", \"遠足「お弁当・男の子・女の子」\", \"心を持ったAI\", \n",
        "\"プレゼントをもらって喜ぶ女の子\", \"技術書（バラバラ）\", \"いろいろな表情の酔っぱらい（男性）\", \"拍手している人（棒人間）\", \n",
        "\"仕事を奪う人工知能\", \"文章を書く人工知能\", \"いろいろな映画の「つづく」\", \"絵を描く人工知能\", \"拍手している男の子\", \"ハリセン\", \n",
        "\"人工知能と仲良くする人たち\", \"ON AIRランプ\", \"いろいろな表情の酔っぱらい（女性）\", \"徹夜明けの笑顔（女性）\", \n",
        "\"徹夜明けの笑顔（男性）\", \"お辞儀をしている女性会社員\", \"バンザイをしているお婆さん\", \"画像認識をするAI\", \n",
        "\"芸人の男の子（将来の夢）\", \"料理「女性」\", \"ピコピコハンマー\", \"鏡を見る人（笑顔の男性）\", \"笑いをこらえる人（男性）\", \n",
        "\"シンギュラリティ\", \"人工知能に仕事を任せる人\", \"スマートスピーカー\", \"学ぶ人工知能\", \"人工知能・AI\", \"英語のアルファベット\", \n",
        "\"お金を見つめてニヤけている男性\", \"「ありがとう」と言っている人\", \"定年（女性）\", \"テクニカルエバンジェリスト（男性）\", \n",
        "\"スタンディングオベーション\"]"
      ],
      "execution_count": null,
      "outputs": []
    },
    {
      "cell_type": "code",
      "metadata": {
        "colab": {
          "base_uri": "https://localhost:8080/"
        },
        "id": "d_WqT3BS9cR4",
        "outputId": "19159f50-b613-40ce-80c7-b1694d1a5f46"
      },
      "source": [
        "sentence_vectors = encoder(sentences)\n",
        "print(sentence_vectors)"
      ],
      "execution_count": null,
      "outputs": [
        {
          "output_type": "stream",
          "text": [
            "tf.Tensor(\n",
            "[[-0.05619374 -0.00324968  0.05633616 ...  0.00672434  0.00676094\n",
            "  -0.01215081]\n",
            " [ 0.0047473   0.04069067 -0.04086053 ... -0.00758306 -0.01488729\n",
            "   0.0109582 ]\n",
            " [-0.0737422   0.0531266   0.01676407 ...  0.00130996  0.06208597\n",
            "   0.01881845]\n",
            " ...\n",
            " [-0.00782285  0.01450852 -0.03949658 ... -0.06554244  0.03052686\n",
            "  -0.00119799]\n",
            " [-0.08309428  0.06732935  0.0005497  ...  0.01283657  0.03985387\n",
            "   0.03395784]\n",
            " [-0.03411075  0.00431162 -0.05394462 ...  0.00486161 -0.04052155\n",
            "   0.03028554]], shape=(94, 512), dtype=float32)\n"
          ],
          "name": "stdout"
        }
      ]
    },
    {
      "cell_type": "code",
      "metadata": {
        "colab": {
          "base_uri": "https://localhost:8080/"
        },
        "id": "5mDdcdcw9j0b",
        "outputId": "18f1b086-18fe-4db4-c2bc-66a0d9e0ad89"
      },
      "source": [
        "import scipy.spatial\n",
        "\n",
        "queries = ['暴走したAI', '暴走した人工知能', 'いらすとやさんに感謝', '最小の人間']\n",
        "query_embeddings = encoder(queries)\n",
        "\n",
        "closest_n = 5\n",
        "for query, query_embedding in zip(queries, query_embeddings):\n",
        "    distances = scipy.spatial.distance.cdist([query_embedding], sentence_vectors, metric=\"cosine\")[0]\n",
        "\n",
        "    results = zip(range(len(distances)), distances)\n",
        "    results = sorted(results, key=lambda x: x[1])\n",
        "    print(results)\n",
        "\n",
        "    print(\"\\n\\n======================\\n\\n\")\n",
        "    print(\"Query:\", query)\n",
        "    print(\"\\nTop 5 most similar sentences in corpus:\")\n",
        "\n",
        "    for idx, distance in results[0:closest_n]:\n",
        "        print(sentences[idx].strip(), \"(Score: %.4f)\" % (distance / 2))"
      ],
      "execution_count": null,
      "outputs": [
        {
          "output_type": "stream",
          "text": [
            "[(3, 0.19492902308578786), (59, 0.31892056763117727), (39, 0.33665947974012933), (87, 0.3691384106532919), (9, 0.4298505075541458), (77, 0.4347338947439543), (45, 0.4982982987587613), (28, 0.6059224140148984), (64, 0.6071029286353428), (29, 0.6584216124688809), (86, 0.6595810148452335), (71, 0.6710907953864669), (53, 0.6919860649671012), (57, 0.6969173461951435), (48, 0.7035501597630542), (25, 0.7054751015933319), (50, 0.7214289795847302), (40, 0.7340287033707655), (70, 0.7383109779182899), (67, 0.7578027541361327), (66, 0.7652485265404256), (84, 0.7703215387001754), (76, 0.7779004451826204), (88, 0.7816848712720981), (62, 0.7901878937378938), (30, 0.7920039983084787), (65, 0.7936534980699167), (72, 0.7952018937211454), (44, 0.8019899639102172), (31, 0.8097072715261624), (34, 0.8164359440777951), (33, 0.8243487255890841), (61, 0.8336711994036283), (23, 0.8338669434536746), (92, 0.8355043603561585), (20, 0.8417331478775372), (56, 0.841831311560014), (12, 0.8424514516365305), (42, 0.8428383987789573), (10, 0.8439505852240565), (47, 0.845854468080104), (18, 0.8508299930051796), (1, 0.8553453850943807), (41, 0.8553733639689046), (43, 0.8574759242723248), (85, 0.8634904947418992), (63, 0.8638354781082962), (21, 0.86383945359732), (15, 0.8641741318847161), (26, 0.8643821124986396), (27, 0.865361427450334), (80, 0.8682619610703348), (37, 0.8688554101764829), (17, 0.8700067012169035), (68, 0.8785214478277517), (24, 0.8805351158243822), (0, 0.8813569416577712), (69, 0.8820453471719449), (7, 0.8836540486325042), (2, 0.8837142769299314), (14, 0.8842514274077524), (93, 0.8877635515251698), (83, 0.8889026288179311), (13, 0.8944733907925315), (19, 0.8946864024528367), (5, 0.894719897820317), (55, 0.8968982759778659), (82, 0.8978656355452499), (4, 0.9003211569671623), (36, 0.9022652212388016), (38, 0.9032121669057499), (52, 0.9080791124166048), (75, 0.9108630960094695), (49, 0.9111951613098781), (35, 0.9123769257880101), (51, 0.9171482350413188), (16, 0.9213180523412742), (91, 0.9237384205200755), (6, 0.9266220006505472), (22, 0.927694188892169), (79, 0.9294290425383998), (89, 0.9305688216341597), (11, 0.9326680402267258), (74, 0.9331898594281016), (32, 0.9415464443110186), (54, 0.9435178794542634), (73, 0.9454324793790226), (46, 0.9468227656850515), (8, 0.949308377170318), (90, 0.9558357137322404), (60, 0.9688288228173919), (78, 0.9752067549395737), (58, 0.9815929026426882), (81, 0.9996950698533286)]\n",
            "\n",
            "\n",
            "======================\n",
            "\n",
            "\n",
            "Query: 暴走したAI\n",
            "\n",
            "Top 5 most similar sentences in corpus:\n",
            "戦うAI (Score: 0.0975)\n",
            "心を持ったAI (Score: 0.1595)\n",
            "武器を持つAI (Score: 0.1683)\n",
            "人工知能・AI (Score: 0.1846)\n",
            "AIの家族 (Score: 0.2149)\n",
            "[(64, 0.2218367371908383), (29, 0.2909671053135321), (53, 0.2942581450158064), (28, 0.29770967846782725), (87, 0.33955254351305175), (86, 0.3514625044220536), (25, 0.3842603466412249), (84, 0.4109954012139554), (40, 0.416173789679147), (50, 0.41910703264561844), (67, 0.44121334421028513), (70, 0.4428702810508446), (65, 0.4577065467708815), (57, 0.48148006197776083), (48, 0.5060450797624283), (3, 0.5502762166284393), (33, 0.5594167798812377), (59, 0.5706637607447627), (47, 0.5779268453347848), (39, 0.6109084243556747), (45, 0.6434475530840018), (34, 0.643964809328891), (61, 0.6654189891704578), (92, 0.6660319097364722), (9, 0.6770500023465031), (85, 0.685696061644054), (77, 0.6970213052448193), (2, 0.724463581930912), (5, 0.7262592255446834), (20, 0.7389711284368259), (30, 0.7483956946213046), (63, 0.7528428404440403), (66, 0.7597126668453403), (46, 0.7696643883840579), (14, 0.7812199105793622), (76, 0.7851063934637003), (15, 0.7858237331590056), (62, 0.7869879646979892), (10, 0.7887727259346494), (56, 0.7892853884556437), (72, 0.790576435749553), (7, 0.7961959116629773), (43, 0.7964595657746932), (18, 0.8025921016641555), (52, 0.8040796785427392), (71, 0.8093316568080473), (12, 0.8112887859545672), (31, 0.8127815562877624), (83, 0.8164513550908592), (17, 0.822635903285142), (23, 0.8246992855969978), (27, 0.8248908995247757), (26, 0.8250746273623913), (37, 0.8290177410808283), (44, 0.8293915291929725), (0, 0.8326881278771006), (80, 0.8334281457829045), (21, 0.8377773586810761), (6, 0.8442983187143276), (82, 0.845314191706037), (1, 0.8509286466967442), (89, 0.8528686813849214), (42, 0.8550013235858062), (13, 0.856348569861044), (35, 0.8568126810421255), (75, 0.8569099373311131), (68, 0.8617155803525635), (55, 0.86261713807757), (24, 0.8633531736601091), (78, 0.8657868722990371), (38, 0.8661104047809607), (36, 0.8722508964196262), (51, 0.8729403489546066), (93, 0.8742760089465027), (88, 0.8826293942354639), (4, 0.885357407314758), (16, 0.8903854456641207), (74, 0.8909989151343778), (41, 0.8913241857499545), (22, 0.900733438134458), (8, 0.9015283447036431), (19, 0.9041411506495721), (11, 0.9079875365284328), (73, 0.9118265758582079), (49, 0.9119740759227261), (79, 0.9151073093621316), (54, 0.9228217848210395), (81, 0.9329652495454207), (69, 0.9333738322750138), (32, 0.933538858739099), (90, 0.9430703435338439), (91, 0.9455559687602613), (60, 0.9551037304867056), (58, 0.978740946404036)]\n",
            "\n",
            "\n",
            "======================\n",
            "\n",
            "\n",
            "Query: 暴走した人工知能\n",
            "\n",
            "Top 5 most similar sentences in corpus:\n",
            "仕事を奪う人工知能 (Score: 0.1109)\n",
            "人工知能 (Score: 0.1455)\n",
            "仕事をする人工知能 (Score: 0.1471)\n",
            "人工知能と喧嘩をする人 (Score: 0.1489)\n",
            "人工知能・AI (Score: 0.1698)\n",
            "[(90, 0.5654448847600508), (30, 0.5681399546333996), (0, 0.7155276044807124), (55, 0.7174268561510183), (14, 0.7298567309859957), (75, 0.7304291155114497), (12, 0.7305167023858306), (21, 0.7420725941172714), (42, 0.7454077192911079), (37, 0.74707090775215), (7, 0.7471428973860947), (22, 0.7507091518742712), (31, 0.7537652854729905), (43, 0.753877822866305), (24, 0.7555167430478289), (76, 0.7656819547734923), (74, 0.7696686575061706), (23, 0.7701104950151165), (26, 0.7768778736584564), (6, 0.7847447337807386), (38, 0.7973567170332914), (60, 0.8062591578052618), (89, 0.8087731462239203), (20, 0.8109985279435535), (73, 0.8146431558746379), (82, 0.8156837733615895), (15, 0.8163462141204003), (62, 0.8219145636309471), (45, 0.821978906328233), (66, 0.8247887648464223), (48, 0.8248469897958639), (70, 0.8251652460462013), (57, 0.8265767261174124), (13, 0.832435935968731), (59, 0.8339868983139149), (35, 0.8360400370159133), (52, 0.8379969568101586), (46, 0.839112457725978), (8, 0.840185186153114), (5, 0.8407516110804463), (16, 0.842484265445606), (56, 0.8493277886973342), (81, 0.8503011223379109), (11, 0.8521461376485627), (58, 0.8524888603768445), (19, 0.8532988146519382), (64, 0.8538172449246886), (72, 0.8538936337395534), (10, 0.8569801302224922), (1, 0.8618652728577333), (39, 0.8629816998836767), (78, 0.8653620494220391), (88, 0.8667609496216797), (44, 0.871233908685853), (33, 0.8721181465705127), (28, 0.8770340973708238), (17, 0.8841412875924403), (51, 0.884222216070089), (68, 0.8851269812564981), (80, 0.8873743494849784), (91, 0.8890149310312279), (9, 0.8922505634329351), (25, 0.8929633860045179), (41, 0.8934579476773408), (84, 0.8956449017091258), (47, 0.8973753822631005), (63, 0.901606606639279), (69, 0.9021953483057285), (67, 0.902575302627648), (87, 0.9029304985362424), (86, 0.9084302985995691), (77, 0.9088776557863242), (27, 0.9101076863053484), (53, 0.9133629939802228), (49, 0.9143352828876096), (50, 0.9153828165896422), (65, 0.9159055749054976), (3, 0.9167415152911428), (79, 0.9286928255475198), (29, 0.9348827599300559), (36, 0.9353795750151764), (18, 0.9358217230725991), (85, 0.9384038988055466), (92, 0.944250828022952), (4, 0.9472955651691947), (40, 0.9632431897475249), (71, 0.9640810793234694), (93, 0.9813059960765352), (54, 0.9849320359719432), (2, 0.9896313839202122), (32, 0.9947195718135005), (34, 1.0249171890257807), (83, 1.027312460689767), (61, 1.030028680535003)]\n",
            "\n",
            "\n",
            "======================\n",
            "\n",
            "\n",
            "Query: いらすとやさんに感謝\n",
            "\n",
            "Top 5 most similar sentences in corpus:\n",
            "「ありがとう」と言っている人 (Score: 0.2827)\n",
            "ありがた迷惑 (Score: 0.2841)\n",
            "お辞儀をしている男性会社員 (Score: 0.3578)\n",
            "お辞儀をしているウサギ (Score: 0.3587)\n",
            "お辞儀をしている医者 (Score: 0.3649)\n",
            "[(63, 0.5617866395374409), (29, 0.6400703653985824), (19, 0.6420721333107042), (5, 0.6547282343812709), (44, 0.6685829065773253), (10, 0.6775828019089581), (91, 0.6840125997482833), (20, 0.6909640251254627), (35, 0.6998236749230964), (38, 0.7008622377393787), (18, 0.7034568435208041), (30, 0.705682094532471), (70, 0.7068168893627906), (82, 0.7080280809258817), (86, 0.720950289296893), (15, 0.7211305051761274), (8, 0.728633988305561), (11, 0.7288067478849036), (45, 0.7318947234673377), (80, 0.7385538131977843), (23, 0.740092383118591), (81, 0.7425889690238656), (69, 0.7426424108231389), (83, 0.7435507979510915), (84, 0.743757211238807), (0, 0.7463494929824432), (33, 0.7474089270080911), (53, 0.748376625358013), (28, 0.7532664757550389), (47, 0.7564791244858083), (52, 0.7566355133211744), (1, 0.7602933453747911), (92, 0.7614595525717818), (75, 0.7637967732427621), (34, 0.7675178490573896), (26, 0.7718198811603745), (87, 0.7753314039175381), (90, 0.7755485770854342), (9, 0.777174919155812), (51, 0.779275774809447), (40, 0.7818804172277942), (42, 0.7836787048613834), (25, 0.7849955812142653), (17, 0.789086896946894), (85, 0.790143957174388), (12, 0.7904681668316376), (14, 0.7922662191336121), (79, 0.7941627175417934), (4, 0.7961469437576864), (67, 0.7993394761241635), (59, 0.8017225410516957), (3, 0.803493597858633), (88, 0.8038228181633997), (68, 0.8044730684532869), (31, 0.8084646135436171), (13, 0.8107131196100651), (43, 0.8146335085623923), (2, 0.8213482587698345), (21, 0.8218649411328321), (24, 0.82468405185276), (64, 0.824733583443013), (6, 0.8288168468541977), (50, 0.8312842109701767), (49, 0.8364118452763853), (37, 0.8372314906823022), (62, 0.839050954007309), (72, 0.8443451684842779), (65, 0.8514135623019824), (39, 0.8526018925508744), (36, 0.8535180794219234), (32, 0.8552787319861167), (74, 0.8579364200996283), (46, 0.8583870091008761), (7, 0.8605151828079642), (55, 0.8609516687593808), (61, 0.8641885974784072), (78, 0.8651164360800382), (73, 0.868719490137199), (22, 0.868760932897034), (76, 0.8735198690055463), (89, 0.875727616202818), (56, 0.8807619501277564), (54, 0.8842812409387248), (71, 0.8873634363786375), (16, 0.9009835099408866), (60, 0.9220774869370405), (77, 0.9242702960101223), (66, 0.9298531663218461), (48, 0.9330750561458665), (58, 0.93559567035546), (57, 0.9372931307593221), (93, 0.9397894261846359), (27, 0.9776402565799208), (41, 0.9919807263343862)]\n",
            "\n",
            "\n",
            "======================\n",
            "\n",
            "\n",
            "Query: 最小の人間\n",
            "\n",
            "Top 5 most similar sentences in corpus:\n",
            "拍手している人（棒人間） (Score: 0.2809)\n",
            "人工知能 (Score: 0.3200)\n",
            "定年（男性） (Score: 0.3210)\n",
            "漫才師 (Score: 0.3274)\n",
            "表情 (Score: 0.3343)\n"
          ],
          "name": "stdout"
        }
      ]
    },
    {
      "cell_type": "markdown",
      "metadata": {
        "id": "UjHeFoDiAy9S"
      },
      "source": [
        "##横浜市のQ-Q類似度\n"
      ]
    },
    {
      "cell_type": "code",
      "metadata": {
        "colab": {
          "base_uri": "https://localhost:8080/"
        },
        "id": "7ZcGcKNMAyQ9",
        "outputId": "45c016d7-9f98-4518-d272-d9ee3fc32647"
      },
      "source": [
        "question_list = yokohama_df.Question.tolist()\n",
        "print(question_list)\n",
        "print(len(question_list))"
      ],
      "execution_count": null,
      "outputs": [
        {
          "output_type": "stream",
          "text": [
            "['特別養護老人ホーム入退所指針の見直しのポイントは何ですか。またどのような項目になっていますか。', '要支援１または２ですが特別養護老人ホームへ入所申込できますか。', 'よこはま動物園ズーラシアの植物・花などにはどんなものがありますか。', '土地の所有者など、登記の内容を知りたいのですが。', '特別養護老人ホームの入所申込書が欲しいがどこで手に入るか', '特別養護老人ホームへの入所待ち期間は考慮されないのですか', '整備工事中の公園について教えてほしい。', 'プレジャーボートを買うのですが、市内に保管できる場所がありますか。', '日産スタジアム（横浜国際総合競技場）に駐車場はありますか。', '日産スタジアム（横浜国際総合競技場）駐車場の料金は？', '日産スタジアム（横浜国際総合競技場）の中を見学できますか。', 'ワールドカップスタジアムツアーの開催日と概要を教えてください。', '死亡届はどこに届出するのですか。また、届出するときに持参するものは何ですか。', '氏を変更（改姓）したいのですが、変更することはできますか。また、どのように手続きするのですか。', '名前を変更（改名）したいのですが、変更することはできますか。また、どのように手続きするのですか。', '区役所の休庁日や受付時間外にも婚姻届などの戸籍に関する届出ができますか。', '戸籍の届出をしたその日に戸籍全部事項証明（謄本）等を発行してもらえますか。', '屋外に広告を掲出したいのですが、どのような手続きがありますか', '従前の本籍（出生当時の戸籍や婚姻前の戸籍など）はどのように確認するのですか。', '地籍調査とは何ですか。', '地籍図と地積測量図の違いを知りたいのですが。', '今の『「ヨコハマ３Ｒ夢（スリム）！」広報大使』は誰がいるのか？', '地籍調査の実施地区が知りたいのですが。', '地籍調査の成果を閲覧したいのですが。', '『「ヨコハマ３Ｒ夢（スリム）！」広報大使』の活動内容について知りたい', 'よこはま動物園ズーラシアでの精算にクレジットカードは使えますか？', 'よこはま動物園ズーラシアのレストランの予約はできますか？', 'よこはま動物園ズーラシアへの行き方を教えてください。', 'よこはま動物園ズーラシアについて教えてください。', '公証相談を受けたいのですが', '人権相談を受けたいのですが', '市民相談室での相談に手話通訳や要約筆記を頼みたいのですが', '外国人が通訳をつけて専門相談を受けることはできますか', '「港の見える丘公園」のバラの見頃はいつですか', '土地を公園用地として寄附したい場合は？', '横浜市の介護保険以外のサービスはありますか', '住宅改修受領委任払いの事業所の登録をしたい', 'ホームヘルパー（訪問介護員）の資格をとるにはどうすればよいか。', '介護保険の要介護認定で非該当となったが、利用できるサービスはありますか', '日産ウォーターパークの営業時間、料金等を教えてください。', '日産ウォーターパークに入場制限はありますか。', '日産ウォーターパークに遊具、飲食物の持ち込みはできますか？', '日産ウォーターパークに保育室はありますか？', '日産スタジアムでの結婚式の料金はいくらですか？', '日産スタジアム内で披露宴はできますか？', 'スタジアムウエディングの会場は日産スタジアムのどこになりますか？', '日産スタジアムで結婚式ができるのはいつですか？', '日産スタジアム（横浜国際総合競技場）で行われるイベントを教えてください。', '日産スタジアム（横浜国際総合競技場）には、売店はありますか。', '山手西洋館の開館時間を教えてください', '仮ナンバーが必要な場合は、どうしたらいいですか', '仮ナンバーの申請は、いつしたらいいですか', '仮ナンバーは、何日間借りられますか', '借りた仮ナンバーが盗難されましたが、どうしたらいいですか', '借りた仮ナンバーを紛失しましたが、どうしたらいいですか', '交通事故相談を受けたいのですが', '本人または家族が戸籍の附票の写しを取りに行くときには、何が必要か。', 'よこはま動物園ズーラシアの特徴は何ですか？', 'よこはま動物園ズーラシアにはどんな動物がいますか？', 'よこはま動物園ズーラシアには小動物のふれあいコーナーがありますか？', 'よこはま動物園ズーラシアでのボランティア活動はありますか？どんな活動でしょうか？', '動物園のファンクラブあるいは友の会のようなものがありますか？', '農園で野菜を作りたいが、どこか利用できる農園はありますか。', '横浜公園のチューリップの見頃はいつですか', '電柱や街路灯についているはり紙、はり札、立看板をとってほしい', '営利目的のはり紙などを掲出できるところがありますか。また、利用方法を教えてください', '金沢自然公園のボランティア活動を教えてください。', '横浜市立金沢動物園についておしえてください。', '横浜市立金沢動物園への車での行き方についておしえてください。', '婚姻、離婚などの届出を勝手にされるおそれがあるので、届を受理しないようにすることはできますか。', '外国人が海外から転入した場合の手続きについて', '宅地建物相談を受けたいのですが', '税務相談を受けたいのですが', 'どこの区で発行した仮ナンバーか、知りたいのですが', '仮ナンバーをつけた車が止まっています、どうしたらいいですか', '地番がどう変わったか、教えて欲しいのですが', '昔の地番がどうだったか、教えて欲しいのですが', '区名が変更になった証明を発行してほしいのですが', '公告が終わった証明を発行してほしいのですが', '仮ナンバーを返却した証明を発行してほしいのですが', '海難にあった事実を報告したことを、証明してほしいのですが', '横浜市○○区△△町が存在していない証明を発行してほしいのですが', '横浜市△△町が存在していない証明を発行してほしいのですが', '○○区が存在していない証明を発行してほしいのですが', '諸証明の問合せ先の、各区役所総務課庶務係の連絡先は', 'どうして、横浜市が自衛官募集（の広報）を行っているのですか', '身分証明書（破産者等に該当しないこと、成年被後見人でないことの証明）の郵送請求手続きについて', '婚姻届はどこに届出するのですか。また、届出するときに持参するものは何ですか。', '婚姻届について、どのように記入するのですか。', '市民相談室ではどのような相談ができますか。', '横浜市民ではありませんが、相談を受けることはできますか', '弁護士相談（法律相談）を受けたいのですが', '離婚届について、どのように記入するのですか。', '出生届はどこに届出するのですか。また、届出するときに持参するものは何ですか。', '入籍届（子供の氏を父の氏から母の氏に変更する場合等の届出）はどのようにするのですか。', '本籍を移す（変更する）ときの手続き（転籍届）はどのようにするのですか。', '現在の戸籍から分かれて自己の単独の戸籍をつくること（分籍届）はできますか。', '犬の糞放置防止の啓発用プレートが欲しい場合は？', '飼っていた犬が行方不明になったのですが？', '障害者手帳を持っています。就職したいのですが。', '障害者を雇用する場合、どんな助成制度がありますか。', '障害者の職業訓練について教えてください。', '○○区はいつできたのですか', '外国籍の方との婚姻届はどのように届出するのですか。', '戸籍全部事項証明書(謄本）・個人事項証明書（抄本）はどこの窓口で取れますか。', '戸籍全部事項証明書（謄本）・個人事項証明書（抄本）の郵送請求の手続きについて', '除籍全部事項証明書（謄本）・個人事項証明書（抄本）、改製原戸籍謄本・抄本はどこの窓口で取れますか。', '除籍全部事項証明書（謄本）・個人事項証明書（抄本）、改製原戸籍謄本・抄本の郵送請求の手続きについて', '身分証明書（破産者等に該当しないこと、成年被後見人でないことの証明）はどこでとれますか。', '市内で音楽（楽器）の練習ができる施設を教えてください。', '身体障害者福祉法15条に規定される指定医（15条指定医）について', '横浜市外からの引っ越し（転入届）※窓口で申請', '市営地下鉄のすべての駅にエレベーターはありますか', '市営地下鉄の駅に車いすで利用できるトイレはありますか', 'オストメイト対応のトイレのある駅はどこですか', '市営地下鉄の駅トイレまでの導線に点字ブロックは付いていますか', '地下鉄の時刻表を調べたいのですが、どうしたらいいのですか？', '地下鉄の車内や駅で忘れ物をしたときは、どこに聞いたらよいですか', '市営地下鉄車内の温度管理について教えてください。', '外国人の住民票について', '在留期間の更新について', '特別永住許可について', '海外からの転入届の手続きについて教えてください。', '○○区は以前は何区だったのですか', '離婚届（協議による離婚）はどこに届出するのですか。また、届出するときに持参するものは何ですか。', '離婚届（調停等の裁判離婚）はどこに届出するのですか。また、届出するときに持参するものは何ですか。', '（自身・家族等が）こころの健康問題・病気で悩んでいます。', '飼い犬が死亡したときの登録抹消の手続きについて教えてください。', '消除された住民票（除票）の写しは何年前までのものの交付を受けることができますか。', '障害のある人の福祉施設にはどのようなものがありますか。', '区役所以外には、障害のある人のためにどのような相談窓口がありますか。', '自治会町内会を法人化したいのですが、どうすればよいでしょうか。', '防犯灯を取り付けてほしいのですが、どのようにすればよいのですか。', '防犯灯の蛍光灯が切れているので交換してほしい。', '訪問理美容サービスの事業者として働きたい（理美容師からの問い合わせ）', '「都市計画道路網の見直しの素案」とは何ですか。', '横浜みなとみらいホールの住所が知りたい', '横浜にぎわい座の住所が知りたい', '旭区民文化センター（サンハート）の住所が知りたい', '栄区民文化センター（リリス）の住所が知りたい', '関内ホールの住所が知りたい', '岩間市民プラザの住所が知りたい', '吉野町市民プラザの住所が知りたい', '久良岐能舞台の住所が知りたい', '港南区民文化センター（ひまわりの郷）の住所が知りたい', '公益財団法人横浜市芸術文化振興財団の住所が知りたい', '横浜市民ギャラリーの住所が知りたい', '青葉区民文化センター（フィリアホール）の住所が知りたい', '横浜赤レンガ倉庫１号館の住所が知りたい', '泉区民文化センター（テアトルフォンテ）の住所が知りたい', '大倉山記念館の住所が知りたい', '大佛次郎記念館の住所が知りたい', '長浜ホールの住所が知りたい', '横浜市外への引っ越し（転出届）※郵送で申請', '新しく福祉用具を開発したので、介護保険の福祉用具として登録したいのですが。', '市民活動保険とは？', '市民活動保険に加入したいのですが', '市内で身近に利用できる会議室を教えてください。', '市内で合唱の発表ができる施設を教えてください。', '市内で会議や学習会ができる施設はありますか。', '新横浜駅周辺で利用できる会議室は、ありませんか。', '関内駅周辺で利用できる会議室は、ありませんか。', '横浜駅周辺で利用できる会議室は、ありませんか。', '桜木町駅周辺で利用できる会議室は、ありませんか。', '市内に１００人以上で利用できる会議室はありますか。', '市内に５１人から１００人くらいで利用できる会議室はありますか。', '市内に会社説明会、入社試験会場、面接会場、講演会場、会社・団体等の会議ができる会議室はありますか。', '横浜駅・関内駅周辺で、合唱等の発表ができる施設はありますか。', '市内で宿泊できる施設はありますか。', '市営地下鉄で車いすは利用できますか', 'ベビーカーを使用しています。市営地下鉄に乗車するときに気をつけることがありますか', '金融公庫借入や学校の関係で、まだ住んでいないが住民票を移せるか。', '横浜市外への引っ越し（転出届）※窓口で申請', '転出証明書を紛失してしまった。', '本人または家族が住民票の写しを取りに行くときには、何が必要か。', '第三者が住民票を取りに行くことができるのか。', '印鑑登録証をなくしたのですが', '実印をなくしたのですが', '別の印鑑で登録したいので、前の印鑑登録を廃止したいのですが', '自治会町内会館を建設したいのですが、土地がありません。会館用地の確保のために何か制度がありますか。', '国民健康保険の保険料は所得控除の対象ですか。', '「広報よこはま」区版にお知らせ情報を掲載してほしい', '陶芸センターの住所が知りたい', '横浜能楽堂の住所が知りたい', '横浜美術館の住所が知りたい', '横浜市で行われているコンサート、美術展等の文化事業の情報はどこで分かるのか。', '市民利用施設予約システムの利用方法、予約可能施設、その他問合せ先', '「住宅改修が必要である理由書」を作成するのは、ケアマネジャーでないとだめですか。', '住宅改修のサービス（工事）を提供（実施）したいのですが。', 'ひとり暮らしの高齢者への電話貸与について知りたい。', '市民活動保険の対象とならない代表的な例は？', '市民活動保険の（補償）内容について', '各区の市民活動支援センターの場所・連絡先について', '各区の市民活動支援センターの利用基準は？', '東京に、横浜に関する資料がおいてあるところはありますか。', '横浜市東京プロモーション本部にはどのような資料が置いてありますか。', '缶・びん・ペットボトルは同じ袋に入れていいのか', '掃除機・炊飯器・アイロン・電気ポットの出し方', 'スポーツ医科学センターのトレーニング室はどのように使うのですか', 'スポーツ医科学センターで診察してもらいたいんですが', '市の高齢福祉について知りたい。介護保険を利用するにはどうすればよいか。', '介護保険の事業者を紹介して欲しい。', '自治会町内会を法人化することの意義はなんでしょうか。', '勤労者福祉共済（ハマふれんど）はどんな制度ですか。', '勤労者福祉共済（ハマふれんど）の給付金品にかかる税金について教えてください。', '技能文化会館はどのような施設か教えてください。', 'シルバー人材センターの会員登録の条件と方法は', 'シルバー人材センターへの仕事の発注方法は', 'シルバー人材センターの担当事務所と担当エリアについて', '性別（女性、男性であることなど）を理由に、不利益な扱いや人権侵害を受けた。', '「広報よこはま」市版のＥメール配信を申し込みたい', '「広報よこはま」に広告を掲載したいのですが。', '「広報よこはま」視覚障害者向けのものを入手したい', '横浜市の広報紙の発行日、配布期間について確認したい', '広報テレビ・ラジオ番組について知りたい', '国民健康保険料はどこで納付できますか。', '国民健康保険料を口座振替で支払えますか。', '市民活動保険の対象者・対象活動とは？', '戸籍の附票の写しを郵送してもらえますか', '住民基本台帳を閲覧したい', '自分の印鑑を登録したいのですが', '本人にかわって代理で印鑑登録をしたいのですが', '自治会町内会館を修繕整備したいのですが、どのような補助制度がありますか。', '外国人の住民に対する広報事業について知りたい', 'シルバー人材センターとは、どのような団体ですか。', '情報公開請求とは何ですか', '個人情報の本人開示請求とはなんですか', '情報公開請求の手続について教えてください。', 'パンフレット等、市政に関する情報が閲覧できる場所がありますか', '個人情報の本人開示請求の手続について教えてください', '在宅で医療や介護を受けたいのですが、どこで相談にのってもらえますか', '介護者の健康上の相談などに応じてもらえるところはありますか。', '古紙（新聞、雑誌・雑紙、段ボール、紙パック）の出し方', '（第２号被保険者の）介護保険料は、どのように算定するのですか', '（第２号被保険者の）介護保険料は、どのように納めるのですか', '（第１号被保険者の）介護保険料は、どのように納めるのですか', 'どのような場合に特別徴収となるのですか', '市外へ引越したのに横浜市の介護保険料が年金から天引きされていますが、どうしてですか', '今までは介護保険料は特別徴収だったのに、普通徴収に変わったのはなぜですか', '今までは介護保険料は特別徴収されていましたが、市外から引越してきたら、なぜ特別徴収されないのですか', '介護保険料額決定通知書が届いたが、これは何ですか。', '介護保険料額通知書が届いたが、これは何ですか。', '年金振込通知書が届いたが、区役所から通知された介護保険料額と違っているのはなぜですか。', '介護保険料の納付が困難なので、どうしたらいいですか。また減免制度はありますか。', '市内の特別養護老人ホームに入所したい', '軽費老人ホームに入所したい', '養護老人ホームについて知りたい', '認知症高齢者グループホーム（認知症対応型共同生活介護）について知りたい', 'ショートステイを利用したい', '高齢者向け住宅・施設を探している。', '市営住宅の高齢者優遇措置について知りたい', 'スポーツセンターでプールがあるところはありますか', 'テニスコートの利用方法は', '平沼記念体育館の利用方法は', '青少年野外活動センター（三ツ沢公園・くろがね・こども自然）の利用方法は', 'スポーツセンターではどんなことができますか', 'スポーツセンターの個人利用（予約せずに利用）には何が必要ですか', '外出支援サービスを利用したい', '専門学校に通学する予定です。市営地下鉄や市営バスの通学定期券を買うことはできますか。', '障害がある人に対する広報事業について知りたい', '市政に対して意見を言いたいのですが、どうしたらよいですか', '「市民からの提案」「市長陳情」は、市長が読んでいるのですか', '介護保険料を滞納した場合、どうなるのですか', '家庭の中に分別したものを置くスペースがない', '介護保険サービスの利用料の負担軽減や助成制度について教えてください。', '交通事故にあったあとに介護保険を利用するときは、どのような手続きが必要ですか。', '横浜市内に市営斎場はありますか。', '横浜市内に一時預かりができる納骨施設はありますか。', '市営斎場以外を使用した場合に補助金が出ると聞いたのですが、どこを使用しても補助金が出るのですか。', '葬祭業者を利用せず、個人で葬儀及び火葬を行いたいのですが、どのように行えばいいですか。', '埋葬している遺骨を他のお墓に移したい(改葬)のですが、どうしたらいいですか。', 'クリーニング師の免許申請等については、どうしたらいいですか。', '災害時に井戸水を活用したい。', 'ねずみ・害虫を駆除してほしい。', '墓地を探しているのですが、市営墓地の募集について教えてほしい。', '他の区から転入しましたが、介護保険の手続きは必要ですか。', '介護保険の対象はどのような人ですか。', '\\u3000外国籍の人は介護保険に加入するのですか。', '生活保護を受けている人は介護保険に加入するのですか。', '\\u3000介護保険被保険者証はどのような人に交付されるのですか。', '日産スタジアムでチケットは売っていますか', '横浜市市民利用施設予約システム（はまっこカード）の登録方法', '室内プールを利用したいので紹介してください', 'プラスチックの商品（おもちゃ、文具など）はプラスチック製容器包装の収集日に出してよいか。', 'プラスチック製容器包装は週１回の収集では少ない。', '納豆の容器がきれいに洗えないがそのままでよいか', '\\u3000介護保険被保険者証を紛失した場合や、破損したり、汚れたりしてしまった場合は、どうすればよいか。', 'どうして介護保険被保険者証が送られてきたのですか。', '６５歳になるとき、介護保険の手続きは必要ですか。', '市外から転入してきたが、介護保険の手続きは必要ですか。', '市外へ転出する予定ですが、介護保険の手続きは必要ですか。', '同じ区内で転居しましたが、介護保険の手続きは必要ですか。', '高額介護サービス費の申請手続きについて教えてください', '横浜市介護サービス自己負担助成制度とはどのようなものですか。', '高齢者向けに住宅を改修したい', '市民が参加できるスポーツイベントについて教えてください。（連絡先、内容など）', '市内のスポーツに関する情報を知りたい。', '認知症の症状により行方不明になる（徘徊する）高齢者の捜索はできるか。', '高齢者や障害者が緊急時、簡単に外部に連絡できる手段がほしい。', '横浜市内の区画整理・再開発の状況について知りたい。', '事業用大規模建築物の該当基準は？', '廃棄物管理責任者を選任するにあたり、法的な資格は必要か', '横浜市インターンシップについて', '犬・ねこを飼いたいのですが、どこかで譲ってもらえますか。', '脳卒中・神経脊椎センターについて教えてください。', '検便をしてもらえますか？', '最近の選挙での横浜市内の投票率について知りたい', '横浜市内の有権者数、選挙人名簿登録者数について知りたい。', '選挙公報について教えてください。', '選挙について問い合わせをしたいのですが、どちらになりますか。', '選挙について', '投票案内', '期日前投票（不在者投票）の方法', '入院・入所中の病院や老人ホームで不在者投票をする方法', '出張先等の市区町村で不在者投票する方法', '身体に重度の障害のある方の投票（在宅での郵便投票）', '海外に住んでいる方の投票方法（在外投票）', '介護保険料は誰が納めるのですか', '（第１号被保険者の）介護保険料は、どのように算定するのですか', '（第１号被保険者の）介護保険料は、毎年変わるのですか', '介護保険の利用限度を超えてサービスを利用したいが可能ですか。', '介護保険で利用できる施設サービスにはどのようなものがありますか。', '介護保険で利用できる在宅サービスにはどのようなものがありますか。', '介護保険サービスの高額介護サービス費の払戻しに関する制度と手続きはどのようなものですか', '介護保険のサービスを受けられる人はどのような人ですか。', '介護保険のサービスを受けるためには何をすればよいですか。', '介護保険のサービスを利用するにあたって居宅介護支援事業者を選ぶにはどうしたらよいですか。', '介護保険サービスを利用した際の利用料の負担について教えてください。', '収入がない人でも国民健康保険料を払うのですか。', '会社を退職して（又は被扶養者ではなくなったので）国民健康保険に加入したいのですが。', '食品衛生責任者となることができる資格を取得するための講習会について教えてください', 'エイズの検査を受けたいのですが。', '市営地下鉄の乗車券には、どんな種類がありますか', '「ヨコハマ３Ｒ夢」推進会議・各区推進会議の違いは何か', '国民健康保険の保険証をなくしたので、再交付の手続きをしたいのですが。', '介護保険サービスの利用限度について教えてください。', 'ロゴ・マスコットを使用したい', '鶴見川（谷本川〔やもとがわ〕）の水マスタープラン、流域構想について', '横浜市の国民健康保険に加入していますが、特定健康診査を受診したいのですが。', '「横浜市職員録」の販売及び価格、閲覧場所について教えてください。', '市立の小学校・中学校の学級数、児童数・生徒数について知りたい', '小学校、中学校、高等学校などの住所や電話番号等が知りたい', '国民健康保険にはみんな加入しないといけないのですか。', '会社の健康保険の扶養について教えてください。', '家庭系パソコンの廃棄方法', '雨水浸透ますとはどのような施設ですか。', '工事コスト縮減についてどのようにしていますか。', '私道に下水道管を設置したいのですが、どこへ相談すればいいのですか。', '下水道及び河川工事の監督は市のどこの部署が行っているのですか。', '市民活動団体等を対象にした助成制度について', '犬の登録と狂犬病予防注射について教えてください。', '横浜市で、ＮＰＯ法人を設立したいのですが', '「暮らしのガイド」について知りたい', '季刊誌「横濱」について知りたい', '道路上にあるエレベーターはどこが管理しているのか。', '医療ミスを受けたのだが、どうすればいいか。', '読みたい本が図書館にあるかどうか調べたいのですが。', '隣の家のエアコンの室外機やピアノの音といった、近隣の生活騒音で困っています。改善の指導ができますか。', '\\u3000横浜市ではこれまで、被災地にどのような支援を行っていますか。', '国民健康保険で高額療養費をもらえるのはどういうときですか。', '国民健康保険では、高額療養費の申請はどうすればいいですか。', '国民健康保険では、出産一時金の申請はどうすればいいですか。', '国民健康保険では、葬祭費の申請はどうすればいいですか', '国民健康保険の保険証を持たずに病院にかかりました。払い戻しは受けられますか。', '重度の障害者ですが、医療費の助成はありますか。', '国民健康保険料を滞納するとどうなりますか。', '国民健康保険の延滞金納付書が届きましたが、どのようなものですか。また、どのように計算されるのですか。', '障害者のための成人式があると聞いたのですが、どのような式ですか。', 'よこはま認知症コールセンターとはどのようなことをするのか。', '日本に生息しない動物を野外で見つけました。', '住宅の新築やリフォームに関する、横浜市の相談窓口はありますか。', '下水処理水と鶴見川の水質を比較するとどのようになっていますか。', 'ハマレンガの仕様や購入方法について聞きたい', '密集住宅地で木造住宅を建替える際に補助を行っていると聞いているが、その内容について知りたい。', '「急傾斜地崩壊危険区域」や「土砂災害警戒区域」の場所はどこで確認できますか。', '崖の改善工事について、市の助成金を受けたいのですが。', '焼却工場の見学をしたいが、どうしたらいいか。', '粗大ごみの種類・大きさを教えてほしい。（粗大ごみとは何か。）', '粗大ごみの申込方法を教えてほしい。', '粗大ごみ受付センターに電話がつながらない。', '粗大ごみ受付センターの場所はどこですか。', 'ごみの出し方が分かるようなパンフレットはないか', 'どのような料金の支払方法がありますか', '水道料金の口座振替について', '水道の平均使用量はどのくらいですか', '水道料金が以前より割高になった', '漏水によって発生した水道料金も支払うのですか', '２世帯住宅等、共同住宅各世帯に対する家事用料金の適用方法は', '料金未納が続くと、どうなりますか', '水道料金を納入期限を過ぎて支払った場合には、延滞金は加算されますか', '水道料金を支払っているのに水が止まった', '横浜市内で引越しをする際の水道関係の手続きは', '横浜以外から横浜に引っ越して来ますが水道の手続きは', '「はまっ子どうしThe Water」（ペットボトル）はどこで購入できますか？', 'どこの浄水場から水が送られてきているのですか', '家電リサイクル法対象品目のリサイクル料金はいくらですか。', '浄水場・水道記念館は見学できますか', 'なぜ、ペットボトル水をつくったのか', '消防音楽隊の演奏は、いつどこで聴くことができますか？', '「横浜市歌」の楽譜が欲しいのですが', '「横浜市歌」のカセットテープやＣＤは手に入りますか？', '学校施設を利用したいがどうすればいいですか。', '横浜市福祉のまちづくり条例施設整備マニュアルはどこで販売していますか。また、いくらですか。', '資源循環局の取組全般が分かるパンフレットはないか。', '市営住宅への入居申し込みをしたいのですが', '市街化区域か市街化調整区域かを教えてください。', '横浜市における開発許可の基準などをまとめた冊子はどこで販売していますか。', '宅地造成工事規制区域の範囲を教えてください。', '都市計画道路の線を入れてほしい。(都市計画道路が敷地にかかっているか教えて欲しい）', 'スプレー缶、カセットボンベの出し方', '青葉区区づくり経営会議について知りたい', '青葉区内の主要事業について知りたい', '青葉区民作品展に出品したい。', '年末年始のごみ収集日程', '土・石はどうしたらよいか', '横浜市が収集しない品目はどのようなものがあるか', '家庭で飼っていた動物死体（わに・蛇なども）を処理してもらえるのか', '動物の死体処理はどのようにしたらよいか。また、時間はどのくらいかかるか。', '動物の骨の持ち帰りや個別火葬を希望するとき', '粗大ごみの申込みの追加や変更・キャンセルをしたい。', '粗大ごみの持ち出し収集（対象者など）について教えてほしい。', '粗大ごみをリユースしてほしい場合はどうすればいいのか。', 'シールが貼ってある粗大ごみが放置されている。', '水道工事店がわからない', 'ゆうちょ銀行の口座へ市からお金を振り込んでもらうことができますか。', '支払通知書、還付通知書が届きましたが、本人が取りに行けないときは、どうすればいいですか。', '古布の出し方', '住宅用火災警報器の設置について', '使用済み乾電池・小型充電式電池(モバイルバッテリー含む)・ボタン電池の出し方', 'われたもの（ガラス・陶器など）の出し方', '土木工事標準積算基準書、土木工事資材等単価表、公共工事設計労務単価表、道路構造物標準図集、土木工事施工管理基準、土木工事検査書類作成マニュアル等を入手したい。', '横浜以外へ引っ越しますが水道の手続きは', '宅地内で水漏れしている', 'トイレの漏水について', '水道の修繕等で職員の出張費はかかるのですか', '水道メーターは取り替えるのですか', '道路から水が出ている', '水に色がついている・異臭がする・異物が出る', '水道局の職員や関係者を名乗る人物が訪問してきた', '水道料金・下水道使用料の基本料金の減免とはどういうことですか', '水道料金・下水道使用料の基本料金の減免手続きはどの様におこなうのでしょうか', '水道料金の減免対象者本人による手続きが困難な場合はどの様になるのでしょうか', '車いすステッカーは、どこで販売していますか。', '建築物に対する福祉のまちづくり条例の事前協議はどこで行っていますか。', '横浜市の福祉保健サ−ビスに対する苦情で、サ−ビス提供事業者や区に苦情を伝えているが改善されない。', 'バスの接近情報が分かるバス停を設置してください。', '電車から降りてすぐバスに乗れるようにしてください', 'バスの本数は増えないのですか。', '収集後にごみを出した人がいて残っている', '他の地区からごみを持ち込まれている', '収集場所の新規設置、変更、廃止はどうすればよいか', '祭りで出たごみは収集してもらえるか', '引越などによる大量のごみを一度に捨てたい', '袋は半透明でなければいけないのか（レジ袋をごみ袋として使ってよいか）', '環境に関するイベントはありますか。', 'グリーン購入とは何ですか。', 'みなとみらい線の運賃はいくらですか？', '会社を退職しましたが、年金の手続きには何が必要ですか。', '国民年金保険料を納めていますが、住所が変わりました。', '市立図書館の開館時間と休館日を教えてください。', '読みたい本が図書館の本棚にないときは、どうしたら良いですか。', '年金受給者の源泉徴収票が２月になっても届かないとき。', '基礎年金番号とは何ですか。', '年金手帳を紛失しました。基礎年金番号を覚えていません。電話で教えてもらえるでしょうか。', '就職するにあたり会社へ提出する年金手帳が探しても見つかりません。どうしたらよいでしょうか。', '粗大ごみを直接持ち込んで処分したい。（自己搬入の持込場所はどこか。）', '移動トイレを借りたいがどこに申し込むのか、また料金はいくらか。', '移動トイレはいつ設置（撤去）するのか', '仮設トイレ（工事現場・イベント会場）のくみ取りをお願いしたい。', 'トイレを水洗にしたいのですが。', '私が住んでいるところは、下水道がきていますか。', '横浜市立大学（市大）のエクステンション講座にはどういう種類のものがありますか。', '本会議の傍聴方法について教えてください。', '障害児・者の外出支援をするボランティアを紹介してほしい。', '障害者が自動車運転免許を取得する際に助成はあるか。', '運転免許を取りたいのですが、障害者のための教習車がある教習所はありますか。', '障害者が自動車を改造する際に助成はあるか。', '建築協定の地区内であるのか、教えてください。', '妊婦健康診査を市外の医療機関で受診したいのですが（里帰り出産等）。', '妊婦健康診査を受診したら有料でした。無料ではないのですか。', '横浜市公共下水道計画図は閲覧及び購入ができますか？', 'みなとみらい線は市営地下鉄ですか？', 'みなとみらい線はどこを走っていますか？', 'みなとみらい線に特急はありますか？', '蛍光灯、電球の出し方', '青葉区芸術祭について知りたい。', 'カラスネットの購入には助成金制度があるのか', '集積場所のごみがカラス・猫等によって散乱している', '集積場所へのごみの出し方（マナー）が悪い', 'ごみが収集されずに残っている', '会計室会計管理課管理係の連絡先はどこでしょうか。', '各区会計室の連絡先はどこでしょうか。', '議員の連絡先（住所、電話番号）を教えてください。', '自分の家の地盤状況について、教えていただけますか。', '大規模地震が起きたときに私の避難する場所はどこですか。', '都市計画道路予定地ですが、未整備なので売ってもらえませんか？もしくは、貸してもらえませんか？', '青葉区区政運営方針について知りたい', 'シニアボランティアに登録するにはどうすればいいですか。', '横浜市に収めるお金は、どこに納めたらよいのですか。', '区役所の横浜銀行派出所では、なぜ県や国へ納めるお金を扱ってくれないのですか。', '医療機関乳幼児健康診査について教えてください。', '視聴覚検診について教えてください。', '土地区画整理確定図（換地図）を見たい。（コピーが欲しい）', '都市計画法第５３条に基づく建築許可（市街地再開発事業・土地区画整理事業区域内）について知りたい。', '土地の中を都市計画道路の計画線が通っていますが、事業着手前でも土地を買ってもらえるのですか。', '市内の交通量について知りたいのですが？', '東海道宿場マップ（ウォーキングマップ）はどこで入手できますか。', '図書館はどこにありますか。', '図書館の本は何冊まで借りられますか。', '議員の報酬金額を教えてほしい。', '議員の費用弁償の金額を教えてほしい。', '政務活動費の金額を教えてほしい。', '政務活動費の使途（収支報告）は閲覧できるのか。', 'パソコンについて教えてくれるところはありませんか。', '下水道使用料はどのように決まりますか。', '汚水排出量はどのように決まるのですか。', '近くの医療機関を教えてほしい。', '会計室会計管理課出納係の連絡先はどこでしょうか。', 'お得な運賃、乗車券には、どんな種類がありますか', '横浜市立大学（市大）のエクステンション講座（生涯学習）に申し込みたいが、どうしたらいいですか。', '横浜市立大学（市大）\\u3000地域貢献センターの場所はどこですか。', '横浜市立大学エクステンション通信（メールマガジン）に申し込みをしたいが、どうしたらいいですか。', 'バスの定期代金を調べるには、どうしたらよいですか', '市バスを乗り継いで通学しています。定期券は別々に買わなくてはいけませんか。', '子どもの医療費助成について教えてください。', '小児医療費助成事業に所得制限はありますか。', '子どもが生まれたのですが、医療費助成の手続きについて教えてください。', '小児医療費助成の対象者ですが、医療費を支払ってしまったが、払い戻しの手続きについて教えてください。', '国土利用計画法に基づく届出制とは、どのようなものですか？', '国土利用計画法に基づく届出が必要な土地売買等の契約とは、どのような契約ですか？', '国土利用計画法に基づく届出の手続きは、どのようにすればよいのですか？', '国土利用計画法に基づく届出の、届出用紙はどこで入手できますか？', '国土利用計画法に基づく届出の期限を過ぎてしまった場合は、どうなりますか？', '国土利用計画法に基づく届出について、横浜市ではどのような審査をしているのですか？', '教育相談では、どのような相談に応じてもらえるのですか。', '横浜環状北西線について教えてください。', '道路照明灯の設置要望はどこにすればいいのか、また球が切れている場合は、どこに連絡すればいいのか。', '自転車等放置禁止区域について知りたい。', '移動された自転車等の引き取り方法を知りたい。', '自転車駐車場の利用方法を知りたい。', 'カーブミラーを設置してほしい', '放置自動車の撤去に日数がかかりすぎる', '路上に放置された自動車があるがどうすればよいか', '横浜市立大学附属市民総合医療センター（市大センター病院）の診療受付は何時からですか。', '市立小・中学校の入学の手続きについて教えてください。', '市立小・中学校の転校の手続きについて教えてください。', '学区外の市立小・中学校へ通学させる手続きを教えてください。', '市立小・中学校へ通学させるのに経済的に苦しいので、援助してください', '市民情報センターにおいて公表している、積算内訳（公表設計書）の公表期間について教えてください。', '下水道工事の設計に関連する基準書類にはどのようなものがありますか。', '飲食店などでオイルトラップを設置する際に、排出される水質(BOD、SS、動植物油脂類)に基準はありますか？', '公共下水道台帳の閲覧および取得はどこでできますか。', '国民年金保険料の納付書（払込用紙）を紛失してしまいました。', '国民年金の保険料はいくらですか。', '国民年金の保険料は、どのように納めるのですか。', '付加保険料とは、どのようなものですか。', '身体に障害があり、図書館まで本を借りに行くことができません。何かよい方法はありませんか。', '図書館に本を寄贈したいのですが。', '児童扶養手当とはどんな制度ですか', '・配偶者等からの暴力について相談したい。・女性の抱える様々な問題について相談したい。', '母子家庭を対象とした貸付金制度はありますか。', '横浜環状北西線で導入しているＰＩ（パブリック・インボルブメント）手法について教えてください。', '横浜市内の未着手の都市計画道路の整備予定について教えて下さい。', '横浜市に自転車通行空間の整備計画はあるか。', '自分で騒音や振動を計ってみたいのですがどうしたらよいですか。', '我が家の近くにはバスが走っていないので、通るようにしてください', 'バス車内に忘れ物をしたときは、どこに聞いたらよいですか', 'バス停に、屋根やベンチをもっと設置できないのでしょうか', 'バス停留所でのタバコの喫煙の対策はできないのですか', '敬老パスの自分の負担金額がよくわからないのだが', '横浜市のコンプライアンス上の問題について話したい', '（１）継続交付の福祉特別乗車券はいつ届きますか？（２）継続交付のタクシー利用券はいつ届きますか？', '防火管理者又は防災管理者の資格をとる講習を受講したい場合は？', '横浜市消防職員の採用について、教えて下さい。', '横浜市消防職員が身につけている被服は購入できますか。', '耳が聞こえない方や言葉を発することが困難な方が緊急通報する場合どうしたらよいか', '原動機付自転車を廃車した場合、手続はどのように行うのですか？', '原動機付自転車を友達から譲ってもらったのですが、手続はどのように行うのですか？', '障害者が携帯電話を利用する際、割引を受けられる制度はありますか。', '障害者が航空機に乗る際、運賃が割引になる制度はあるか。', '有料道路の通行料金が割引される制度を利用したい。', '障害者が鉄道に乗る際、割引を受けられる制度はありますか。', '視覚障害者のための社会参加訓練事業について', '横浜市外から転入するが、どうやって敬老パスを手に入れられるのか。', '外国人は敬老パスをもらえますか。', '敬老パスの案内状に載っている、合計所得金額とは何か。', '敬老パスは通勤でも使えるのか。', '敬老パスの利用（乗車）方法は', '市営バスの冷暖房と換気扇の取扱いは、どのようにしていますか', '施設入所はしていないが、ショートステイの利用でも負担限度額認定は受けられるのか。', '要介護認定は受けていないが、負担限度額認定の申請は可能か', '（緑区）長坂谷公園の多目的広場で野球（サッカー）をしたいのですが？', '子どもに関する相談をしたい。', '（港北区）パソコンを習いたいのですが？', '（港北区）講座に参加したいのですが？', '港北区で活動している文化やスポーツのサークル・団体に入りたいのですが？', '港北区のスポーツ大会にチームで出場したいのですが、どのようにすればいいですか？', '港北区内のスポーツ大会の申込書はどこでもらえますか？', '港北公会堂の利用予約はいつからできますか？', '会社の会議で使用できる港北区内の会場を探しているのですが？', '市営バスが途中で運行がストップしたときなど、運賃はどうなりますか', '市営バス路線（または系統）と、時刻表を教えてください', '敬老の日に行われる催し物などについて教えて欲しい', '横浜市内に住んでいたことはないが、横浜市内の中学校・高校等に通っていました。参加できますか？', '浴場の入浴にかかる優待割引について教えてください。', '高齢者の「趣味の教室」のような講座はあるか', '高齢者が今の住居の家主から立退き要求（取り壊し・建て替えなど）を受けたが、どうしたらいいか。', '市営バスの定期券があれば、どこでも乗車できるのか。', '固定資産税が課税される償却資産とはどのようなものですか。', '老人福祉センターについて知りたい。', '資源回収ボックスの設置場所', '住んでいる地域が資源集団回収をしているか、どこに聞けばよいか。', '市営バス・地下鉄車内にあった広告のポスターがほしい', '市営バス・地下鉄の車内にあった広告の内容について聞きたい', '環境定期券制度は、シニアパスでも利用できますか？', '持参人式定期券とは？', '市営バスの通学定期券を買うためには何が必要ですか', '都筑区の区民マップと都筑区ガイドブックを郵送でほしい。', 'シニアパスに身体障害者割引はありますか。', '市外に住んでいますが、シニアパスを購入できますか。', '固定資産税（償却資産）の申告について教えてください。', '住民票の写しを郵送してもらえますか', '横浜市内での引っ越し（区間異動届）※窓口で申請', '「緑と洋館の巡り道」(みどりとようかんのめぐりみち）とはどんな地図ですか。', '本人以外の人が課税証明書を取ることができますか？', '郵送で課税証明書を取ることができますか？', '市民税・県民税課税証明書はどこで取ることができますか？', '今年度の市民税・県民税に関する証明書はいつから発行されますか？', '宅地内に排水設備を設置するには、何か基準がありますか。', '横浜市肺がん検診はどのように受けられますか。', '近所に迷惑な犬や猫の飼い方をしている人がいる、虐待している人がいるので指導して欲しい', '駐車禁止除外指定車の標章（ステッカー）が欲しいのですが。', 'よこはまシニアボランティアポイント事業のポイントはどのように換金するのですか。', 'よこはまシニアボランティアポイント事業の制度運営のための財源はどのようになっていますか。', 'シニアパスの継続購入に必要なものは？', '放れている犬、遺棄された、もしくは怪我をしている犬や猫、親からはぐれた子猫を収容して欲しい。', '【公拡法】提出する書類について教えてください。', '（港北区）家の前（付近）に放置自転車があるのですが、どうしたらいいですか？', '（港北区）区内各駅で撤去された自転車の保管場所を教えてください。', '（港北区）資源回収ボックスの設置場所を教えてください。', '福祉保健活動拠点（ぱれっと旭）を利用するには、どのようにしたらいいですか。', '【公拡法】「届出が必要な土地」とはどのような土地ですか？', '介護保険に加入している家族（被保険者）が亡くなった場合の手続きを教えてください。', '航空機騒音で困っています。何とかなりませんか。', '住居表示が実施された住所と本籍の表示が違うのは何故ですか', '住居表示実施に伴う変更登記の手続きは有料ですか', '住居表示実施に伴う土地・建物登記簿の所有者の住所変更登記は、いつまでにすればいいのですか', '住居表示を実施しても郵便番号は変わらないですか', '郵便は旧住所（住居表示実施前）でも届きますか', '横浜市乳がん検診はどのように受けられますか。', '医療費控除はいくら以上からできるのですか。申告した場合、いくらぐらい戻ってきますか。', '年末調整の方法は？', '固定資産税の証明書を申請する時には、何を持っていけばよいですか。', '郵送で固定資産税の証明書を申請することはできますか。', '納税証明書はどこで取ることができますか。', '納税証明書をとるためにはなにが必要ですか。', '横浜市子宮がん検診はどのように受けられますか。', '横浜市大腸がん検診はどのように受けられますか。', '障害者に対する運賃割引で、子供は子供料金のさらに半額ですか', '子どものための手当はありますか。（児童手当はどんな制度ですか。）', '介護保険制度における「負担限度額認定証」とは何ですか。', '「横浜いのちの電話」に電話をしましたが話し中でつながりません。', '心の悩みはどこに相談したらよいのですか。', '（港北区）近所にごみが放置されているので何とかしてほしいのですが。', '（港北区）イベントを開催するのでホームページ上で紹介して欲しいのですが？', '広報よこはま港北区版が届かないのですがどうしたら手に入りますか？', '港北区ホームページにリンクを張って欲しいのですが？', '郵送で納税証明書を取ることができますか。', '横浜市がん検診にはどんな種類がありますか。', '通勤・通学で市営バスを使う場合、定期券に種類があると聞いたのですが', '市営バスの短距離定期券とは', '市営バスの全線定期券とは', '市営バスの端数日付き定期券とは', '市営バスと他社バスとの共通定期券はありますか', '市営バスの定期券はいつから買えますか', '市営バスの環境定期券制度とは', '建物を新築・建替えした場合の住所について', '住居表示、町名地番整理の実施により住所が変わった証明を発行してほしいのですが', '住居表示、町名地番整理の実施により本籍が変わった証明を発行してほしいのですが', '横浜市内の各町ごとの面積について知りたい', '福祉保健活動拠点とは、どのような施設ですか。開館日や利用等についても知りたいのですが。', '火災や自然災害により、被災しましたが、見舞金は支給されますか。', '港北区の観光案内用マップはありますか？', '港北区役所に車で行きたいのですが、どのような道順で行けばよいですか。', '水害や崖崩れなどの危険な地域について、情報を教えてください。', '港北区の防災等パンフレットにはどのような種類がありますか？', '港北区の防災等パンフレットなどの配布場所は？', '横浜大空襲について教えてください。', '国民健康保険料の「年間納付額のお知らせ」はいつ頃とどくのか。', '自動販売機に併設する回収容器の大きさに決まりはありますか。', 'すべての自動販売機について設置届を提出する必要があるのですか。', '横浜市の成人式には車で会場に行けますか。また、駐車場はありますか。', '横浜市の成人式に保護者または子どもは同伴できますか。', '採用試験の受験案内はいつから入手できますか。', '路線価を調べたいのですが、どこで調べられますか。', '港南区民活動支援センターの開館時間、事業内容を教えて欲しい', '（港北区）法律相談を受けたいのですが、予約方法等を教えてください。', '港北区総合庁舎と港北区役所は同じ所にありますか？福祉保健センター、消防署は区役所の中にありますか？', '洗面所から下水の臭いがするのですが、原因は何でしょうか。', '横浜市内で発生した災害について、教えていただけますか。', '洪水ハザードマップはどこで入手できますか。', '地震マップ及び液状化マップはどこで入手できますか。', '確定申告はどのような場合提出する必要があるのですか。', '「住居表示お知らせ用はがき」とはどのようなものですか。不足する場合は、どこで追加分をもらえますか', '住居表示実施時に配布された町名板と住居番号表示板（青いアルミ板）はどうやって取りつければいいですか', '「住居表示変更証明書」は郵便で請求できますか', '住居表示実施の通知書が16歳未満の者に配られないのは、なぜですか', '住居表示実施時に送られてきた通知書を７枚以上ほしいのですが、どうすればよいでしょうか', '住居表示が実施された通知書の住所に、マンション名が入っていませんが、間違いではないのですか', '住居表示実施後の新住所を早く知ることはできないでしょうか', '住居表示実施に伴う住所変更の手続きは、いつからできるのですか', '介護保険の負担限度額認定証の交付を受けたが、サービスを受ける際に、認定証を提示するのを忘れてしまった', '保育所等の利用申請方法は？\\u3000利用の決定方法は？', '税務署や区役所は何時まで受付をしているのか。土日もやっているのですか。', '地域包括支援センターはどのような活動をしていますか。', '固定資産課税台帳の閲覧制度とは何ですか。', '利用した覚えがない「架空請求」がきた。どうしたらよいか。', '市営バスの定期券を紛失してしまいました。他人に払い戻しをされないか心配です。', '市営バスの定期券を払い戻したい', 'パスネットの払い戻しをしたい', '区内での引っ越し（転居届）※窓口で申請', '地域ケアプラザを利用したいのですが、申込み方法を教えてください。また、交通機関を教えてください。', '地域ケアプラザの所在地・電話番号・運営主体を知りたいのですが。', '地域ケアプラザとは、どのような施設ですか。開館日や利用料金等についても知りたいのですが。', '横浜市の保育所の種類や、保育時間などの保育内容は？', '（港北区）区役所の住所を教えてください。', '（港北区）区役所への交通手段（車、電車、バス）を教えてください', '確定申告はいつまでに提出するのですか。', '確定申告はどこに（どの税務署に）提出すればいいのですか。区役所でも受け付けているのですか。', '確定申告の用紙はいつ頃送られてくるのですか。', '確定申告の様式はどこでもらえますか。', 'ジュニアボランティアとは何ですか。', 'ジュニアボランティアに参加したいのですが。', '市営バス、市営地下鉄の一日乗車券にはどのような種類がありますか', '京急線内から市営地下鉄、市営バス、みなとみらい線を利用できるフリー切符とは', 'みなとぶらりチケット／みなとぶらりチケットワイドを払い戻したい', 'Ｙカード・マリンカードを払い戻したい', 'みなとぶらりチケットとは', '特別デザインの乗車券には、どのような種類がありますか', '定期券発売所は何時までやっていますか', '横浜市報を見たい。', '市報の掲載内容を発行前に知りたい。（特定の案件が次回の市報に掲載されるか、など）', '横浜市の条例及び規則の内容又は解釈を知りたい。', '（港北区）保育園の空き状況・待機者数について教えて下さい。（年齢ごとも）', '市営バスの運賃箱で、対応していない紙幣はありますか', '市営バスで、誤って一括投入口にカードを投入してしまいました', '市営バスで、誤って紙幣挿入口にカードを入れてしまいました', '市営バスで、複数の人数分を一括で支払うことは出来ますか', '市バスの深夜バスに乗りたいのですが、みなとぶらりチケットで乗る場合の運賃はいくらですか', '市バスの深夜バスに乗りたいのですが、身体障害者割引の定期券・1日乗車券で乗る時の運賃はいくらですか', '（港北区）まちの成り立ちと今後のまちづくりについて教えてください。', '港北区の高齢者の割合は？', '港北区の世帯数はいくつですか？', '港北区の人口は何人ですか？', '証明書用写真は、港北区役所の中で撮れますか。', 'キャッシュコーナー（ＡＴＭ）は、港北区役所の中にありますか。', 'コピー機は、港北区役所の中にありますか。', '港北区役所の駐車場は、どのように利用したらよいですか。', 'ハンディキャブについて知りたい。', '敬老パスの負担金は、いつ払うのか', '敬老パス負担金額によって、パスの色が違うのか', '昨年度の敬老パスの更新でいらないと申し出たが、今年は希望したい。案内は来るのか。', '敬老パスがいらなくなった場合、どこに返却すればいいのか。', '動物園の飼育係になりたいのですが。', '横浜市の動物園についておしえてください。', '動物園の入園料金はいくらですか？', '動物園には身体障害者補助犬を伴って入園することができますか？', '学校や幼稚園、保育園の遠足で動物園に行きたいのですが、料金は必要ですか。', '今、診てくれる病院・診療所を教えて下さい', '救急搬送された傷病者の搬送病院を教えてくれますか', '救急車はサイレンを鳴らさないで来られないのですか', '敬老パス発行に伴うシーサイドライン定期券の有効期間は', '郵便局へ敬老パスの受け取りに行く時には本人が行かなくても大丈夫ですか', '指定された期日までに申込まないと、敬老パスを受け取れないのか', '中途失聴・難聴者のための社会適応訓練について知りたい。', '繁殖センターは見学できるのですか。', '繁殖センターではどのような動物を飼育しているのですか。', '街路樹が茂ってきたので、枝葉を切って（せん定して）ください。', '図書館で調べたいことがあるのですが、どうしたらよいでしょうか。', '横浜にはどこにどんな種類の街路樹が、何本くらい植わっているのですか。', '横浜が日本の街路樹の発祥地だと聞きましたが、本当ですか。', '他の都道府県や市区町村で発行された敬老特別乗車証（敬老パス）で、市営バスに無料で乗れますか', '市営バスの路線マップ（図）がほしい', '「○○区○○町○○番地」が廃棄物埋立処分場跡地に該当するか教えてください。', '固定資産（土地・家屋）の所有者が亡くなった場合の固定資産税はどうなりますか。', '横浜市の姉妹都市・友好都市はどこですか。姉妹都市・友好都市の提携を行ったのはいつですか', '姉妹・友好都市等には友好委員会がありますか。', '区役所や福祉保健センターなど、横浜市の公共機関で手続きや相談をするときに通訳してくれる人はいますか。', '横浜市内にある国際機関を知りたい', '請願・陳情の締め切り日はいつか教えて下さい。', '請願と陳情の違いは何か教えて下さい。', '横浜スタジアムを使いたい', '公園を使いたい\\u3000公園の使い方について聞きたい', '公園のグラウンド・運動施設を使いたい（野球・サッカー・テニス）', '公園の場所を知りたい。', '公園に車で行きたいのですが、駐車場はありますか。', '敬老パスの負担金を支払うための納付書(又は引換券)の裏面の申請書に必要事項を記入しなかったのだが', '横浜市立野毛山動物園についておしえてください。', '万騎が原ちびっこ動物園についておしえてください。', '横浜市のホームページには、最近の監査結果しか載っていないが、以前のものを見たい。', '監査事務局の監査と他局（例：健康福祉局監査課）の監査のちがいを教えてください。', '横浜市防災計画は、どこで閲覧できますか。', '主任児童委員はどのような活動を行っているのですか。', '福祉の仕事がしたいのですが。', '障害者がタクシーに乗ったときの運賃を助成するような制度はあるか。', '障害者のホームヘルパーを派遣してほしいのですが。', '障害者がタクシーに乗った際、割引を受けられる制度はあるか。', '障害者がバスに乗る際、割引を受けられる制度はあるか。', '医療費控除の申請はどこでやるのですか。添付資料は、何が必要ですか。', '敬老パス発行に伴うシーサイドライン定期券の入手方法は', '横浜環状南線の事業者について教えてください。', '年の中途で引越しをした場合、市民税・県民税はどちらの市区町村に納めればいいのですか？', '災害の発生場所を知るにはどうすればよいですか', '古い灯油（ガソリン、軽油等）を処分したいのですが、どうしたらよいですか。', '横浜市立大学附属病院の住所、交通機関、駐車場などについて教えてください。', '公共下水道自費工事の申請をしたいが、窓口はどこですか。', '中途失明者のための社会適応訓練について知りたい。', '腎不全者のための料理教室について知りたい。', '横浜市高齢者向け優良賃貸住宅に入居したいが、申込資格はどのようなものがあるのか。', '都筑区内の桜の見所について\\u3000', '江川せせらぎ緑道について（都筑区）', '移動図書館を利用したいが、どうすればいいですか。', 'ディスポーザを設置したいがどうしたらいいですか。', '住宅用家屋証明書（新築・未使用のもの）はどこで発行していますか。', '狭あい道路の拡幅整備事業対象について、教えてほしい。', '分譲マンションの維持・管理問題に関する、横浜市の相談窓口はありますか。', '廃棄物交換システムについて教えてください。', '市内に事業所（工場、店舗、診療所、建設現場等）を設置し産業廃棄物を排出しますが、届出は必要ですか。', '市民病院への行き方を教えてください', '敬老パスの発行を郵送でできないか', '横浜市高齢者向け優良賃貸住宅ですぐに入居できる物件があるか。', '廃棄物埋立処分場跡地（と思われる場所）で建築工事を予定していますが、必要な手続を教えてください。', '野球やサッカーなどができるグラウンドがありますか？', 'Ｂ型・Ｃ型肝炎ウイルス検査を無料で受けられますか', '届出済証が古くなり、散乱防止責任者などの表示が読みとれなくなりましたが、どうすればいいですか。', 'カラーの文書を開示請求して、写しの交付を白黒コピーで受けたい場合、どうするのか', '文書の名前が分からず「開示請求に係る行政文書の名称又は内容」の欄にどう書けばいいのかわからない', '電子申請で開示請求を行う場合、請求先を一つ選択するようになっているが、複数の請求先を選べないのか', '開示請求をした後で、市から電話が来ることはありますか', '開示請求をしなくても見られる文書はないのですか', '自分の情報の請求をインターネットで行いたいのですが', '建設リサイクル法の届出窓口はどこですか。', '予防接種の予診票（接種券）を紛失してしまいました。再発行してもらえますか。', '請願の紹介議員は何人必要か教えて下さい。', 'どのようにして、請願の紹介議員になってもらえばよいのか教えて下さい。', '請願・陳情の署名簿に印鑑は必要ですか。', '請願・陳情の署名者は市外の人もなれますか', '請願・陳情はいつの委員会で審査されるか教えて下さい。', '定期監査（財政援助団体等監査）とは、どのような監査か教えてください。', '定期監査（財政援助団体等監査）等の進捗状況はどうなっているか。', '（自分のホームページから）横浜市ホームページにリンクを張りたいのですが、何か手続きが必要ですか。', '野鳥の雛を見つけたのですが。', '繁殖センターは何を行っているところですか。', '公園で花火をしたいのですが。', '橋の数を教えてください。', '火災で被害を受けたことを証明してくれますか。', '機械設備工事一般仕様書（下水道設備用）は、どこで販売していますか', '電気設備工事一般仕様書（下水道設備用）は、どこで販売していますか', '開示請求は料金がかかるのですか', '図書館で本を借りたいのですが、どうしたらいいですか。', '（港北区）区民活動支援センターではどのようなものを借りることができますか?', '「みどり区 ガイド・防災マップ」を入手したい。', '「広報よこはまみどり区版」にお知らせを掲載してほしい。', '緑区役所に行きたい。', '緑区で「特別相談」を受けたい。', '定期監査（財政援助団体等監査）に基づき各局等が行った改善（措置）を知りたい。', '定期監査（財政援助団体等監査）報告書を見たい。', '長寿のしおりは何に使うのですか？', '長寿のしおりをなくしてしまった（内容が古い）のですが、新しいのをもらえますか。', '敬老祝金の対象年齢のはずなのに、もらっていないが。', '今度70歳になるが、敬老パスはいつから使えるのか', '粗大ごみの手数料の減免について教えてほしい。', '粗大ごみの手数料はどこで支払うのか教えてほしい。（粗大ごみの収集シールはどこで購入するのか。）', '粗大ごみの手数料を教えてほしい。', 'パート収入と市民税・県民税の関係について教えてほしい。', '年金収入に対する市民税・県民税が非課税となる目安はいくらですか？', '原動機付自転車を購入した場合、手続はどのように行うのですか？', '高齢者を対象としたＩＴ講習会はありますか。', '６０歳以上でも国民年金に加入できますか。', '年金証書を紛失してしまいました。', 'よこはまの地価マップが欲しいのですが。', '市内の土地取引の状況はどのようになっていますか。', '用途地域を知りたい。', '建ぺい率・容積率を知りたい。', '公衆トイレが故障（便器や設備の破損、水が止まらないなど）している', '市営住宅の故障の時や修繕が必要になったらどこに連絡したらよいですか。', '外部監査人になりたい。', '訓練・介助器具助成事業について', '訓練・介助器具助成事業の申請手続きはどうしたらいいですか。', '在宅心身障害者手当について教えてください。', '近隣で行われている建設工事等の作業騒音や振動で困っています。改善の指導ができますか。', '横浜市立大学（市大）の図書館を市民が利用できますか。', '地下鉄の駅の駐輪場について聞きたい', '市電保存館の入場料はいくらですか', '市営地下鉄仲町台駅〜センター南駅間の高架下にある駐車場について聞きたい', '市営バスのシニアパスと敬老特別乗車証はどちらがお得ですか', '介護老人保健施設の入所対象者及びサービス内容・入所費用について', '介護保険サービスの利用料軽減（社会福祉法人による利用者負担軽減）', '横浜市立大学附属市民総合医療センター（市大センター病院）の入院患者さんの面会時間について教えてください。', '「福祉特別乗車券」を持っているが「敬老パス」の手続きは必要か', '「福祉タクシー利用券」と「敬老パス」は併用できるのか', '新たに事務所を開設したり、住所変更等をするのですが、どのように手続きをしたらいいのですか？', '横浜市の法人市民税の税率はいくらですか？', '木造住宅の耐震診断について教えて下さい。', '消防設備士の再講習を受けるには、どうしたらいいですか。', '消防設備士や危険物取扱者の資格試験を受けるには、どうしたらいいですか。', '消防訓練センターへの行き方を教えて下さい。', '消防団員になる方法を教えて下さい。', '消防音楽隊に演奏を依頼するにはどうしたらよいですか。', '議会だよりは、いつ発行されるのですか。', '議会だよりが配布されないのですが、手に入れる方法はありますか。', '自治会(町内会)に入っていないのですが、議会だよりを手に入れる方法はありますか。', '視覚障害者向けの議会だよりはありますか。どのようにして手に入れることができますか。', '議会だよりの内容について、聞きたいことがあるのですが。', '定例会の概要番組は、いつ、どのテレビ局で放送されるのですか。', '議員の所得を知りたいのですが、どうすればいいのでしょうか。', '所得等報告書（資産報告書等）は、写し（コピー）をとることができますか。', '最終処分場において、ごみの飛散や臭気、ダイオキシン等周辺環境への影響はないのですか。', '趣味で写真を撮っている者ですが、市内で写真を撮るのにお勧めの橋はありませんか。', '横浜環状南線について教えてください。', '圏央道について教えてください。', '横浜環状北線の事業地内における建築制限等を教えてください。', '横浜環状北線の事業者について教えてください。', '横浜北線について教えてください。', '前年中に収入がない場合の市民税・県民税の申告は？', '横浜市に住んでいる従業員の給与支払報告書はどこに提出すれば良いか。', '（１）音楽隊員（会計年度任用職員）は、いつ募集していますか。（２）どのような資格が必要ですか。', '神明台スポーツ施設ではどのようなスポーツができるのですか。', '地域で緑化をしたい。', '記念樹を植えたい。', '開発行為等に伴う公園及び緑化に関する協議が必要な場合。', '敬老パスの交付を受けたいのだがどうすればいいのか。', '敬老パスについて、今はいらないが、後でも申請はできるか。', '敬老パスの申請書を無くしたので、また送って欲しい。', '100歳になるが、お祝いしてもらえますか', '障害者のためのパソコン講習会について', '障害者の短期入所を利用したい。', '障害児福祉手当は、どのような手当ですか。', '特別障害者手当は、どのような手当ですか。', '駐車場整備地区の規制を教えてください。', '建物を建てるときの駐車場設置について、きまりはありますか？', '横浜港の情報システムについてのパンフレットが欲しい', 'こども植物園の催し物について教えてください。', '横浜市立大学大学院入試要項の取り寄せ方法', '青葉区福祉保健センターの情報紙はどこでもらえるか', '青葉区には障害者向けの外出支援の送迎サービスはあるか', '店舗の照明がまぶしいのだが、なにか対策を取ってもらう方法はないか。', '成年後見制度について知りたい。', 'ひとりでは日常のお金の管理や通帳などの保管が不安なので、どこか管理してもらえるところはないですか。', '福祉関係のボランティアを始めたいのですが、どこに相談すればよいでしょうか。', 'ボランティアをどのように始めたらいいか、講習を受けてみたい。', 'ボランティア活動の場はどのようなところがありますか。', 'ボランティアに対する助成金があると聞きましたがどのようなものですか。', '現金など福祉関係に役立つ寄付をしたい', '税金を払っているのに、なぜ共同募金で募金する必要があるのか。', '夜間に診察を行っている診療所・病院はありますか。', '手話通訳者・要約筆記者を派遣してほしい。', '手話奉仕員・通訳者養成講座について教えてください。', '障害のある人のための住環境整備について知りたい。', '聴覚障害者に関した施設はどこにあるのか。', '障害者やその家族がいろいろな相談にのってもらえる身近な人はいますか', '災害時におけるの聴覚障害者への情報提供は。', '木造住宅の耐震改修工事に関する補助制度について、教えて下さい。', '外国籍の人が民生委員になれないのは、なぜですか。', '介護保険事業所の指定を受けたいが手続きを知りたい', '特別児童扶養手当について教えてください。', '横浜港情報公開システムのマニュアルが欲しい', 'ＥＤＩ申請のマニュアルが欲しい', '横浜港のＥＤＩシステムについて教えて欲しい', '横浜港の岸壁の使用状況を知りたい', '横浜港の上屋・荷さばき地の利用状況（空き情報）を知りたい', '議会のしくみについて知りたいのですが。', '休日に診察を行っている診療所・病院はありますか。', '横浜市立病院において、小児科を受診したいのですが。', '医療機関での診療内容について疑問があるのですが、どうしたらよいですか。', '薬と食品または食品の飲みあわせについて知りたいのですが。', '擁壁を作る場合、手続きが必要ですか。', '災害時はどこで水がもらえますか', '戸塚区の土曜開庁日に、法律相談の予約をしたい', '雨水流出抑制施設の設置基準が記載されているものは市販していますか。', '雨水流出抑制施設はどのような場合に設置しなければならないのですか。', '自宅の近くに雨水流出抑制施設があるのですが、誰が管理しているのですか。', '私の所有地の地下に雨水調整池が設置されていますが、この雨水調整池を管理しなければならない根拠はなんですか。', '雨水調整池を市に寄付することができますか。', '本会議、常任・特別委員会、予・決算特別委員会の日程を教えてほしい。', '議員の所属委員会について聞きたい。', '議案の内容を教えてほしい。', '議案等が議決されるまでの議会の流れを教えてほしい。', '本会議では何が行われているのですか。', '市会運営委員会とは何をする委員会ですか。', '工場・事業所の騒音・振動で悩んでいます。何とかなりませんか。', '近所の事業所から悪臭がして困っています。', '点字図書が欲しいのですが', '敬老祝金について知りたい。', '横浜港に入港した船の過去の着岸実績を知りたい。', '上屋・荷さばき地の施設コードを知りたい。', '産業廃棄物を排出しますが、どのように処理すればよいのですか。', '子どもの予防接種の受け方について教えてください。', '飲食店から発生するにおいで困っています。', '米軍の航空機（飛行機、ヘリコプター）の騒音について何とかしてください。', '横浜市都市計画マスタープラン旭区プランについて知りたい', '市営地下鉄の駅の利用者数（乗降人員・乗降客数）を教えてください。', '建物を建てたいのですが、敷地についてどのような建築制限があるのか、教えてください。', '横浜港のＥＤＩ申請の利用申込み手続きを教えてください。', '横浜港情報公開システムのメンバーサイトを見る方法を教えてください。', '「浜なし」とは何ですか？', '消費生活相談を受けたい。訪問販売などで、うっかり契約してしまったが解約したい。', 'クーリング・オフの手続方法について聞きたい。', '予算・決算特別委員会の議事録を閲覧したい。', '不正防止内部通報制度について', '公益通報をしたい。', '隣りにマンションなどの中高層の建物が建築されます。日照（日影）や工事の関係での相談窓口はどこですか。', 'テレビの映りが悪くなったが、どこに問い合わせたらいいですか。', '隣接地でマンションの建設工事が始まる予定であり、工事の振動・騒音が心配だが、どうしたらいいですか。', '建築計画概要書はどこで閲覧できますか。', 'ハチの巣を駆除してほしい。', '産業廃棄物処理業の許可を取りたいのですが、どうしたらいいですか。', '本会議、委員会の記録はコピーできるのか。', '共同募金の戸別訪問で、なぜ目標額（目安額）を示されるのか。', '横浜市社会福祉センターはどのような施設ですか。', '子供の学費等の生活資金の貸付制度があると聞いたのですが、どのような制度ですか。', '民生委員は、どのように選ばれているのですか。', '民生委員には、報酬がでているのですか。', '民生委員の主な活動について教えてください。', '民生委員に証明をお願いしたいのですが、担当民生委員はどこに照会すればよいのですか。', '民生委員の身分について教えてください。', '民生委員には、たくさんの個人情報が入ってきますが、その取扱いについて教えてください。', '心身に障害のある方の税の控除・減免制度について', '産業廃棄物処理業者を紹介してほしいのですが、どうしたらいいですか。', '会派の連絡先を教えてほしい。', '本会議の会議録を閲覧したい。', '自宅での入浴が困難なのですが、入浴サービスを受けられますか', '扶養共済制度に加入したいのだが、概要を説明してほしい。', '補聴器が欲しいのですが', '納税猶予の特例適用の農地等該当証明書がほしい。', '建物の建築確認申請や土地の開発・宅地造成の手続の有無等の証明書はどこで発行していますか。', '開発や宅地造成の相談及び許可申請は、どこで行えますか。', '建築基準法上の道路とは何か、教えてほしい。', '横浜市と他の市町村との境や市外で敬老パスは利用できるのか', '敬老パスの納付書（引換券）をなくしてしまった', '雨水流出抑制施設の管理費について、市からの補助はないのですか。', '市民防災の日とは何ですか', '家庭防災員とは何ですか', '消火器の有効期限はありますか', '消火器はどのように廃棄すればよいか', '看護師・保健師・助産師・准看護師の免許申請について教えてほしい。', '子どもの予防接種を横浜市外で受けるには、どうしたらよいですか？', 'どのような場合に敬老パスの負担金が無料になるのか', '下水の無料点検チラシが業者から来ましたが、点検を受けなければいけないのですか。', 'くみ取り便所の水洗化工事をしたいが、工事資金の助成・貸付け制度はありますか。', '横浜港を使っているが、使用料金の明細を教えて欲しい。', '横浜港に入港・出港する船の予定、着岸位置、入港時刻などを知りたい', '農業や市民農園に関して聞きたい（青葉・旭・神奈川・港北・都筑・鶴見・保土ケ谷・緑の範囲内）', '飼っている動物を引き取ってほしい。', '動物についての質問があります。', '産業廃棄物処理業の変更届を出したいのですが、どうしたらいいですか。', 'ＰＣＢ（ポリ塩化ビフェニル）廃棄物を保管していますが、どのような手続きが必要でしょうか。', '敬老パスの制度の趣旨は', '敬老パスを紛失したが、どうしたらよいか', '敬老パスを拾ったが、どうしたらよいか', '引っ越しをするが（死亡したが）、敬老パスはどうしたらよいか', '今度70歳になるが、敬老パスはどうすればもらえるか', '敬老パスの対象者は', '敬老パスで利用できる交通機関は', '下水処理水はどの程度きれいになるのですか。また、どのようなものを分析しているのですか。', '家の敷地の中に水路敷がありますが、払下げを受けられますか。', '駐車場を経営するときに届出の必要はありますか。', '横浜市の統計に関する資料が欲しい', '議案がどの委員会に付託されたのか教えてください。', '常任委員会では何が行われているのですか。', '常任・特別・運営委員会の議事録を閲覧したい。', '請願・陳情の提出方法について教えて下さい。', '請願・陳情の記入方法（要件・様式）について教えてください。', '請願・陳情を提出した後、どの様に処理されるか教えて下さい。', '公園をつくる際に子供たちの意見を聞いてくれると聞いたのですが。', '公園で犬を放していいのですか。', '公園にごみ箱がないのですが', '遊具が壊れているので、修理してほしいのですが。', '公園の照明が暗いので、明るくしてほしいのですが。', '公園にトイレを設置してほしいのですが', '公園に時計を設置してほしいのですが。', '横浜市に公園はどれくらいあるのですか。', '特定の公園について、要望や問い合わせをしたいのですが。', '柴シーサイドファームとはどのような施設ですか、また、行き方を教えて下さい。', '寺家ふるさと村にはどう行けばよいのですか、また、どのような施設と体験ができますか。', '舞岡ふるさと村へはどう行けば良いのですか、また、どのような施設と体験ができますか。', 'ハートフルフレンド家庭訪問事業への申し込み方法を教えてください。', '不登校の子どもたちが通える施設はありますか。', '街づくり協議とは、どういうものですか？', '街づくり協議の手続・内容について、教えてください。', 'ＣＤ・ＤＶＤの出し方', '灯油を入れていたポリ容器の出し方', '自宅前に不法投棄物がありすぐ処理してほしい', '道路上や集積場所に不法投棄物があるがどうすればよいか', '市営駐車場の営業について', 'かつて住民であったが、現在住民でなければ、住民監査請求はできないのか。', '財務会計行為以外の一般的な行政の非違（違法又は不適当な点）について住民監査請求できないのか.', '住民監査請求を行えば、請求対象となった財務会計上の事務は是正されるのか。', '住民監査請求したが棄却されてしまった。このことに不満だがどうしたらよいのか。', '住民監査請求の監査結果を見たい。', '再認定通知書がきましたが､どのようにするのか手続を教えてください。', '身体障害者手帳を持っていますが、引越すときの手続を教えてください。', 'ものを燃やす時に排出される大気汚染物質の種類、規制・指導等について知りたい', '道路の名称を教えてほしい。', '私道を公道として認定してほしい。', '道路を払い下げしてほしい。', '合流式下水道のメリット・デメリットは？', '分流式下水道のメリット・デメリットは？', '分流式下水道と合流式下水道の違いは？', '私有地（駐車場・私的管理地など）に不法投棄物があるが市で回収してほしい', 'さわやか清掃・地域清掃をしたのでごみを持っていってほしい。', '行政監査の指摘により各局が行った改善内容（措置）を見たい。', '住民監査請求とはどのような制度か。', '市営バスはどんな環境対策をとっていますか', 'アイドリングストップは、どういうときにするのですか', 'アイドリングストップには、効果があるのですか', '横浜市立大学附属市民総合医療センター（市大センター病院）の住所、交通機関、駐車場などについて教えてください。', '店舗や事務所等から出るごみは、どう処理したらいいですか。', '工場搬入(自己搬入)の手続きは、どうしたらいいですか。', '家電リサイクル券の使用方法について', '外でものを燃やしている人がいて困っています。また、焼却炉でごみは燃やせるのですか。', '市営バスを貸切ることはできますか', '下水道事業受益者負担金制度はありますか？', '（青葉区）法律相談（弁護士相談）を受けたい', '青葉区民芸能祭に参加したい。', 'トイレを水洗化したいが、トラブルがあり下水道に接続できないので、市で仲介してください', '母子健康手帳（母子手帳)は、どこでいただけますか。', '乳幼児健康診査（健診)について教えてください', '小児医療費助成の対象者ですが、住所変更をしますが手続きについて教えて下さい。', '重度障害者医療費助成の対象者ですが、住所を変更をします。手続きについて教えて下さい。', '出産育児一時金直接支払制度とは？', '毎月届いている広報よこはま青葉区版が届かない', '用途境の線を入れてほしい', '高齢者の自宅へ食事を届けるサービスはないか。', '市営地下鉄の定期券をJRや私鉄と1枚にできますか', '通学定期券を購入するときは何が必要ですか', '（青葉区）法律相談（弁護士相談）を予約したがキャンセルしたい', '青葉区役所の税務相談を受けたい', '公衆トイレの非常ベルが鳴っている', '浄化槽の清掃をしたいのですが教えてください。', '発泡スチロールの処分の仕方', '「小さな金属類」の範囲', '傘の出し方', '引っ越してきたがごみは「いつ」、「どこへ」出したらよいか', '都市計画道路について知りたい。', '都市計画証明（用途地域等に関する証明）がほしい。', '横浜教育支援センターのハートフルスペース・ハートフルルームにはどんな手続きで入室できるのですか。', '道路の陥没・穴の補修などについてはどこへ連絡すればいいですか。', '身体障害者がけがや急病等で緊急を要する場合の通報システムは。', 'ガイドヘルパーをするには、資格はいるのですか。', '障害のある人が働く店について教えてください。', '障害者が利用しやすいスポーツ施設や文化施設はありますか。', '「建物が建築できる道路」（建築基準法第４２条に規定される道路）であるかどうかを調べたい。', '道路と自己所有地との境界を教えて下さい。', '横浜市の公道の幅員を教えて下さい。', '横浜湘南道路の事業者について教えてください。', '外部監査制度とはなんですか。', '外部監査報告書を見たい。', '外部監査の指摘により各局が行った改善内容（措置）を見たい。', '療育手帳（愛の手帳）の再判定が通知された場合の手続を教えてください。', '療育手帳（愛の手帳）を持っていますが、引越すときの手続を教えてください。', '療育手帳（愛の手帳）を紛失・破損した場合は、どうしたら良いですか。', '身体障害者手帳を取得するには､どうしたら良いですか', '区内の道路工事（修繕等）の順位はあるのか。', '自宅前の道（私道）の路面状態が非常に悪い。いつ頃直せるのか、どこに問い合わせればいいですか。', '土木事務所ではどのような仕事をしていますか。', '道路が市道かどうか確認したい。', '住民監査請求はどのようにするのか。', '住民票がないと住民監査請求できないのか。', '家電リサイクル法の対象品は何ですか。', '横浜市がん検診は年に何回受けられますか。', '免許申請（または進学、就職活動）のために健康診断書（医師の証明書）がほしいのですが。', '漏水の有無の確認を依頼する場合に時間は指定できるのですか', '許可業者に対する苦情についてはどうすればよいですか。', '外部監査をして欲しい。', '青葉区役所で司法書士相談、民事調停手続相談、公証相談、交通事故相談、行政書士相談、行政相談を受けたい', '青葉区民会議について知りたい', '青葉区役所に要望・提案をしたい', '青葉区ホームページへのリンクをはりたい', '障害の程度に変化があった場合の手続を教えてください。', '市営バスの時刻表を調べたいのですが、どうしたらいいのですか？', '車いすを使用してるのですが、対応バス車両は、どのくらいありますか', '横浜市の幼稚園について教えてください。', '広報よこはま青葉区版にお知らせを掲載してほしい', '広報よこはま青葉区版○月号に載っていた記事について問い合わせたい', '広報よこはま青葉区版の配送部数を変更したい', '広報よこはま青葉区版の配布謝金について聞きたい。（いつ振り込まれるか、金額がおかしい、振込先の変更等）', '一般廃棄物の収集運搬業の新規許可について教えてください。', '会社を退職した場合は、国民年金に加入しなければならないのですか。', '都市計画法第５３条に基づく建築許可（都市計画施設区域内）について知りたい。', '都市計画事業地内の建築許可について知りたい。', '首都圏整備法に関する証明がほしい。(既成市街地の内か外の証明が欲しい。）', '青葉区のコミュニティFM放送 FMサルース（横浜コミュニティ放送）について', 'イッツコム（旧東急ケーブルテレビ）について', '市営バスと市営地下鉄の定期券を一緒に購入できますか', '駅員によって、接客マナーに差がありすぎます', '民間の有料老人ホームについて知りたい', 'ベイブリッジライトアップは、何時からですか。', 'ある局に事務事業を直すよう求めたが、らちがあかないので監査して欲しい。', '市営バスにベビーカーを開いたまま乗車できますか', '開発行為等に関する排水についての事前相談をしたいのですが。', '宅地内における雨水浸透ますの設置についてお聞きしたいのですが。', '生活保護について知りたいのですが', '２０歳になったら国民年金に加入しなければなりませんか。', 'グリーンライン（市営地下鉄４号線）の中山（日吉）から先の延伸の話は、どうなったのですか', 'ＮＨＫ放送受信料の免除', '障害者に対する運賃割引には、どのようなものがあるのですか', '定期券購入時、発売所までの運賃は無料になりますか？解約の場合は解約日の帰りの運賃は無料になりますか', '受注している横浜市発注工事について相談をしたいのですが。', '国民健康保険料の特別徴収とはどのようなものですか。', 'どこで濱ともカードはもらえるのか', '濱ともカードをもらうには何が必要か', '濱ともカードをもらえる条件は？何歳からつかえるのか', '濱ともカードは代理での交付は可能か', '濱ともカードは本人のみの利用が有効か', '濱ともカードの裏面に氏名等を必ず記載しなくてはいけないか', ' 濱ともカードはどういうものなのか', '濱ともカードが送付されてきたがこれは一体何か', '濱ともカードをなくしたがどうすればいいか（再発行はどうすればいいか）', '濱ともカードで利用できるサービスはどういうものか', '濱ともカードはどこが協賛店になっているのか', '濱ともカードのパンフレットはいつから配布しているか', 'マンションなどの中高層建築物を建築するに当たって、どのような手続きが必要ですか。', 'はまっこカードの登録者情報（住所、連絡先など）の変更手続き方法', '小規模事業所が排出する事業系ごみを、市が回収する制度はないのか', '「はまっこカード」の期限が切れています。どうすれば良いですか。', '【精神通院医療】診断書を医療機関で書いてもらうのに、意見書料はかかるのか？', '耐震改修工事を行った住宅の固定資産税の減額について教えてください。', '青少年育成センターとはどのような施設でしょうか', '野島青少年研修センターについて（青少年育成活動等で宿泊研修ができる場所はありますか）', 'はまぎん こども宇宙科学館（横浜こども科学館）とはどのような施設ですか', 'バス停を清掃してください。バス停の位置を変えてください。バス停の正式名称を確認したいのですが。', '「主たる介護者である家族」とは同居している場合をさすのでしょうか？', '住んでいる場所の広域避難場所（又は地域防災拠点）を知りたい。（南区）', '高齢者への虐待等に気付いたらどうしたよいか。', '65歳以上で介護保険の認定を受けていないのですが、介護予防や健康づくりのために、何か受けられるサービスはありますか。', '行政サービスコーナーで固定資産課税台帳登録事項証明書を申請することはできますか。', '市営地下鉄の定期券運賃を調べるには、どうしたらよいですか', 'パスモでＳｕｉｃａ電子マネー対応店舗を利用することはできますか？また、その逆は？', 'オートチャージ対応のパスモが自宅に郵送されました。すぐに使えますか？', '磁気乗車券・磁気定期券とパスモまたはＳｕｉｃａを持っている場合の注意点は？', 'パスモとスイカの２枚のＩＣカードを同じ定期入れ等に入れても大丈夫ですか？', 'パスモを買物で利用して残額に１０円未満の端数があります。払い戻しをするときの計算はどうなりますか。', '使わなくなったパスモ（定期あり）を払戻ししたい場合の手数料と計算方法は？', '法人市民税の「課税」、「申告書・納付書の送付」に関する問い合わせ先はどこですか。', '法人市民税の「申告書」、「法人等設立・開設・異動の届出」の提出先はどこですか。', '福祉特別乗車券（福祉パス）は通勤でも使えるのか。', '外国人は福祉特別乗車券（福祉パス）をもらえるか。', '資源循環局栄事務所で行っているセンターリサイクルについて', '栄区に設置している資源回収ボックスについて', '雨水流出抑制施設を設置しなければならない場所はどこですか。', '【精神通院医療】自立支援医療診断書（精神通院医療用）の診断書は誰が書くのか？', '【精神通院医療】 自立支援医療の申請をしたいのですが。', '【精神通院医療】診断書料を市で援助してもらえないか？', '【精神通院医療】自立支援医療の更新手続きを予定していますが、自分は診断書が必要でしょうか。', '市営地下鉄車内での携帯電話の取扱いについて教えてください。', '建築物や工作物について、景観法や景観条例上の制限について教えてほしい。', '生活が非常に苦しいが、敬老パスの負担金は無料または減免にならないのか。', '敬老パスの負担金とは', '緑に関する助成はありますか？', '住民票の広域交付について', '住基カードの紛失（見つからない場合、なくした場合）について', 'イーオはどんなマスコットなのか', '本人が来庁し電子証明書を新規発行する場合は', '法定代理人が来庁し電子証明書の新規発行をする場合は', '任意代理人が来庁し電子証明書を新規発行する場合は', '以前横浜に住んでいて、現在は引っ越し等で横浜に住民登録していません。横浜市の成人式に参加できますか。', 'いつごろ入場券が届きますか。（対象者には個別に連絡がありますか）／入場券が欲しいのですが。', '個人住民税の住宅ローン控除の適用を受けるためには、区役所への申告が必要ですか。', '（本人による届出の場合）住基カードの暗証番号がわからなくなってしまった場合はどうしたらいいのか', 'マイナンバーカードに記録されている電子証明書の暗証番号を変更する場合や再設定する場合の手続き（本人による申請の場合）', 'マイナンバーカードに記録されている電子証明書の暗証番号を変更する場合や再設定する場合の手続き（法定代理人による申請の場合）', 'マイナンバーカードに格納されている電子証明書の暗証番号を変更する場合や再設定する場合の手続き（任意代理人による申請の場合）', '本人が来庁し電子証明書を更新する場合は', '電子証明書に使用できるカードリーダライタについて', '難病患者のための医療費の助成制度はありませんか。', '法定代理人が来庁し電子証明書を更新する場合は', '任意代理人が来庁し電子証明書を更新する場合は', '住基カードを持っていますが、氏名や住所が変わった場合はどうすればいいですか？', '「広報よこはま」が届かない', 'ペットの火葬をお願いしたいのですが、どうしたらいいですか。', '住宅用家屋証明（新築以外のもの、既存住宅証明）はどこで発行していますか。', 'つるみ生活・防災マップがほしい（鶴見区）', '鶴見区役所で法律相談を受けたいのですが', '横浜市内のＮＰＯ法人の情報を知りたいのですが', '横浜市内のＮＰＯ法人の活動に参加したいのですが', '青少年（15?39歳）のひきこもり相談支援', 'こころの病気でお悩みの方へ(青葉区)', '横浜市動物愛護センターについて', '介護保険の負担限度額認定証の更新手続きは、どのようにするのか。', '不動産を担保にして生活費を貸し付ける制度（リバースモーゲージ）とは、どのような制度ですか。', '採用試験の受験案内とパンフレットの入手方法について', '受験に際して、居住地、出身校、職歴、就職活動状況（併願状況）などによる有利・不利はありますか。', '過去に出題された採用試験の問題の入手方法はありますか。', '障害等がある場合、受験時に何かしらの配慮をしてもらうことは可能ですか。', '会計年度任用職員の募集について', '横浜市中央職業訓練校の入校方法について教えてください。', '住民票コードについて', '【精神通院医療】家族には内緒にしているので、案内の通知を自宅に送らないでほしい。', '後期高齢者医療制度に関する支給決定通知書（ハガキ）をなくしてしまいました。再発行できますか。', '市営地下鉄の遅延証明書はどこでもらえますか', '市営地下鉄の車内、駅に広告を出したい', '市営地下鉄の、各駅の電話番号を教えてください', '市営地下鉄駅の施設について教えてください', '障害者総合支援法はどんな法律か。', '６５歳未満でも介護保険のサービスを利用できる場合がありますか。', '年金受給者現況届に記入する住民票コードがわからなければ区役所で聞くよう言われたので教えてほしい', '後期高齢者医療制度の被保険者が年度途中で死亡した場合、保険料はどうなるのか。', '後期高齢者医療保険料を口座振替で支払えますか', '【精神通院医療】非課税世帯で収入８０万円以下の場合、収入のわかるものとはどのようなものか？', '【精神通院医療】年間収入金額のわかるものは、どのような場合に必要か？', '【精神通院医療】他の市町村から課税証明書を取り寄せるのにはどうしたらいいか？', '【精神通院医療】 課税証明書や非課税証明書が必要な場合はどんな場合か？', '精神障害者生活支援センターについて知りたい。', '特定都市河川浸水被害対策法の許可申請等について、どこに相談したらよいですか。', 'お金を払い乗車して発車を待っていましたが、発車前にバスから降りることにした場合の運賃はどうなりますか', '市営バスの車内・車体に広告を出したい', '１日乗車券の払戻しはできるのか。', 'IC定期券の定期券のみを払い戻すことはできますか？', 'パスモのオートチャージ機能とはなんですか。', 'パスモ定期券のみを購入したいのですが、最低でも１０００円のカードを買わなければならないのですか？', 'パスモ・Suicaへのチャージ（入金）可能金額は？', '南区の第２・第４土曜日開庁で窓口業務を行うのは何課になりますか。', '濱ともカードの使える協賛店一覧のパンフレットはどこで配っているか', 'パスモには、どのような種類があるのですか。', 'パスモのネーミングの由来はなんですか。', 'パスモとはなんですか。', '\\u3000【精神通院医療】 誰の保険証（写し）が必要か？', '産前産後ヘルパーを利用したいが、どこに申し込んだらいいか', 'アイドリングストップすべき時をどのように定め、その他環境対策としてどのようなことを心がけていますか', '市営バス定期券、敬老特別乗車証、1日乗車券を持っているとき、深夜バスに乗る際いくら払えばよいですか', '市営バスの営業所の電話番号を教えてください', '春休み等に実施の地下鉄小児110円運賃をパスモ・Ｓｕｉｃａで払えますか', '身体・知的障害者が運賃割引証を提示し市バス乗車時、パスモ・スイカで払えますか。介護人はどうですか', '児童福祉施設等利用者が運賃割引証を提示し市バス乗車時、パスモ・スイカで払えますか。付添人はどうですか', 'パスモ（ＩＣカード）残額が220円以下になった場合、市営バスを利用するにはどうしたらよいのですか？', '市営バスでは回数券を発売していますか。', '市営地下鉄の身障者等割引定期券をパスモで利用しています。定期区間外を乗車時に運賃割引になりますか', '23価肺炎球菌ワクチンの助成は、誰が受けられますか？', 'パスモ・スイカへのチャージ（入金）はどこでできますか？', 'パスモのデポジット（預かり金）とは何ですか？', 'パスモの発売金額は？またデポジット（預かり金）は必要ですか？', '横浜市の成人式について、回や会場の変更は可能ですか。', '小児用PASMOを利用する場合、「子供」であることを申告する必要がありますか。', 'パスモが使えない（読み取れない）場合、記名パスモ・パスモ定期券を紛失した場合は、どうしたらいいですか。', '市営地下鉄を使って子供が塾へ通っています。パスモ定期券を作ることはできますか？', '使わなくなったパスモ（定期なし）の払い戻し額は？', '自宅に「高圧洗浄による排水管洗浄を格安にて実施する」というチラシが届きました。市と関係ありますか。', '隣地のビル解体工事現場から砂ぼこり（粉じん）が風に乗って自宅に入ってくる。注意して欲しい。', '井戸（業務用、家庭用）を掘りたいのですが、手続きについて教えてほしい。', '区内又は市内他区への引越しのとき、印鑑登録の住所変更の手続きをする必要はあるのか。', '自治会町内会館を建設（増築・改修・修繕）したいのですが、どのような補助制度がありますか。', '後期高齢者医療制度の被保険者である家族が亡くなったのですが、どのような手続きが必要ですか。', '23価肺炎球菌ワクチンの対象者ですが、助成を受けるには申請が必要ですか？', '肺炎球菌ワクチンの助成クーポンをなくしてしまいました。再び発行してもらえますか。', '横浜市域における土壌汚染対策法に基づき指定された区域は、どこですか。', '後期高齢者医療制度の保険証をなくしたので、再交付の手続きをしたいのですが。', '７５歳になるとき、後期高齢者医療制度の被保険者になるための手続きは必要ですか？', '肺炎球菌ワクチンの対象者ですが、かかりつけの病院が市外にあります。担当医に相談し、そちらの病院でワクチン接種を受けようと思いますが、クーポン券を利用して接種を受けられますか。', '７５歳になるとき、後期高齢者医療制度の被保険者証は、いつ、どうやって交付されますか？', '発達障害の人は障害者総合支援法を使えるのか。', '【障害者総合支援法】負担額に上限が設けられるとあるが、上限額はいくらなのか。', '【精神通院医療】「重度かつ継続」の多数該当とは、どのような場合に該当するか？', '【精神通院医療】自分の病気が「重度かつ継続」該当するかどうかわからないが？', '固定資産税（土地・家屋）の証明書はどこで発行していますか。', '電子申請・届出サービスに関することを教えて欲しい。', '特別徴収にかかる各種届出（異動届、給与支払報告書など）は、窓口に直接提出しなければならないか。', '退職した従業員の給与支払報告書は提出する必要があるか。', '介護保険の負担限度額認定の更新のお知らせが来たが、自分は軽減対象なのか。', '更新分の負担限度額認定証はいつ届くのか', '介護保険負担限度額認定証が送られてきたが、今までよりも負担が高くなっているのはなぜか。', '（瀬谷区）海軍道路の桜を見たいが、行き方は？', '市営バスに乗っているときに地震があったら、どのように行動すればよいですか', '市営バスに乗るとき、大きな荷物や危険物の持ち込みについて制限はありますか', '市営バスで、誤って料金投入口に外国硬貨などの異種硬貨を入れてしまうと、どうなりますか', '市営バス車内の遺失物取扱いについての基本的な流れは、どのようになっていますか', '住居表示実施された住所と本籍の表示を同じにするにはどうすればよいでしょうか', '上の子が幼稚園に通っている場合、保育所等を利用している下の子の利用料は安くなりますか。', '【保育所入所】いつから口座引き落としになりますか。', '【保育所入所】保育料の引落日に口座残高が不足していて引き落としができなかったのですが。', '【保育所入所】引き落とし口座を変更したいのですが。', '（緑区）パソコンについて教えてくれるところはありませんか。', '市営バス車内での落とし物について、拾得者への対応はどのようにしますか', '市営バス車内での落とし物について、落とし主への対応はどのようにしますか', '路線バスを貸し切りたい', '敬老パス発行に伴うシーサイドライン定期券の交付対象者は', '住居表示に伴って本籍の表し方は変更されますか', 'バス特とは何ですか。', '観光スポット周遊バス「あかいくつ」をパスモ・スイカで利用できますか。', '市営バスの１日乗車券はICカード化しないのですか。', '市営バスの定期券はICカード化しないのですか。', '春休み等に実施の市バス小児50円の運賃をパスモ・スイカで払えますか。', '市バス環境定期券制度は、現金の代わりにパスモ・スイカのＳＦで払えますか', '屋外プールの利用期間と時間を教えてください', '福祉保健研修交流センターウィリング横浜はどのような施設ですか。', '身体障害者補助犬（盲導犬・介助犬・聴導犬）を使いたいがどうすればいいのか。', '都市計画マスタープラン西区プラン「西区まちづくり方針」について知りたい', '路線マップ入りカレンダーはなくなったのですか', '「はまりんくらぶ」に入りたいのですが', '会社に新たに入社した従業員を特別徴収にしたいがどのように手続きすればよいか。', '地域に住む外国人と日本人が交流したり、外国人のための活動を行っているところはありますか。', '下水が詰まったが、どうすればいいですか。', 'エイズの即日検査を受けたいのですが。', '磯子区役所の土曜開庁の実施時間と取扱業務は何ですか。', '都筑区民まつりについて知りたい。', '（都筑区）ゆずりあい情報板の使い方を教えてください。', '現在持っている磁気定期券をパスモ定期券に変更できますか？その場合、手数料は必要ですか？', '横浜市の成人式は記念品がありますか。', '引越しをするが、福祉特別乗車券（福祉パス）をどうしたらよいか。', '受診券を紛失してしまった。', '特定健診ではどのような検査が行われるのですか', '地震が発生した場合の横浜市内では、どのくらいの被害と想定しているのか。', '横浜市に「ふるさと納税」したいのですが、どうすればいいでしょうか。', '病院から「後期高齢者医療制度の減額認定証をとってくるように」と言われました。申請は、どのようにすればよいですか。', '後期高齢者医療制度の高額介護合算療養費は、どのような制度ですか。申請に必要なものは何ですか。', '仮ナンバーの問合せ先の、各区役所総務課庶務係の連絡先は', '家電リサイクル品の出し方を教えてください。', '提出した給与支払報告書（個人別明細書）の内容を間違えたので、変更（訂正）したいのですが。', '駅などで購入した通常のパスモをオートチャージができるパスモに変更できますか？', '市営地下鉄でパスモでのりこし精算をする場合はどうすればよいのですか？', '市営地下鉄・市営バスのパスモの使い方は？', 'センター南駅から都筑区役所まではどう行けばいいですか', '横浜美術館で濱ともカードで無料になるのは何ですか。', '「横浜しごと支援センター」について教えてください。', '行政サービスコーナーでの税金関係証明発行について', 'モバイルＳｕｉｃａは市営地下鉄・市営バスで利用できますか？', '夫婦で特別養護老人ホームの二人部屋に入れるのか。その場合部屋代はどうなるのか。', 'デイサービスやデイケアの食費が高くなるので、弁当を持参したいが、構わないか。', '過去の高額介護サービス費の支給は受けられますか。', '猫の不妊去勢手術費用の補助について教えてください', '仮ナンバーを借りるには、どんな書類が必要ですか', '戸籍届の受理証明書はどこの窓口でとることができますか。', '市営バスにペットを乗せてもかまいませんか', '健診を受診するためにはどのようにしたらよいか', '特定健診の対象とならないのは、どのような人か', '南区役所へ意見・提案を伝えたい。', '市営バスや市営地下鉄に乗る時、他県で発行された身体障害者手帳でも半額になりますか', '障害者の介護者（介添者・付添人）が割引適用になる人数に制限はありますか。', '福祉特別乗車券（福祉パス）を見せるだけで、介護人も割引になりますか', '成人式の入場券を紛失した場合、再発行はできますか。', '市営バスの定期券や乗車券は、他社のバス路線でも使用できるのか。', '市営バスのシニアパスとは', '市営バスの乗車料はいくらですか', 'よこはまシニアボランティアポイント事業とはどのようなものですか。', '独身証明書（結婚情報サービス・結婚相談業者に提出する証明）はどこでとれますか。', '近所の飲食店のカラオケの騒音で困っています。改善の指導ができますか。', '特定健診の対象者を教えてください', '市民情報センター（市役所３階）にチラシを置きたい。', '後期高齢者医療制度の高額療養費はどのような制度ですか。申請に必要なものは何ですか。', '福祉特別乗車券（福祉パス）を拾ったが、どうしたらよいか。', '福祉特別乗車券（福祉パス）を紛失したが、どうしたらよいか。', '区民生活マップがほしい（南区）', '法律相談について教えてほしい（南区）', '「広報みなみ」「広報よこはま」「県のたより」が届かないのですが、どうしたら届きますか。（南区）', '地下鉄定期券の払い戻し手続き、払い戻し金額を教えてください', '民間救急車(患者等搬送車）を利用したいのですが、会社を教えてください。', '特別養護老人ホームの従来型とユニット型とはなにか。', '後期高齢者医療制度では、葬祭費の申請はどうすればいいですか。', '福祉特別乗車券（福祉パス）で利用できる交通機関は', '福祉特別乗車券（福祉パス）の制度について教えてほしい。', '家の天井裏にアライグマやハクビシンが住み着いているが、どうしたら良いか？', '【障害者総合支援法】障害支援区分認定審査会とは何ですか。', '【障害者総合支援法】障害支援区分の認定はどのように行うのですか。', '【障害者総合支援法】障害支援区分認定審査会の委員はどのような人がなるのですか。', '市営地下鉄・市営バスでのパスモ発売場所・払い戻し場所はどこですか？', '宅地内の下水道管の埋設状況はわかりますか。 ', '【精神通院医療】「世帯の特例」がよくわからない。', '【精神通院医療】いつ（何年度）の市民税額で上限額が設定されるか？', '現在特別養護老人ホームに入所していますが、転居は可能ですか。', '横浜市民でなくても横浜市内の特別養護老人ホームに申込できますか', '複数の特別養護老人ホームへ申し込みできますか。', '公拡法に基づく届出・申出用紙はどこでもらえますか', '所持している「はまっこカード」が使えるか調べたい', 'ＮＡＣＣＳの利用申込について知りたい。', '印鑑登録証明書を発行してもらいたいのですが', '令和３年１月の横浜市の成人式はどのように開催されますか。', 'すでに設置届を提出している自動販売機を撤去し、新しい機械と交換する場合、届は必要ですか。', '市バスの深夜バスは、福祉特別乗車券（福祉パス）で乗れますか', '深夜バスは、敬老特別乗車証（敬老パス）で乗れますか', '深夜バスに乗る時の障害者割引運賃は、いくらですか', '市営バス車内で買える乗車券はどんなものがありますか', '市営バスの乗務員は、おつりを持っていますか', '（瀬谷区）海軍道路の概要について', '（瀬谷区）長屋門公園の行き方は？', '身体障害者手帳の交付を受けています\\u3000地下鉄に乗るときの切符の購入は、どのようにしたらよいですか', '福祉パス（無料）での乗車は、交通局にとって損ですか', '市営バスの停留所間の距離証明がほしいです。', '「都市計画道路網の見直しの素案」で、変更や追加となった路線は、いつ内容が示されるのですか。', '公示価格を知りたいのですが。', '負担限度額認定非該当通知が届いたが、これは何か。', '市営バスで、料金を払いすぎました', '（港北区）自分の住んでいる地域の避難場所はどこですか？', '市営地下鉄で家族割引はありますか', 'こどもが市営地下鉄に110円で乗れるのはいつですか', '市営地下鉄のお得な回数券はありますか。', '駅コンとはどのようなイベントですか', '4広報よこはま南区版が（いつも届いているのに）今月号がとどかない。', '法律相談の予約をキャンセルしたい。（南区）', '南区専門相談（法律相談・司法書士・税務相談以外）', 'パスモとスイカとの違いはなんですか。', '市営バスでは、パスモ・スイカのオートチャージはできますか？', '保土ケ谷区の土曜開庁日に開庁するのは何課ですか？', '（瀬谷区）無料で法律相談を受けられると聞いたんですが？', '採用試験の申込方法を教えてください。', '採用試験の受験票はどのように交付されるのでしょうか。', '市営バスの停留所の車いすマークの意味は何ですか', '市営バスの小児運賃は、どのようになっていますか', '市営バスの深夜バスとは何ですか\\u3000運賃は一般の市営バスと比べどうなりますか', 'こどもが市営バスに50円で乗れるのはいつですか', '保土ケ谷区の土曜開庁の業務取扱場所はどこですか。', '保土ケ谷区の土曜開庁はいつ実施しているのですか。', '中区家庭支援課の休日開庁時の取扱業務', '期限切れの定期券や不正使用の定期券で市営地下鉄に乗るとどうなるのですか', '横浜市のあゆみについて知りたい。（開港、市・区の誕生、その他）', '「横浜市史」について知りたい。', '建築確認申請に伴う消防用設備等の相談窓口（担当部所）は、どこですか？', '市営バスのノンステップバスとは', '車いすを使用していますが、市営バスに乗車するには、介助人（付き添い）が必要ですか', '車いすを使用していますが、バスに乗れますか', '車いす使用者が複数人で、市営バスを利用することはできますか', '市営バスで、車いすを車内に固定するのはなぜですか', '市営バスでは、車いす利用者は、どの停留所からでも乗車できますか', '事故などで市営地下鉄が運転を見合わせたときの対応は', '振替輸送の範囲は決まっているのですか', '振替輸送とは', '振替輸送を利用する際に、他の鉄道会社の改札ではどのようにすればいいのですか', '給与支払報告書とは、どのような書類ですか？', '市民税課税世帯の場合、介護保険施設に入所したときの負担軽減制度はないのか。', '瀬谷区のマスコットキャラクターについて', '（瀬谷区）区民活動を始めたいと思いますが、どこに行けば相談ができますか。', 'JR東日本のＩＣカード「Ｓｕｉｃａ」や、全国の交通系ＩＣカードは、市営地下鉄でも使えますか？', '市営地下鉄の端数日付き定期券とは', '市営バスで、車いす使用者は、バス停のどのあたりで待っていればよいですか', '保育所等の入所状況や空き状況を確認したいのですが。', '市営バスの運賃箱で、使用できない硬貨はありますか', '鶴見区の都市計画マスタープランについて知りたい', '鶴見区運営方針について知りたい', '都筑区区政運営方針について知りたい。', 'はまりんグッズがほしい', '「都市計画道路網の見直し」については、これまでどのような取り組みをしてきたのですか。', '港北区休日開庁の課ごとの取り扱い業務（戸籍課）', '市営地下鉄ブルーラインのあざみ野から新百合ヶ丘までの延伸について教えてください', '市営地下鉄の女性専用車両には、小学生以下の男の子は乗れないのですか', '市営地下鉄の回数乗車券を払い戻したい', '市営地下鉄と他鉄道との連絡定期券はありますか', '市営地下鉄の定期券はいつから買えますか', '市営地下鉄の定期券を紛失してしまいました。どうしたらいいですか？', '法律相談について教えて欲しい（中区）', '防火管理者とは何ですか。', '市営バスに身体障害者補助犬（盲導犬、介助犬、聴導犬）は乗車できますか', '不通区間に並行する鉄道がありません。バス路線ならあるのですが。', '区役所の第２・第４土曜日開庁について', '【精神通院医療】「重度かつ継続」とは？', '電子入札の問い合わせ先はどこですか？', '介護保険の負担限度額認定証を受け取ったが、その後に世帯の所得状況や世帯構成等が変わってしまった。', '介護保険の負担限度額認定を申請するにあたって、何を用意すればいいのか。', '関内ホールの利用申込みについて知りたい', '住居表示実施地区の案内図が欲しいのですが', '住居表示実施の一か月前に横浜市から配られる資料の内訳を教えてください', '優先整備路線とは何ですか。', '１\\u3000市長・副市長と会うにはどうすればいいですか。\\u3000２\\u3000市長・副市長と電話で話すにはどうしたらいいですか。', '市長の住所を教えてください。', '戸塚区総合庁舎における遺失物ついて', '戸塚区総合庁舎で拾得物を発見した場合はどのようにすればよいか。', '閉庁時間に子どもを緊急一時的に預けたい場合', '遠方に住んでいるのですが、市民情報センターで配布しているパンフレット等を郵送してもらえますか', '「〇〇区□□町△丁目」の土地区画整理確定図（換地図）は市民情報センターにありますか', '航空写真についての問合せなのですが', '横浜市のパートナー都市はどこですか。パートナー都市の提携を行ったのはいつですか。', '市民情報センターにおいて公表している積算内訳（公表設計書）は、紙ではなくCD-Rなのですが、どのように閲覧したら良いのでしょうか。', '「よこはま中区の歴史を碑もとく絵地図」(よこはまなかくのれきしをひもとくえちず）とはどんな地図ですか？', '公証人相談について教えて欲しい（中区）', '行政書士相談について教えて欲しい（中区）', '○○区○○町○○番地の通学区域（学区）の小学校・中学校を教えてほしい。', '新しく開所を予定している特別養護老人ホームに申込みたい', '小型家電は、どのような製品をどこで出すことができるのですか。', '小型家電回収ボックスにより回収した小型家電は、どのように処理するのですか。', '小型家電を回収ボックスに出す際に、携帯電話等に含まれる個人情報の扱いが不安です。どのような対策をしているのですか。', '小型家電回収ボックスに入らないものを、小型家電として集めないのは何故ですか。', '不用品回収業者が小型家電を集めていますが、出しても良いですか。', '港南区総合庁舎の来庁者駐車場について', '野球などのスポーツができる団体に入りたい。', '代理人が住民票コードの確認する方法はありますか', '災害情報を広く知らせるための防災無線（防災スピーカー）を整備してください。', 'バスがアイドリングストップしないのですが', '地震の後、津波警報が発令された場合、市営バスはどのような対処をするのですか', '市営バス乗務員のアルコールチェックは行っていますか', '市営バス車内でスマートフォンなどを使用してもかまいませんか', '雪が予報されているなら、予めチェーンを装着したら良いのではないですか', '市営バスにドライブレコーダは装備されていますか', '市営バス車内で交通系ＩＣカードにチャージできますか', '帽子に銀帯がある市営バス乗務員は何か違うのですか', '移動に困難を抱える障害者等が、相談をする窓口はありますか。', 'ユニバーサルデザイン（ＵＤ）タクシーとは、なんですか。', '横浜市民意識調査に回答したくありません。回答している時間がありません。', '横浜市民意識調査に協力することで個人情報が漏れないか心配です', 'なぜ自分が横浜市民意識調査の対象となったのですか？', '横浜市民意識調査には、宛名の本人以外の人が答えてもよいですか（本人が調査期間中に不在、高齢や障害等で回答困難等）', '横浜市民意識調査の記入の仕方などについての質問したい', '横浜市民意識調査に協力した場合、粗品などをもらえますか？', '横浜市民意識調査とは何ですか。どのようなことを聞かれますか。', '横浜市民意識調査の結果の報告はどのように行うのか', '教科書を購入したいのですが。', '常任・特別・運営委員会の資料を閲覧したい。', '戸塚区地産地消PR・直売コーナーとは、どんなところですか。', '９月30日期限の敬老パスを持っているが、10月１日以降のパスをもらうにはどうしたらいいか？', '現在敬老パスを持っていないが、次の10月から使える敬老パスを受け取りたい。どのように申し込めばいいか教えてほしい。', '「マイボトルスポット」とはなんですか。', '「マイボトルスポット」の場所はどこで確認できるのか。', '駅構内にポスターを掲出したい', '市営地下鉄の正式名称はなんですか', '市営地下鉄でＰＡＳＭＯに市営バスの定期を購入できますか？', '一体型PASMOを持っていますが、市営地下鉄で定期券を購入することができますか', '市営地下鉄に、見送りなどで入場したい場合にはどうすればいいですか', '明日、利用する地下鉄の切符を本日のうちに購入したい。', '市営地下鉄ののりこし精算について教えてほしい。', '市営地下鉄の運賃が、現在の運賃になったのはいつからですか。', '市営地下鉄・市営バスでは、「1歳未満の小児」であるかどうかを、どのように判断するのですか。', '市営地下鉄の団体乗車券（団体割引）はどのように購入するのですか。', 'フリースクールへ通うのに、市営交通の通学定期券は利用出来るのか。', '年度末に購入できる市営交通の通学定期券を教えてほしい。', 'パスモの利用履歴・残額は確認できますか。', '市営地下鉄の１円単位運賃またはＩＣ運賃とはなんですか', '地下鉄では、どのような場合に１円単位運賃に、どのような場合に10円単位運賃になりますか。', '国民健康保険の限度額適用認定証が欲しい', '持っている納付書では、ペイジーで納付することができませんでした。', 'インターネットバンキングで納付する方法はありますか。', '起業・創業や経営に関する相談ができる場所を教えてほしい。', '行政指導の中止等の求め、又は処分等の求めをしたいと考えているが、どこに申し出ればよいのか。', '行政指導の中止の求め、又は処分等の求めをしたいと考えているが、申出書はどこで入手すればよいのか。', '平成27年の横浜市行政手続条例改正について知りたい', '「生活困窮者自立支援制度」はどういう人が対象になりますか？', '公園でバーベキューをしたいのですが。', '「介護保険料年間納付済額のお知らせ」というはがきが届いたがこれは何ですか', '介護保険料を納めた証明をもらうことはできますか', '「横浜市電話納付案内センター」というところから介護保険料の納付の案内の電話があったがどういうとこでしょうか。', '介護保険料の督促状というものが届いたがどういうものですか。', '介護保険料の延滞金の納付書が届いたがどういうものですか。', '介護保険料はコンビニエンスストアでも納付できますか。', '介護保険料の納付書を紛失してしまったので、新しい納付書を送ってもらいたいのですが。', '確定申告に必要なため、1年間に支払った介護保険料の額を知りたいのですが。', '介護保険料の納付期限を過ぎてしまったのですが、期限を過ぎてしまった納付書でも銀行等で支払えますか。', '納付書で払っている介護保険料を口座振替にしたいのですが。', '介護保険サービスを利用するに当たり給付制限（支払方法の変更・給付額減額）の措置を受けたがどういうものでしょうか', '戦没者等の遺族に対する特別弔慰金とはどんな制度ですか？', '第１１回戦没者等の遺族に対する特別弔慰金はどういう人が対象になりますか？', '地盤の状況について、軟弱地盤かどうか知りたい', '（港北区）司法書士相談では、何が相談できるのですか。', 'ハマウィング（横浜市風力発電所）の見学はできますか。', '市営地下鉄の歴史（開業日）、シンボルマーク・路線名の由来を教えてほしい。', '市営地下鉄で領収書は発行してもらえますか。', '小学校に入学前（6歳）のこどものきっぷは必要ですか。', '西区役所駐車場について', '南区総合庁舎の移転について', '介護保険の負担限度額認定にあたって、預貯金などの資産はどういったものが対象になるのか。', '急な病気やけがで、医療機関へ行くか救急車を呼ぶか迷っています。', '市営バス・地下鉄連絡定期券の購入に条件はありますか', '中区役所の駐車場について', '中区役所の自転車駐輪場について', 'エキッズを利用したい', '審査請求（不服申立て）をしたいと考えているが、どこに申し出ればよいのか。', '横浜市コールセンターの業務時間外に自動音声で提供される「緊急なお知らせ」では、どのような情報が提供されるのか。', '横浜市コールセンターの業務時間外に自動音声で提供される「緊急なお知らせ」では、気象の警報や注意報を聞くことはできるのか。', '介護保険の負担限度額認定について、預貯金などの資産の額が基準を超えていたため非該当となっていたが、その後、預貯金などの額が変動したことにより基準を下回ることとなった。もう一度申請をすれば該当になるのか。', '介護保険の負担限度額認定について、配偶者が市民税が課税されていたため非該当と判定されていたが、その後、配偶者に税更正があり市民税が非課税になった。もう一度申請をすれば負担限度額認定証は交付されるのか。', '介護保険負担割合証が送付され、利用者負担が２割（または３割）になっている。どういう人が２割（または３割）負担になるのか。', '介護保険の負担割合の判定にあたって、非課税年金（遺族年金、障害年金等）も収入の対象になるのか。', '新規で要介護認定申請をするにあたって、認定結果前に暫定利用をしたいと考えているが、負担割合証の交付を受けることは可能か。', '介護保険負担割合証の有効期限が７月末で切れるが、更新の手続きは必要か。', '介護保険負担割合証で、負担割合が２割（または３割）の人は、１割の人の２倍（または３倍）の額を払うことになるのか。', '負担割合証を提示しないで介護保険サービスを利用した場合はどうなるのか。', '負担限度額の判定にあたって、非課税年金（遺族年金、障害年金等）も収入の対象になるのか。', '港北区のキャラクター「ミズキー」について教えて下さい。', '旭区役所の駐車場及び駐輪場について', '粗大ごみが収集されずに残っている。（粗大ごみが回収されていない。）', '金沢区役所の駐車場について', '固定資産税の納期限はいつですか？', '道路台帳図はどこで閲覧できますか。', '道水路等境界調査図を閲覧したい。', '認知症対応型共同生活介護事業所（認知症高齢者グループホーム）、小規模多機能型居宅介護事業所、看護小規模多機能型居宅介護事業所を新設（建設）したいが手続きを知りたい', '認知症対応型共同生活介護事業所（認知症高齢者グループホーム）、小規模多機能型居宅介護事業所、看護小規模多機能型居宅介護事業所に消防用設備（スプリンクラー設備、自動火災報知設備、消防機関へ通報する火災報知設備）を設置するにあたり補助制度はありませんか。', '認知症対応型共同生活介護事業所（認知症高齢者グループホーム）、小規模多機能型居宅介護事業所、看護小規模多機能型居宅介護事業所を「地名（〇〇町等）」に新設（建設）したいが、現在その地域の募集は行われているのですか。', 'バリアフリー改修工事を行った住宅の固定資産税の減額について教えてください。', '省エネ改修工事を行った住宅の固定資産税の減額について教えてください', '「戸塚行政情報誌とつかナビ」という冊子が欲しい。冊子について聞きたい。', '水陸両用バス「スカイダック横浜」の運行に関するお問合せについて', '家庭用電気式生ごみ処理機購入助成制度・生ごみコンポスト容器購入助成制度について', 'コンビニ交付とはどういったサービスなのか', '介護保険料では減免されるが、敬老パスでは土地の譲渡・住宅の買い替えなどによる減免制度はないのか', '敬老パスで「ぶらり観光SAN路線」は利用出来るのか', 'コンビニ交付サービスにおいて、戸籍証明書及び戸籍の附票の写しは取得できるのか', 'コンビニ交付利用の際の暗証番号を間違えたらどうなるのか', '横浜市内の土地で、「造成宅地防災区域」の指定はありますか？', '民泊サービスの提供を始めたいが、どうしたらいいですか。', '市営バスで遅延証明書はいただけますか', '横浜市における被爆者援護事業について教えてもらいたい。', 'マイナンバーとは、どのようなものですか？', '敬老パスで未就学児を連れてバス乗車した場合、小児運賃は不要か', '横浜市で高齢者や障害者等を対象にボランティアの移動サービスを始めたいのですが、どのような手続きが必要ですか。', '横浜市で福祉タクシー（介護タクシー）事業を始めたいのですが、どのような手続きが必要ですか。', 'コンビニ交付の証明書を取れるコンビニはどこか。', 'コンビニ交付で取得できる証明書はどんなものがあるのか。', '住民基本台帳カードや印鑑登録証でコンビニ交付を利用できますか？', 'コンビニ交付はコンビニでどうやって証明を取得するのか。', 'マイナンバーカードを受け取った後はすぐにコンビニ交付の利用はできるのか。', 'マイナンバーカードを持っていけば、区役所でも印鑑登録証明書が取得できるのか。', '不在籍証明書はどこの窓口で取れますか。', '不在住証明書はどこの窓口で取れますか。', '通知カードとは何ですか', '通知カードを受け取っていません。どうすればいいですか。', '引っ越しするときは、通知カードはどうしたらよいですか。', '（紛失・焼失・盗難等により）通知カードを再交付（再発行）したいのですが、どうすればよいですか', 'マイナンバーカードとは何ですか', 'マイナンバーカードの新規申請方法を教えてください。', 'マイナンバーカードの暗証番号はそれぞれ何に使用するのですか。また、どのように設定すればよいのですか。', 'マイナンバーカードはどのように受け取ればよいですか。', 'マイナンバーカードの受取に必要なものは何ですか。', '住基カードに電子証明書を発行できますか。', '住民登録や戸籍の届出に、マイナンバー（個人番号）通知カード・マイナンバーカードは必要ですか。', '電子証明書申請の持ち物のうち、官公署発行の顔写真付きの本人確認書類とは具体的にどういったものがありますか？', 'オープン型宅配ロッカー“ＰＵＤＯ（プドー）ステーション”を利用したい', 'モバイルスイカでバス特は使えますか', 'モバイルスイカでバス定期券は使えますか。', '港北区ガイドマップ（区民生活マップ）が欲しい', '三溪園の濱ともカードの特典変更について', 'マイナンバーカードを紛失してしまいました。', 'マイナンバーカードの紛失等届出後に、なくしたカードが見つかりました。', 'マイナンバーカードの再交付はできますか。', '住所や氏名に変更があった場合、マイナンバーカードはどうしたらいいですか。', '海外から横浜市に転入した場合、マイナンバーカードはどうしたらいいですか。', '横浜市から海外に転出する場合、通知カード・マイナンバーカードはどうしたらよいですか。', 'ヘルプマークはどこで配っているのですか？', 'ヘルプマークはどのような人に配っているのですか？', 'ヘルプマークをもらう基準はありますか？', 'ヘルプマークをもらうのに申請などが必要ですか？', 'ヘルプマークをもらうのに障害者手帳は必要ですか？', 'ヘルプマークを本人の代わりに受け取ることは可能ですか？', 'ヘルプマークを身につけた方がいたら、どうすればいいですか？', 'ヘルプマークを配り始めたのはいつからですか？', '東京都、神奈川県以外でのヘルプマークの取組はありますか？', '横浜港北JCTから横浜北線に乗り降りできるのでしょうか？', '横浜北線の利用料金はいくらでしょうか？', 'コンビニで戸籍証明書が取得したいのだが、マルチコピー機の表示が「神奈川県」という表示以降進まない。', '旧川合玉堂別邸（二松庵）庭園はいつ開園していますか', '成人式の入場券を紛失した、または成人式当日に持参するのを忘れた場合、入場できますか。', '横浜市の成人式で筆記通訳を利用したいのですが。', '横浜市以外の成人式に参加したいのですが。', 'ハマエコカードを持っていますが、氏名や住所など登録内容を変更する方法を教えてください。', 'ハマエコカードの解約方法を教えてください。', 'ハマエコカードを紛失した（盗難された）ときはどうすればいいですか。', '市営バスを利用した際の領収書はもらえますか。', '戸籍や住民票の証明書が無料（手数料減免）になりますか', '本牧市民プールの営業休止について', 'マイナンバー制度における情報連携とは何ですか。', '行政地図情報提供システムに関することを教えて欲しい。', '通知カードに同封されているマイナンバーカード申請用の封筒はいつまで使えますか。', '市営バスに関する電話での営業やあっせんは行っていますか？', '栄区役所、栄区内の市立保育園、栄土木事務所でのアルバイト募集情報を知りたい。', 'ふるさと納税制度を利用した場合に、控除される寄附金額の上限額を教えてください。', 'クレジットカード一体型のパスモやビュースイカでバス定期券をどこで買えますか', '鉄道の振替輸送で市営バスを利用できますか。', '横浜市の成人式に車いすで参加したいのですが。', 'パスポートの申請用紙は区役所に置いてありますか', '（港北区）司法書士相談の予約方法等について教えてください', '特別徴収への切替依頼書の記載方法がわからないが。', '提出した給与支払報告書に間違いがあったがどうすればよいか。', '市営バスIC定期券内容控について', '自動車の騒音・振動で困っています。何とかなりませんか。', '平成30年度までに発行された一部屋内プールの利用券、回数券の扱いについて', '介護保険料の額の通知が届いたが、１年分をまとめて支払うことはできますか。', '治療用装具（補装具）を購入しました。後期高齢者医療制度で、払い戻しを受けるにはどうすればいいですか。', '住宅宿泊事業（民泊）の届出について', '長期間使用していないPASMOは使えなくなるのですか？', '横浜市の施設に落書きされているのですが、どこに連絡すればよいのですか。', '防犯カメラが設置されているのか知りたいのですが、どこに確認すればよいのですか。', 'はまりんフェスタとはどんなイベントですか', '市営交通お客様利用状況調査とは何ですか。どのようなことを聞かれますか。', '全期分の納付書で年税額を一括で納めようとしたら、納期限を１日過ぎてしまい納付できませんでした。', '住民票などで使用する証明書専用用紙（地紋紙）について', '横浜市民で、本籍地は市外にあるが、コンビニ交付サービスで、住民票、戸籍証明書がとれるか', '令和２年分の後期高齢者の医療費通知（医療費のお知らせ）は医療費控除の申告に使えますか。また、いつ発送されますか。', '「市営バス・地下鉄連絡定期券」のＩＣカードが、他の交通系ＩＣカード全国相互利用の交通事業者で利用できなかったのですが、どうすればよいですか。', '地下鉄駅構内にチラシやパンフレットを置きたい。', '長津田駅行政サービスコーナーの閉所後は、どのように証明を取得できるのか', '鶴見区役所で司法書士相談を受けたいのですが…', '産前産後期間の保険料免除とは何ですか。', '年金生活者支援給付金制度（令和元年10月から制度開始）', '今年のはまりんフェスタ（横浜市営交通お客様感謝祭）はいつ開催しますか', '「横浜市無電柱化推進計画」はどこでみられますか？', 'あおば美術公募展について知りたい', '横浜市の動画ポータルサイトについて知りたい', '横浜市にはエンディングノートはありますか？', 'こども虐待について通告（相談）をしたい。', '赤レンガ倉庫に関する問合せ先を知りたい。', '収入証紙の販売が終了したそうですが、手数料はどのようにして支払うのでしょうか。また、購入済みの収入証紙は使用できるのでしょうか。', '第１１回の特別弔慰金の受付期間はいつですか？', '収入証紙の払い戻しはできますか。', '連絡定期券の払戻はどこでできますか', '市外の介護保険施設に入所することになった場合は、どのような手続きが必要ですか。', 'コンビニ交付の戸籍証明書及び戸籍の附票の写しは、なぜ、平日の９時から17時までしか利用できないのか', '電柱にカラスの巣があるので、撤去してほしい。', '「横浜農場」とは何ですか？', '「横浜農場」はどこにあるのですか？', '新横浜駅での工事について', '採用試験を受験したいのですが、自分がどの試験に申し込めばいいのか分かりません。', '採用試験に郵送で申し込みたいのですが。', '申込みのため、横浜市電子申請・届出サービス上で入力作業をしていますが、「エントリーシート」の中学校の学部欄が空欄のままだと次に進めません。', '採用試験の申込後に「申込書」及び「エントリーシート」に誤りが見つかったのですが、申込みの修正はできますか。', '採用試験の申込後に試験区分の変更はできますか。', '西区役所で法律相談を受けたいのですが', '介護保険被保険者証等の介護保険関係の各種証明書はどのように郵送されますか？', 'マイナポータルを利用するにはどうすればよいでしょうか。', '住まいがなかなか見つからず困っているがどこに相談したらよいか。', '横浜市交通局オリジナルWi-Fi「Yokohama Transportation Free Wi-Fi」を利用したい', '【精神通院医療】自立支援医療の制度について知りたい。', '【精神通院医療】自立支援医療証が届くまでの間、３割負担した医療費の払い戻しをしたい。', '【精神通院医療】精神障害者保健福祉手帳と自立支援医療の申請を同時にしたいのですが、必要なものはなんでしょうか。', '精神障害者保健福祉手帳は、どこで申請するのか', '精神障害者保健福祉手帳が交付されたが、等級に納得がいかない', '精神障害者保健福祉手帳の交付を申請中だが、いつ頃交付されるのか', 'ハマの自転車保険は市役所または区役所で申し込めますか。', '人生記念樹の受取について、駐車場はありますか？', '人生記念樹を申し込みたい', '里山ガーデンはいつでも入れますか。', 'フロン類が入っている機器を廃棄したい', '公的年金加入状況調査とはどのようなものでしょうか', '住民票に旧姓（旧氏（きゅううじ））を初めて記載する場合', '住民票に記載されている旧姓（旧氏（きゅううじ））を変更する場合', '住民票に記載されている旧姓（旧氏（きゅううじ））を削除する場合', '住民票に記載されていた旧姓（旧氏（きゅううじ））を削除したが、再度、旧姓（旧氏）を記載する場合', '住民票に旧氏が併記するとマイナンバーカードや印鑑登録証明書に旧氏が併記されるのか', 'マイナンバーカード・電子証明書の更新に関する通知が届きました。', '「住居確保給付金」は、どこへ相談したらよいでしょうか', '消除された戸籍の附票（戸籍の附票の除票）の写しは、何年前までのものの交付を受けることができますか。', '平成20年７月19日に改製された戸籍の附票の改製原戸籍の附票の写しを請求することができますか。', '介護保険の住所地特例とは何ですか', '戸籍の附票の写しにより住所経過を証明したいのですが。', '電子証明書の有効期限はいつまでなのか', '電子証明書の更新手続はいつからいつまでの間に行うのか', '電子証明書の更新手続は必ず行わなくてはいけないのか', '電子証明書の更新手続には何が必要か', '電子証明書の更新期限が経過してしまったが、経過後も更新できるのか', '電子証明書の更新期限に達していないが、更新手続はできるのか', '電子証明書とは何か\\u3000\\u3000\\u3000\\u3000\\u3000\\u3000\\u3000\\u3000\\u3000\\u3000\\u3000\\u3000\\u3000\\u3000\\u3000\\u3000\\u3000\\u3000\\u3000\\u3000\\u3000\\u3000\\u3000\\u3000\\u3000\\u3000\\u3000\\u3000\\u3000', '利用者証明用電子証明書とは何かどのような時に使用するのか', '住所や氏名が変更になった場合でも、引き続き電子証明書を利用できるか', '電子証明書の更新手続はどこの区役所でもできるか', '電子証明書の更新手続は行政サービスコーナーでもできるか', '電子証明書が必要なくなったときはどうすればよいか', '署名用電子証明書とは何か。どのような時に使用するのか', 'マイナンバーカードの有効期限はいつまでか', 'マイナンバーカードを受け取る際に手数料は必要になるのか', 'マイナンバーカードを申請したが、申請の取り消しはできるか', 'マイナンバーカードの申請を取り消した場合、再度申請することはできるか', 'マイナンバーカードの交付通知書に記載されている来庁期限を過ぎてしまっているがカードは受け取れるか', 'マイナンバーカードの交付通知書を紛失してしまったが、どうすればよいか', '通知カードを紛失してしまった場合でもマイナンバーカードを受け取れるか', 'マイナンバーカードの申請中に引っ越しをしてしまった場合、どうしたらよいですか', '既に電子証明書の更新手続をしたのに通知が届いたがどうすればいいか', 'マイナンバーカード更新手続はどのようにすればよいか', '本人がマイナンバーカード更新の受取に際しては何が必要か', 'マイナンバーカードの更新について、有効期限を過ぎてしまった手続はできるのか', '今回マイナンバーカードの電子証明書の更新をしたら、次はいつまで有効なのか', '自分の子（未成年）の電子証明書の更新手続についても、本人が行かなければならないのか', '更新の手続の際にマイナンバーカードの暗証番号が必要とあるが、忘れてしまった。更新の際に再設定の手続が一緒にできるのか', '電子証明書の更新期限に関して、有効期限通知書が区役所から２通届いたが、どちらの書面で手続を行えばよいのか', '電子証明書の更新の手続の際に必要な持ち物は何か（本人による申請の場合）', '農振農用地（農用地区域）に指定されているかどうか知りたい', '災害にあった場合、軽自動車税はどうなりますか。', '相続税に関する相談をしたい。', '「よこはまウォーキングポイント」とは何ですか。', '横浜市からもらった歩数計が壊れてしまった／失くしてしまった。新しく購入したいのですが。', '第１１回戦没者等の遺族に対する特別弔慰金の申請書類はどこでもらえますか？', '第１１回戦没者等の遺族に対する特別弔慰金の申請受付窓口はどこですか？', '第１１回戦没者等の遺族に対する特別弔慰金の申請に必要な書類はなんですか？', 'し尿処理についてどうすればいいのか。', '「シーサイドライン定期券」引換券の葉書が届かない', '有効期間が過ぎたシーサイドライン定期券は、破棄してよいのか', 'シーサイドライン定期券の引き換えハガキの発送日はいつか', 'シーサイドライン定期券の引換開始日はいつか', 'シーサイドライン定期券の引き換え受付時間は', 'シーサイドライン定期券引換時の持ち物は', 'シーサイドライン定期券の引き換えハガキをなくしてしまった', 'シーサイドライン定期券の再交付の方法（通年）', '長津田駅行政サービスコーナーは、なぜ廃止したのか', 'シーサイドライン定期券の引き換え場所・受付日（令和2年9月一斉更新時）', '市税をキャッシュレス決済で納税できますか。', '国民健康保険の新型コロナウィルス感染症に伴う傷病手当金とはどのような制度ですか？また申請はどのようにすればいいですか？', '特別弔慰金の請求はできますか？', '第10回特別弔慰金の国債をすべて償還しました。この後、手続きが必要ですか？', 'バス車内の混雑度の表示はどんな違いがある？', 'マイナンバーカードを申請してから受け取りまでどれくらい時間がかかりますか。', '引越ししてから１４日過ぎても転入届を届出できますか。', 'マイナンバーの通知カードの廃止後に住所等の記載事項変更手続きを行えるか？', 'マイナンバーの通知カード廃止後に再発行の手続きは行えるか？', 'マイナンバーの通知カード廃止後は通知カードをマイナンバーの証明として使用できなくなるのか？', '下水道の排水区画割計画平面図（亀の子、流域図）の閲覧および取得はどこでできますか。', '令和３年度人生記念樹配布（前期）について申込内容（樹種等）を変更したいがどうしたらいいか？', '新型コロナウイルス感染症の影響から、人生記念樹の受取に不安を感じているがどうしたらいいか？', '横浜市でマイナポイント手続き支援を実施している場所はどこですか。', '里山ガーデンの大花壇はいつ見られますか。', '里山ガーデンに駐車場はありますか。', '地域中核病院等に関する相談がしたいのですが、どこに問い合わせたらよいですか。', '自立支援医療(精神通院医療)は、どこで申請するか', '病院や診療所に関する苦情や相談をしたいのですが、どこに問い合わせたらよいですか。', '（仮称）舞岡墓園には、どのような形態の墓地が、どれくらいの数できるのでしょうか', '（仮称）舞岡墓園の完成時期はいつでしょうか。', '（仮称）舞岡墓園について、完成予定時期が遅れたのはなぜでしょうか。', '（仮称）舞岡墓園の、募集方法や募集時期は決まっていますか。いつわかりますか。', '（仮称）舞岡墓園の現地の様子を見たいが可能でしょうか。', '市営墓地メモリアルグリーンの申し込みをしたいが可能でしょうか？', '日野こもれび納骨堂自動搬送式納骨施設とはどのような施設ですか。', '日野こもれび納骨堂自動搬送式納骨施設には、骨壺をいくつ収めることができますか。', '日野こもれび納骨堂自動搬送式納骨施設では、遺骨はどのような状態で納められるのか。遺骨以外の遺品は入れられるのか。', '日野こもれび納骨堂自動搬送式納骨施設の使用期間終了後、遺骨はどうなるのか。', '日野こもれび納骨堂の合葬式納骨施設とはどのような施設ですか。', '日野こもれび納骨堂の施設の見学はできますか。', '日野こもれび納骨堂への行き方を教えてほしい。', '日野こもれび納骨堂合葬式納骨施設の使用期間（60年間）満了後、遺骨はどうなるのか。', '日野こもれび納骨堂には、駐車場はありますか。', '日野こもれび納骨堂の駐車場から車いすで参拝できますか。', '横浜市の熱中症対策について聞きたい', '熱中症対策で「気温・湿度が高いときは特に注意しましょう」とあるが、具体的な数字を示してほしい', 'ＷＢＧＴ（暑さ指数）はどこで調べられるのか。', '外を歩いている時に、マスクを外してはいけないのか', '国の基準では２ｍ以上離れている場合はマスクを外して熱中症を防ぐことになっているが、２ｍは現実的ではない。暑い日は人と距離を取れない場合もマスクを外してはいけないのか。', '熱中症が疑われる症状がある人がいるが、どうすればいいか。', '栄プールの営業について', '放課後キッズクラブの開設日・開設時間・費用を教えてください', 'コウモリの被害について', 'ラクシスフロントの商業施設について教えてください', 'マイナポイントの申込時に入力する「決済サービスID」と「セキュリティコード」について知りたいです。', 'クレジットカードやプリペイドカードなど、自分の持っているキャッシュレス手段がマイナポイントの対象かどうかを知りたい。', '新型コロナウイルス感染症にかかる慰労金支給事業の問い合わせ先について', '仕事の関係上どうしても当日朝8時までにごみを出すことができません。いつ出せば良いのでしょうか。', 'マイナポイントがいつもらえるのかを知りたい。（付与のタイミングや受け取り方、有効期限、付与状況等）', '市庁舎のアトリウムの利用方法について', '市民ラウンジの利用方法(市役所に展望台はありますか)', '市庁舎内に公衆無線LANが使用できる場所はありますか', '市役所駐車場・駐輪場の案内', '小学校の社会見学で議場・市役所を訪れたい', '市役所の外観写真が欲しい', '市役所の見学会は行うのか', 'シーサイドライン定期券の交付について、簡易書留による郵送対応をしてもらえないのか', '成年年齢が18歳に引き下げられるが、横浜市の成人式はどうなりますか。', '市営墓地の申込には条件があるのか。', '市営墓地の申込書を配布している場所を教えてほしい', '市営墓地の申し込みはどのようにすればよいか。インターネットで申し込みはできるのか。', '個別支援学級（特別支援学級）を利用したい', '通級指導教室を利用したい', '小中学校の「特別支援教室」を利用したい', '特別支援学校を利用したい', '特別な支援を必要としている児童生徒の学習や生活の支援をしたい', '新市庁舎の見学ができるのか', '市役所に展望ラウンジはあるのか', '市役所アトリウムでのイベント情報について教えてください。', 'マイナンバーカードを健康保険証として利用するにはどうしたらよいですか', 'マイナンバーカードを保険証として利用したいのですが', '経路・時刻表検索サイトの音声読み上げ機能対応しているか', '産業貿易センターにあるパスポートセンターで申請できる対象者の範囲は？', '産業貿易センターにあるパスポートセンターの受付時間は？', '申請から交付までに要する日数はどのくらいか？', '横浜市民は、県のパスポートセンター（川崎支所など）を利用できるか？', 'フードバンク・フードドライブ活動とはなにか', 'フードドライブはどこで実施しているか', 'フードドライブではどのような食品を寄附できるのか', '人生記念樹配布日当日に、樹種の変更ができますか？', '人生記念樹の苗木はどれくらいの大きさですか？', '横浜武道館の利用方法は', '敷地の前の水路に通行するための橋を架けたいのですが手続きは必要ですか。', '市のパスポートセンターを利用できる対象者は？\\u3000', '申請に必要な戸籍抄本・謄本はパスポートセンターで発行するのか。', '申請場所と異なる場所で、パスポートを受け取れるのか。', 'センター南パスポートセンターの場所と受付時間は？', 'センター南パスポートセンターで申請できる対象者の範囲は？', '横浜港でクルーズが再開しているが、安全性に問題はないのか。', '国民年金保険料の納付が難しいときは、どうすればいいですか。', '横浜市市民協働推進センターとは？', '横浜市市民協働推進センターの場所・連絡先について', '横浜市市民協働推進センターはどんな人が利用できますか？', '横浜市市民協働推進センターの利用料は？', '横浜市ウェブサイトのページに掲載されている内容について知りたい', '横浜市ウェブサイトのURLについて知りたい', '横浜市ウェブサイトのリンクを貼りたい', '横浜市ウェブページに掲載している内容の引用・転載について知りたい', '横浜市ウェブサイトのウェブアクセシビリティ対応状況（文字拡大や音声読み上げ等）について知りたい', '横浜市ウェブサイトはいつリニューアルしたのか、スマートフォンで閲覧できるか', '横浜市ウェブサイトに（市以外の）地域のお知らせやイベントを掲載できるか', 'フィーチャーフォン（ガラケー）サイトはあるか', '横浜市ウェブサイトトップページに広告を掲載したい', '横浜市公式LINEアカウントの友だち登録方法について知りたい', '横浜市公式LINEアカウントのお知らせを通知オフにしたい、または、ブロックしたい', 'YouTube横浜市公式チャンネル「CityOfYokohama」に掲載されている動画を他の媒体等で活用したい', '横浜市への寄附（ふるさと納税）の申し込み方法を教えてください。', 'ふるさと納税をすると、確定申告を行う必要がありますか？', 'ふるさと納税をした後、引っ越し・結婚等により、住所・指名が変更になった場合、何か手続きが必要ですか？', '横浜市民が横浜市に寄附しても「ふるさと納税」になりますか？', '法人でも「ふるさと納税」はできますか？', 'パスモ・ＳｕｉｃａのＳＦとはなんですか。', '納税が困難な場合はどうしたらよいですか。', '市税を納期限内に納められなかった場合は、どうなりますか？', '高齢者が使うおむつの支給を受けたい。', '●●斎場で行われる、▲▲さんのお葬式（お通夜）の詳細を教えてもらえますか。', '最低賃金を守っていない会社があります。横浜市で指導してもらえますか？', '国民健康保険の医療費通知（医療費のお知らせ）は医療費控除の申告に使えますか。', '司法書士相談を受けたいのですが', '国民健康保険証が届きません。', '【精神通院医療】自立支援医療証の申請をしたけどまだ届かない。', '電子証明書を更新しないとどうなるのか', '傷ついた動物を保護したのですが、どうすればよいですか。', '令和２年分の国民健康保険の医療費通知（医療費のお知らせ）はいつ発送されますか。', '今まで国民健康保険でしたが、職場の健康保険に加入しました。国民健康保険の手続きは必要ですか。', '個人住民税の特別徴収についての質問', '空き家(空家）について、相談できる窓口はありますか。', '特別徴収している従業員が退職したが、どのように手続きすればよいか。（もしくは、会社を辞める場合、特別徴収では何か手続きはいるのか。）', '住宅の省エネ改修工事に関する補助制度について、教えてください。', '空き家(空家)の譲渡所得の3,000万円特別控除に必要な書類、被相続人居住用家屋等確認書は、どこの部署で交付してもらえますか？', '近々市外や海外に転出する予定ですが、国民健康保険の手続きは必要ですか。', '身体障害者手帳を紛失・破損した場合は、どうしたら良いですか。', '療育手帳（愛の手帳）を取得するには、どうしたら良いですか。', '他の区から転入しましたが、国民健康保険に届出は必要ですか。また、どこの区役所に行けばいいですか。', '今月７０歳になりますが、医療費の自己負担割合の変更はあるのですか', '市外から転入して横浜市の国民健康保険に加入したいのですが。', '事業系ごみは、どのように分別したらよいか', '国民健康保険料は誰が納めるのですか', '農業や市民農園に関して聞きたい。（西・中・南・港南・磯子・金沢・戸塚・栄・泉・瀬谷の範囲内）', '自転車保険の加入が義務となったと聞いたが、本当か。内容について知りたい。', '自転車保険に入りたい。どこに申込みすればよいか。', '特定健康診査とはどんな健診か。', 'ふるさと納税のワンストップ特例申請書の様式はどこからダウンロードできますか？', '担当部署以外で電話で意見を聞いてくれる部署はないか。', '横浜市に転入（引越）してきたので、成人式の入場券が欲しいのですが、どこでもらえますか。', '成人式に伴い、車両交通規制が実施されると聞きました。どのような内容ですか。', 'カラスの被害について相談したい', '区役所の窓口は昼休みも業務を行っていますか。', '郵送による国民健康保険資格喪失の届出について教えてください。', '市役所の開庁時間を教えてください。', 'マイナンバーカードの受取方法について教えてほしい。', '新型コロナウイルス感染症の影響により、事業収入が減少した中小事業者等が所有する事業用家屋・償却資産の固定資産税等の軽減措置について教えてください。', '老齢年金を受給するための手続きは？', '普通自動車税、重量税について教えてほしい。', '市県民税（特別徴収分）の市民税・県民税の納入額を間違えて納付してしまったが、どうしたらよいですか。', 'eLTAX（地方税共通納税システム）での納付方法を教えてください。', '市税の口座振替の新規、変更及び解約の手続きについて教えてください。', '口座振替依頼書に記入する、所有者コード又は整理番号が分かりません。', '納税義務者以外の名義の金融機関口座からの口座振替はできますか。', '「市税過誤納金等還付（または充当）通知書」を受け取りました。何か手続きが必要ですか。', '「還付金口座振込依頼書」の返送期限を過ぎてしまった場合、還付してもらえないのですか。', '還付金を受け取る本人が死亡している場合は、どうしたらよいですか。', '還付金を受け取る本人が口座を持っていません。', '現在口座振替を利用していますが、スマホ決済もしくはクレジット納税に変更したいです。', '預金不足等により口座振替ができませんでした。', '二重払いをしました。どうしたらいいですか。', '住宅の外壁塗装や屋根の葺替えに使える助成、補助制度はあるか。', '保育料の納付書の期限が過ぎてしまいましたが、そのまま使えますか。', '市役所への所在地・アクセスを知りたい', '横浜市コールセンターの番号を知りたい', '鶴見区役所の窓口・問合せ先を知りたい', '神奈川区役所の窓口・問合せ先を知りたい', '西区役所の窓口・問合せ先を知りたい', '中区役所の窓口・問合せ先を知りたい', '南区役所の窓口・問合せ先を知りたい', '港南区役所の窓口・問合せ先を知りたい', '保土ケ谷区役所の窓口・問合せ先を知りたい', '旭区役所の窓口・問合せ先を知りたい', '磯子区役所の窓口・問合せ先を知りたい', '金沢区役所の窓口・問合せ先を知りたい', '港北区役所の窓口・問合せ先を知りたい', '緑区役所の窓口・問合せ先を知りたい', '青葉区役所の窓口・問合せ先を知りたい', '都筑区役所の窓口・問合せ先を知りたい', '戸塚区役所の窓口・問合せ先を知りたい', '栄区役所の窓口・問合せ先を知りたい', '泉区役所の窓口・問合せ先を知りたい', '瀬谷区役所の窓口・問合せ先を知りたい', '鶴見区役所への所在地・アクセスを知りたい', '神奈川区役所への所在地・アクセスを知りたい', '西区役所への所在地・アクセスを知りたい', '中区役所への所在地・アクセスを知りたい', '南区役所への所在地・アクセスを知りたい', '港南区役所への所在地・アクセスを知りたい', '保土ケ谷区役所への所在地・アクセスを知りたい', '旭区役所への所在地・アクセスを知りたい', '磯子区役所への所在地・アクセスを知りたい', '金沢区役所への所在地・アクセスを知りたい', '港北区役所への所在地・アクセスを知りたい', '緑区役所への所在地・アクセスを知りたい', '青葉区役所への所在地・アクセスを知りたい', '都筑区役所への所在地・アクセスを知りたい', '戸塚区役所への所在地・アクセスを知りたい', '栄区役所への所在地・アクセスを知りたい', '泉区役所への所在地・アクセスを知りたい', '瀬谷区役所への所在地・アクセスを知りたい', '【市民の皆様へ】新型コロナウイルス感染症の対策・相談窓口について知りたい', '【市民の皆様へ】新型コロナウイルス感染症の支援メニュー・その他の情報について知りたい', '【市民の皆様へ】新型コロナウイルス感染症の陽性診断を受けたがどうしたらよいか', '新型コロナウイルス感染症の市内の陽性患者の発生状況を知りたい', '新型コロナウイルス感染症の新型コロナに関する横浜市からのお知らせなど', '新型コロナウイルス感染症のよくある質問まとめ', '【事業者の皆様へ】新型コロナウイルス感染症の対策・相談窓口について知りたい', '【事業者の皆様へ】新型コロナウイルス感染症の支援メニュー・その他の情報について知りたい', '【事業者の皆様へ】新型コロナウイルス感染症の経営相談窓口を知りたい', '【医療機関の皆様へ】新型コロナウイルス感染症の対策・相談窓口について知りたい', '【医療機関の皆様へ】新型コロナウイルス感染症の支援メニュー・その他の情報について知りたい', '「新型コロナウイルス感染症対策宣言」ステッカーがほしい', '新型コロナウイルスのワクチン接種について', '事業所からでるパソコン、携帯電話、デジカメ、プリンター、電卓の廃棄方法', '事業所から出る家電（テレビ、エアコン、冷蔵庫・冷凍庫、洗濯機・衣類乾燥機）の廃棄方法']\n",
            "2108\n"
          ],
          "name": "stdout"
        }
      ]
    },
    {
      "cell_type": "code",
      "metadata": {
        "colab": {
          "base_uri": "https://localhost:8080/"
        },
        "id": "vsyYC71CFZW9",
        "outputId": "549d9ce1-b121-4ffb-9588-2cfa5648d98f"
      },
      "source": [
        "sentence_vectors_yokohama = encoder(question_list)\n",
        "\n",
        "print(sentence_vectors_yokohama)"
      ],
      "execution_count": null,
      "outputs": [
        {
          "output_type": "stream",
          "text": [
            "tf.Tensor(\n",
            "[[ 0.02433121  0.05191706 -0.00657172 ...  0.05775026 -0.01156933\n",
            "  -0.00668447]\n",
            " [-0.05435084 -0.0214193  -0.01370591 ...  0.00173505 -0.03224121\n",
            "   0.03028968]\n",
            " [ 0.0565853   0.03005039  0.00686145 ...  0.01127097 -0.02099345\n",
            "  -0.01379594]\n",
            " ...\n",
            " [ 0.00755688 -0.00552825  0.03006781 ... -0.05511114 -0.0585687\n",
            "  -0.04652763]\n",
            " [-0.01501863 -0.05002019  0.05723513 ...  0.07960279  0.0219606\n",
            "  -0.00302547]\n",
            " [-0.04075966 -0.07275062  0.07486731 ...  0.05740269 -0.00583071\n",
            "   0.00677623]], shape=(2108, 512), dtype=float32)\n"
          ],
          "name": "stdout"
        }
      ]
    },
    {
      "cell_type": "code",
      "metadata": {
        "colab": {
          "base_uri": "https://localhost:8080/"
        },
        "id": "jsZKV7lNKUxT",
        "outputId": "a6cad0d3-6799-4923-c5ee-e827d7075fe7"
      },
      "source": [
        "import scipy.spatial\n",
        "\n",
        "queries = [\"ガラスの廃棄の仕方\", 'トイレで水漏れがする', '図書館は何がありますか？', 'ドッグランの施設はありますか？',\"育児の補助金は何かありますか？\"]\n",
        "query_embeddings = encoder(queries)\n",
        "\n",
        "closest_n = 5\n",
        "for query, query_embedding in zip(queries, query_embeddings):\n",
        "    distances = scipy.spatial.distance.cdist([query_embedding], sentence_vectors_yokohama, metric=\"cosine\")[0]\n",
        "\n",
        "    results = zip(range(len(distances)), distances)\n",
        "    results = sorted(results, key=lambda x: x[1])\n",
        "\n",
        "    print(\"\\n\\n======================\\n\\n\")\n",
        "    print(\"Query:\", query)\n",
        "    print(\"\\nTop 5 most similar sentences in corpus:\")\n",
        "\n",
        "    for idx, distance in results[0:closest_n]:\n",
        "        print(idx)\n",
        "        print(question_list[idx].strip(), \"(Score: %.4f)\" % (distance / 2))"
      ],
      "execution_count": null,
      "outputs": [
        {
          "output_type": "stream",
          "text": [
            "\n",
            "\n",
            "======================\n",
            "\n",
            "\n",
            "Query: ガラスの廃棄の仕方\n",
            "\n",
            "Top 5 most similar sentences in corpus:\n",
            "1140\n",
            "発泡スチロールの処分の仕方 (Score: 0.1588)\n",
            "996\n",
            "産業廃棄物を排出しますが、どのように処理すればよいのですか。 (Score: 0.1607)\n",
            "1044\n",
            "消火器はどのように廃棄すればよいか (Score: 0.1738)\n",
            "465\n",
            "粗大ごみを直接持ち込んで処分したい。（自己搬入の持込場所はどこか。） (Score: 0.1773)\n",
            "813\n",
            "古い灯油（ガソリン、軽油等）を処分したいのですが、どうしたらよいですか。 (Score: 0.1791)\n",
            "\n",
            "\n",
            "======================\n",
            "\n",
            "\n",
            "Query: トイレで水漏れがする\n",
            "\n",
            "Top 5 most similar sentences in corpus:\n",
            "433\n",
            "トイレの漏水について (Score: 0.0270)\n",
            "432\n",
            "宅地内で水漏れしている (Score: 0.1000)\n",
            "469\n",
            "トイレを水洗にしたいのですが。 (Score: 0.1577)\n",
            "1401\n",
            "下水が詰まったが、どうすればいいですか。 (Score: 0.1620)\n",
            "884\n",
            "公衆トイレが故障（便器や設備の破損、水が止まらないなど）している (Score: 0.1745)\n",
            "\n",
            "\n",
            "======================\n",
            "\n",
            "\n",
            "Query: 図書館は何がありますか？\n",
            "\n",
            "Top 5 most similar sentences in corpus:\n",
            "507\n",
            "図書館はどこにありますか。 (Score: 0.0639)\n",
            "356\n",
            "読みたい本が図書館にあるかどうか調べたいのですが。 (Score: 0.1709)\n",
            "508\n",
            "図書館の本は何冊まで借りられますか。 (Score: 0.2015)\n",
            "821\n",
            "移動図書館を利用したいが、どうすればいいですか。 (Score: 0.2076)\n",
            "859\n",
            "図書館で本を借りたいのですが、どうしたらいいですか。 (Score: 0.2114)\n",
            "\n",
            "\n",
            "======================\n",
            "\n",
            "\n",
            "Query: ドッグランの施設はありますか？\n",
            "\n",
            "Top 5 most similar sentences in corpus:\n",
            "1075\n",
            "公園で犬を放していいのですか。 (Score: 0.2231)\n",
            "766\n",
            "動物園には身体障害者補助犬を伴って入園することができますか？ (Score: 0.2246)\n",
            "321\n",
            "介護保険で利用できる施設サービスにはどのようなものがありますか。 (Score: 0.2372)\n",
            "251\n",
            "スポーツセンターでプールがあるところはありますか (Score: 0.2428)\n",
            "1087\n",
            "不登校の子どもたちが通える施設はありますか。 (Score: 0.2433)\n",
            "\n",
            "\n",
            "======================\n",
            "\n",
            "\n",
            "Query: 育児の補助金は何かありますか？\n",
            "\n",
            "Top 5 most similar sentences in corpus:\n",
            "659\n",
            "子どものための手当はありますか。（児童手当はどんな制度ですか。） (Score: 0.1615)\n",
            "524\n",
            "子どもの医療費助成について教えてください。 (Score: 0.1638)\n",
            "525\n",
            "小児医療費助成事業に所得制限はありますか。 (Score: 0.1673)\n",
            "560\n",
            "母子家庭を対象とした貸付金制度はありますか。 (Score: 0.1708)\n",
            "526\n",
            "子どもが生まれたのですが、医療費助成の手続きについて教えてください。 (Score: 0.1764)\n"
          ],
          "name": "stdout"
        }
      ]
    },
    {
      "cell_type": "code",
      "metadata": {
        "colab": {
          "base_uri": "https://localhost:8080/"
        },
        "id": "BnwtrJ0YMVwn",
        "outputId": "f1e075f0-c2a7-4d87-dcf6-1c4241432e03"
      },
      "source": [
        "import scipy.spatial\n",
        "\n",
        "queries = [\"How to throw away glass\", 'Water leaks in the toilet', 'Where is the library?', 'Is there a dog run facility?',\"Are there any childcare subsidies\"]\n",
        "query_embeddings = encoder(queries)\n",
        "\n",
        "closest_n = 5\n",
        "for query, query_embedding in zip(queries, query_embeddings):\n",
        "    distances = scipy.spatial.distance.cdist([query_embedding], sentence_vectors_yokohama, metric=\"cosine\")[0]\n",
        "\n",
        "    results = zip(range(len(distances)), distances)\n",
        "    results = sorted(results, key=lambda x: x[1])\n",
        "\n",
        "    print(\"\\n\\n======================\\n\\n\")\n",
        "    print(\"Query:\", query)\n",
        "    print(\"\\nTop 5 most similar sentences in corpus:\")\n",
        "\n",
        "    for idx, distance in results[0:closest_n]:\n",
        "        print(question_list[idx].strip(), \"(Score: %.4f)\" % (distance / 2))"
      ],
      "execution_count": null,
      "outputs": [
        {
          "output_type": "stream",
          "text": [
            "\n",
            "\n",
            "======================\n",
            "\n",
            "\n",
            "Query: How to throw away glass\n",
            "\n",
            "Top 5 most similar sentences in corpus:\n",
            "われたもの（ガラス・陶器など）の出し方 (Score: 0.1712)\n",
            "消火器はどのように廃棄すればよいか (Score: 0.2274)\n",
            "発泡スチロールの処分の仕方 (Score: 0.2598)\n",
            "事業系ごみは、どのように分別したらよいか (Score: 0.2621)\n",
            "傘の出し方 (Score: 0.2653)\n",
            "\n",
            "\n",
            "======================\n",
            "\n",
            "\n",
            "Query: Water leaks in the toilet\n",
            "\n",
            "Top 5 most similar sentences in corpus:\n",
            "トイレの漏水について (Score: 0.0893)\n",
            "宅地内で水漏れしている (Score: 0.1384)\n",
            "トイレを水洗にしたいのですが。 (Score: 0.1721)\n",
            "水道料金を支払っているのに水が止まった (Score: 0.1821)\n",
            "公衆トイレが故障（便器や設備の破損、水が止まらないなど）している (Score: 0.1831)\n",
            "\n",
            "\n",
            "======================\n",
            "\n",
            "\n",
            "Query: Where is the library?\n",
            "\n",
            "Top 5 most similar sentences in corpus:\n",
            "図書館はどこにありますか。 (Score: 0.0635)\n",
            "読みたい本が図書館にあるかどうか調べたいのですが。 (Score: 0.2003)\n",
            "移動図書館を利用したいが、どうすればいいですか。 (Score: 0.2195)\n",
            "読みたい本が図書館の本棚にないときは、どうしたら良いですか。 (Score: 0.2314)\n",
            "図書館で本を借りたいのですが、どうしたらいいですか。 (Score: 0.2356)\n",
            "\n",
            "\n",
            "======================\n",
            "\n",
            "\n",
            "Query: Is there a dog run facility?\n",
            "\n",
            "Top 5 most similar sentences in corpus:\n",
            "公園で犬を放していいのですか。 (Score: 0.2385)\n",
            "建物を建てるときの駐車場設置について、きまりはありますか？ (Score: 0.2524)\n",
            "動物園には身体障害者補助犬を伴って入園することができますか？ (Score: 0.2560)\n",
            "公園に車で行きたいのですが、駐車場はありますか。 (Score: 0.2671)\n",
            "スポーツセンターでプールがあるところはありますか (Score: 0.2679)\n",
            "\n",
            "\n",
            "======================\n",
            "\n",
            "\n",
            "Query: Are there any childcare subsidies\n",
            "\n",
            "Top 5 most similar sentences in corpus:\n",
            "子どものための手当はありますか。（児童手当はどんな制度ですか。） (Score: 0.1626)\n",
            "小児医療費助成事業に所得制限はありますか。 (Score: 0.1690)\n",
            "母子家庭を対象とした貸付金制度はありますか。 (Score: 0.1755)\n",
            "子どもの医療費助成について教えてください。 (Score: 0.2054)\n",
            "児童扶養手当とはどんな制度ですか (Score: 0.2248)\n"
          ],
          "name": "stdout"
        }
      ]
    },
    {
      "cell_type": "markdown",
      "metadata": {
        "id": "S26PC4wty2t4"
      },
      "source": [
        "## LaBSEモデル(https://colab.research.google.com/drive/1DeaI-D96BhRf_meLGVNNGy3kXe1Jjh74?usp=sharing#scrollTo=Xf7c4O9AlxC5)"
      ]
    },
    {
      "cell_type": "code",
      "metadata": {
        "id": "KugLHqnXyzhb"
      },
      "source": [
        "model_url = 'https://tfhub.dev/google/LaBSE/2'\n",
        "encoder = hub.KerasLayer(model_url, trainable=False)\n",
        "preprocessor = hub.KerasLayer(\"https://tfhub.dev/google/universal-sentence-encoder-cmlm/multilingual-preprocess/2\")"
      ],
      "execution_count": null,
      "outputs": []
    },
    {
      "cell_type": "code",
      "metadata": {
        "colab": {
          "base_uri": "https://localhost:8080/",
          "height": 168
        },
        "id": "U2gnLm3IsUVo",
        "outputId": "406653df-3e1c-4dbf-9591-b13966e334f4"
      },
      "source": [
        "encoder.get_input_info_dict()    "
      ],
      "execution_count": null,
      "outputs": [
        {
          "output_type": "error",
          "ename": "AttributeError",
          "evalue": "ignored",
          "traceback": [
            "\u001b[0;31m---------------------------------------------------------------------------\u001b[0m",
            "\u001b[0;31mAttributeError\u001b[0m                            Traceback (most recent call last)",
            "\u001b[0;32m<ipython-input-6-d77c146b8d18>\u001b[0m in \u001b[0;36m<module>\u001b[0;34m()\u001b[0m\n\u001b[0;32m----> 1\u001b[0;31m \u001b[0mencoder\u001b[0m\u001b[0;34m.\u001b[0m\u001b[0mget_input_info_dict\u001b[0m\u001b[0;34m(\u001b[0m\u001b[0;34m)\u001b[0m\u001b[0;34m\u001b[0m\u001b[0;34m\u001b[0m\u001b[0m\n\u001b[0m",
            "\u001b[0;31mAttributeError\u001b[0m: 'KerasLayer' object has no attribute 'get_input_info_dict'"
          ]
        }
      ]
    },
    {
      "cell_type": "code",
      "metadata": {
        "id": "4v_3TJU7Qv_L"
      },
      "source": [
        "def normalization(embeds):\n",
        "  norms = np.linalg.norm(embeds, 2, axis=1, keepdims=True)\n",
        "  return embeds/norms"
      ],
      "execution_count": null,
      "outputs": []
    },
    {
      "cell_type": "code",
      "metadata": {
        "id": "5UfRxb5_OSUb"
      },
      "source": [
        "# 出典: https://qiita.com/sonoisa/items/775ac4c7871ced6ed4c3 で公開されている「いらすとや」さんの画像タイトル抜粋（「のイラスト」「のマーク」「のキャラクター」という文言を削った）\n",
        "sentences = [\"お辞儀をしている男性会社員\", \"笑い袋\", \"テクニカルエバンジェリスト（女性）\", \"戦うAI\", \"笑う男性（5段階）\", \n",
        "\"漫才師\", \"お辞儀をしている医者（女性）\", \"お辞儀をしている薬剤師\", \"福笑いをしている人\", \"AIの家族\", \"コント師\", \n",
        "\"福笑い（女性）\", \"お辞儀をしている犬\", \"苦笑いをする女性\", \"お辞儀をしている医者\", \"いろいろな漫符\", \n",
        "\"雛人形「仕丁・三人上戸」\", \"ダンス「踊る男性」\", \"拍手をしている人\", \"定年（男性）\", \"ものまね芸人\", \"福笑いのおたふく\", \n",
        "\"お辞儀をしている看護師（男性）\", \"愛想笑い\", \"福笑い（ひょっとこ）\", \"成長する人工知能\", \"苦笑いをする男性\", \n",
        "\"運動会「徒競走・白組」\", \"人工知能と喧嘩をする人\", \"人工知能\", \"ありがた迷惑\", \"お辞儀をしているクマ\", \"笑う女性（5段階）\", \n",
        "\"人工知能とメールをする人（男性）\", \"技術書\", \"笑いをこらえる人（女性）\", \"ダンス「踊る女性」\", \"お辞儀をしている猫\", \n",
        "\"福笑い（男性）\", \"武器を持つAI\", \"作曲する人工知能\", \"縄跳びを飛んでいる女性\", \"福笑い（おかめ）\", \"茅の輪くぐり\", \"表情\", \n",
        "\"AIと仲良くなる人間\", \"お笑い芸人「漫才師」\", \"人工知能とメールをする人（女性）\", \"人工知能と戦う囲碁の棋士\", \"拍手している女の子\", \n",
        "\"検索する人工知能\", \"ピースサインを出す人（女性）\", \"啓示を受けた人（女性）\", \"仕事をする人工知能\", \"一輪車に乗る女の子\", \n",
        "\"お辞儀をしているウサギ\", \"走る猫（笑顔）\", \"人工知能と戦う将棋の棋士\", \"遠足「お弁当・男の子・女の子」\", \"心を持ったAI\", \n",
        "\"プレゼントをもらって喜ぶ女の子\", \"技術書（バラバラ）\", \"いろいろな表情の酔っぱらい（男性）\", \"拍手している人（棒人間）\", \n",
        "\"仕事を奪う人工知能\", \"文章を書く人工知能\", \"いろいろな映画の「つづく」\", \"絵を描く人工知能\", \"拍手している男の子\", \"ハリセン\", \n",
        "\"人工知能と仲良くする人たち\", \"ON AIRランプ\", \"いろいろな表情の酔っぱらい（女性）\", \"徹夜明けの笑顔（女性）\", \n",
        "\"徹夜明けの笑顔（男性）\", \"お辞儀をしている女性会社員\", \"バンザイをしているお婆さん\", \"画像認識をするAI\", \n",
        "\"芸人の男の子（将来の夢）\", \"料理「女性」\", \"ピコピコハンマー\", \"鏡を見る人（笑顔の男性）\", \"笑いをこらえる人（男性）\", \n",
        "\"シンギュラリティ\", \"人工知能に仕事を任せる人\", \"スマートスピーカー\", \"学ぶ人工知能\", \"人工知能・AI\", \"英語のアルファベット\", \n",
        "\"お金を見つめてニヤけている男性\", \"「ありがとう」と言っている人\", \"定年（女性）\", \"テクニカルエバンジェリスト（男性）\", \n",
        "\"スタンディングオベーション\"]\n",
        "\n",
        "sentences_tf = tf.constant(sentences)"
      ],
      "execution_count": null,
      "outputs": []
    },
    {
      "cell_type": "code",
      "metadata": {
        "colab": {
          "base_uri": "https://localhost:8080/"
        },
        "id": "jjyEC6mmQA3G",
        "outputId": "940b8b82-4dd6-4e1d-920b-8a8f25323cfe"
      },
      "source": [
        "inputs = preprocessor(sentences_tf)\n",
        "print(inputs)\n",
        "sentence_vectors =  encoder(inputs)[\"default\"]\n",
        "sentence_vectors = normalization(sentence_vectors)\n",
        "print(sentence_vectors)"
      ],
      "execution_count": null,
      "outputs": [
        {
          "output_type": "stream",
          "text": [
            "{'input_word_ids': <tf.Tensor: shape=(94, 128), dtype=int32, numpy=\n",
            "array([[   101,   3679,  10607, ...,      0,      0,      0],\n",
            "       [   101,   8675,   3673, ...,      0,      0,      0],\n",
            "       [   101,   3794,  70521, ...,      0,      0,      0],\n",
            "       ...,\n",
            "       [   101,   5495,   5792, ...,      0,      0,      0],\n",
            "       [   101,   3794,  70521, ...,      0,      0,      0],\n",
            "       [   101,   3781, 216685, ...,      0,      0,      0]], dtype=int32)>, 'input_mask': <tf.Tensor: shape=(94, 128), dtype=int32, numpy=\n",
            "array([[1, 1, 1, ..., 0, 0, 0],\n",
            "       [1, 1, 1, ..., 0, 0, 0],\n",
            "       [1, 1, 1, ..., 0, 0, 0],\n",
            "       ...,\n",
            "       [1, 1, 1, ..., 0, 0, 0],\n",
            "       [1, 1, 1, ..., 0, 0, 0],\n",
            "       [1, 1, 1, ..., 0, 0, 0]], dtype=int32)>, 'input_type_ids': <tf.Tensor: shape=(94, 128), dtype=int32, numpy=\n",
            "array([[0, 0, 0, ..., 0, 0, 0],\n",
            "       [0, 0, 0, ..., 0, 0, 0],\n",
            "       [0, 0, 0, ..., 0, 0, 0],\n",
            "       ...,\n",
            "       [0, 0, 0, ..., 0, 0, 0],\n",
            "       [0, 0, 0, ..., 0, 0, 0],\n",
            "       [0, 0, 0, ..., 0, 0, 0]], dtype=int32)>}\n",
            "tf.Tensor(\n",
            "[[-0.02499553  0.01059066  0.00736317 ... -0.01077112  0.01953441\n",
            "  -0.05520427]\n",
            " [-0.01653497 -0.05213353  0.05819689 ... -0.02563857 -0.00871675\n",
            "   0.01299224]\n",
            " [ 0.0357473  -0.06436924 -0.01012356 ... -0.02159417  0.00521646\n",
            "   0.00106237]\n",
            " ...\n",
            " [-0.00080098 -0.04037285  0.01990581 ... -0.03494587 -0.07120086\n",
            "   0.02258992]\n",
            " [ 0.020698   -0.0706479  -0.01547063 ...  0.0073105  -0.00099544\n",
            "  -0.00495851]\n",
            " [ 0.02576244  0.04392095  0.01396251 ... -0.02882828 -0.03179288\n",
            "   0.00252822]], shape=(94, 768), dtype=float32)\n"
          ],
          "name": "stdout"
        }
      ]
    },
    {
      "cell_type": "code",
      "metadata": {
        "colab": {
          "base_uri": "https://localhost:8080/"
        },
        "id": "J-PqZtMCOSsg",
        "outputId": "0e14f75a-1789-4f78-e728-3d8e13daeb79"
      },
      "source": [
        "queries = ['暴走したAI', '暴走した人工知能', 'いらすとやさんに感謝', 'つづく']\n",
        "tf_queries = tf.constant(tf_queries)\n",
        "query_embeddings = encoder(preprocessor(tf_queries))[\"default\"]\n",
        "query_embeddings = normalization(query_embeddings)\n",
        "\n",
        "closest_n = 5\n",
        "for query, query_embedding in zip(queries, query_embeddings):\n",
        "    distances = scipy.spatial.distance.cdist([query_embedding], sentence_vectors, metric=\"cosine\")[0]\n",
        "\n",
        "    results = zip(range(len(distances)), distances)\n",
        "    results = sorted(results, key=lambda x: x[1])\n",
        "    print(results)\n",
        "\n",
        "    print(\"\\n\\n======================\\n\\n\")\n",
        "    print(\"Query:\", query)\n",
        "    print(\"\\nTop 5 most similar sentences in corpus:\")\n",
        "\n",
        "    for idx, distance in results[0:closest_n]:\n",
        "        print(sentences[idx].strip(), \"(Score: %.4f)\" % (distance / 2))"
      ],
      "execution_count": null,
      "outputs": [
        {
          "output_type": "stream",
          "text": [
            "[(3, 0.3072846280515239), (59, 0.4179751887010077), (39, 0.4612557266886056), (87, 0.49532924989061466), (45, 0.5061806109118627), (77, 0.530392481051263), (9, 0.543101427891334), (64, 0.5449297098573277), (28, 0.5516767983261062), (53, 0.5991629365298601), (25, 0.6001838351099206), (40, 0.6182991866098007), (67, 0.6240563256357989), (29, 0.6277040046192286), (50, 0.6367240920118914), (86, 0.6438153959464193), (84, 0.6510573841183593), (56, 0.6705185875814691), (70, 0.6887397876094234), (65, 0.6942450907660427), (41, 0.704049516046348), (71, 0.7053989469143226), (5, 0.7174883326718708), (26, 0.7180565233896279), (12, 0.7202274578316314), (63, 0.7269338361690101), (48, 0.7282762397492129), (57, 0.7358292197147768), (8, 0.7381797219501813), (23, 0.7402991560938494), (13, 0.7422892975620826), (68, 0.7468164367099713), (54, 0.7484752811370643), (33, 0.7502012351899738), (18, 0.7610764066484403), (31, 0.7613519748912897), (47, 0.7615130859676408), (37, 0.7656897606859283), (49, 0.7717826782197015), (76, 0.7720039263822559), (15, 0.772443538660835), (20, 0.78012468843526), (82, 0.7873717073859801), (88, 0.7897219483156225), (55, 0.7901859200378468), (4, 0.793337057147521), (30, 0.7938564488300388), (27, 0.8029536887249851), (85, 0.8102577079213287), (42, 0.8103162956631502), (24, 0.8128026332008023), (35, 0.8149653952770008), (21, 0.8159762637379027), (46, 0.816417800605514), (89, 0.8166438254318794), (32, 0.821186080413257), (17, 0.822412846202398), (90, 0.8364277985252158), (38, 0.8381583960003951), (14, 0.8386706653075104), (66, 0.8400965080730503), (36, 0.841225296889403), (7, 0.8416397994038008), (62, 0.8453024490466203), (1, 0.846775419890746), (34, 0.8514943661641784), (61, 0.8515391195520702), (80, 0.8516964953358814), (0, 0.8527781495248198), (93, 0.8554039982151211), (74, 0.8606243058801823), (52, 0.8628876443485566), (11, 0.8630435717675143), (72, 0.8650139749587277), (60, 0.8709088922554454), (75, 0.8721406796233974), (78, 0.8748743890844416), (43, 0.8758183439131138), (51, 0.8763037450688065), (81, 0.8767224599372709), (10, 0.8811693465301125), (44, 0.8812475985934137), (73, 0.8824532210344584), (92, 0.886902379094512), (69, 0.8988966600176294), (2, 0.9068917572623608), (22, 0.9179627456562893), (6, 0.932329264626101), (19, 0.9332874375237735), (58, 0.9425698934431095), (79, 0.9480060757384617), (16, 0.9543256137820513), (91, 0.9583221780233533), (83, 0.9637048787473055)]\n",
            "\n",
            "\n",
            "======================\n",
            "\n",
            "\n",
            "Query: 暴走したAI\n",
            "\n",
            "Top 5 most similar sentences in corpus:\n",
            "戦うAI (Score: 0.1536)\n",
            "心を持ったAI (Score: 0.2090)\n",
            "武器を持つAI (Score: 0.2306)\n",
            "人工知能・AI (Score: 0.2477)\n",
            "AIと仲良くなる人間 (Score: 0.2531)\n",
            "[(25, 0.24468566612816844), (64, 0.2657212586973793), (40, 0.27795031130078574), (29, 0.28135972315207647), (86, 0.32180000991865865), (53, 0.32301355645232754), (50, 0.33852033118770775), (67, 0.33856534238367897), (28, 0.35558437595916725), (87, 0.37112589647952665), (84, 0.43241756144729515), (65, 0.4466491132575109), (70, 0.45125512163774595), (48, 0.5368167775270793), (57, 0.5545127781040793), (3, 0.568942073462094), (59, 0.5981121735679442), (33, 0.6084094368119755), (5, 0.6092499792408055), (47, 0.6163634618381627), (45, 0.6534710371721175), (77, 0.6535900943836417), (39, 0.7026560827548458), (23, 0.7028800591777453), (46, 0.7132611611695017), (30, 0.7175325821533316), (20, 0.7258222984729532), (9, 0.7308211125261683), (15, 0.7472372014618216), (21, 0.7554007499837061), (85, 0.7566898471463728), (56, 0.7576053249150777), (63, 0.7642670271121024), (26, 0.7697659028745478), (41, 0.7745612190668059), (13, 0.7777619204187821), (34, 0.7778965680876242), (61, 0.7784633943419719), (62, 0.7823867324629796), (78, 0.7855601591368946), (88, 0.7861128674017929), (12, 0.7934979696224624), (72, 0.7987018449797292), (31, 0.7990231653023121), (37, 0.8064130984371969), (24, 0.8088842331430195), (8, 0.8103522492316111), (42, 0.8109833950059326), (92, 0.8127458483594023), (4, 0.8157973575201966), (80, 0.8167529866741499), (7, 0.8169964616735267), (14, 0.8227917237448337), (82, 0.8253301973444869), (38, 0.82686472883581), (32, 0.829163232029233), (68, 0.8315551586356327), (76, 0.8349149048394185), (83, 0.8349345316249446), (54, 0.8360623332894928), (52, 0.837003651110179), (2, 0.8381457803761099), (27, 0.8403965205512888), (1, 0.841919003710164), (74, 0.8422896338270198), (35, 0.8494917299965725), (49, 0.8502092953554463), (11, 0.8517764508912127), (55, 0.8574364614793968), (73, 0.8587415843525291), (93, 0.8594996630013908), (18, 0.8600918388204839), (17, 0.8640821276251578), (43, 0.8657756689322222), (71, 0.8692010604311716), (90, 0.8734867274398684), (36, 0.8763477833454487), (44, 0.8765834060933317), (66, 0.8812478682771366), (16, 0.8866994970595572), (89, 0.8962278533523815), (10, 0.8971257029309165), (0, 0.8986834386678021), (60, 0.9053997424750059), (22, 0.9060640011818282), (6, 0.9096005965469662), (75, 0.9102311321991425), (81, 0.9150191164463368), (69, 0.935857030422205), (51, 0.9392622335362065), (19, 0.9553037151373108), (58, 0.9567231549654766), (79, 0.9661817817622997), (91, 0.9838972325229853)]\n",
            "\n",
            "\n",
            "======================\n",
            "\n",
            "\n",
            "Query: 暴走した人工知能\n",
            "\n",
            "Top 5 most similar sentences in corpus:\n",
            "成長する人工知能 (Score: 0.1223)\n",
            "仕事を奪う人工知能 (Score: 0.1329)\n",
            "作曲する人工知能 (Score: 0.1390)\n",
            "人工知能 (Score: 0.1407)\n",
            "学ぶ人工知能 (Score: 0.1609)\n",
            "[(30, 0.35873212953507416), (90, 0.40474416126279844), (60, 0.7074830090923325), (11, 0.7106716992839898), (21, 0.7128916646070413), (8, 0.7244493897706551), (38, 0.7305845815315714), (45, 0.7411850676887826), (23, 0.7419704930565933), (24, 0.746542221850329), (59, 0.7466515991213394), (77, 0.7477577759513387), (35, 0.7493022219766701), (42, 0.7533819552926755), (13, 0.7575958084866751), (49, 0.7598118333736379), (73, 0.7601319273495694), (86, 0.761589087589351), (50, 0.7625453488689844), (82, 0.7629946991944252), (53, 0.7634540109533893), (26, 0.7782955870220006), (74, 0.7807224062859576), (68, 0.7810995224492036), (66, 0.7825451792995666), (75, 0.7847063093178502), (70, 0.7917299129075797), (87, 0.7938242892703056), (84, 0.7988957141604939), (18, 0.8042726659476651), (3, 0.8043544520169462), (47, 0.8068248724418964), (25, 0.8080026757969909), (89, 0.8087494690712297), (0, 0.8106450124802105), (14, 0.8114760724851147), (67, 0.8115234398512527), (1, 0.8149367403648868), (63, 0.8149524113305809), (91, 0.8159285435516473), (33, 0.8214807408240241), (32, 0.8269972563208067), (20, 0.8282034403299439), (65, 0.829455649013799), (6, 0.8300375547311472), (81, 0.8311570011760028), (31, 0.831551232624537), (52, 0.8341187656194875), (2, 0.8367282187315489), (19, 0.8399720042636735), (36, 0.8455336485071296), (51, 0.8462262571703852), (64, 0.8484075113084772), (55, 0.8490580281614111), (4, 0.8500768589329476), (7, 0.8509977584456646), (37, 0.8517664349250301), (40, 0.8522350507644001), (69, 0.8526322848102927), (46, 0.853077740240036), (5, 0.8540152672863155), (22, 0.8540727318362069), (34, 0.8545266909968721), (92, 0.8550562990198756), (56, 0.8553800780282246), (9, 0.855702981544553), (76, 0.8602071429959278), (39, 0.8603385179791563), (17, 0.8607310990227252), (28, 0.8613936381476748), (29, 0.862166533098373), (79, 0.8631669807763103), (71, 0.863756028711945), (85, 0.8663709143761134), (54, 0.8666665197856013), (12, 0.8668613173792519), (80, 0.8696305626929253), (15, 0.8757522043687059), (41, 0.8766379893626131), (61, 0.8840289498560321), (72, 0.8863038660991122), (83, 0.901634455147874), (62, 0.9024011264868464), (43, 0.9058443492398806), (57, 0.9105163527813798), (48, 0.911467083804329), (16, 0.9357071046553528), (93, 0.9564353292658625), (88, 0.9644087678879857), (78, 0.9737604848807405), (58, 0.9810256451347156), (10, 0.9954431500441479), (44, 0.9960199781214959), (27, 1.01844064317513)]\n",
            "\n",
            "\n",
            "======================\n",
            "\n",
            "\n",
            "Query: いらすとやさんに感謝\n",
            "\n",
            "Top 5 most similar sentences in corpus:\n",
            "ありがた迷惑 (Score: 0.1794)\n",
            "「ありがとう」と言っている人 (Score: 0.2024)\n",
            "プレゼントをもらって喜ぶ女の子 (Score: 0.3537)\n",
            "福笑い（女性） (Score: 0.3553)\n",
            "福笑いのおたふく (Score: 0.3564)\n",
            "[(66, 0.5715869977679562), (44, 0.6157266263888781), (10, 0.6312545895131736), (34, 0.6551460713584366), (5, 0.656996946759427), (56, 0.6815377040974511), (13, 0.6896795139995333), (36, 0.6983429277850608), (23, 0.7047312573197428), (3, 0.7061718230831203), (26, 0.7092884317723851), (79, 0.7106472231381793), (24, 0.711332195882167), (42, 0.720334978238451), (17, 0.7211430798739629), (19, 0.725696493491214), (83, 0.7282777681590027), (91, 0.7302690726613839), (1, 0.7345291239553965), (54, 0.7360776875100051), (85, 0.737889459185458), (9, 0.7421833968187432), (90, 0.7478018141684415), (41, 0.7486217718067266), (11, 0.7502665911495111), (20, 0.755090793667524), (38, 0.7593604693256546), (69, 0.7597614871039986), (49, 0.7631531831767872), (15, 0.7642853684624954), (93, 0.7675995936308284), (29, 0.767702776532666), (35, 0.770470598565189), (82, 0.7721575070978289), (8, 0.7734449903683944), (65, 0.7753276270728137), (87, 0.776685613913578), (18, 0.7781718692639441), (32, 0.7790579978302286), (58, 0.7807498845592513), (12, 0.7825293778393624), (80, 0.7900650675029979), (78, 0.7902381906299405), (68, 0.7917133032594516), (86, 0.7930500650653861), (71, 0.7938866382084673), (37, 0.7966905028519902), (53, 0.8006269749999442), (4, 0.801006370128235), (25, 0.8034198982934753), (88, 0.8067880668745718), (59, 0.8114400840894636), (21, 0.814278388898855), (61, 0.8156427477458527), (50, 0.8278685047314532), (60, 0.831834852661655), (81, 0.8403930545154428), (75, 0.8407574333249204), (30, 0.8407948638501611), (52, 0.8418511585967584), (89, 0.8444560367903291), (0, 0.8502199262438053), (2, 0.8509523180872172), (51, 0.8514022023185503), (43, 0.8518891333911164), (6, 0.8570518690504428), (45, 0.8573010840389482), (46, 0.8578931275843211), (92, 0.858061997953503), (39, 0.8592537381683276), (47, 0.8609120706500201), (33, 0.8655775951239577), (73, 0.867260217054449), (22, 0.8682185895406603), (40, 0.8719586552979419), (14, 0.8736131088585375), (16, 0.8745423155691303), (76, 0.8781120116331078), (67, 0.8790824992525921), (63, 0.8791773278657913), (74, 0.8796905994855718), (84, 0.8829764241343847), (27, 0.8971563906079237), (31, 0.8991842051979895), (55, 0.9073248741467236), (64, 0.9083556126284796), (77, 0.9335920924971199), (7, 0.9451045971721915), (72, 0.9451961860801317), (28, 0.9495171475204357), (70, 0.957854378566199), (62, 0.9581500567503296), (57, 0.9599469869624465), (48, 0.963837592153684)]\n",
            "\n",
            "\n",
            "======================\n",
            "\n",
            "\n",
            "Query: つづく\n",
            "\n",
            "Top 5 most similar sentences in corpus:\n",
            "いろいろな映画の「つづく」 (Score: 0.2858)\n",
            "表情 (Score: 0.3079)\n",
            "コント師 (Score: 0.3156)\n",
            "技術書 (Score: 0.3276)\n",
            "漫才師 (Score: 0.3285)\n"
          ],
          "name": "stdout"
        }
      ]
    },
    {
      "cell_type": "code",
      "metadata": {
        "id": "9BPcrGVrOlql",
        "colab": {
          "base_uri": "https://localhost:8080/"
        },
        "outputId": "789adc65-0f2a-4d3f-bfab-3326594eebf0"
      },
      "source": [
        "question_list = yokohama_df.Question.tolist()\n",
        "\n",
        "interval = 100\n",
        "for i,embedding_start in enumerate(range(0,len(question_list), interval)):\n",
        "  if embedding_start + interval < len(question_list):\n",
        "    embedding_range_end  = embedding_start +interval\n",
        "  else:\n",
        "    embedding_range_end = len(question_list)\n",
        "\n",
        "  question_list_tf = tf.constant(question_list[embedding_start:embedding_range_end])\n",
        "  inputs = preprocessor(question_list_tf)\n",
        "  sentence_vectors_tf =  encoder(inputs)[\"default\"]\n",
        "  if i == 0:\n",
        "    sentence_vectors_np = normalization(sentence_vectors_tf)\n",
        "  else:\n",
        "    sentence_vectors_np = np.concatenate((sentence_vectors_np,normalization(sentence_vectors_tf)),axis = 0)\n",
        "  \n",
        "\n",
        "print(sentence_vectors_np.shape)\n",
        "print(type(sentence_vectors_np))"
      ],
      "execution_count": null,
      "outputs": [
        {
          "output_type": "stream",
          "text": [
            "(2108, 768)\n",
            "<class 'numpy.ndarray'>\n"
          ],
          "name": "stdout"
        }
      ]
    },
    {
      "cell_type": "code",
      "metadata": {
        "colab": {
          "base_uri": "https://localhost:8080/"
        },
        "id": "uZSr9DjPuBRf",
        "outputId": "44405f3b-a1e3-4ada-85b6-9b6a0e0c62ca"
      },
      "source": [
        ""
      ],
      "execution_count": null,
      "outputs": [
        {
          "output_type": "stream",
          "text": [
            "Collecting faiss-gpu\n",
            "\u001b[?25l  Downloading https://files.pythonhosted.org/packages/5d/36/383911b8edf8c29cb7e9e8aee4e6b69b0f36c52237e3a06ce64a9551ef22/faiss_gpu-1.7.0-cp37-cp37m-manylinux2014_x86_64.whl (89.4MB)\n",
            "\u001b[K     |████████████████████████████████| 89.4MB 51kB/s \n",
            "\u001b[?25hInstalling collected packages: faiss-gpu\n",
            "Successfully installed faiss-gpu-1.7.0\n"
          ],
          "name": "stdout"
        }
      ]
    },
    {
      "cell_type": "code",
      "metadata": {
        "id": "7MMYy1T44lgh"
      },
      "source": [
        ""
      ],
      "execution_count": null,
      "outputs": []
    },
    {
      "cell_type": "code",
      "metadata": {
        "id": "ptOPOO4npXt8"
      },
      "source": [
        "queries = [\"How to throw away the glass\", 'Water leaks in the toilet', 'Where is the library?', 'Is there a dog run facility?',\"Are there any childcare subsidies\"]\n",
        "# queries = [\"ガラスの廃棄の仕方\", 'トイレで水漏れがする', '図書館は何がありますか？', 'ドッグランの施設はありますか？',\"育児の補助金は何かありますか？\"]\n",
        "query_embeddings = encoder(preprocessor(queries))\n",
        "query_embeddings = normalization(query_embeddings[\"default\"])\n",
        "# query_embeddings_np = query_embeddings.numpy()\n"
      ],
      "execution_count": null,
      "outputs": []
    },
    {
      "cell_type": "code",
      "metadata": {
        "colab": {
          "base_uri": "https://localhost:8080/"
        },
        "id": "NVJ7z4z3ymT6",
        "outputId": "0bf47967-fa29-495f-c46c-f17cc346467e"
      },
      "source": [
        "# queries = ['暴走したAI', '暴走した人工知能', 'いらすとやさんに感謝', 'つづく']\n",
        "# tf_queries = tf.constant(tf_queries)\n",
        "# query_embeddings = encoder(preprocessor(tf_queries))[\"default\"]\n",
        "# query_embeddings = normalization(query_embeddings)\n",
        "import scipy.spatial\n",
        "closest_n = 5\n",
        "for query, query_embedding in zip(queries, query_embeddings):\n",
        "    distances = scipy.spatial.distance.cdist([query_embedding], sentence_vectors_np, metric=\"cosine\")[0]\n",
        "\n",
        "    results = zip(range(len(distances)), distances)\n",
        "    results = sorted(results, key=lambda x: x[1])\n",
        "    print(results)\n",
        "\n",
        "    print(\"\\n\\n======================\\n\\n\")\n",
        "    print(\"Query:\", query)\n",
        "    print(\"\\nTop 5 most similar sentences in corpus:\")\n",
        "\n",
        "    for idx, distance in results[0:closest_n]:\n",
        "        print(idx)\n",
        "        print(question_list[idx].strip(), \"(Score: %.4f)\" % (distance / 2))"
      ],
      "execution_count": null,
      "outputs": [
        {
          "output_type": "stream",
          "text": [
            "[(1142, 0.33227371037815234), (1044, 0.351327050374447), (426, 0.418803547206009), (429, 0.4347015807680007), (1140, 0.4363227402213302), (1091, 0.474699809874343), (409, 0.5289918390771982), (515, 0.5362596668756794), (484, 0.5367250811576838), (2023, 0.5404979123092455), (1218, 0.5475217093546775), (414, 0.5645129878722492), (344, 0.57258816657408), (2107, 0.5825795605535873), (1117, 0.5872386623110617), (1090, 0.5896253130005531), (996, 0.5914414286699217), (197, 0.5939773499729306), (1875, 0.5944644547780058), (381, 0.612258495497169), (92, 0.6166112306965797), (1748, 0.6223097198492924), (576, 0.6247575144105972), (232, 0.6272407530938224), (514, 0.6285971921444206), (421, 0.6299651905053544), (2106, 0.6307496279784808), (1058, 0.6330484405714034), (1433, 0.634470438467087), (1924, 0.6350486005956213), (103, 0.6352461948554664), (252, 0.6355525668206694), (1848, 0.6401581049641294), (813, 0.6407077486298219), (177, 0.6425397317793685), (397, 0.6442138694632947), (651, 0.6463399512592017), (440, 0.6471513191703835), (1824, 0.6475789167056171), (467, 0.6480995402592065), (1416, 0.6491151275387286), (1262, 0.6492556744986426), (94, 0.65505027545759), (1576, 0.6556238271238434), (1216, 0.6602514407710222), (132, 0.6604944351346839), (95, 0.6618190067878476), (382, 0.6623078813480763), (1329, 0.6630726612539627), (1114, 0.6665648705933664), (1167, 0.667490079885757), (1211, 0.6701620445708558), (1015, 0.6722662864094355), (384, 0.6727743361386025), (378, 0.6741056695876391), (1119, 0.6745066525239147), (433, 0.6747407766838484), (88, 0.6755043806438177), (1401, 0.6757945647399594), (1210, 0.6774340149524192), (1711, 0.6778417541561739), (1143, 0.6789145486346304), (1504, 0.6797790239176801), (1710, 0.68132012988779), (1064, 0.681821425299324), (450, 0.6819555722825759), (453, 0.6843650968452343), (980, 0.6857957807613885), (393, 0.6862139161606124), (1715, 0.6865801154889044), (17, 0.6877065356983068), (1833, 0.6881697646913627), (270, 0.6884322563598355), (704, 0.6886817516207963), (1730, 0.6893255172112458), (2039, 0.6907827664862425), (541, 0.6908309822453489), (554, 0.6911214824083081), (587, 0.6913452530596054), (822, 0.6932408184544266), (540, 0.6944745004002789), (1118, 0.6953580295402844), (1221, 0.6954287659297038), (394, 0.6959182739952763), (1499, 0.6960065652621289), (285, 0.6962205329925448), (657, 0.696572266310902), (1162, 0.6968431560665866), (346, 0.6977304119591885), (1749, 0.6978239588302233), (1007, 0.6985401424018809), (269, 0.6985523041953567), (712, 0.6985940297885065), (812, 0.7008348877174084), (1161, 0.7027577083817027), (1139, 0.7027925041580336), (1961, 0.7033373748213689), (1601, 0.7036264022429037), (1102, 0.7044665364433659), (1324, 0.7049219056673514), (128, 0.7054106948878736), (702, 0.7056003192203306), (1859, 0.705727617303846), (1071, 0.7060796051580294), (345, 0.7087034917429579), (2014, 0.7090490460882095), (371, 0.709890826524683), (649, 0.7101030954862259), (125, 0.7115838328157614), (583, 0.7121666173900779), (1243, 0.7124527267725158), (1060, 0.7133512585781281), (1046, 0.7137195293899106), (70, 0.715123320851079), (2018, 0.7152554183034612), (542, 0.7158434379269059), (1913, 0.7161654354683251), (1855, 0.7175167806256328), (18, 0.7191978018883008), (931, 0.7199342544844566), (1706, 0.7200414458498501), (1059, 0.7203138556440605), (253, 0.7208734469537976), (1794, 0.7212062995980442), (1383, 0.7212857986115427), (1837, 0.7218771284276819), (1968, 0.7220746416898407), (1399, 0.7224369041551164), (1811, 0.7225372277971389), (376, 0.7229582876627174), (1280, 0.7232434003650764), (1212, 0.7236225676414743), (1475, 0.7236433115600331), (530, 0.723704950545724), (1575, 0.7239242803946562), (436, 0.7243569183685276), (1703, 0.7250196955693652), (441, 0.7251202104321308), (872, 0.7251534468150453), (1810, 0.7253520159079159), (629, 0.7255263252746221), (2019, 0.7269058228243188), (1376, 0.7275709980084817), (313, 0.7280702209627594), (588, 0.728393799756581), (498, 0.7285619988639989), (656, 0.7286702493308352), (1729, 0.729233256694557), (1250, 0.7295656880194488), (859, 0.730505080831036), (1707, 0.7309462830691165), (1708, 0.7313476015674218), (835, 0.7319086025057672), (1375, 0.7321654359712085), (1912, 0.7323814936164558), (452, 0.7329278089036186), (234, 0.7330770615576987), (1028, 0.7333889499081881), (1339, 0.7337590733306041), (522, 0.7344037474889059), (1382, 0.7348715987524088), (417, 0.7348940625220807), (442, 0.7349469145628085), (1677, 0.7349591736107093), (538, 0.7355977082083138), (1156, 0.7357264393870975), (260, 0.7357593849770094), (1965, 0.7358856945328729), (727, 0.7359546488073183), (1936, 0.7360832522871193), (1005, 0.7360856324363698), (460, 0.7361065553816184), (536, 0.7363083595073181), (185, 0.7366300844144569), (499, 0.736711108624137), (1016, 0.7367346377313964), (176, 0.737390398577492), (283, 0.7379353273812294), (286, 0.7385949110217953), (56, 0.7386257718932185), (1462, 0.7390765114085516), (655, 0.7393226356861535), (413, 0.7398791792565603), (1055, 0.7399543931554063), (1843, 0.7402363828798479), (196, 0.7403891582977341), (271, 0.7405558266793262), (1047, 0.7408324319019262), (507, 0.7408669270028707), (834, 0.7413149615371017), (1840, 0.7415073948996906), (1918, 0.7418179346376238), (1084, 0.7422619915460797), (457, 0.7422876184031157), (1629, 0.7424596115111537), (1085, 0.7430181539723365), (174, 0.7439306005509114), (654, 0.7447446422667007), (323, 0.7447586812137319), (401, 0.7449009412135978), (719, 0.7449591681164217), (1413, 0.7455000713823345), (1219, 0.7455822429058925), (762, 0.7456546469426237), (362, 0.7458501698315075), (1999, 0.7459485231217724), (1964, 0.7460159132457114), (235, 0.7463237238693168), (1021, 0.7463896112656547), (63, 0.7468869840321697), (1947, 0.7476649475179981), (1093, 0.7477712010073541), (469, 0.7477881241079685), (489, 0.7489103398949035), (1976, 0.7493598974884041), (828, 0.7495071503690061), (1797, 0.749520540730021), (623, 0.7495956117296265), (909, 0.7496545216216742), (1326, 0.7497101095872393), (273, 0.7498891892005148), (233, 0.7500303588804291), (225, 0.7501567975719035), (439, 0.7506754214569928), (1072, 0.7510795585335969), (236, 0.7523430552947656), (2008, 0.7531202823375636), (1883, 0.7543565391817197), (124, 0.7544874487317793), (127, 0.7545225374501863), (1197, 0.754532153496906), (1431, 0.754873848535871), (943, 0.7549960299050344), (1743, 0.7557836360818331), (1570, 0.7559720848037144), (451, 0.7559919360980205), (1073, 0.7561834724145134), (1654, 0.7564364599225735), (1687, 0.7574799050622535), (977, 0.757684060905605), (1607, 0.7581375825529844), (122, 0.7583041570737598), (558, 0.7590770657762032), (1289, 0.7594021937091259), (1321, 0.75957392076068), (1483, 0.7596357361624473), (1775, 0.7602909316933744), (173, 0.7603117750643587), (464, 0.7603405491586654), (800, 0.7613235625297681), (901, 0.7615879787653539), (1311, 0.7616228879520385), (1956, 0.7616694969626198), (198, 0.7618364988612379), (1422, 0.7619233096664743), (1269, 0.7621062538447998), (867, 0.7621577618243724), (1838, 0.7622309616583243), (227, 0.7623465781072091), (1897, 0.7624655490479326), (876, 0.7626479125534227), (2016, 0.7632427339070831), (1628, 0.7632996626540796), (1147, 0.7634267702729614), (1387, 0.7635847584543589), (318, 0.7637909025269513), (355, 0.7647380985988942), (829, 0.7659989197277131), (757, 0.7667517258674098), (778, 0.7670238825115414), (1223, 0.7670444752993644), (1261, 0.7670704963017354), (508, 0.7672586451341141), (550, 0.7672982175155251), (425, 0.7674123421425083), (1925, 0.7674201907614706), (1105, 0.7674536416518032), (1905, 0.7674757295120158), (1503, 0.7676731401989466), (1172, 0.7677706446537544), (1378, 0.7681067333608892), (1457, 0.76847210984537), (905, 0.7691505728134187), (621, 0.7691908774729986), (1944, 0.7692297371542409), (1291, 0.7693361728296944), (827, 0.769467811124609), (1993, 0.7697366949521908), (1800, 0.7699621654644818), (910, 0.7701536192251399), (435, 0.7705366684572772), (1170, 0.7708614439580742), (729, 0.7709438461416932), (759, 0.7713506501024421), (1056, 0.7716351317531847), (736, 0.7716688439256648), (54, 0.7718791541503198), (465, 0.7719781579057202), (1107, 0.772026169102933), (229, 0.7720791887958678), (1660, 0.7723922935191867), (606, 0.7726151440993114), (1659, 0.7730530060634746), (739, 0.773344185166466), (1079, 0.773474600623629), (1108, 0.7737075909214548), (1393, 0.7737232675539502), (312, 0.7744316947441665), (1917, 0.7748184837750428), (2048, 0.7749989814761185), (841, 0.7754888904292803), (564, 0.7761811762565509), (1738, 0.7766192940871804), (908, 0.7766258851273057), (1844, 0.7767045168686535), (1012, 0.7767263675239627), (1878, 0.7767353912418689), (1421, 0.776994175875208), (395, 0.7770584099239484), (1560, 0.7770967313448608), (108, 0.7773477950745602), (1967, 0.7776294159983634), (2043, 0.7781016341510276), (533, 0.7784891663462798), (534, 0.7788332192795684), (69, 0.7788776217129578), (700, 0.7789857658018432), (1344, 0.7793811904861794), (871, 0.7794303932656537), (826, 0.7797476563551391), (821, 0.7799178928985598), (1666, 0.7801562690097692), (1061, 0.7802420642630369), (1783, 0.7807714203474363), (184, 0.7810404238759372), (1524, 0.7810548898896481), (836, 0.7810831279077037), (12, 0.7814232736399046), (1224, 0.7816147357638299), (912, 0.7817217737249356), (472, 0.7817689951664071), (1412, 0.781794532155395), (566, 0.7819132411990444), (263, 0.7822879775323819), (1225, 0.7825861070902553), (539, 0.7832178840326991), (888, 0.7834344324686529), (577, 0.7840042682589226), (1135, 0.7841183081767387), (1608, 0.7842714913804213), (380, 0.7846911006025382), (1230, 0.7848827521990284), (1626, 0.785194221603694), (1526, 0.7853434757953924), (1731, 0.7855059526445011), (406, 0.78578471007707), (226, 0.7860895331248895), (1577, 0.7861022176707757), (668, 0.7861431803458708), (33, 0.7861799572140927), (1712, 0.7864773617837926), (1430, 0.7864795363020881), (1474, 0.7868879315549719), (1555, 0.7869368782961048), (1676, 0.7872455309131057), (383, 0.7873258008569318), (243, 0.7873856905786534), (87, 0.7873875683671399), (1187, 0.7875217644984308), (1173, 0.787701606317612), (377, 0.7877939814946844), (97, 0.7878511194340906), (1310, 0.788046067026345), (1450, 0.7883849912266593), (1169, 0.7885958668072395), (929, 0.7886985305335616), (1914, 0.7888516677497178), (1245, 0.7889869199181979), (455, 0.7892082965580325), (301, 0.7892924087149159), (737, 0.7893658871210826), (879, 0.7893821411046311), (1578, 0.7898530372429211), (1764, 0.7898960452593144), (575, 0.7899477273778932), (893, 0.7899701194181481), (1371, 0.7900484110714132), (650, 0.7901463635092146), (1359, 0.7901732538125306), (1857, 0.7907230291752451), (917, 0.7907673820359936), (415, 0.7916999477505071), (106, 0.7919045309701572), (997, 0.7919230098784419), (844, 0.7919329351809875), (396, 0.7919433813399233), (1051, 0.7921616998833018), (1569, 0.792189365748911), (765, 0.792269659680462), (1495, 0.7926385638637206), (1644, 0.7926908529221411), (420, 0.7927537177695987), (1206, 0.7928715332272119), (1896, 0.7931307797299743), (1605, 0.7937030525180278), (1525, 0.794132194280962), (914, 0.7941892227133709), (1904, 0.7942508230978713), (1442, 0.7943432899942691), (636, 0.7943769370845462), (1460, 0.7948907286637801), (808, 0.7948908965616367), (326, 0.795153833553884), (93, 0.7951913808715474), (518, 0.7956588728235455), (1081, 0.7958339790124281), (1598, 0.7959031600667132), (1395, 0.7960617265872744), (75, 0.7962800996176777), (875, 0.7964124417351777), (218, 0.796568012671641), (488, 0.7965916945453408), (779, 0.796599114024521), (1120, 0.7966098536822465), (1858, 0.7966179407930608), (1787, 0.7966498535050731), (551, 0.7967819595108423), (317, 0.797297505976411), (1035, 0.7975505674415346), (1915, 0.7976839401200859), (1506, 0.7977691866722451), (316, 0.7978071074726009), (627, 0.79785591649995), (1798, 0.7978894387946538), (2037, 0.7979152347730236), (1244, 0.7981022935572947), (1713, 0.7981628796710769), (262, 0.798236989703849), (904, 0.7985198872183699), (1671, 0.7986318810629172), (388, 0.7986947144816643), (1340, 0.7987518194592856), (1366, 0.7988121563196096), (1701, 0.7991687190624027), (1934, 0.7994229622014974), (946, 0.7995891382326277), (50, 0.8002831225034124), (13, 0.8002962749423808), (1098, 0.8008526674930431), (1744, 0.8010678554626258), (1643, 0.801093818214252), (610, 0.8012773311471103), (1076, 0.8013770897895736), (517, 0.8020033573027913), (1929, 0.802083007384587), (257, 0.8021081726410944), (557, 0.802114608107783), (1846, 0.8022128759998911), (1476, 0.8033197554002498), (1732, 0.8033786339394617), (1112, 0.803496133631676), (1584, 0.803561409761256), (1409, 0.8036606492919158), (632, 0.8044704631978074), (49, 0.8045367169989628), (1174, 0.8046531532275002), (858, 0.8048165068329964), (1563, 0.8049347106513578), (974, 0.804993591759618), (1553, 0.8053644523357157), (0, 0.8054284543902317), (1408, 0.8055699766709326), (1796, 0.8056654643198073), (1617, 0.8059346171570875), (967, 0.8059637320263136), (823, 0.8059795319312661), (1709, 0.8059878754232278), (325, 0.8062500715617607), (1439, 0.8062835287264538), (1765, 0.8063314437468236), (1906, 0.8065533680957315), (1041, 0.806593458861761), (65, 0.8066585155464793), (1879, 0.8067674620853096), (633, 0.8069412304530966), (14, 0.8069721472157403), (1086, 0.8069798880274378), (310, 0.8070461104040967), (19, 0.8071954092571239), (1548, 0.8072225086882965), (976, 0.8073169794262586), (361, 0.8073179239716064), (652, 0.8076816306186337), (76, 0.8077205682426788), (220, 0.8079683417072735), (1346, 0.8081271143112002), (116, 0.8082927693487051), (1582, 0.8083753477472436), (1410, 0.8084803762139091), (1444, 0.8084805933540343), (1014, 0.808620099864938), (1863, 0.8087164576851517), (213, 0.8087336869063884), (701, 0.8090887344554154), (104, 0.8092950495459763), (422, 0.8095521869790262), (1747, 0.8100314846370704), (683, 0.8100410580109668), (1825, 0.810063079078014), (1804, 0.8102204296471105), (854, 0.810289154859097), (1891, 0.8104904289018466), (51, 0.8108508065530747), (1895, 0.810909624980755), (1927, 0.8109217760832008), (11, 0.8109398801533609), (2029, 0.8110286006298788), (1719, 0.8111686334109285), (37, 0.8116179029186987), (1281, 0.811859038213018), (487, 0.8118604251069484), (53, 0.8118723386048129), (1146, 0.8119746500543861), (1937, 0.812202206280281), (255, 0.8122564137672758), (1004, 0.812661702305685), (279, 0.8129328318213318), (1983, 0.8130125148961557), (146, 0.8130787018827337), (1941, 0.8130799716758985), (1890, 0.8133165156728799), (1693, 0.8133290026444224), (1349, 0.8133838048965443), (790, 0.8135251272062493), (1222, 0.8135428992157006), (907, 0.813634346154192), (1788, 0.8138751076621283), (2035, 0.8138812680430608), (546, 0.8139401116639867), (284, 0.8140509905710529), (1849, 0.8145462382348415), (43, 0.8146232104060397), (2033, 0.8146757075951743), (1341, 0.8147929151656143), (1911, 0.8147980388211776), (1405, 0.8148379014166661), (501, 0.8150858337466446), (1946, 0.8151995306604269), (809, 0.8153269568935607), (86, 0.8158544030892394), (1335, 0.8158551445524874), (1839, 0.8158992574719712), (1850, 0.8161208235586821), (987, 0.8163745074758602), (360, 0.8165804241983052), (1312, 0.816686145478344), (1714, 0.8167284370344907), (1900, 0.8167973963913315), (150, 0.8169364583677301), (628, 0.8170571433667702), (89, 0.8170595894310826), (1852, 0.8171428102107632), (873, 0.8172393433511188), (305, 0.81729289893586), (528, 0.8173519802224983), (119, 0.8174191423916896), (791, 0.8175378437692326), (27, 0.817907110692899), (1737, 0.818062839252228), (2041, 0.8181498900130727), (1817, 0.8183521978115802), (46, 0.8187185246350882), (1042, 0.8188743898683508), (1241, 0.8189362565979941), (1228, 0.8190340235967934), (2052, 0.8192500266522311), (915, 0.8195401711186894), (1100, 0.8195639817039395), (230, 0.8196962336103022), (215, 0.8197671841876368), (1159, 0.8197816733844616), (96, 0.8198399914829049), (715, 0.8198619018335178), (1728, 0.8199815485607294), (1158, 0.8206869607708196), (1115, 0.8207098434883635), (642, 0.8208665579743655), (466, 0.821065849279573), (386, 0.8211525093890386), (1315, 0.8211681573018534), (1716, 0.8214558939863754), (254, 0.821665879442391), (1234, 0.8217847987694238), (1887, 0.822497874238134), (853, 0.8225547917891616), (1024, 0.8225751542682209), (1419, 0.8225782149821593), (1386, 0.822600769356788), (1374, 0.8226112303910476), (1698, 0.8228311004923143), (298, 0.8229233195748332), (1075, 0.8229864917240642), (207, 0.823197764257893), (1372, 0.8232729347699288), (1256, 0.8233814476153523), (131, 0.8233933645480511), (789, 0.8234747111363303), (1113, 0.8234797318607062), (366, 0.8235683639720192), (1317, 0.8237515998965166), (662, 0.8238242947241347), (1217, 0.8239524990183961), (368, 0.8240889681759576), (1942, 0.8241069677529098), (151, 0.824429438978511), (1606, 0.8247926370417646), (2010, 0.8249172032684946), (1768, 0.8250947513597077), (1894, 0.8251776020739239), (1758, 0.8252566298231355), (1484, 0.8253172683616102), (331, 0.8255091919056251), (34, 0.8257679855236476), (237, 0.8258837453858738), (1567, 0.8259705053700948), (1403, 0.8260021143119155), (1314, 0.8262414722161942), (1434, 0.8264640041384551), (849, 0.8265668096824704), (200, 0.8266529012760883), (640, 0.8267967215941644), (352, 0.827080679220811), (884, 0.8271449961860253), (265, 0.8272978930609789), (459, 0.8274222819776933), (45, 0.8275832257137213), (1828, 0.8276585400568082), (1160, 0.8276633933571445), (1325, 0.8279681767906637), (811, 0.8281979458803026), (1751, 0.8282641754812732), (992, 0.8282953351702901), (205, 0.8284456221543959), (1384, 0.8287580363642832), (1780, 0.8288324086106914), (738, 0.8290436989750403), (1319, 0.829141698519893), (1036, 0.829271384389824), (78, 0.829370978455924), (1874, 0.829436216458404), (74, 0.8298777072854613), (706, 0.8299028140181925), (1257, 0.83003872931368), (1928, 0.8300575742837981), (175, 0.8301891707611859), (424, 0.8302939585763172), (1226, 0.8303311769785838), (1165, 0.8303814173884905), (1669, 0.8308493315987002), (182, 0.830927585633485), (728, 0.8314061359156352), (927, 0.8315941855028492), (1132, 0.831682862458217), (527, 0.831855483044889), (347, 0.8321027627076816), (16, 0.8322688724567551), (1877, 0.8324015748472345), (641, 0.8324359888871316), (840, 0.8325719174075344), (934, 0.8325742186891156), (418, 0.8326033684153336), (416, 0.832784474556581), (2027, 0.832793495596947), (1832, 0.8328393957188072), (1106, 0.8330222123952649), (1293, 0.8330623945969708), (2004, 0.8330952511264702), (248, 0.8332235189259803), (1696, 0.8332524348317398), (1618, 0.8332568678118977), (456, 0.8334054457822386), (693, 0.8334609884725996), (1674, 0.8334862449485902), (802, 0.8336272227773147), (1126, 0.8337199352655041), (925, 0.8338023204404958), (847, 0.8338049767049964), (130, 0.8338207920320819), (531, 0.8339641892257632), (521, 0.8341021807096034), (988, 0.8341241812106944), (140, 0.8341627690225613), (1043, 0.8343540224992865), (2017, 0.834789435046345), (1237, 0.8348228528063377), (264, 0.8349167726682627), (391, 0.8349321950706206), (1258, 0.8352843752945633), (1853, 0.8352952886499116), (432, 0.8353373411674949), (975, 0.8354682230482786), (100, 0.8354811748636773), (1411, 0.8355330856301795), (1774, 0.8355455022921341), (839, 0.8355549248646498), (15, 0.8356151955678908), (1213, 0.8356699373134123), (107, 0.8357781081957057), (831, 0.8360816910987235), (314, 0.8361595028377805), (1352, 0.8362837569604763), (1966, 0.836630350582431), (490, 0.8366605533351499), (1641, 0.8366859225466594), (553, 0.8367239175771041), (688, 0.8367931917458372), (532, 0.8369156831608272), (358, 0.8371113006274304), (1932, 0.8372128920983315), (1209, 0.8372146536306977), (2000, 0.8372195767516046), (287, 0.8372804891589622), (280, 0.8373138131385781), (348, 0.8374453207553096), (1688, 0.8375316056891781), (506, 0.8376011293978635), (1039, 0.8376789842952708), (870, 0.8378850092191636), (1260, 0.8379991132508978), (117, 0.8380091367166239), (336, 0.8380271699899805), (1365, 0.8381190207067477), (626, 0.8381616906307118), (1049, 0.8382082186869738), (1038, 0.8383808108787811), (1157, 0.8383882247743781), (1539, 0.8384903312870273), (497, 0.8385173083237453), (41, 0.8386933157823201), (963, 0.838813659345632), (1020, 0.8388369256679544), (1953, 0.8388537363438731), (1180, 0.839039912522308), (1759, 0.8391132348068495), (596, 0.8391323741290697), (801, 0.8392200628495173), (703, 0.8392368485422314), (4, 0.8392527027771388), (1865, 0.8396110682258803), (971, 0.8396180874577842), (1789, 0.8396932806598725), (724, 0.8398180950733213), (644, 0.8399551121416022), (938, 0.8400018724052494), (1898, 0.840071303205289), (1717, 0.8400762602012839), (2005, 0.8400829614584558), (1670, 0.8401492517562426), (567, 0.8401990302637883), (735, 0.8402619304193237), (852, 0.8404160659435576), (2009, 0.8405039739566856), (788, 0.8405549652346618), (598, 0.8408759280406505), (2028, 0.8410244597380784), (1501, 0.8410422487631704), (1101, 0.8411843825667573), (1278, 0.8413032219863663), (2066, 0.8414272439748638), (556, 0.8416627289858114), (1533, 0.8417609586935577), (387, 0.841803964629935), (730, 0.8423485200757475), (1207, 0.8423808334686347), (983, 0.8425300371661791), (171, 0.842904590115177), (794, 0.8429530894571435), (52, 0.8429902261500423), (545, 0.8432414524011167), (1588, 0.8432744728940083), (1538, 0.8435449779276148), (2031, 0.8437469123394478), (1801, 0.8438058003381841), (2042, 0.8438414459934221), (2038, 0.8440232585761157), (390, 0.844140682740419), (886, 0.8443021199892524), (792, 0.8444669184827546), (1290, 0.8445082602170895), (1627, 0.8446556791676205), (710, 0.8447115515644331), (1083, 0.8447999286013962), (768, 0.845120781824596), (1908, 0.8451599035993997), (281, 0.8452657409133397), (1690, 0.8454612009188426), (68, 0.8454736948289219), (166, 0.845666301746998), (1640, 0.845823615155123), (423, 0.8459867976554888), (1755, 0.8462498426688797), (2050, 0.8463630062089789), (372, 0.8464486515238994), (1971, 0.8465179144059298), (385, 0.8465845712551143), (434, 0.846588058867818), (1068, 0.8467084357174525), (568, 0.8467650397580075), (152, 0.8469058548161671), (105, 0.8469142947428892), (1998, 0.8469686580921264), (2024, 0.8470193131075243), (1479, 0.8470456133191453), (881, 0.8470612451066784), (1201, 0.8471234890151503), (948, 0.8471415356684067), (1822, 0.8472304000499509), (625, 0.8473237284621975), (906, 0.8473502549486507), (1546, 0.8474282783616165), (330, 0.8475800908382889), (1323, 0.8475831228621273), (1609, 0.8478123846494018), (1799, 0.8478420819778502), (1467, 0.8478780438420368), (1454, 0.848217166884608), (1851, 0.8482180878480481), (365, 0.8482188562411868), (1556, 0.8482572760678798), (1426, 0.8483282801222946), (1691, 0.8484564173181631), (1461, 0.848552448846944), (2064, 0.848590768460681), (1886, 0.8487226240920027), (1299, 0.848928582573172), (857, 0.8490077740221793), (431, 0.8491507219758276), (1868, 0.8491993322515595), (2036, 0.8492676012997731), (471, 0.8495518355133687), (1304, 0.8495792496414516), (667, 0.849789600969266), (634, 0.8500097659100933), (1327, 0.8500136925554691), (1377, 0.8501585269740497), (659, 0.8501979477673158), (1613, 0.850232490844973), (519, 0.8509306475661913), (1364, 0.8509603833985837), (1463, 0.8510773728865809), (2057, 0.8511775396472875), (911, 0.8515155451357195), (624, 0.8515625497841675), (524, 0.8519620994976865), (2065, 0.8521508909642852), (784, 0.8521586252036435), (2069, 0.8521741883846686), (1866, 0.8522511348319128), (604, 0.8523701215115035), (1637, 0.85267145630095), (1536, 0.85328115254708), (2073, 0.8533811950348957), (114, 0.8534718423608618), (1559, 0.8536121795688638), (1727, 0.8536840112456712), (549, 0.8536935606566234), (1802, 0.8537267129723358), (950, 0.8538123080933318), (282, 0.8540633214336532), (309, 0.8541506138008557), (637, 0.8541641960203448), (419, 0.8541650666847596), (1307, 0.8541755974427031), (1379, 0.8541810474926821), (2074, 0.8543249157539252), (1508, 0.8543660432658644), (1188, 0.8545380330375286), (178, 0.8545580529446921), (555, 0.8545887200738458), (1579, 0.8546450300721083), (1080, 0.8549890519189913), (1892, 0.8550001510923341), (1602, 0.8556615115562629), (1297, 0.8557211224131729), (1200, 0.8559064932295806), (1686, 0.8559828597625895), (584, 0.8559983779178625), (1856, 0.8560944270039252), (600, 0.8561391517281817), (989, 0.856223660406691), (2072, 0.8562598284812359), (2002, 0.8563762890910669), (1842, 0.8564030842231289), (1860, 0.8564646229152774), (1639, 0.8565896027659954), (1600, 0.8569699335614162), (102, 0.8571237787646605), (1631, 0.8571819639495928), (1040, 0.8573494422053184), (1683, 0.8574512122644181), (1520, 0.8574827371821934), (602, 0.8576135703947974), (1816, 0.857672499752655), (1923, 0.8576905751113468), (332, 0.8578918761179505), (239, 0.8580018297048788), (32, 0.8581575885812107), (2058, 0.8582289021950298), (1781, 0.8582799390221216), (694, 0.8585034136849016), (1471, 0.8586329662849255), (292, 0.8586809107330634), (993, 0.858833651641215), (1665, 0.8588466651497444), (276, 0.8590557607212835), (1356, 0.8590778481419978), (1240, 0.8591510705193057), (72, 0.8592140490282723), (463, 0.8592388689044335), (334, 0.8595104040094117), (1033, 0.8595142905556312), (25, 0.8595166959363174), (1819, 0.8595307885213508), (482, 0.8596506703498336), (837, 0.8598335173748988), (389, 0.8598474080597837), (926, 0.8599093308010368), (47, 0.8599300153169219), (295, 0.8601688894454804), (1274, 0.860176119187841), (1397, 0.8602475791009824), (2071, 0.8603363357178632), (638, 0.8605103024972742), (510, 0.8606625535436474), (1053, 0.8606647659763864), (496, 0.8609269315043494), (428, 0.8611647317838514), (1510, 0.86125365306252), (1267, 0.8613490560274275), (1986, 0.8613922327065892), (969, 0.861406713446122), (2047, 0.8615720320654183), (172, 0.8618449592097585), (1292, 0.8619571493110367), (1309, 0.8620349400637465), (1651, 0.8621404556646), (979, 0.8621852161541201), (1873, 0.8622257245542654), (1003, 0.862254578767028), (1777, 0.8625956450508243), (2068, 0.8626638850276007), (902, 0.8626664461840715), (183, 0.8626691645635302), (1235, 0.8627544574522483), (1019, 0.8628122678814965), (815, 0.8628770090362792), (1935, 0.8630648865430863), (707, 0.863084290645574), (447, 0.863191777859084), (1733, 0.8632796760744907), (953, 0.863352091816883), (1103, 0.8637335278116463), (1420, 0.8638571331934367), (1700, 0.863864177382818), (9, 0.8640960394763796), (1181, 0.864163411934371), (2084, 0.8642245804230224), (1752, 0.8642488448314741), (689, 0.8644534504098833), (1903, 0.8644636541585823), (1456, 0.8645395755028127), (1558, 0.8645820908492781), (1358, 0.8646121403099325), (937, 0.864665525882637), (29, 0.8648298586092461), (1861, 0.8649783290597666), (742, 0.8650049184222901), (954, 0.8651754297199328), (856, 0.8652912012190717), (1367, 0.8653967086838997), (1351, 0.8654141839505816), (135, 0.8655472880187864), (1178, 0.8655885630539318), (924, 0.8656737232427574), (1268, 0.8657137665232943), (1763, 0.8657397910824242), (526, 0.8658630166697383), (1807, 0.8660134584628961), (354, 0.866063291204297), (1518, 0.8661517632727753), (123, 0.8664977923101413), (186, 0.8665462777086781), (692, 0.866568081076338), (20, 0.8666383236350742), (2020, 0.8666502784899772), (529, 0.8667061346868562), (833, 0.8668181073240144), (242, 0.8670426614202519), (848, 0.8670683520998723), (1969, 0.8671845148090022), (1962, 0.8673814360050316), (1725, 0.867477819469149), (1027, 0.867780583343622), (1179, 0.8677945083265663), (1870, 0.8678303351403276), (202, 0.8679752756849115), (1884, 0.8681919578712813), (311, 0.8682199165863445), (1841, 0.8686732358848339), (195, 0.8686883590006264), (842, 0.8687566436730316), (91, 0.8687586317337315), (616, 0.8687842064035664), (1077, 0.868813321991964), (1202, 0.8688621058643805), (153, 0.8690093347099933), (1834, 0.8690510556798926), (1699, 0.8693413087415408), (1186, 0.8694206700762737), (2070, 0.869456297490624), (1480, 0.8695734707099172), (1057, 0.8697999870761143), (1909, 0.8698090408017383), (290, 0.8698779723069209), (1718, 0.8699825105808818), (308, 0.8700726979447375), (726, 0.8700914546791874), (2082, 0.8702428254460499), (1204, 0.8703649796039679), (832, 0.8703823081066726), (1645, 0.8705591623916582), (2055, 0.870764852497164), (776, 0.8708067059157917), (272, 0.8712861769046193), (224, 0.8712984802403346), (982, 0.8715823676054), (1111, 0.8715941491695592), (324, 0.8716666929535668), (1465, 0.8717424978403829), (770, 0.8721418086100428), (891, 0.8724170122626808), (1997, 0.8726615421149883), (1773, 0.8726927408705577), (288, 0.8727343407536352), (615, 0.872927011232167), (57, 0.8730569168471211), (79, 0.8732180086711486), (223, 0.8732371421051346), (294, 0.8734147172767496), (1721, 0.8734234141509694), (569, 0.8736414545706958), (1812, 0.8736483608821163), (721, 0.8738455746851765), (1121, 0.8738489872999101), (2063, 0.8739556549824734), (711, 0.8740188913444307), (1623, 0.8740408775115664), (685, 0.8741161149709107), (635, 0.8741634462927955), (544, 0.8742687752014101), (646, 0.874433056930182), (2, 0.8744681485603139), (2091, 0.874523263921025), (1066, 0.8745265802672062), (579, 0.8745430796051753), (1653, 0.8747022943083684), (2087, 0.8748145690595027), (141, 0.8751179655146253), (2045, 0.8751208397867174), (1330, 0.8751347034932164), (2075, 0.8753604525100115), (1069, 0.8754158763556179), (1092, 0.8755330077272172), (1675, 0.8755548521625803), (959, 0.8757349300087307), (949, 0.875827765814457), (1002, 0.8761557726001495), (1634, 0.8763538381520193), (1604, 0.8764242080558922), (1785, 0.8764437722430147), (1735, 0.8767147147093298), (246, 0.8767298556976647), (446, 0.8768526961019586), (44, 0.8768717585948683), (1635, 0.8769030980375895), (1347, 0.8769333471285548), (2060, 0.8770439921258654), (1322, 0.8770993070720552), (686, 0.8774124878423293), (1795, 0.8774207002676307), (1248, 0.8774275646389947), (1400, 0.8774347514345391), (1130, 0.8775145030411662), (741, 0.8775487668556533), (473, 0.87773799872729), (2083, 0.8778551259387095), (680, 0.8779102333534765), (772, 0.8782178658101358), (1970, 0.8783123275995026), (1972, 0.878354298721421), (402, 0.8783876704130248), (2090, 0.8784342806202838), (1957, 0.8784930411320491), (392, 0.8786818038350628), (1893, 0.8787017971871661), (767, 0.8788424068667025), (1888, 0.8789180856829383), (2092, 0.8790737348227126), (1448, 0.879076466075824), (1249, 0.8791065575398515), (136, 0.8793952095069364), (1125, 0.8794335664017057), (1682, 0.879618227915887), (158, 0.8797041434188398), (2076, 0.8797126884812767), (356, 0.8797380402548297), (1357, 0.8797583408749263), (608, 0.8799851719704572), (1018, 0.8801351892452898), (2059, 0.8802308579735206), (143, 0.8803934413567949), (1263, 0.8804194434334721), (1987, 0.8804806298235561), (1151, 0.880700980320577), (1776, 0.8808394107517534), (1982, 0.8811838797379312), (1088, 0.8813836530708007), (462, 0.881451387567188), (733, 0.8816103868127498), (966, 0.8816150635538333), (512, 0.8816539006372135), (1984, 0.8816885063181383), (1762, 0.8817587969166888), (1630, 0.8817862661554569), (147, 0.8818244262179916), (491, 0.8818583249687488), (986, 0.881905226491114), (1402, 0.8819702477154029), (944, 0.8819982171319335), (85, 0.8820785417154668), (1296, 0.8821792171444831), (1994, 0.8823310793245551), (1995, 0.8824136163192822), (299, 0.8824468398917962), (1037, 0.882737742422306), (228, 0.8830817095104841), (705, 0.8831055872166279), (55, 0.8831341046776467), (480, 0.8831614582057211), (1171, 0.8833781827819387), (1823, 0.8835832474980642), (2089, 0.8835881637644715), (137, 0.8836363827874405), (1778, 0.8836595256180093), (1655, 0.8836747518273296), (1741, 0.8837293603818861), (1220, 0.8838219277772218), (1429, 0.883885887924859), (1770, 0.8840092881551476), (1771, 0.8840314424270804), (981, 0.8840808615052237), (592, 0.8841473034042391), (1793, 0.8841701836483052), (1242, 0.8842863556723565), (716, 0.8843221238716459), (698, 0.8843646635815379), (374, 0.8844071512850861), (1318, 0.884762326649697), (256, 0.8848900336744081), (511, 0.8849011202386885), (740, 0.8850005430960003), (714, 0.8851769344353596), (1251, 0.8851774162678668), (2061, 0.8854224066702401), (559, 0.8854877068393643), (494, 0.8855177287800097), (111, 0.8855438557784728), (1829, 0.8855953661890688), (1907, 0.8858419354487564), (561, 0.8858704492353391), (751, 0.8858721764040036), (1815, 0.8860914084968792), (2051, 0.8861045614030558), (216, 0.8861875481549797), (883, 0.8862605754377044), (916, 0.8863064217550021), (1647, 0.8863900660265083), (222, 0.886483340528984), (64, 0.886559054429821), (1769, 0.8865896883408682), (1360, 0.8867784130081491), (1633, 0.886968006610729), (1168, 0.8870153000619698), (109, 0.887068857654454), (684, 0.8872348810849076), (1835, 0.8872965357209937), (2013, 0.8873986322045693), (769, 0.887471564453553), (2095, 0.8875029497888018), (1205, 0.8875597456525914), (363, 0.8875997923360536), (1449, 0.8876940766562245), (214, 0.8881433358636216), (10, 0.8881777221825179), (1453, 0.8882924462128401), (1464, 0.8884325461154099), (1734, 0.8884808417760253), (492, 0.8886195031078027), (2001, 0.8887012324343798), (543, 0.8888383906302346), (1333, 0.8889390604154952), (850, 0.8890157222014394), (639, 0.8890176470158082), (129, 0.8892372235859262), (1493, 0.8893249903897854), (1523, 0.8895585324827568), (1342, 0.8897475633465638), (552, 0.8897889501951717), (1960, 0.8898492509701821), (1308, 0.8900520702756718), (804, 0.8901162991087115), (353, 0.8902152330312231), (753, 0.890352617476871), (806, 0.8904202842757034), (203, 0.8904695745636886), (1355, 0.8906132755226674), (665, 0.8906666346360452), (58, 0.8906847325553926), (2062, 0.8907747132511469), (1949, 0.8908595318781977), (1515, 0.8909251452317268), (843, 0.8909451575169121), (1354, 0.8909754374110931), (485, 0.8910513708900969), (1029, 0.8911624239321899), (190, 0.8911896974370479), (2086, 0.8911910631063386), (1916, 0.8912911755571444), (1959, 0.8912993502814281), (1414, 0.891310197097533), (1845, 0.891388746253232), (1989, 0.8917082017374897), (1398, 0.8917215267582501), (142, 0.8917310247866473), (23, 0.8917887612258024), (513, 0.8918455250637675), (2053, 0.8920130979573798), (30, 0.8922324961062623), (1472, 0.892276996059012), (1380, 0.8924230366953089), (723, 0.8924892419741057), (1561, 0.8925098901117848), (1990, 0.8925479779488126), (193, 0.8925860773590675), (795, 0.8926493495013808), (148, 0.8928408053330958), (660, 0.8930074863711763), (1507, 0.8930584359225866), (537, 0.8931877214578368), (1847, 0.8932453106710445), (1074, 0.8932456705271686), (679, 0.89345799790242), (1164, 0.8936495728553536), (1981, 0.8936862966991805), (1564, 0.8937112746268446), (1513, 0.8937409244301686), (696, 0.8938440187290437), (1642, 0.8938966014171863), (674, 0.8938968423186425), (2081, 0.8939442136045754), (1862, 0.8945029697298752), (145, 0.8945173488620299), (1067, 0.8945722435851762), (206, 0.8946436615787347), (1943, 0.8946969737575827), (760, 0.8949128575792391), (1902, 0.8949323736349573), (1361, 0.8949616233154354), (1836, 0.8951611038419784), (1096, 0.8951793789213046), (1509, 0.8951950915950525), (758, 0.8952648431038751), (398, 0.8954724403729206), (39, 0.895544445879498), (1087, 0.8955889729456832), (1127, 0.8955900326208966), (761, 0.8957077686361924), (1596, 0.8957387363336983), (339, 0.8957488481467809), (26, 0.8957550554660015), (945, 0.8962230648090367), (994, 0.8964238355485669), (548, 0.8964544736845984), (713, 0.8965251460245323), (2088, 0.896656957345093), (1636, 0.8966930243146886), (62, 0.8969071663764567), (752, 0.8970158916581048), (968, 0.8971278575611025), (238, 0.8972731580678854), (359, 0.8975068626957704), (814, 0.8975683116347893), (571, 0.8975783160698388), (1952, 0.8976431975450838), (335, 0.8978364237058931), (1621, 0.8978715288634211), (1514, 0.8979558085267239), (1882, 0.8980093718641906), (775, 0.8980672183070402), (327, 0.8982918579911149), (885, 0.8983358131033439), (319, 0.8985561416602207), (1830, 0.8986016978149256), (1565, 0.8988421574380429), (470, 0.8991517563317554), (951, 0.8993164115100262), (878, 0.8995849796859964), (48, 0.8996683490732701), (1488, 0.8997075357893498), (322, 0.899842205730621), (1979, 0.8998598764588969), (427, 0.8999242671778881), (2015, 0.8999364830594185), (1394, 0.8999467931036353), (1880, 0.9000029168768092), (509, 0.90007883180098), (1017, 0.9001407147018239), (321, 0.9004822018737979), (1921, 0.9006748614602043), (179, 0.900675622656222), (400, 0.9007011388232058), (787, 0.9011188278505982), (1497, 0.901275021804904), (941, 0.9013005242058043), (159, 0.9015648360993559), (1985, 0.9017024220908596), (2078, 0.9017844845844301), (2067, 0.9018282485007758), (1369, 0.9020287516266174), (98, 0.9020346697105484), (350, 0.9021739962035564), (306, 0.9023052940956651), (666, 0.9023164942758477), (560, 0.9025015403614494), (1963, 0.9025708987430683), (818, 0.9026844374397054), (796, 0.902756522501887), (505, 0.9029102340952255), (340, 0.9031510072963849), (581, 0.9031912005445628), (2054, 0.9033999153966739), (947, 0.9035958139008735), (1790, 0.9037292902463332), (825, 0.9038728892269979), (1973, 0.9038774193440617), (2021, 0.9039225303322562), (1406, 0.9040298793921219), (1227, 0.9042817334312492), (2077, 0.9043018260666245), (964, 0.9043571221399493), (1334, 0.9043741380932315), (1097, 0.9044355415122945), (430, 0.9044555423326184), (1678, 0.9044946844809255), (984, 0.9045041837734371), (1530, 0.9045238425215717), (303, 0.9046040722849233), (1940, 0.9046515402887585), (1673, 0.9049409261499276), (699, 0.905120609016149), (251, 0.905296701372765), (1872, 0.9053460976493289), (1541, 0.9059516115176778), (219, 0.9061413165184198), (1791, 0.906249983049166), (933, 0.9063726171029537), (578, 0.906458316616643), (1820, 0.9066009506373652), (1500, 0.9071165021697919), (1264, 0.9071451680602385), (647, 0.9072302674246744), (449, 0.9073639919504778), (940, 0.9074836461158031), (691, 0.9075605797658947), (500, 0.9077132781529402), (367, 0.9077368071500533), (1133, 0.9078792226250234), (1370, 0.9079188422160539), (448, 0.9080034533578878), (268, 0.9080339356311371), (585, 0.9080706784419801), (1724, 0.9083237652396661), (1031, 0.908468922579942), (1182, 0.9085639139259247), (1199, 0.908568712527063), (687, 0.9085835564666463), (468, 0.9086014826282204), (2080, 0.908752056728505), (748, 0.9088954766960233), (1048, 0.908912051427418), (259, 0.9090858642170185), (1026, 0.9091918785573774), (1992, 0.9092367989543928), (1648, 0.9095394838473135), (277, 0.9096660192449402), (2079, 0.9098024209631442), (898, 0.9098327024677222), (1585, 0.9098706961496745), (77, 0.909976394975856), (2012, 0.9100871186310935), (333, 0.9102220353020349), (1926, 0.9105338627378416), (139, 0.9105816627220596), (357, 0.9108373410334446), (343, 0.9109521843647328), (807, 0.9110174584091562), (1104, 0.9113548277202566), (300, 0.911507239579981), (370, 0.9115777110934967), (1338, 0.9116337996206167), (572, 0.9117686057436563), (478, 0.9118185631409472), (918, 0.9118208118672317), (819, 0.9118482103337651), (1099, 0.9118649052099197), (1684, 0.911929444794922), (1954, 0.911979417885409), (972, 0.9120929354000945), (83, 0.9121252125603564), (863, 0.9121853626737759), (1581, 0.9121855303442317), (2032, 0.9121910401298432), (337, 0.9125693017859337), (289, 0.912696760960278), (120, 0.9128258735397682), (1298, 0.9128644624760603), (1141, 0.9130412454408657), (1505, 0.9131374388976977), (212, 0.9131817375144717), (329, 0.9133078656823352), (1437, 0.9133137142414264), (1328, 0.913341412655123), (882, 0.9134021678316037), (82, 0.9134533648727674), (138, 0.9136873913107914), (293, 0.9137224429804693), (868, 0.9137247358559529), (1391, 0.9137291842325581), (1772, 0.9140232056805214), (1373, 0.9141086239089655), (1065, 0.9142650886040221), (1259, 0.9143026764307461), (1215, 0.9143429669132653), (1821, 0.9143602859426937), (942, 0.9143943128030751), (960, 0.9144937061967244), (403, 0.9145461821992389), (1955, 0.9145865079273672), (475, 0.9149101596834757), (1754, 0.9149847450729056), (1980, 0.9151481793944664), (296, 0.9152113066585134), (73, 0.9152651339513025), (1177, 0.9153167012106207), (1657, 0.9154929751995617), (1951, 0.915557686142208), (1270, 0.9155986448153521), (690, 0.9158544776201119), (1343, 0.9158645440211507), (865, 0.9159545034489727), (928, 0.9160024369610678), (1740, 0.9160970395530913), (274, 0.9161656585956673), (998, 0.9162939104607901), (1899, 0.9163759583902755), (486, 0.9164035296174962), (1265, 0.9165052148317427), (682, 0.9166542153145969), (970, 0.9166671825427591), (1150, 0.9167422241514338), (1996, 0.91728107851144), (302, 0.9173934183335765), (209, 0.917420031480391), (474, 0.9174654531112392), (1271, 0.9175831113840792), (1078, 0.9176020483603673), (1446, 0.9177117783419477), (1238, 0.9179396176483466), (653, 0.9181089511670929), (1283, 0.9181560889242009), (1854, 0.9183854864889724), (1045, 0.9184140659119369), (1991, 0.9184148129765993), (1792, 0.9186047086047457), (2085, 0.9186203524047566), (84, 0.9186552567954266), (676, 0.9186578137798035), (1667, 0.9187385403718595), (1808, 0.9187395141699987), (1702, 0.9190188990560856), (2105, 0.9191938073841806), (1864, 0.919354757497727), (2102, 0.9193874714117948), (1742, 0.9195177774418664), (586, 0.9196323988515305), (341, 0.9196613602657855), (1726, 0.919662936143847), (1931, 0.9202028838261663), (731, 0.9203009102603973), (493, 0.9203243063532981), (955, 0.9203816889502098), (1447, 0.92044954386048), (1214, 0.92155291971461), (1977, 0.9217171761265713), (1305, 0.921868192442551), (903, 0.9219218244937712), (1443, 0.9219473598391636), (1545, 0.922045468689355), (1279, 0.9221858658002836), (245, 0.9222451906045938), (2022, 0.9223232419926599), (1392, 0.9223784276507939), (165, 0.9224645703366355), (1176, 0.9227457047803185), (1273, 0.9228490059014883), (1196, 0.9229285502923121), (379, 0.9229731231366075), (593, 0.9230074482294074), (1473, 0.9230513704274288), (1294, 0.9230528840067688), (1939, 0.9230955901104883), (1622, 0.9231894456274683), (1529, 0.9231966934020128), (895, 0.9232923561987312), (2056, 0.9233213370251256), (1974, 0.9233424080645839), (250, 0.9234930530080558), (1528, 0.9235806265150028), (1591, 0.9237792333402465), (133, 0.9242720671887552), (351, 0.9242770993007685), (1320, 0.9243620003059839), (1136, 0.9246412122703994), (1153, 0.9249049684401113), (1006, 0.9251898853870247), (1988, 0.925256316761175), (1512, 0.9253351205120097), (1116, 0.9253784340655218), (1455, 0.9255858196711804), (1203, 0.9258563507266528), (1537, 0.926020514619267), (718, 0.9260488570819704), (681, 0.9260736011124104), (1685, 0.9261303518735636), (1089, 0.9263307609347435), (1632, 0.9263563458804135), (461, 0.9263936390730785), (900, 0.9264289889046808), (1272, 0.9268540671530566), (845, 0.926891526339738), (1266, 0.9269075482373071), (1424, 0.9271389170625521), (476, 0.9274220596558835), (754, 0.9275267318178013), (1610, 0.9277385815803318), (1432, 0.9278563996862196), (749, 0.9278630796688461), (1668, 0.9278847454092548), (1705, 0.9279408727198908), (1547, 0.9280074310088988), (1427, 0.9281863419039014), (1231, 0.9282189718768067), (658, 0.9283553829232928), (61, 0.9283701540683099), (1389, 0.9284127667403635), (149, 0.9284561918009414), (913, 0.928580742843688), (1779, 0.9286327611468671), (1032, 0.9287529041336987), (1652, 0.9287538017823841), (1350, 0.9291896282131774), (1253, 0.9293479024651765), (157, 0.9293591508104291), (1753, 0.9295319356494194), (1407, 0.9295485248049911), (1658, 0.9297123834224048), (1396, 0.9298609493563047), (1138, 0.93026322646569), (939, 0.930444484708791), (1193, 0.9308665476651405), (1663, 0.9308829533988128), (1562, 0.9309258151321935), (570, 0.9310143134156112), (194, 0.931174983609498), (1094, 0.9312296117568157), (1023, 0.9312699481125153), (1487, 0.9313233559084602), (782, 0.9316087246694624), (597, 0.9317223399564435), (1557, 0.9317810314680829), (605, 0.9319213865324034), (563, 0.9319323791169449), (799, 0.9319459408920455), (267, 0.9320179484937705), (1592, 0.9320582870423425), (1300, 0.9320701739460364), (1423, 0.9320819698458372), (1586, 0.9322259643131643), (1590, 0.9325138161687697), (611, 0.9325223948510253), (846, 0.9325441520690738), (965, 0.9326476990879615), (1697, 0.9326688749366251), (932, 0.932747823975457), (247, 0.9328628745446949), (1527, 0.9330238196589116), (1154, 0.9332213695919708), (1254, 0.933386385743459), (1137, 0.9334147636870442), (595, 0.9334492394658366), (8, 0.9334496928614379), (1920, 0.933534464575026), (1348, 0.9338141117329684), (1806, 0.9341801219962746), (28, 0.9342796956045529), (978, 0.9345119218211589), (1695, 0.9348567727200937), (1175, 0.9348754461299854), (240, 0.934912961175474), (399, 0.9350157019732334), (1025, 0.9350365059017893), (1784, 0.9351290825517565), (631, 0.9351429257873834), (1418, 0.9353485122270314), (199, 0.9353897519868348), (1619, 0.9354056270418949), (764, 0.9354355380620702), (275, 0.9354964329579484), (187, 0.9355641264654297), (101, 0.935605536218492), (648, 0.936133898267449), (1889, 0.9362011124400179), (144, 0.9362600525397574), (709, 0.9363235646759858), (180, 0.9365730936072397), (609, 0.936616586190208), (1149, 0.9367534429542694), (1095, 0.9367718942143886), (620, 0.9369673212157181), (619, 0.9369899927220126), (580, 0.937012337252694), (1593, 0.9370210935886991), (1805, 0.9370439667894704), (155, 0.9372552679942281), (297, 0.9373102713845789), (1482, 0.9373900101038423), (90, 0.9377832628991065), (1452, 0.9380051773920959), (1050, 0.9385573140259352), (805, 0.9386674736404292), (1661, 0.9387154596709735), (1435, 0.9387936102219633), (1109, 0.9388415898808503), (930, 0.9391244936873094), (1551, 0.9392477482937682), (1978, 0.9393584733490081), (71, 0.939410226978002), (860, 0.9395045337481392), (1438, 0.9395246669139717), (1704, 0.9396998255184505), (5, 0.9398183980057591), (617, 0.9399026980586578), (855, 0.9400471728245652), (573, 0.9402558170055471), (1232, 0.9403557340409614), (320, 0.9405043804383921), (1597, 0.9406057113448748), (503, 0.9406927989786078), (520, 0.9407624242121377), (1650, 0.9407985741696782), (1013, 0.9408219656020584), (1871, 0.9409281019480301), (1030, 0.9412594150331537), (582, 0.9413515369441685), (1295, 0.9414234787227721), (81, 0.9418190452188662), (1975, 0.9419554062209914), (1722, 0.9420968809112734), (880, 0.9421209502523382), (590, 0.9422315998177184), (2049, 0.9423054204660856), (1009, 0.942324236693572), (1445, 0.9426553346961346), (1809, 0.9431185489678484), (920, 0.9432221019084236), (42, 0.9432326774234562), (562, 0.943265828680355), (189, 0.9437201469030241), (780, 0.94386047439234), (1388, 0.9440159011810698), (999, 0.9440208261552845), (1646, 0.9441610052082647), (958, 0.944449633152555), (40, 0.944546627501041), (1614, 0.9446258656986928), (1869, 0.9446982443623906), (1198, 0.9447302093123782), (1441, 0.9448557524150414), (1814, 0.9450791768112703), (771, 0.9453611574110493), (1275, 0.9454230944648581), (168, 0.9456864073302365), (591, 0.9460274288177726), (1750, 0.946037431995667), (2099, 0.9460458248399354), (2093, 0.946171749599882), (21, 0.9464627881608529), (1381, 0.9464646640879062), (1288, 0.9467507727134306), (773, 0.9467775612721989), (1625, 0.9468699586570382), (817, 0.9472343552577621), (516, 0.9473347417119449), (410, 0.9474105964782454), (1000, 0.9475892296887071), (777, 0.9476383672306046), (437, 0.9477561137352023), (1594, 0.9478497253260372), (1782, 0.9483246092225711), (897, 0.9483856856795259), (411, 0.9485543126174925), (973, 0.9485923764559214), (80, 0.9486496114815165), (1571, 0.9487979528056074), (1574, 0.948868646742921), (785, 0.9489954037747115), (7, 0.9490233530677009), (134, 0.949081709552736), (1736, 0.9491481618749715), (261, 0.9491585563516776), (1247, 0.9491791646880773), (1568, 0.9493637203993164), (1638, 0.9494363979754981), (896, 0.9495413922317323), (1535, 0.9497478852388106), (1521, 0.9502659934835872), (1353, 0.9503700613841517), (1543, 0.9505721503134896), (241, 0.9506328161538626), (1723, 0.9506567258834143), (1491, 0.9506706571010788), (1466, 0.9506992441666609), (1362, 0.9507013543418557), (793, 0.9507245571702193), (221, 0.9508039914093982), (412, 0.9508238498868289), (1122, 0.9509595386629976), (1938, 0.9513137093958196), (1284, 0.9514723817227366), (1255, 0.9516848362596462), (35, 0.9518123972979485), (697, 0.9518647884582472), (1052, 0.9519190508019513), (783, 0.9520198644430629), (1469, 0.9520812399222622), (603, 0.9522757852313959), (1746, 0.9530356605905667), (1345, 0.9530679268061356), (1767, 0.953077237658855), (664, 0.953234784733419), (630, 0.9532721153321108), (231, 0.9534695843586628), (874, 0.953765455821892), (375, 0.9537690117265961), (1572, 0.953786224323375), (66, 0.9538352742903443), (1166, 0.9538666868389123), (1195, 0.9541975608153264), (121, 0.954318927085556), (747, 0.9544100337642317), (1901, 0.954434762187741), (1930, 0.9546420460893452), (22, 0.95479987876427), (1761, 0.9548397028863727), (454, 0.9549535901145169), (1390, 0.9549994482650899), (2044, 0.955032409818327), (443, 0.9551361659955417), (1229, 0.9552102116563397), (1131, 0.955278817626093), (746, 0.9554377901359133), (1008, 0.9554782325948369), (1144, 0.9556559819156135), (861, 0.9563691531731195), (1054, 0.9566499255301874), (1485, 0.9568795112109912), (1885, 0.9571138326463601), (2025, 0.9574040667933803), (1276, 0.9574200327624997), (1587, 0.9574721362836534), (1082, 0.9575269699037887), (24, 0.9575463521272802), (1620, 0.9576452680766216), (677, 0.9577160317598522), (1282, 0.9578427953661548), (169, 0.9579156345108102), (952, 0.9579294723599883), (1336, 0.9583355377997446), (717, 0.9586176987061834), (126, 0.9586574117512131), (204, 0.9586737832683957), (1185, 0.958687687407899), (266, 0.9586972943290493), (678, 0.9587435182732211), (1919, 0.9587647434960669), (192, 0.9593409308005199), (1110, 0.9596156334220085), (1616, 0.9597114466166852), (1881, 0.960277673517064), (1818, 0.9603265453173742), (1694, 0.9603689847097492), (1331, 0.9604380150863419), (1595, 0.96063144772056), (1910, 0.9608251801533878), (1313, 0.9608845455324554), (1062, 0.9609362472612133), (990, 0.9609885605981566), (31, 0.9614596401387498), (1189, 0.961551313671234), (1649, 0.9615745954141488), (820, 0.9616220412211608), (2003, 0.9616385352882616), (745, 0.9617172464568371), (766, 0.9620789868068831), (1011, 0.962205542860685), (1948, 0.9622649368022564), (1554, 0.96235305200511), (1316, 0.9624239981830818), (188, 0.9625528078469131), (643, 0.962826010349549), (1152, 0.9630391517085077), (673, 0.9633335661874948), (60, 0.9634198166301269), (2104, 0.9635300625565276), (167, 0.9638320250452713), (622, 0.9639060415515897), (2030, 0.9639102874497197), (1239, 0.96400305680613), (6, 0.9641259464163602), (892, 0.9641941931560715), (1803, 0.9644218547405198), (838, 0.9651917526539834), (1827, 0.9657379100096456), (1128, 0.9658536267010286), (574, 0.9661427722895594), (1945, 0.9661456776691372), (1519, 0.9661688361677636), (1664, 0.966529551362438), (1332, 0.9665924227822398), (1123, 0.966631358202411), (695, 0.9667050323490892), (1689, 0.9668556383300578), (328, 0.9668861619609987), (601, 0.9669050557005247), (404, 0.9669090794637231), (38, 0.9669441098961951), (2101, 0.9670147652445509), (781, 0.9670435761508903), (720, 0.9670918081458248), (1468, 0.967244264502329), (304, 0.9672545040294868), (1183, 0.9674886341642028), (919, 0.9676448282424346), (342, 0.9677061084426863), (1385, 0.9678798892002193), (851, 0.9681147903066142), (1417, 0.9682206014744533), (1277, 0.9684776259273797), (889, 0.968799819615418), (1534, 0.9690913953411233), (1034, 0.9691007560446745), (743, 0.9691574055038946), (1063, 0.9694946691350957), (923, 0.969597345212047), (763, 0.9697970189342726), (734, 0.9698036928042965), (750, 0.9699730018740381), (1680, 0.9700247334191188), (962, 0.9700917824144019), (3, 0.9701280141621879), (201, 0.9701514294514695), (407, 0.9702632354067847), (2097, 0.9703112615020024), (675, 0.9705263342590983), (1720, 0.9706438109589738), (1010, 0.9707799068209697), (1459, 0.9710000882196271), (1155, 0.9710581252515174), (1425, 0.9710844481756198), (2040, 0.9713297942633783), (866, 0.9713648433810973), (1599, 0.9715573229387044), (1436, 0.9716442821586923), (59, 0.9718529138690447), (824, 0.97190873185464), (1492, 0.972110138807027), (67, 0.9722668085884046), (1428, 0.9732401049161239), (1191, 0.9732609798815137), (1826, 0.9733520552960315), (1549, 0.9734534720941209), (672, 0.9734593086532839), (774, 0.973618916610119), (1757, 0.973669987747681), (1440, 0.9737529115268948), (502, 0.9738062332180115), (2046, 0.9740827912122888), (118, 0.9741335717682985), (1236, 0.9743353043248877), (1145, 0.9743538483308957), (2034, 0.9745055331934297), (1624, 0.9745187593277033), (364, 0.9751668429766261), (1001, 0.9755879973897681), (725, 0.9757263294668193), (164, 0.9759165622702239), (2011, 0.9759789431314521), (1517, 0.9764684268331889), (645, 0.9765153725483875), (1285, 0.9766400714973568), (803, 0.9770000566457404), (1124, 0.9773508727110296), (1470, 0.9777404667133838), (1451, 0.9778014911706107), (535, 0.9778824507504971), (614, 0.9781689389346331), (1134, 0.978462344919067), (1502, 0.9788981867913437), (525, 0.9789956296386979), (408, 0.9791311151769861), (1679, 0.9791846949934195), (935, 0.9792938642625574), (722, 0.9794511382818952), (249, 0.9797409159799513), (877, 0.9798016622502802), (113, 0.9799442284263368), (957, 0.9800651413160274), (618, 0.980276892577741), (816, 0.9803892906726357), (211, 0.9804327839405678), (1615, 0.9806561502119137), (565, 0.9807663100367422), (1813, 0.9808272882861799), (1, 0.9808296419179676), (1208, 0.9810568097387378), (1532, 0.9811478911211325), (1516, 0.9813050665758778), (210, 0.9813308028971385), (307, 0.9816670636732818), (1950, 0.9819970399805376), (154, 0.982312265282326), (1739, 0.9826203294693209), (1672, 0.9830843145070461), (1544, 0.9834503012623981), (1552, 0.9835824356047549), (1745, 0.9837304141963944), (1306, 0.9839287214511138), (890, 0.984005812705116), (1786, 0.9841479701646599), (899, 0.9844643889076606), (1522, 0.9844907701169187), (258, 0.9846761800437374), (1922, 0.9847565751557399), (547, 0.9850303519831137), (936, 0.9852049033932416), (349, 0.985206875768753), (1148, 0.9852570068932789), (1681, 0.9855635658548171), (1511, 0.9855813342670838), (217, 0.9856094618534437), (170, 0.9861167521633087), (1302, 0.9862567749068532), (1876, 0.9866220029599407), (244, 0.9869366036087687), (208, 0.987614379931793), (2006, 0.9884362525385877), (2007, 0.9888068947827267), (755, 0.9888090853830709), (2103, 0.9888966953652975), (2026, 0.9892247070428305), (369, 0.9892576536688431), (156, 0.9894575988744869), (1662, 0.9903563555602923), (495, 0.9908847198732033), (1486, 0.9910706774329093), (1368, 0.9913513702796616), (1933, 0.9918002577268437), (607, 0.9925086433203896), (2098, 0.9926931486056944), (797, 0.9928392301251558), (663, 0.9928795132978063), (1531, 0.9930439860484733), (1303, 0.9931426196239487), (1756, 0.993370252819877), (1542, 0.9934260201285533), (1163, 0.993578782343319), (291, 0.9937439046174892), (444, 0.993981811796329), (1478, 0.9941938170749605), (1831, 0.9942537566127831), (599, 0.9945576538424911), (181, 0.9948773805807496), (798, 0.9950084600722672), (1404, 0.9950289402812609), (985, 0.9953897202003248), (708, 0.9957323187556621), (2096, 0.9959872532623768), (1190, 0.9962805486666123), (1252, 0.9964635081620878), (1583, 0.996474080335651), (921, 0.9965133736710692), (1184, 0.9966001493172972), (1760, 0.9969808936883996), (36, 0.9970542544754376), (1194, 0.9970689607685288), (661, 0.997297421068129), (594, 0.997413100989453), (1070, 0.9975768107562146), (1301, 0.9976050338819024), (1766, 0.9981049143132152), (1022, 0.9982266457739692), (99, 0.9993056086405178), (523, 1.000278216292188), (830, 1.0010426908194408), (589, 1.001391764486156), (1958, 1.0016739892730746), (1603, 1.0019227816647218), (670, 1.0023006178581486), (112, 1.0023554934491012), (110, 1.0024588367105827), (115, 1.0024773744044917), (278, 1.002663684184026), (1246, 1.0029270661830092), (1490, 1.0029548372818078), (786, 1.0032439385689236), (162, 1.0038602450880068), (810, 1.0048282477314026), (732, 1.0048664406317875), (373, 1.0053079018123834), (671, 1.005332722206247), (338, 1.0055540697043748), (613, 1.0056855356004144), (445, 1.0059160995762078), (1286, 1.0060388094444557), (744, 1.0062726097874994), (1129, 1.0065065706863252), (956, 1.0073061194398623), (961, 1.0074457057436095), (1363, 1.009455543347817), (504, 1.0102321433903196), (163, 1.0105301018131898), (1540, 1.0106424757517447), (1496, 1.0113845854067511), (2094, 1.012003517320589), (922, 1.0123111286840114), (1415, 1.0130103370496248), (669, 1.0141379059651732), (1573, 1.0141881942618127), (869, 1.0146043311977417), (458, 1.0148811510158633), (1692, 1.015235069890007), (862, 1.0155794315230888), (1233, 1.0166322718299479), (438, 1.0166668873188118), (161, 1.0171947091121218), (1192, 1.018184136150603), (2100, 1.0181947620130218), (191, 1.0185602112109993), (1566, 1.0190342537521715), (1481, 1.0196920478687264), (160, 1.0202185204915213), (887, 1.0205911682764361), (1612, 1.0210905479604593), (1611, 1.0218686801971566), (756, 1.0221457372004026), (612, 1.0243569311335916), (1656, 1.0244466112848316), (481, 1.0248372957102398), (1580, 1.0255186643824667), (995, 1.0280078586979653), (405, 1.029030197553081), (1337, 1.0354933203812222), (1867, 1.0367850070469804), (894, 1.0426978508399165), (1589, 1.0445062258465585), (315, 1.046851774421404), (1489, 1.0510644880264357), (1477, 1.0543267857400502), (483, 1.0556890024610612), (864, 1.0579480766239904), (1498, 1.0582387644171152), (479, 1.0586018100345016), (1494, 1.0595458128654267), (1287, 1.0615603684896293), (991, 1.06748870243197), (1550, 1.0795527656355304), (1458, 1.0810988301383841), (477, 1.121977143241761)]\n",
            "\n",
            "\n",
            "======================\n",
            "\n",
            "\n",
            "Query: How to throw away the glass\n",
            "\n",
            "Top 5 most similar sentences in corpus:\n",
            "1142\n",
            "傘の出し方 (Score: 0.1661)\n",
            "1044\n",
            "消火器はどのように廃棄すればよいか (Score: 0.1757)\n",
            "426\n",
            "古布の出し方 (Score: 0.2094)\n",
            "429\n",
            "われたもの（ガラス・陶器など）の出し方 (Score: 0.2174)\n",
            "1140\n",
            "発泡スチロールの処分の仕方 (Score: 0.2182)\n",
            "[(433, 0.22773574952579412), (432, 0.33717810437974816), (1138, 0.44363124985243085), (436, 0.4551912110537276), (469, 0.47988139925507567), (884, 0.5235070019361073), (390, 0.5473320384674051), (698, 0.5519953741780435), (1079, 0.5592921961215633), (394, 0.5606060895792196), (383, 0.5685227400208681), (1125, 0.5754959457956292), (437, 0.5766050649938571), (385, 0.6032859369912005), (391, 0.6036763119293996), (386, 0.6202794586229211), (384, 0.6318761720161262), (1031, 0.6330478779851767), (113, 0.63318623408224), (423, 0.6342187986049507), (345, 0.6374846927565239), (114, 0.648884394883058), (977, 0.6555935040346275), (1890, 0.6604306949756088), (435, 0.661952508780713), (115, 0.6631471962982136), (1465, 0.6637362452002548), (197, 0.6658830740784729), (467, 0.6722823132109685), (1076, 0.6728891845777356), (604, 0.678325717014), (1107, 0.6802484152781537), (397, 0.6821890036160632), (566, 0.685425105150792), (1490, 0.6868559965022583), (434, 0.6935972208749687), (470, 0.6946579028897992), (1106, 0.695783003023192), (1201, 0.6960096193426216), (1393, 0.6965688276556437), (272, 0.697009409063005), (1752, 0.7028916460715546), (251, 0.7054593186239715), (169, 0.705803579958207), (282, 0.7062940828438395), (628, 0.7065011448278781), (1586, 0.7075509023797153), (1383, 0.7094308344775584), (112, 0.7103645640103559), (1139, 0.7104319655200717), (1065, 0.7117494641844836), (745, 0.7139986369332809), (1516, 0.718148121176849), (396, 0.718992045701916), (1108, 0.7190615738164137), (1481, 0.7191459970352422), (983, 0.7191835753099217), (487, 0.7202791216235037), (746, 0.7206664122886042), (42, 0.7212054788963318), (568, 0.7217419586220624), (998, 0.7224338928737835), (1927, 0.7227812132150636), (1520, 0.7241908042222599), (1382, 0.7244810222837043), (424, 0.7254593666383371), (1939, 0.7254893974081207), (1432, 0.7282194265517798), (263, 0.7284237933910307), (720, 0.7290966440973369), (393, 0.7307196649854479), (438, 0.7309239282809312), (354, 0.733021830187387), (441, 0.7341482336937938), (1534, 0.7347779071475808), (550, 0.7348738131805987), (1442, 0.7383647436749456), (1375, 0.7385351610307809), (1584, 0.7388230058658622), (980, 0.7388904604356694), (431, 0.7398962587891256), (892, 0.7402644251320698), (1587, 0.7408379182601179), (313, 0.7410805187864871), (389, 0.7420103730804368), (1657, 0.7422047558250457), (515, 0.7432249040127927), (1250, 0.743466916221884), (514, 0.7441864336364931), (1063, 0.7455206120376263), (1505, 0.7463351494951944), (1094, 0.7467450499626539), (1480, 0.7470942347208545), (1589, 0.7488797080694799), (1374, 0.7491402543194567), (1675, 0.7494523705207997), (1172, 0.7499274578898998), (1609, 0.7500152526471282), (2107, 0.7500849583113565), (1694, 0.7509196738672118), (828, 0.7509799380387334), (460, 0.751098801919856), (1954, 0.7514894160469633), (1401, 0.7516956027738535), (285, 0.7520999035154672), (982, 0.7540733289034978), (488, 0.7551237977677762), (1064, 0.755131959928631), (117, 0.7568082399435729), (172, 0.7573772643281781), (70, 0.7574769394287147), (840, 0.7576841736184711), (489, 0.7581225947209823), (1040, 0.759142673210795), (1492, 0.7598919237653905), (111, 0.7602629753983563), (1938, 0.7604158910982359), (622, 0.7610269985227518), (439, 0.7615418440071144), (348, 0.7620245097802932), (981, 0.7629368997985305), (1441, 0.7633272923403357), (1658, 0.7635457434906163), (1195, 0.7642836772909543), (89, 0.7644247480898516), (1940, 0.7645521990705957), (1485, 0.764895616377758), (344, 0.7649593795808433), (371, 0.765323451414402), (392, 0.7659129921496772), (1875, 0.7660802737237641), (588, 0.7663471357484054), (747, 0.7676268876031256), (1803, 0.7677662284443185), (815, 0.7683243928653589), (1205, 0.769020959372177), (347, 0.7690571049203518), (1347, 0.7691331650157698), (446, 0.7692332147163473), (1424, 0.7702860118557471), (451, 0.7704650990142187), (1703, 0.7705889575450464), (316, 0.7716210687355485), (1410, 0.7718576644728001), (1518, 0.7727226209325843), (1075, 0.7727483182488752), (1508, 0.7729089728764695), (40, 0.7729429571616029), (1506, 0.7732234117738295), (1113, 0.7732465832543034), (1378, 0.7733213743915055), (1924, 0.7739667803287716), (1519, 0.7742197776538335), (315, 0.7743664931925152), (549, 0.7748092011844019), (755, 0.7748495609473984), (1295, 0.7749105321809103), (744, 0.7750480225023768), (1806, 0.7752186208216193), (778, 0.7754552136336017), (1049, 0.7756340070975268), (1937, 0.7757007235910339), (505, 0.7767667825459883), (1687, 0.7768769095062387), (1768, 0.7781614625474499), (1336, 0.7785689872268133), (1936, 0.7790453588795316), (1591, 0.7796996800047263), (974, 0.77982444163019), (1532, 0.780072627287456), (311, 0.7803044212045662), (541, 0.7812016237074891), (448, 0.7818144059063686), (1521, 0.7821137316695437), (449, 0.7822158408413109), (1673, 0.7822731621932281), (1091, 0.782902854192876), (1283, 0.7832945396218598), (1809, 0.7838855832326683), (1942, 0.7843764742631687), (988, 0.7848866584053215), (413, 0.784941268522636), (1358, 0.7853844473211259), (466, 0.7858580246436891), (1652, 0.7866087086441316), (1992, 0.7866750753805034), (1562, 0.7867140378957069), (1301, 0.7872993602134533), (468, 0.787938234059117), (310, 0.787968141675682), (1762, 0.7883733206826249), (800, 0.78847449056803), (1117, 0.7887768347440692), (440, 0.7888188441640365), (1199, 0.7902037763879228), (940, 0.7904695945505487), (1542, 0.7909191940205502), (542, 0.7909499387106346), (260, 0.7910640044262829), (1445, 0.7911445441707311), (991, 0.7916599280714913), (857, 0.7925730009524783), (567, 0.7927746124909137), (719, 0.7928601430913794), (613, 0.792876939081619), (1121, 0.7929513040505276), (858, 0.7930848388258847), (551, 0.793174713266367), (1380, 0.79332823595139), (612, 0.7933292203747415), (2000, 0.7934083340878467), (120, 0.7938773300840081), (284, 0.7939584540266951), (671, 0.7940528282448005), (787, 0.7944238566823798), (1955, 0.794506440370787), (1200, 0.7948866752617406), (1377, 0.7951061777531658), (296, 0.7968776593950132), (592, 0.7973779706562681), (718, 0.7975683560499645), (1316, 0.7977616990090179), (1564, 0.7978051798855107), (314, 0.798004547897773), (1522, 0.7980831656838887), (1093, 0.7983575682586395), (670, 0.7987910559359682), (255, 0.799211396697511), (257, 0.8000066622973948), (332, 0.8006355459676405), (917, 0.8013148364208234), (1750, 0.8016306873972684), (388, 0.8017017176953771), (507, 0.8017310259649839), (1379, 0.8017625129788216), (1384, 0.8020683672691882), (1650, 0.8022002757881533), (118, 0.8028049489743354), (841, 0.8029781062439677), (1479, 0.8032080500169617), (1969, 0.8034780980616012), (196, 0.8035197965002788), (1066, 0.8035450761665062), (1543, 0.8036734520871538), (859, 0.8037609001067841), (1607, 0.8040955019936711), (893, 0.8045299131449717), (1300, 0.8049428038064169), (404, 0.8049645199769326), (41, 0.805001107587416), (765, 0.8050192190909394), (337, 0.8053586287107048), (1846, 0.8053778684287636), (1069, 0.8055575792040366), (452, 0.8057317013232475), (91, 0.8060719266604179), (1500, 0.8066106820500551), (1009, 0.8066266887966), (1691, 0.8069303293402587), (565, 0.8069749750074853), (522, 0.8070398881507398), (80, 0.8072250021008285), (266, 0.8072804073198642), (2005, 0.8072973267726891), (1133, 0.8073787992040161), (1331, 0.8074230030819076), (1941, 0.8079798998675369), (1847, 0.8084777402292196), (1760, 0.8090510366884867), (1798, 0.8096171754683537), (756, 0.8098088748006849), (1249, 0.8101880987580012), (1613, 0.8105355087351337), (1127, 0.810629596191417), (130, 0.8107159028622765), (1707, 0.8108213335912025), (252, 0.8108861451785034), (546, 0.8109973757209856), (544, 0.811108110171086), (1372, 0.8112405044537562), (356, 0.8114580571123085), (35, 0.8117697982413408), (168, 0.8118354269722107), (1784, 0.8122257596283491), (1577, 0.812444357161183), (1081, 0.8127795327627879), (557, 0.8131197982896194), (226, 0.8137443376523263), (261, 0.8141210667086278), (1721, 0.8143490709076018), (675, 0.8143954983112196), (610, 0.8145750204214546), (491, 0.8146140222578637), (244, 0.8146828320747119), (853, 0.81497724740379), (726, 0.8150871251852679), (153, 0.8151582388496796), (55, 0.8155354652817833), (1373, 0.8160278650234791), (979, 0.8161473304872721), (909, 0.8163655883305722), (1706, 0.8164613632815718), (913, 0.8165199555334061), (517, 0.8167536181264896), (856, 0.8168232810289436), (382, 0.8170626028198601), (1965, 0.8173709038884747), (490, 0.8174267903147003), (1493, 0.8178102101047975), (447, 0.8186020707392831), (1140, 0.8186635255796306), (498, 0.8189048007436632), (1119, 0.8197483990111346), (170, 0.8199895077705481), (1109, 0.8201112491122149), (225, 0.8201889068905268), (1517, 0.8202998930232894), (534, 0.8204281737225526), (1302, 0.820493510101032), (1765, 0.8210759752644251), (2045, 0.8211547736246041), (1175, 0.8211975702900108), (953, 0.821400210391979), (1464, 0.8216233153759083), (1556, 0.8217059083112704), (838, 0.8217641095554091), (17, 0.8217822549633185), (306, 0.8219908006057346), (673, 0.8222015376024268), (1828, 0.8226612034748186), (499, 0.8229925966805856), (708, 0.8230109098602482), (672, 0.8230257600052087), (1685, 0.8230362562339876), (616, 0.8230570689840531), (429, 0.8233759767139729), (1632, 0.8239236836182824), (229, 0.8240634301066063), (401, 0.824620284521415), (1701, 0.8251055686474282), (545, 0.8251715093700895), (2036, 0.8254712653006312), (508, 0.825819141966472), (1766, 0.8258681017138189), (2012, 0.8258934099911435), (1840, 0.8259743873400132), (1044, 0.8264898437248647), (1177, 0.8269145652932655), (559, 0.8272024586878688), (1507, 0.8272270186961197), (444, 0.8273947886882298), (1255, 0.8276868664626793), (1120, 0.8283949997696318), (357, 0.8285426313019663), (31, 0.8285763259312883), (1934, 0.8288807140565183), (164, 0.8290856640933146), (1303, 0.8291162252097171), (1590, 0.8291864248222713), (1285, 0.8292546287610996), (1904, 0.8293045769837619), (2055, 0.8293999636604675), (570, 0.829409186270249), (1096, 0.8294953746893224), (1575, 0.830566281472396), (1756, 0.8306785484270403), (214, 0.8308487605849116), (1169, 0.8309420476795549), (1137, 0.8311601313545615), (1112, 0.8311939746152844), (827, 0.8316030884635899), (322, 0.8316376123105353), (1321, 0.8317108427823429), (1135, 0.8320047433400615), (280, 0.8320961336098062), (1952, 0.8324583634820313), (72, 0.8329596411740268), (1824, 0.8330098350851369), (301, 0.8330757334735454), (1884, 0.8339449530355106), (795, 0.833961653832693), (355, 0.8342319484372296), (1848, 0.8343910737384019), (1580, 0.8346755982476558), (1981, 0.8351528606773679), (1416, 0.8351541429935001), (1425, 0.8354931570821891), (1608, 0.8357812375256579), (819, 0.8357949852361137), (897, 0.8361116158713703), (409, 0.836525753577393), (454, 0.836812049073894), (1626, 0.8370509068353008), (1949, 0.8370674281830339), (942, 0.8371575544721723), (1486, 0.8371788963114684), (1434, 0.8373494424532482), (1551, 0.8373891368439353), (308, 0.8374319582854548), (782, 0.8374587828307286), (1087, 0.8375094151424652), (1550, 0.8377687038135715), (914, 0.8382406705135149), (442, 0.8386591950946226), (1826, 0.8390552129857886), (227, 0.8393816736655106), (1753, 0.8394011937001761), (2049, 0.8397256050124313), (157, 0.8400639318836806), (1511, 0.840368001977935), (1067, 0.840651393995258), (1167, 0.8407857634839191), (794, 0.8411298285685901), (380, 0.8411543644853214), (1409, 0.8412540074088397), (1807, 0.8412710156200576), (1181, 0.8415577681482407), (826, 0.8417599616266851), (159, 0.8420612904469019), (1827, 0.8422724728242098), (1866, 0.8423721435822423), (563, 0.8424633442582431), (165, 0.8424757123482489), (262, 0.8425423139980887), (854, 0.8425725454430457), (493, 0.8426955294781281), (1349, 0.8430430883560678), (717, 0.843108155931255), (1054, 0.843118996469552), (1526, 0.843362081346933), (1182, 0.8433879035314578), (925, 0.8434424787923501), (1419, 0.843588590044813), (1224, 0.8435893604739636), (831, 0.8437067314898401), (427, 0.8438241948478887), (524, 0.843849253566187), (699, 0.8439762996131659), (955, 0.8439818000391207), (1929, 0.8441714351891284), (1951, 0.8441785610715838), (1165, 0.8443180839365679), (63, 0.8443559537207135), (733, 0.844462586279741), (928, 0.8447060361494255), (1092, 0.8447476047421824), (317, 0.8447825732123853), (94, 0.8447961159801571), (352, 0.8452839416560007), (158, 0.8454213848184645), (1610, 0.8460173752508818), (119, 0.8462969046788624), (924, 0.8466160477649063), (754, 0.8466995849728626), (1901, 0.8467046966960466), (669, 0.8467896769865023), (1163, 0.8469303614050266), (2051, 0.8469873242756751), (516, 0.8476307199317837), (879, 0.8476356386440442), (1863, 0.8476399375130954), (1525, 0.8477038353555251), (2020, 0.8477820881488818), (1776, 0.8478368398374252), (1999, 0.8478502515556816), (478, 0.848257464929691), (804, 0.8484057035282786), (971, 0.8486228736083394), (152, 0.8486713476030641), (1964, 0.8489547307554027), (1420, 0.8490250883400781), (2098, 0.8491757055606121), (1839, 0.8492056452255721), (1686, 0.8492431268372891), (689, 0.8493338802661597), (1990, 0.8494616133669153), (1012, 0.8495941569606356), (127, 0.8497072059396733), (2023, 0.8498093768070489), (1345, 0.8498903516395588), (1436, 0.8501121593068662), (1293, 0.8503433126281148), (1975, 0.8504183689636778), (92, 0.850480889025707), (1719, 0.8505155772902397), (1022, 0.850794773116375), (194, 0.8508217655979001), (1314, 0.8508953942271924), (1440, 0.8509352199773319), (943, 0.8510789029445046), (1697, 0.8514317797397631), (483, 0.8515175290025169), (1348, 0.851713311708182), (256, 0.8518024196504521), (1919, 0.8522129596637354), (500, 0.8522331984786157), (156, 0.8522686286053813), (1080, 0.8524862938482292), (1945, 0.8524884823105464), (321, 0.8527191638640674), (662, 0.8527553791265374), (582, 0.8527793885651536), (674, 0.8528426548366534), (230, 0.8528690862597939), (961, 0.8530679332629372), (1042, 0.8533040773069958), (309, 0.8534463112811087), (1495, 0.8537328889760633), (556, 0.85383007044876), (340, 0.8538894692795012), (1647, 0.8539133159999658), (1722, 0.8539439651108943), (294, 0.8540709721213476), (242, 0.8541381852106723), (1315, 0.8541790230702715), (648, 0.8541952781946385), (1950, 0.8542135540069209), (415, 0.8544938820304356), (911, 0.8545736784968956), (1268, 0.8546896466461062), (846, 0.8550138268374662), (1259, 0.8550670362423674), (2043, 0.8551262306347812), (245, 0.8552576832586297), (1392, 0.8552842257717387), (837, 0.8553493378217196), (171, 0.8553600377634992), (1097, 0.8555681231951213), (1825, 0.855698486560469), (236, 0.8557234136238446), (601, 0.8557879043576395), (1202, 0.8558454900505991), (1578, 0.855859872948493), (2014, 0.8560399679313379), (1771, 0.8560515274635947), (1020, 0.8561018961762621), (146, 0.8565769396338474), (1156, 0.8567966802356453), (945, 0.8568109797598293), (198, 0.8568556937171763), (1968, 0.8568621284041078), (655, 0.85694053473761), (88, 0.8570121271898112), (654, 0.8570203775123973), (1431, 0.8573810925863892), (231, 0.8574041830321351), (1896, 0.8574774980158577), (173, 0.8575437109539326), (1248, 0.857571332327054), (2042, 0.8577320432769644), (806, 0.8578055118253279), (1203, 0.8578748297438561), (807, 0.8579181677573475), (129, 0.8579227368313451), (855, 0.8579393249480536), (891, 0.8580259284168346), (994, 0.8580280868331059), (2013, 0.8580582721396008), (1546, 0.8580807521013504), (1792, 0.8583034752935903), (192, 0.8583223738082573), (140, 0.8586012340613692), (1189, 0.858858043180292), (1595, 0.859088807685496), (1099, 0.8591437495194277), (166, 0.8592440201818478), (457, 0.8594170983341951), (1090, 0.8594927342457919), (84, 0.8595040262737127), (600, 0.8595452716538234), (1142, 0.8595459415409257), (184, 0.8596274887975668), (863, 0.8596541452362165), (1048, 0.8597292636440352), (319, 0.8598355934277487), (1642, 0.8600487864140194), (539, 0.8600981424798166), (1576, 0.8601164008376628), (1074, 0.8601260209779691), (1180, 0.8601577936786041), (1920, 0.8601670190251981), (1544, 0.860210188246069), (312, 0.8602840530281872), (1292, 0.8606432203353973), (767, 0.8607673135095466), (927, 0.8608775965062182), (2105, 0.8609445238057791), (739, 0.8610443916135804), (1757, 0.8610729260693897), (1699, 0.8611389281007762), (752, 0.8611448860702526), (1767, 0.861231839607592), (1690, 0.8615213819943339), (1157, 0.8616118276208138), (1563, 0.8616240859636872), (103, 0.8616484117872975), (1820, 0.8618016454281834), (1659, 0.8618769545277714), (1365, 0.8619236916198657), (881, 0.861944476336669), (1174, 0.8619637561774803), (1231, 0.8620822331773853), (1433, 0.8621814654091586), (395, 0.8626803484615135), (2024, 0.8627116239291596), (1068, 0.8627155830510989), (98, 0.862754436326467), (986, 0.8628477701485078), (2039, 0.8629785410089864), (1001, 0.863016901819068), (87, 0.8634580398180451), (1206, 0.8634756027420835), (978, 0.8638084287742002), (1273, 0.8639256726193513), (1123, 0.8639862817749899), (1164, 0.8640929515230594), (305, 0.8642128331770343), (1835, 0.8643857373765041), (1058, 0.8644810718116843), (638, 0.8644870910738853), (791, 0.8647259373450125), (1531, 0.8647716831003208), (836, 0.8647739591299306), (1310, 0.8649266386461382), (292, 0.8650794129574139), (346, 0.8653378198526467), (1623, 0.865457080887538), (248, 0.8654898281835681), (1306, 0.8656079718507443), (1700, 0.8657815577489324), (1122, 0.8658383664818994), (1130, 0.8658512962150366), (1925, 0.8660336059616445), (1779, 0.8663228335269295), (162, 0.8663484113496012), (1260, 0.8664822622220764), (381, 0.8665521713172203), (1611, 0.8667617135196602), (1617, 0.866802379583447), (1173, 0.8671457867098328), (174, 0.8672654966781012), (71, 0.867277511707617), (972, 0.8673663888298799), (426, 0.8674461294242005), (1105, 0.8674604937686519), (122, 0.8676816849071366), (2028, 0.8677463585760212), (190, 0.867829705436962), (246, 0.8678341424172451), (751, 0.8680815861127079), (513, 0.8681434279277921), (1190, 0.8681507269231086), (1297, 0.8682214631411944), (658, 0.8682543393785807), (987, 0.8682750874968935), (30, 0.8684337778855167), (642, 0.8684498319525328), (1677, 0.8686182192704153), (116, 0.8686316866393061), (558, 0.8687138917205635), (1021, 0.8687579888387005), (1179, 0.8687693923853634), (757, 0.8689265562691738), (985, 0.8689677063251582), (973, 0.8689905805706493), (1494, 0.8690367848204177), (2070, 0.8690395619551736), (1477, 0.8691139759738574), (724, 0.8695060559376099), (1499, 0.8695104572910006), (976, 0.8697277770184577), (951, 0.8699344090450807), (1804, 0.8700905598405715), (1547, 0.8701879237547238), (1553, 0.8702345740861253), (792, 0.8702536155195766), (969, 0.870320795730789), (781, 0.870425164431997), (1043, 0.8704516986772614), (1533, 0.8704667358670951), (1219, 0.8705653491269285), (1838, 0.871015111209958), (1970, 0.8710478028555841), (768, 0.8711012143340902), (770, 0.8711813074643613), (702, 0.8712567031316015), (1188, 0.8713360602844933), (422, 0.8714400195077745), (1781, 0.8714841555248015), (817, 0.871590894738816), (1958, 0.8715928604826325), (125, 0.8717417398651733), (890, 0.8717633365564348), (1497, 0.871765240217213), (1655, 0.8717693023834179), (2008, 0.8718468544225892), (1638, 0.8718875414571714), (1037, 0.87195876822342), (471, 0.8719889359001859), (793, 0.8720250449419419), (1953, 0.8720460457900661), (898, 0.8720686110554952), (110, 0.8720710638200826), (2017, 0.8722219093397949), (60, 0.872311273214104), (692, 0.8723645067587756), (362, 0.872490552535255), (676, 0.8725506973598232), (56, 0.8725871553359684), (683, 0.8726893569699863), (581, 0.8727121124973594), (421, 0.8727802332033457), (667, 0.872857118771713), (93, 0.8730091822654152), (1422, 0.8732088158752825), (1984, 0.8732264798171611), (1630, 0.8735657080808216), (1983, 0.8736116476931791), (109, 0.8737992771971873), (1196, 0.8738573088782119), (47, 0.8738976954181157), (776, 0.8740288305251208), (216, 0.8740359483093323), (1660, 0.8741670969712012), (271, 0.8741906953704534), (1572, 0.8744218413205338), (621, 0.8745632570628784), (1308, 0.8746126761255959), (788, 0.8747029556592952), (1995, 0.8747357261852375), (1446, 0.8747619669448783), (1849, 0.8747624790937414), (2073, 0.8747999838289837), (1391, 0.874852935928), (1663, 0.8748765684127764), (2034, 0.8748815167461372), (2068, 0.8749279043403404), (163, 0.8750798259114457), (1501, 0.8751140044601694), (763, 0.8753395437816334), (134, 0.8753427148146891), (603, 0.8753753310074404), (915, 0.8755521058368667), (492, 0.8756083213656498), (265, 0.8757712995646247), (193, 0.8757811842309033), (1651, 0.8758515682194098), (1339, 0.8759757950895645), (802, 0.8759894941298888), (58, 0.8760378037697207), (705, 0.8761988266455466), (1141, 0.8763177365194109), (738, 0.8763409783338966), (760, 0.8765116380840561), (935, 0.8765828319409905), (1783, 0.8766045568176355), (1447, 0.8766843111537728), (659, 0.87670687819823), (821, 0.8768719947238018), (1987, 0.8769864067849352), (290, 0.8770556555058999), (576, 0.8771130378537695), (1350, 0.8771163435318063), (124, 0.8772306830004661), (1429, 0.8772342323208618), (1309, 0.8772389318893158), (288, 0.8773562991882906), (1253, 0.8773920679958458), (1843, 0.8773938409320688), (532, 0.8775812165946351), (968, 0.8777596820996986), (948, 0.8777893699593913), (560, 0.8779993682753854), (790, 0.8783027406850279), (2072, 0.8783182993829859), (302, 0.8784748214168631), (1274, 0.8784904470485863), (1366, 0.8786522270127297), (202, 0.8788396171152489), (509, 0.8788923519836835), (268, 0.8789450168273366), (761, 0.8789999605255997), (90, 0.8790224010541522), (1147, 0.8791313095306688), (8, 0.879309499967145), (1947, 0.8793753528670037), (1154, 0.8794161642528319), (811, 0.8794781959358344), (1166, 0.8794963435905121), (960, 0.879512333960819), (753, 0.879682473391974), (1996, 0.8798546998223506), (135, 0.8799322426443169), (1857, 0.8799769434125457), (2074, 0.8800299358955774), (1561, 0.8801630973029587), (1487, 0.8802639224757604), (324, 0.8803031122564272), (1946, 0.880384011046659), (2048, 0.8804062379543512), (289, 0.8807342750378251), (1812, 0.8807464405865643), (625, 0.8808279738649033), (1982, 0.8809207590569056), (1144, 0.8809490665478412), (283, 0.881023865595954), (481, 0.8810244932599459), (1335, 0.8814018911967071), (1921, 0.8814262295824368), (1509, 0.8814553697403984), (1865, 0.881643171260551), (1527, 0.881686931069058), (330, 0.8817059159879639), (1549, 0.8817262044172849), (1452, 0.8818248400265596), (44, 0.8818863704179645), (1146, 0.8818916451006759), (1143, 0.8820969777809611), (277, 0.8821155219068358), (1504, 0.8821840850075326), (910, 0.882185960024197), (342, 0.882209557826664), (2064, 0.8823123449736953), (1785, 0.8823162290551492), (643, 0.8825132408480162), (1263, 0.8825619951038507), (548, 0.8826040148690532), (872, 0.8827586510224942), (1235, 0.882785795427802), (2071, 0.8828727214462309), (1800, 0.8829163306543852), (885, 0.8829327223380379), (2033, 0.8831721081246314), (136, 0.8832351727779756), (459, 0.8834908432891526), (886, 0.8835200704984761), (1103, 0.8838196584561114), (29, 0.8838457331000874), (1837, 0.8839221690095034), (1510, 0.8844252144431376), (1261, 0.8844624855284343), (43, 0.8844858380595664), (137, 0.8844929509116647), (1991, 0.8845006259470887), (199, 0.8845841544270934), (1641, 0.884734234123359), (1082, 0.8847536235757439), (4, 0.8847961614428597), (1398, 0.8847964979222597), (679, 0.8848818565612866), (1567, 0.8849568037792912), (275, 0.8850273759699837), (62, 0.8850526096045943), (1669, 0.8851867379120286), (1053, 0.8852218209433905), (220, 0.8852348143690207), (1923, 0.885243958850194), (605, 0.8853409410793701), (1656, 0.8854696776087297), (847, 0.8856574580293151), (630, 0.8856700109412975), (1051, 0.8857682712880821), (414, 0.8857691603518321), (480, 0.8859939574318624), (2063, 0.8860344016554258), (1367, 0.8861489769619412), (959, 0.8861716498126492), (503, 0.8862699176764612), (160, 0.8866313349910016), (1280, 0.8867432838527026), (1512, 0.8867494341841015), (1294, 0.8868005756361268), (766, 0.8868507273670238), (1307, 0.8869083912947244), (369, 0.8869500302461761), (464, 0.8869548582827834), (527, 0.8869779547722071), (185, 0.8870234052530827), (1118, 0.8870523153607492), (501, 0.8872064439675996), (820, 0.8872632593680669), (291, 0.8873357175830074), (1821, 0.8873669523080465), (1540, 0.8873761574684398), (295, 0.8873773777417339), (2058, 0.8875708366605547), (1790, 0.8876219408701003), (281, 0.8878701357718486), (2088, 0.8878862831407497), (1415, 0.8879179249509985), (161, 0.8880896998424312), (954, 0.8880900091709467), (602, 0.8880958595981383), (1226, 0.8881113420770061), (759, 0.8881657264542785), (1270, 0.8882320601647387), (939, 0.88831243759037), (1014, 0.8883495399010511), (1131, 0.8884044299194869), (533, 0.8884379584697584), (323, 0.8884736442386749), (1089, 0.8885202870549385), (896, 0.8885292896647301), (54, 0.8886733367600872), (2060, 0.8886899734383746), (989, 0.8888015430829401), (2091, 0.8888199360091638), (845, 0.888878297716861), (825, 0.8889349445213142), (1579, 0.888989492665968), (1961, 0.8890049262998835), (742, 0.8890319340466848), (6, 0.8891964626571867), (2067, 0.8892998325550601), (606, 0.8893114832699516), (741, 0.889369339089917), (2035, 0.8894348424715527), (1585, 0.8894665060329473), (2069, 0.889556238173012), (769, 0.889659724165399), (250, 0.8896601692111501), (1400, 0.8897851727191247), (1868, 0.8897855429451602), (1791, 0.8898032434503702), (1724, 0.8898604944874766), (1482, 0.8899508476321409), (425, 0.8899821586057788), (2062, 0.890165274396181), (2022, 0.8901960589100479), (1102, 0.8901961824252038), (1098, 0.8902725195580536), (839, 0.890330968611701), (1503, 0.8903767426440713), (1881, 0.890499934640364), (1601, 0.8905252237186683), (1023, 0.8905624012783311), (803, 0.8907347687100141), (1994, 0.8909328492110749), (1963, 0.8909367886393778), (476, 0.8909442907529366), (586, 0.8910975994102446), (949, 0.8911325681649331), (918, 0.8912573844880531), (286, 0.8913243109616684), (1222, 0.891361321548972), (2057, 0.891386992330119), (1357, 0.8914050916766538), (734, 0.891609684967497), (2065, 0.8916551042522055), (1761, 0.8916685513646044), (1829, 0.8918070745683156), (2002, 0.8920234680745062), (307, 0.8920572629489437), (1387, 0.8920884321203073), (176, 0.8921235314493727), (267, 0.8921794015517673), (126, 0.8922932500573921), (990, 0.8923216052180869), (510, 0.8923634916578587), (1430, 0.8923928864030497), (15, 0.8924041235778299), (379, 0.8924551434135993), (2047, 0.8925583767694936), (1886, 0.8926166264631894), (587, 0.892658374369258), (799, 0.8926859842282485), (2059, 0.8927839249308123), (278, 0.8927885388383608), (690, 0.893019709415275), (1569, 0.893067273679959), (1030, 0.8931672865825762), (1024, 0.893169281038075), (1653, 0.8934037847049947), (1046, 0.8935288718724942), (1619, 0.89377309779458), (1158, 0.8938148969425131), (591, 0.893818681927648), (779, 0.8938531309907566), (963, 0.8938827486172044), (512, 0.8939293198297711), (1476, 0.8940334752529383), (1457, 0.8940706678708157), (2090, 0.894169909390421), (1458, 0.894182127934675), (1111, 0.8942455338194489), (1454, 0.8942463805577322), (1844, 0.8942700973630574), (472, 0.8943323178787873), (175, 0.894335327770423), (547, 0.8943800861532055), (1426, 0.8943847132047862), (12, 0.8943987634584235), (1399, 0.894492884127159), (2015, 0.8947586255216732), (597, 0.8948773335232241), (2092, 0.8949288795774456), (1266, 0.8950807661450617), (215, 0.8956318751794432), (1276, 0.8956521066342265), (902, 0.89566829614329), (1279, 0.8957137078798616), (1971, 0.8957319729679389), (712, 0.895736209600423), (2086, 0.8959819410584006), (1088, 0.8960766071523334), (1616, 0.8962174478602307), (228, 0.8962936709351852), (511, 0.8965263295308189), (351, 0.8965491906917572), (237, 0.8966088686388195), (1026, 0.8966468227599761), (1600, 0.8966578991741385), (1236, 0.8967036107838446), (1170, 0.8967545697340356), (2089, 0.8968460115148892), (1989, 0.8968553467217242), (155, 0.8968587841143782), (361, 0.8968844684568184), (647, 0.8969528575345465), (1797, 0.8970970374873318), (1340, 0.8971084541646697), (1126, 0.8971380015720244), (207, 0.8971612306245986), (258, 0.8971647672506238), (188, 0.8972171509463971), (53, 0.8973053251290829), (1972, 0.8973652997818804), (1412, 0.8975147752548701), (644, 0.897661415184314), (1560, 0.8976957926321837), (812, 0.8978436696050036), (1708, 0.8978572927405759), (1178, 0.8979086201709424), (142, 0.8979643153533016), (595, 0.8982657036217252), (45, 0.8983549030811055), (219, 0.898378586883187), (2061, 0.898432724483185), (1944, 0.8984588461434118), (378, 0.8985146726905474), (1869, 0.8985169606986626), (1271, 0.8986662071225965), (1272, 0.8987087737292239), (966, 0.8988479533103904), (772, 0.8988520079319519), (1460, 0.8989260792732034), (455, 0.8989394185416746), (5, 0.8993270151783744), (1597, 0.8993327620583318), (967, 0.8993355543077745), (2081, 0.899357294840204), (2082, 0.8993920138731546), (1417, 0.8993985489424018), (1777, 0.8994071810517207), (1288, 0.89947190479284), (1466, 0.8995374954969338), (474, 0.8996252788279808), (975, 0.8996383432690658), (1545, 0.8996873139005429), (526, 0.8997342008249816), (645, 0.8999217016405308), (2076, 0.8999765824352303), (1319, 0.9000028251203387), (59, 0.9000072547701702), (270, 0.9000276544081333), (1444, 0.9000698489993978), (1805, 0.900081429409642), (1150, 0.9001137073943738), (1211, 0.9002728041411764), (1355, 0.9002879763255198), (1334, 0.9003326341652853), (1528, 0.900345280359741), (525, 0.9004128196044996), (209, 0.900419577189174), (141, 0.9004936185917225), (2021, 0.9005540046760667), (728, 0.9005633746808672), (1538, 0.9006074372706817), (1115, 0.9006525533412553), (732, 0.900692493067286), (183, 0.9007048415476031), (850, 0.9007717540159519), (1332, 0.900798230004645), (1208, 0.901156944221262), (796, 0.9012283374728395), (57, 0.9012574156733181), (19, 0.9012801471278942), (387, 0.9013650757614518), (2027, 0.9014732963593787), (2085, 0.9014785152265485), (1209, 0.9014817374159855), (46, 0.9015328157532868), (1238, 0.9015582401431874), (445, 0.9015940926457549), (1640, 0.9016172338241842), (2030, 0.9016239606528816), (1187, 0.9016687033044789), (1661, 0.9017171896759796), (365, 0.9018019293000629), (729, 0.9018540222825446), (191, 0.9018770546518068), (1284, 0.9019442135708872), (1744, 0.9021568037384434), (1390, 0.9022094730486151), (997, 0.902229257452142), (607, 0.9023085336344775), (1475, 0.9023657480589901), (634, 0.9024269766462558), (1136, 0.9024620581466208), (1286, 0.9025756055669522), (2004, 0.9026385988502774), (2087, 0.9029456912725637), (1598, 0.9030590341088724), (823, 0.9030968964153937), (1005, 0.9031711859522393), (1593, 0.9032055863616236), (102, 0.9032352643013934), (1407, 0.9032367152639743), (832, 0.9033372773758864), (463, 0.9033851931839467), (1469, 0.903414875968773), (416, 0.9034244203157481), (2080, 0.9035056838122938), (1017, 0.9036341491752102), (327, 0.9036459462514853), (66, 0.9038242144029255), (873, 0.9038254131419785), (1573, 0.9038775053582544), (585, 0.9038903966247988), (2066, 0.9040453110277947), (894, 0.9040455410269985), (1435, 0.9040560467358237), (2018, 0.9040960252438931), (2078, 0.9041303426499888), (1403, 0.904399180439999), (1782, 0.9046227625028634), (370, 0.9046419185171672), (833, 0.9048881737076949), (624, 0.9049280462434652), (0, 0.9050152186924891), (2041, 0.9051259424764547), (2083, 0.9051724908589078), (218, 0.9052207219248138), (97, 0.9052337570904031), (1304, 0.9053414157931942), (1582, 0.9054781194131515), (926, 0.9054982157987473), (1311, 0.905563001502189), (877, 0.9057338515937984), (1264, 0.9059634544995824), (1851, 0.9060555044844985), (2038, 0.9060906384000844), (2075, 0.9062259484266897), (1841, 0.9062724688595951), (83, 0.9063537876329736), (1796, 0.9064131389539298), (1192, 0.9064636014395453), (1922, 0.9064739703168876), (700, 0.906693294819015), (1352, 0.9067764780609582), (553, 0.9068925498795616), (691, 0.9069551509720017), (1025, 0.9069836798949445), (627, 0.9072892734363045), (48, 0.9073562149293964), (273, 0.9073998007785015), (1629, 0.9074985575389191), (1324, 0.9077293586013072), (1291, 0.9078178621439313), (764, 0.9079015365168385), (1836, 0.9079062019774289), (1191, 0.9080145052664402), (1859, 0.9080165012410661), (749, 0.9082649976486344), (32, 0.9082671924520067), (1855, 0.9084703137623823), (1905, 0.9086228691524219), (2, 0.9088290633142787), (530, 0.9088942186862812), (748, 0.9089440210681262), (528, 0.9089769859497011), (1056, 0.9090071911728118), (2050, 0.9090300692873037), (477, 0.9090967592730765), (182, 0.9090972647835271), (33, 0.9091003658070356), (195, 0.9092038722437291), (1483, 0.9092204988580467), (1594, 0.9092232191842272), (575, 0.909239567498055), (1634, 0.909260349085794), (325, 0.9092835162715914), (2096, 0.9093452074314851), (1491, 0.9094263827041849), (1322, 0.909435857367145), (279, 0.9094777359779873), (253, 0.90949389297119), (1007, 0.9095948055224716), (326, 0.9096069572983033), (876, 0.9096505171422166), (1889, 0.9096667369846447), (1038, 0.9098228408585877), (1530, 0.9098269699148956), (123, 0.9098491894524401), (276, 0.909955767519207), (693, 0.9100244743958427), (39, 0.9100928629051291), (934, 0.9102120452683617), (1581, 0.9102692621107764), (1397, 0.9102983161852377), (1614, 0.910299077700969), (562, 0.9104131737448239), (1628, 0.9104519673172479), (1019, 0.9104903766144151), (1269, 0.9105559031338943), (343, 0.9106430265027334), (1184, 0.9107396977073868), (2077, 0.9107718667055511), (1793, 0.9107866979228318), (1161, 0.9108222935835553), (453, 0.9109018796759922), (484, 0.9109146483859148), (598, 0.911084626027058), (2044, 0.9111632196855787), (1732, 0.9111786289412099), (232, 0.9112017765411105), (2102, 0.9113245228924686), (75, 0.9113686765829137), (1411, 0.9114105323908918), (1749, 0.9114654417760079), (341, 0.9115998577518521), (936, 0.9116238441332388), (73, 0.9116896189691094), (1786, 0.911772738859978), (186, 0.911810826290161), (2010, 0.911832105579154), (1725, 0.9118875850368066), (1418, 0.9121497476153602), (331, 0.9122004464949248), (946, 0.9123746868336646), (599, 0.9124306298980025), (1237, 0.9125996759438892), (711, 0.9127086835167324), (1325, 0.9127322679682746), (1006, 0.9127522725569935), (878, 0.9128099647583995), (1343, 0.9128301508658702), (1615, 0.9129486315954736), (1773, 0.9130135805510476), (1439, 0.9132671186763343), (7, 0.9133575970584153), (1754, 0.9134475471241578), (38, 0.9134851503679218), (2011, 0.9134924047826977), (1381, 0.9135544861290665), (443, 0.9137103565638747), (1743, 0.9137677927911136), (1674, 0.9140081001272973), (1003, 0.9141233333746178), (2097, 0.9142140144563989), (494, 0.9143428038116653), (1277, 0.9145978191525278), (411, 0.914625513271983), (9, 0.9146328010728868), (1389, 0.9147003901545268), (2006, 0.9148310660196204), (697, 0.9149599664153981), (952, 0.9150888137512774), (1860, 0.9151240223669009), (941, 0.9152271278168711), (1207, 0.9153644144031925), (320, 0.9154671091258496), (121, 0.9155921491982083), (1041, 0.9156935659997304), (1698, 0.9158413962363571), (461, 0.9158940420644204), (1871, 0.9159105427038422), (1234, 0.9159160470472975), (569, 0.916000608050478), (497, 0.9160417563646244), (151, 0.9161763385592213), (1592, 0.9162098673009036), (895, 0.9162933380700111), (1931, 0.91639159359406), (730, 0.9164102091834259), (1151, 0.9164829403519206), (786, 0.916531011531572), (1228, 0.9165399479571719), (1298, 0.9165989025838898), (660, 0.9166438791235118), (465, 0.91665149605382), (564, 0.9167284016433935), (1524, 0.9168661708064023), (1740, 0.9168742907564592), (95, 0.9170853519895893), (349, 0.9172379069909801), (86, 0.9172644982120226), (50, 0.9173343822090513), (49, 0.917338377893996), (921, 0.9173458933840637), (2084, 0.9175629934461936), (1864, 0.917598564104587), (179, 0.9177722969328911), (1731, 0.9178656465638557), (1114, 0.9179710096217126), (1474, 0.9180739477309773), (25, 0.9180989733896838), (1558, 0.9181389649667555), (725, 0.9182120830131496), (762, 0.918233892134428), (1010, 0.9182478815237546), (338, 0.9182811533835478), (736, 0.9183541699755446), (1596, 0.9183575769956547), (1330, 0.9183717983054727), (1633, 0.9183929971111059), (1622, 0.9184377112541047), (618, 0.9184494450015807), (843, 0.9186363508116887), (274, 0.9186743581043174), (1728, 0.9188421430176354), (706, 0.9189021152901368), (958, 0.9190300190129593), (430, 0.9191116485720456), (1337, 0.9191861016398534), (1830, 0.9192024459627033), (1223, 0.9192481596075556), (1976, 0.9194132714936378), (864, 0.9194813797043943), (536, 0.9196263734493361), (1789, 0.9197688909061402), (2079, 0.919916174875368), (996, 0.9199180898064101), (1842, 0.9200932620960949), (1197, 0.9201005478612856), (180, 0.9202127451232914), (1386, 0.9204356225743557), (1210, 0.920436826575283), (1993, 0.9205610686437077), (1281, 0.9205634908358261), (82, 0.9205646517694289), (523, 0.9206325574350653), (637, 0.9206968459350944), (2046, 0.9209398782158915), (408, 0.9213078545499328), (709, 0.9213551460165115), (1456, 0.9214023552472329), (727, 0.9215268635710148), (668, 0.9215854380522848), (1072, 0.9216896579287055), (2001, 0.9217184919734067), (61, 0.9217461284891683), (1664, 0.9217817469666716), (105, 0.9217991364583953), (1062, 0.9218673938725054), (1033, 0.9218849799899741), (1717, 0.9219622981194949), (1742, 0.9221036991136384), (1997, 0.9221648900452805), (1258, 0.9222151121106787), (1858, 0.9223473337095525), (1988, 0.9224897497612821), (1899, 0.9226192714710053), (475, 0.922663406564674), (205, 0.9227224812655742), (1571, 0.9227341911232756), (731, 0.9228037099151578), (1710, 0.9228442471884427), (1470, 0.9228595436447024), (450, 0.9229636484459252), (871, 0.9229807896555782), (1574, 0.9231267429146739), (1346, 0.9231408693423513), (1057, 0.9231859767117888), (375, 0.9231968199296978), (328, 0.9232164789664642), (2106, 0.9232330693534261), (1265, 0.9232730927676517), (482, 0.9233239591938478), (1960, 0.923367183659316), (1176, 0.9234128637363339), (69, 0.923448984279839), (684, 0.923494937890848), (1171, 0.9235818125350723), (1662, 0.9236209207891098), (1421, 0.9237287614179766), (1514, 0.9238489672894317), (23, 0.9239984318909774), (596, 0.9240619619895503), (849, 0.9240876709083972), (1018, 0.9241688388731355), (241, 0.92417277967356), (1539, 0.9241953854786076), (1498, 0.9242305128142809), (363, 0.9242358231648473), (1746, 0.9243206446686407), (912, 0.9243433434282364), (1918, 0.9245390303896435), (81, 0.9245766472267654), (1376, 0.9250248718403039), (1039, 0.9250781723523529), (398, 0.9252847497926423), (937, 0.9252847704328107), (189, 0.9258921147764919), (1428, 0.9259100228838816), (1338, 0.9259135634227049), (1880, 0.9259276182867022), (1676, 0.9261971334432608), (104, 0.9262592599334164), (148, 0.9263266623774894), (1008, 0.9263699733636032), (1015, 0.9264632946624867), (336, 0.9264789340471484), (1317, 0.9265000658613387), (52, 0.9265047408867353), (1930, 0.9265072439187851), (1729, 0.9265278184984389), (860, 0.9265504635853155), (222, 0.9266225453379576), (1078, 0.9268979111635273), (1128, 0.9269605409542385), (1149, 0.9271494860535345), (1071, 0.9271994355229374), (1759, 0.9272614323993349), (554, 0.92730127848538), (852, 0.9274329996577334), (1822, 0.9275112250618702), (1998, 0.9276229855170034), (2056, 0.9276316817869955), (1168, 0.9276721355139725), (1716, 0.9277201309993668), (579, 0.9278365051821897), (1035, 0.9279136273112987), (1013, 0.9279731446897602), (710, 0.9281084879030598), (1625, 0.9281877687789788), (37, 0.9282331157360387), (1502, 0.9284171469317597), (1413, 0.9285195351027491), (36, 0.9287414887789258), (1095, 0.9287485145210702), (360, 0.9288964905874068), (2093, 0.9290400282582516), (970, 0.9290630160410539), (1478, 0.9293652602224348), (964, 0.9294048554689563), (34, 0.9294469784732798), (1194, 0.9294486019240269), (101, 0.9295802302241047), (1620, 0.9296698635244558), (1683, 0.9297457002203082), (688, 0.9298155118674412), (1618, 0.929917479635051), (128, 0.9299558973483468), (1450, 0.9300787478437396), (1333, 0.9303368291413442), (1780, 0.9304114601844622), (1029, 0.9304815660206066), (406, 0.9304855490672216), (486, 0.9304964169545364), (200, 0.9305103894774732), (418, 0.9305181775117556), (76, 0.9305289782530819), (206, 0.9305428703855494), (1912, 0.9306839203291075), (1808, 0.9307481941444998), (867, 0.9307796148703564), (577, 0.9309927601381613), (1810, 0.9309978375812907), (1962, 0.9310299221545674), (1246, 0.9311717862097831), (96, 0.9314975659917861), (1541, 0.9315481691105318), (1853, 0.9317421509927559), (1132, 0.931861378467865), (18, 0.9319246341010622), (217, 0.9320712248923685), (594, 0.9321161449364757), (1745, 0.9321536870933061), (552, 0.932259295519511), (1763, 0.9322805048346862), (743, 0.9322849027592996), (1643, 0.9324109234942263), (359, 0.9325346565643909), (1712, 0.9325691257678974), (420, 0.9326567591197152), (223, 0.9328623871863044), (1402, 0.9329495852560007), (714, 0.9329549017199211), (619, 0.9331922027472276), (150, 0.9332301408224826), (1327, 0.9333634784081136), (259, 0.9333872972336256), (992, 0.9334206861735724), (1101, 0.9334726440613005), (1833, 0.933574295703667), (1159, 0.9335956804509149), (1160, 0.9336169066496002), (904, 0.9336674043290886), (417, 0.933837900890639), (848, 0.9338674668970357), (1637, 0.9341417374615141), (456, 0.934218882982041), (496, 0.93424304158117), (2016, 0.9343211418823607), (1874, 0.9343391135507529), (1854, 0.9344064555117376), (651, 0.9344433733429226), (1915, 0.9347813482983346), (571, 0.934947397831439), (663, 0.9351106389106701), (1155, 0.9352709518877576), (249, 0.9355041679453423), (740, 0.9355199736557791), (376, 0.9355499585041129), (543, 0.9357640506547875), (77, 0.9358162093117135), (1802, 0.9358266367486885), (303, 0.9359943977861878), (107, 0.9363435126280499), (335, 0.9363841105087056), (1145, 0.9365238279041216), (1359, 0.9365493182317567), (703, 0.9365750464944156), (1484, 0.9365859740198976), (635, 0.9366205070599668), (298, 0.93664254240844), (1832, 0.9367109514028067), (1817, 0.9368027957356091), (1153, 0.9368663498880443), (870, 0.9369307143364187), (1769, 0.9371324466782142), (131, 0.9372140100178361), (529, 0.9372203182532), (178, 0.9373353662408065), (519, 0.9374186690067617), (1204, 0.9374278229029699), (1787, 0.9374944418491676), (1047, 0.9375842636851124), (657, 0.9376067965362803), (1473, 0.9376845236016843), (1052, 0.9378203940555462), (578, 0.9379145886062469), (1448, 0.9380139882119808), (1215, 0.9381046602907858), (626, 0.9382581501758159), (633, 0.9385759131125029), (1888, 0.9386773668275988), (1515, 0.9387268019210018), (1027, 0.9387958720434543), (636, 0.9388922130896112), (1004, 0.9390844918849706), (1124, 0.9391411820681289), (1256, 0.9393202196322855), (1739, 0.9394264348417993), (1086, 0.9394968115692937), (965, 0.9395898192408685), (1467, 0.9395901843285958), (614, 0.9396015295999222), (1883, 0.9396661128425047), (300, 0.9398049166741967), (1242, 0.9398398708421813), (1850, 0.9399819155421293), (1548, 0.9403424172156813), (1980, 0.9404030126435567), (1635, 0.9404180601958881), (479, 0.9404458792594228), (1978, 0.9405740797399936), (707, 0.9407509708399121), (1678, 0.9407608975774607), (377, 0.9407676303460317), (1394, 0.9407931191096794), (1775, 0.9410446592947743), (293, 0.9413535954011284), (68, 0.9416802612767488), (1267, 0.9417171333782698), (1342, 0.9417494422003718), (14, 0.9417907014310055), (1055, 0.9418684840068396), (1967, 0.9418695688723852), (1959, 0.9419066958828399), (1245, 0.9420337874753032), (1870, 0.9421848679237603), (1928, 0.9422515175462297), (1061, 0.9424788459556739), (1523, 0.9424876632200869), (780, 0.9428216715461902), (1733, 0.9429029756305195), (51, 0.9429237578741176), (1709, 0.9430579007252657), (367, 0.943093004959094), (784, 0.943159232998042), (1262, 0.9431807733596247), (1230, 0.9431833203465206), (1162, 0.9432031435210826), (1705, 0.9432452115392763), (329, 0.9434297834127582), (1861, 0.9435800703898433), (1328, 0.9436264646791881), (213, 0.943753919907901), (26, 0.9437818951908982), (1900, 0.9438144241657247), (2026, 0.9438786919638814), (1220, 0.9439361711723762), (1351, 0.9440405377432272), (1914, 0.944135128469365), (1751, 0.9442573919678507), (1695, 0.944277432174212), (1926, 0.944330225938782), (1414, 0.9445345724068175), (100, 0.9447221228607218), (78, 0.9447755708361748), (829, 0.9447849650835406), (106, 0.944851148868378), (1985, 0.9448676131685344), (234, 0.9449038431135943), (1813, 0.9449617514482476), (2053, 0.9450095541383795), (1734, 0.945083030308047), (1913, 0.9452157715076267), (1278, 0.9453482633400647), (1873, 0.9454002954383142), (1735, 0.9455105873437374), (715, 0.9455237728408009), (701, 0.9457311705900132), (1536, 0.945790736154642), (1463, 0.9459061045077113), (1299, 0.9459244794287534), (1232, 0.9459696889030611), (865, 0.9460539720440077), (1602, 0.9462130788794991), (1986, 0.9464811266265056), (531, 0.9464819797075822), (1198, 0.9464826827283398), (462, 0.9465432442208385), (1016, 0.9466237880651633), (240, 0.946802260661166), (1002, 0.9471755976160773), (805, 0.9472809294280379), (419, 0.9472959951464511), (661, 0.9473086942424545), (1513, 0.9473543648732398), (580, 0.9475752256822556), (920, 0.9475778159632613), (773, 0.9476047651810483), (2031, 0.9476825208894575), (1239, 0.9477502325515277), (1565, 0.947777841890869), (1831, 0.9480511539830804), (813, 0.9483240257481974), (1631, 0.9483392772312925), (1741, 0.9483970355865593), (210, 0.9484756914328264), (1933, 0.9485418466014476), (518, 0.9485423159593921), (143, 0.94860637334178), (2101, 0.948745743034644), (2052, 0.9489313595806463), (177, 0.9489623199013492), (1894, 0.9489745535577001), (1305, 0.9490158721221822), (1689, 0.9492347133470953), (269, 0.9496895319684013), (1688, 0.949878333830153), (1535, 0.9499079283509849), (1244, 0.9500352570557449), (1275, 0.9501036979283155), (938, 0.9501732943302914), (906, 0.9502350053165048), (1134, 0.9503218457346655), (574, 0.9503269292864088), (167, 0.9504512238844774), (611, 0.9504635179665283), (203, 0.9504910985258626), (224, 0.9505072789388145), (1045, 0.9505739251357057), (930, 0.9507145391041074), (908, 0.9508270906776112), (504, 0.9508691418612084), (403, 0.9509022136723456), (108, 0.9511458017010344), (235, 0.9511998721684554), (814, 0.9512367786128786), (866, 0.9512788603208062), (664, 0.9513134101585093), (208, 0.9513489127392829), (652, 0.9513951126436069), (1696, 0.9514019282480953), (239, 0.9516206781362139), (789, 0.9517475850767346), (950, 0.951749262399542), (573, 0.9521059251083294), (887, 0.9521402166106335), (299, 0.9525606609171425), (1471, 0.9527283781992208), (609, 0.9527355054507426), (1718, 0.9529680258406881), (650, 0.9530231034173546), (1778, 0.9531545584187952), (808, 0.953202648358565), (947, 0.9532287044957478), (889, 0.9534328151090274), (350, 0.9534348253782683), (1296, 0.9534395094459327), (204, 0.9535963610444355), (882, 0.9536487678710984), (1877, 0.9539774782112199), (900, 0.9540690762281788), (1353, 0.9540953290428138), (835, 0.9542257045169268), (1537, 0.9543159085385609), (1599, 0.9543669302648623), (1369, 0.9549626649750339), (181, 0.9549687029235339), (1903, 0.9551854550526637), (901, 0.9551972062284086), (2103, 0.9555555160599035), (629, 0.9556814849209436), (1287, 0.9557518219911045), (1152, 0.9557626268890134), (149, 0.9558315002469321), (1977, 0.955909488078788), (639, 0.9559219794690869), (13, 0.9561339127339533), (875, 0.9561756551325901), (944, 0.9563780906206939), (1666, 0.9563836520740584), (1770, 0.9564710720897515), (1254, 0.95663131738257), (1644, 0.9566783350752613), (1845, 0.9567326634060113), (1649, 0.9567973658936137), (1801, 0.9568217862090872), (1693, 0.9568838709493706), (1606, 0.9569391275635492), (473, 0.9573705256738535), (1116, 0.9575197801712118), (1956, 0.9577578783121878), (28, 0.9580699675825143), (687, 0.9581006750750592), (1257, 0.9582617479233126), (1979, 0.9582705513020874), (1213, 0.9583693117543296), (1736, 0.9585259504466291), (1218, 0.958607049670179), (593, 0.9587182016369061), (358, 0.9589085938168148), (1799, 0.9589263187862297), (138, 0.9589472828556507), (1636, 0.9589544224232861), (1557, 0.9590251712775131), (1216, 0.9590793801181645), (1639, 0.9590835866619586), (458, 0.959211505362666), (1758, 0.9592213728664878), (713, 0.9593930905945491), (1668, 0.9594540390050116), (907, 0.9596098555187609), (2099, 0.9600543253159604), (1183, 0.9601252313069435), (1247, 0.9601704548463879), (1451, 0.9606604220956063), (1344, 0.9606883324012337), (1568, 0.9608230526512809), (775, 0.9609030745810432), (428, 0.9610279599128476), (373, 0.9611323164840417), (666, 0.9613552457995509), (2003, 0.9619718353621087), (2054, 0.9621435776118319), (1816, 0.9623328624403809), (649, 0.9624738072597607), (1906, 0.9624760659380643), (1692, 0.9625131054104346), (844, 0.9625757191855975), (1251, 0.9627276232195823), (366, 0.9627890771087168), (1774, 0.9629130783183701), (641, 0.9631558673020973), (1100, 0.9632080541433673), (1360, 0.9632210105271408), (2029, 0.9632560956618457), (2032, 0.9632731389217276), (1665, 0.9633154148461205), (694, 0.963317420023614), (1214, 0.9633606593769714), (1917, 0.9634722841111895), (2025, 0.9636461767286848), (874, 0.963788829196892), (1060, 0.9638951731887924), (10, 0.9638998262850879), (1948, 0.9639282621814808), (20, 0.9640044742043116), (521, 0.9640247501759259), (1529, 0.9643117867361872), (1193, 0.9646975206442305), (1329, 0.9647954751261674), (1852, 0.9647957053386895), (74, 0.9648921570898633), (1468, 0.9649101496960703), (1455, 0.9650849148504271), (1895, 0.9651916836847036), (1856, 0.9653142233645103), (1795, 0.9653165747471969), (147, 0.9653679409256202), (1050, 0.9654257988582752), (1916, 0.9655441381826355), (1794, 0.9657430225710133), (402, 0.9658031202901098), (79, 0.9659553430984635), (233, 0.9660220180987689), (1973, 0.9663560099695763), (1036, 0.9664447985564012), (1704, 0.966464714557903), (555, 0.9666185804390728), (818, 0.9666463509852622), (1028, 0.9667814637693457), (287, 0.966835111980647), (1788, 0.9670593379014907), (646, 0.9670803780767284), (1612, 0.9673085812536015), (1907, 0.967410790511815), (1364, 0.9674449283596557), (1570, 0.9675900757781443), (957, 0.9676623220624939), (903, 0.967897497293425), (537, 0.9682628787643798), (682, 0.968389478351304), (1702, 0.9684592089363715), (1682, 0.9684874801125671), (1727, 0.9685963069388818), (1388, 0.9688266937677614), (145, 0.9689375386312424), (584, 0.9690961130190036), (85, 0.9691389918913935), (583, 0.9694904332544738), (1882, 0.9694927034701396), (1974, 0.9698372711074775), (1772, 0.9698828263615237), (801, 0.9700234251309762), (1893, 0.9700262396281468), (1227, 0.9701179029354241), (1566, 0.9702836090990612), (653, 0.9702985424298122), (1318, 0.9706388628042851), (1059, 0.9707542871322385), (27, 0.9710412118639213), (1313, 0.9712912935637052), (2094, 0.9713319812725155), (3, 0.9713416015575257), (783, 0.9713623269322385), (1461, 0.9713717997365511), (1217, 0.9714014515189988), (993, 0.971631378090061), (254, 0.971644183536633), (1186, 0.9718218633626404), (1000, 0.9718473429061273), (1879, 0.9719835408991053), (1437, 0.9720593604877571), (132, 0.9720851925590115), (1073, 0.9724379367644609), (1363, 0.9725396880131183), (318, 0.9727548293424545), (1326, 0.9729616908877723), (716, 0.973079898639558), (923, 0.9732341254874385), (1711, 0.9732836151542579), (1554, 0.9734924169851538), (187, 0.9736028973893801), (264, 0.973702716979955), (1312, 0.9737305774443599), (1621, 0.9741983530090346), (221, 0.974283919024659), (623, 0.9745973867211492), (1667, 0.9746449349495215), (22, 0.9747892925921418), (1911, 0.9750030179052317), (520, 0.9755775786714482), (834, 0.9760159478275942), (615, 0.9763482541363301), (2019, 0.9763579013736968), (685, 0.9764094529024139), (201, 0.9766108054199009), (1730, 0.9766989110144033), (1898, 0.9769584307353548), (1818, 0.9770063215164725), (822, 0.9771070851842215), (1815, 0.9773277603495146), (1243, 0.9773925680893739), (353, 0.9774379898307011), (816, 0.9776832598302206), (1356, 0.9778526856828005), (1764, 0.9780382299583712), (1715, 0.9781703152348242), (656, 0.9786033657695153), (1404, 0.9787708572445479), (1070, 0.9788920081303889), (1104, 0.9789642706953359), (737, 0.9790523578511305), (1645, 0.9794741985846702), (16, 0.9796954778043073), (64, 0.9797055191089111), (962, 0.9797523252964258), (999, 0.9797606293497002), (1371, 0.9798244476844454), (1876, 0.9799730541594532), (364, 0.9800532268456875), (407, 0.9800706210079491), (1872, 0.9801690067329405), (686, 0.9801735377661596), (1819, 0.9802467583062914), (67, 0.9809055887380782), (1341, 0.9809963719790362), (721, 0.9813518261067019), (540, 0.9813837246412603), (1902, 0.9813869359421928), (1892, 0.9814433658427497), (1681, 0.9814513924436745), (1427, 0.9815063459021913), (1605, 0.9816690200597583), (1738, 0.981736460912442), (704, 0.981791630405731), (1878, 0.982325633576698), (1748, 0.9823724505791299), (1887, 0.9828629420395124), (735, 0.9830427592745271), (561, 0.9830520638295623), (899, 0.983077639390038), (1910, 0.9831079826468201), (1627, 0.9835279697005298), (932, 0.9835935581166058), (1489, 0.9836258721704128), (785, 0.9837563924631187), (888, 0.9839202680726391), (99, 0.9842742816448006), (1680, 0.9843581649421748), (1814, 0.9847348047004401), (1726, 0.985154209120215), (139, 0.9854814988263011), (1032, 0.9855121418716217), (1823, 0.9856381172887378), (1670, 0.9859807568961042), (1720, 0.9862223177127148), (1891, 0.9864138519023575), (1148, 0.9865908673014079), (1488, 0.986794756354092), (410, 0.9867988953043211), (1909, 0.9868162779803206), (1221, 0.9871653166537531), (1588, 0.987192350994852), (1885, 0.9872897319449552), (677, 0.9875426074503206), (1129, 0.9877437352987479), (1646, 0.9878639211549831), (334, 0.9883533776394707), (243, 0.9884339821135752), (758, 0.9884483019360716), (1713, 0.988703323513714), (1932, 0.9889671603428528), (1957, 0.9890506056226511), (1459, 0.9891783373356176), (538, 0.9893050894402923), (1648, 0.9894138758006865), (1966, 0.9894764265418086), (608, 0.989823776442046), (1862, 0.9898307837998391), (1423, 0.9902783043822574), (333, 0.9903332021634981), (1747, 0.9905616733243793), (984, 0.9905850193076015), (485, 0.991024261980691), (2095, 0.9912291005242085), (1323, 0.9913684326809693), (810, 0.9913829034308707), (1935, 0.9915016490220775), (696, 0.9917886979460271), (842, 0.991900849446379), (1654, 0.9923007988232648), (1084, 0.9926215619834547), (922, 0.9930657369235748), (1, 0.9932242333676374), (1077, 0.9937212024149037), (1362, 0.9944850327270388), (2007, 0.9946716055134794), (851, 0.9947360389352355), (1737, 0.9951436599696905), (905, 0.9953442805952563), (1714, 0.9955571181394645), (1671, 0.995657124302721), (774, 0.9958162088707296), (399, 0.9959538073676929), (1011, 0.9964271552877568), (1672, 0.996545788415084), (1443, 0.9968038994171154), (798, 0.9970503130031608), (1396, 0.9971567329122744), (1496, 0.9971703923929439), (1559, 0.9971847403801583), (931, 0.9972593640849092), (1897, 0.9972676947348966), (1212, 0.9973617663399543), (1438, 0.9975594449497759), (1354, 0.9976870976913986), (1289, 0.9977783669159422), (916, 0.9978625383818482), (620, 0.9980233187662372), (631, 0.9982257124538368), (1472, 0.9982470124612004), (797, 0.9984223148363386), (412, 0.9985301863983757), (21, 0.9986637041944707), (1252, 0.999178729504009), (995, 0.9996854538632344), (2037, 1.0005365815913927), (1555, 1.0009279519315724), (1552, 1.0010905316518712), (1185, 1.001105042099264), (681, 1.0012909013486913), (238, 1.0015064153152697), (11, 1.0015638861712841), (1449, 1.0017998736424727), (678, 1.0020298293600294), (771, 1.0021941458746433), (1624, 1.002317358197792), (2100, 1.0023993409699539), (1408, 1.0026638626110886), (297, 1.0028469568621234), (1320, 1.0031691246066643), (1723, 1.0037142402237744), (830, 1.004590653226628), (144, 1.005078059379027), (1229, 1.0051050128512133), (1462, 1.0053222982651757), (1085, 1.0060987203982241), (1908, 1.0069176665253654), (1603, 1.007622957444733), (809, 1.0081926461659687), (211, 1.0083200323739168), (1225, 1.0092130206276058), (680, 1.0094799317807177), (212, 1.0098581957668924), (695, 1.0101785156255838), (1755, 1.0107371369312832), (1240, 1.010769400579372), (1385, 1.012591168218548), (506, 1.0130034314147898), (1834, 1.013315059245682), (868, 1.0134135882640598), (2040, 1.0135406645358995), (1290, 1.01386094511232), (640, 1.0141370369465759), (632, 1.0146002143275212), (824, 1.0146266135150392), (919, 1.0148211082148284), (247, 1.0156667970007491), (1679, 1.0160113511305344), (1368, 1.0164988446282313), (956, 1.0168824579268763), (2009, 1.017050110735827), (154, 1.0172228443445979), (722, 1.0172285815520874), (1684, 1.0174399215851642), (372, 1.0180796935374505), (572, 1.0181784048214038), (929, 1.0200556867045614), (883, 1.0209431367509276), (24, 1.020957455300263), (374, 1.0212137233507546), (405, 1.0215323186134728), (750, 1.0218842065472207), (535, 1.02192230445488), (1811, 1.0223095941266829), (665, 1.0238769172605604), (1241, 1.024992249221921), (65, 1.0266258985959364), (495, 1.0268922887063547), (1406, 1.0270846900384565), (2104, 1.0286796200483634), (589, 1.0288475585806431), (862, 1.0303138781349193), (1604, 1.0320540195822387), (617, 1.0331383409026471), (1110, 1.033239275092357), (590, 1.0333856694903896), (1867, 1.0337540453838927), (1282, 1.0354140259975857), (1395, 1.035417350513705), (723, 1.0379051978786928), (1233, 1.040425861955049), (133, 1.040884313479352), (1370, 1.0414014372537557), (368, 1.0435232676730508), (933, 1.043606474449065), (1405, 1.044404092072573), (1361, 1.0471973960903305), (339, 1.0495951722424062), (304, 1.050744944929004), (869, 1.052708035363651), (1453, 1.0620222988591208), (1943, 1.063478515155595), (1583, 1.063856738426683), (1034, 1.0650206700687823), (880, 1.0725963557427252), (1083, 1.077816549171184), (400, 1.0873140189162642), (502, 1.10427330296952), (861, 1.1131501374126411), (777, 1.1142810082975545)]\n",
            "\n",
            "\n",
            "======================\n",
            "\n",
            "\n",
            "Query: Water leaks in the toilet\n",
            "\n",
            "Top 5 most similar sentences in corpus:\n",
            "433\n",
            "トイレの漏水について (Score: 0.1139)\n",
            "432\n",
            "宅地内で水漏れしている (Score: 0.1686)\n",
            "1138\n",
            "公衆トイレの非常ベルが鳴っている (Score: 0.2218)\n",
            "436\n",
            "道路から水が出ている (Score: 0.2276)\n",
            "469\n",
            "トイレを水洗にしたいのですが。 (Score: 0.2399)\n",
            "[(507, 0.09140649784118249), (460, 0.3581405056482643), (859, 0.3802847305571131), (508, 0.38226385931721085), (356, 0.4015233340937606), (778, 0.40553801341866114), (1802, 0.42018124751223074), (1731, 0.4320501179345442), (1014, 0.44140577598617636), (1553, 0.4594326247403193), (959, 0.47364242955862823), (841, 0.4793822051260035), (821, 0.48363628094117206), (459, 0.4854150645080251), (557, 0.48639486523130093), (1126, 0.48723619227692117), (380, 0.48739579114276954), (1210, 0.49078299949989346), (442, 0.491774485140444), (1677, 0.4925842502545905), (491, 0.4979333779107912), (891, 0.498112049561544), (739, 0.5003050434871765), (765, 0.5006872786603533), (556, 0.5035334910282454), (951, 0.507805705086166), (394, 0.5102972123946512), (490, 0.514184846169892), (977, 0.5162682772924185), (1904, 0.5196369749716512), (1707, 0.5261209307492429), (1220, 0.526610730056991), (1706, 0.5274951538531629), (1954, 0.5284315740866954), (1964, 0.5286184037030655), (893, 0.5297209859739439), (251, 0.5299429350982281), (852, 0.5314992402190338), (1774, 0.533221656769565), (909, 0.5333078554767503), (654, 0.5345882943430613), (517, 0.5389677278901901), (393, 0.5396167898209113), (1608, 0.5410949281088413), (398, 0.5419859987974731), (1938, 0.5424417149305509), (598, 0.5428646320570549), (1230, 0.5434669599736295), (406, 0.544402990099772), (1081, 0.5494154609966216), (402, 0.5500550595560147), (1923, 0.550421541387442), (61, 0.5511446859434657), (1696, 0.5514958138230759), (159, 0.5518172500650207), (823, 0.5546202673085842), (1509, 0.5564763808057069), (988, 0.5570665245274302), (551, 0.5571053177948129), (146, 0.5575828284951544), (662, 0.5583265627154343), (89, 0.5586382032893917), (184, 0.5592895481610927), (1024, 0.5606737547711348), (1700, 0.5608803462305265), (1575, 0.561095543395832), (972, 0.5618238300317387), (62, 0.5620341771330242), (1250, 0.5623465446885966), (1812, 0.5643141964084815), (1323, 0.5645513466520452), (466, 0.5645553322634919), (114, 0.5646719754628842), (566, 0.5649537779949944), (1228, 0.5655576808716993), (198, 0.5658039375870384), (255, 0.5662238191754116), (205, 0.5678055488252456), (498, 0.5678798415523354), (1387, 0.569539065211575), (117, 0.570897304530493), (513, 0.5713882221672992), (396, 0.5718242877323472), (1161, 0.5718710621717358), (955, 0.572579529113863), (157, 0.57263965350586), (694, 0.5734677053931252), (266, 0.5740149633265859), (1687, 0.5743798064557284), (161, 0.574809268529664), (1491, 0.5749261249101074), (728, 0.5756767419689961), (776, 0.5761520394840141), (1422, 0.5763777068783809), (228, 0.576392203694067), (194, 0.5770935126780982), (401, 0.5787529718686906), (756, 0.5789492665587817), (467, 0.5793473800897828), (168, 0.5793946712155859), (1607, 0.5794973712911737), (494, 0.5799233571483418), (482, 0.5799309829822423), (611, 0.5802117764034962), (808, 0.5805507408706931), (775, 0.5808061765692826), (215, 0.5810109301439352), (162, 0.5830376871397904), (701, 0.5842482421389914), (1431, 0.5852758441186237), (1801, 0.5855359748192155), (1515, 0.5855360340110792), (1797, 0.5862520866321801), (974, 0.5865830271333339), (185, 0.586874663926557), (1901, 0.587401090218849), (794, 0.587907891100591), (1919, 0.5879128707103753), (832, 0.5879766344773352), (163, 0.5885591130777514), (910, 0.5887437233356787), (1602, 0.5890108681367872), (1117, 0.589899752773354), (123, 0.5899460932252507), (713, 0.5900246308718935), (58, 0.5907283990778223), (1604, 0.5909627786063738), (102, 0.5911838642454293), (795, 0.5913469485286551), (762, 0.5913906549195336), (1069, 0.5914555151368214), (2019, 0.5915092878523345), (912, 0.5918450813487495), (856, 0.5926087516308062), (768, 0.59267468152046), (1281, 0.5927246098522142), (1743, 0.5930865639917946), (48, 0.5933508122873797), (857, 0.5943361163986387), (160, 0.5947998833514553), (730, 0.5957862471696038), (1708, 0.5958546254993013), (382, 0.5964264166258089), (1444, 0.5965902891458126), (1019, 0.5974764381600126), (1036, 0.5977325523546537), (1012, 0.597794122196595), (166, 0.5977987577242769), (450, 0.5981058402080515), (757, 0.5981612217451863), (59, 0.598446177101095), (1561, 0.5989354787681366), (801, 0.5990811249635479), (700, 0.5992384258703429), (1165, 0.5992775958660077), (224, 0.5993903198441345), (104, 0.5998590871505415), (1569, 0.6001644443190934), (165, 0.6006385019275948), (697, 0.600676122153806), (1817, 0.601014842498759), (1087, 0.6019257620263835), (1526, 0.6025964378276862), (944, 0.602971299716395), (109, 0.604051413077107), (520, 0.6045984897961167), (151, 0.6046233050662662), (7, 0.6048545410856045), (703, 0.605209489397627), (506, 0.6055972177638322), (129, 0.6060707256192588), (779, 0.6064364475684889), (680, 0.6070739595841843), (2036, 0.6082931867690362), (1832, 0.6089110057724509), (108, 0.6094653784190609), (1005, 0.6100773617070552), (2018, 0.6106626834541309), (1986, 0.6110203700873824), (1773, 0.6110622241601442), (354, 0.6115977305648989), (2, 0.612069369087194), (1151, 0.612403128448973), (2027, 0.6129245825508685), (755, 0.61294966141532), (828, 0.6133373761974168), (543, 0.6133443145619701), (1837, 0.6133539377347292), (1377, 0.6142508778224023), (230, 0.6145204999137122), (179, 0.6160055604355722), (1568, 0.6164912506980935), (1973, 0.6175223742022959), (753, 0.6179115981797987), (1044, 0.61802885940533), (1988, 0.6180942713089619), (1510, 0.6181077686931169), (45, 0.6182397466910554), (1021, 0.6189908268094135), (536, 0.6193769043909946), (1035, 0.6194642332661603), (1701, 0.6195008394606396), (767, 0.6195639330895252), (980, 0.619774223893722), (729, 0.61985353492176), (1712, 0.6199424711024237), (1791, 0.6206709909013992), (1216, 0.6207344556574275), (885, 0.6209095483017624), (1843, 0.6209593629459613), (2013, 0.6211777989051919), (150, 0.6214318373534895), (1578, 0.6214857556307823), (839, 0.6214929312714657), (1629, 0.6218616113776223), (626, 0.6222341710224418), (12, 0.6226670598321365), (1732, 0.6226843190775626), (1900, 0.6226972551659129), (158, 0.6231034554286337), (195, 0.6234022149730138), (1068, 0.6243521352589242), (927, 0.6244201321652141), (49, 0.6245449769475298), (225, 0.6247233077045076), (1381, 0.6250918600105373), (1169, 0.6259322958960057), (989, 0.6262382814040494), (499, 0.626656456229391), (164, 0.6271461825159275), (1501, 0.6272739966641445), (531, 0.6272920610782364), (93, 0.6274104532865461), (1076, 0.6275143832388885), (911, 0.6278267654093734), (1197, 0.6279155718735305), (87, 0.6282393478503325), (1947, 0.6284466183614217), (623, 0.6284980079164451), (470, 0.629443296522492), (644, 0.6295775436415716), (130, 0.6297008783523569), (462, 0.6297624815832312), (1548, 0.6299009471568886), (901, 0.6303533140657921), (1464, 0.6304989732727518), (112, 0.6310707732446167), (1351, 0.6311005659395418), (1942, 0.6311194714436255), (1937, 0.6312069637838504), (712, 0.6314394707800487), (348, 0.6319700939283064), (1915, 0.6324567040738842), (50, 0.6329624973937391), (1403, 0.6331074563175247), (752, 0.6331343995472811), (1848, 0.6333104103095796), (550, 0.6335366579853201), (534, 0.633717714116831), (686, 0.6341803540171945), (992, 0.6342454594340161), (305, 0.6345441798519842), (949, 0.6345905884166563), (727, 0.6346891476293596), (1638, 0.6348558282495047), (597, 0.634887564839941), (1364, 0.6348907453227406), (982, 0.6353002056512272), (1075, 0.6356881370157317), (1905, 0.6359306811440042), (65, 0.6359433623321407), (1563, 0.6359973792869027), (1967, 0.6361038596242009), (948, 0.6364529035069111), (914, 0.6365797139278032), (812, 0.6366268722562339), (1570, 0.6368662634171118), (1245, 0.6371081273152606), (1846, 0.6373013312664977), (1079, 0.6373657636408685), (1495, 0.6374845639936944), (397, 0.6377349437547), (1703, 0.6383017725317619), (42, 0.6384918231381572), (182, 0.639222091400957), (1762, 0.639587187232348), (26, 0.6396398318926044), (140, 0.6396623092033746), (384, 0.6398198702381152), (1442, 0.639888688046441), (455, 0.64003263121947), (19, 0.6403406993511089), (802, 0.6404826145547764), (1433, 0.6410727900942268), (1088, 0.6414051572096136), (1207, 0.6414973862634866), (1093, 0.641619819935018), (1084, 0.6419661963183869), (1738, 0.6424037448397368), (1326, 0.6425487270618228), (542, 0.6427706941637035), (374, 0.6429682021358885), (106, 0.6433262162054882), (1946, 0.6438332303606413), (125, 0.6441024188806349), (222, 0.6444185360858372), (1445, 0.6448629996735051), (1794, 0.6450212494428361), (60, 0.6452953896534057), (8, 0.6454531940476501), (858, 0.6455608401048707), (702, 0.6462785136176015), (1902, 0.6465587965410997), (345, 0.6466408212157829), (1041, 0.6466549326205231), (1410, 0.6466667980359786), (1660, 0.647065698354298), (443, 0.647241638521372), (1017, 0.6477104763543869), (815, 0.6478150635148099), (731, 0.6482393467827777), (1849, 0.6483324344541739), (1906, 0.648548828147775), (599, 0.6493697143074839), (321, 0.6497047072683975), (1397, 0.65026348753907), (395, 0.6502893973570841), (693, 0.6506854277185359), (1903, 0.6507881220414159), (827, 0.6515883529417572), (475, 0.6517578384656526), (1821, 0.6522671515829546), (714, 0.6525766399855941), (1788, 0.6528538737847308), (593, 0.6528546057651552), (638, 0.6533350932746206), (1953, 0.6534281503583005), (605, 0.6538616750240134), (1430, 0.6538957278227886), (515, 0.6539631313396045), (317, 0.6540204074900504), (1219, 0.6541557964967064), (4, 0.6546343505470208), (1121, 0.6547529243778945), (1355, 0.6548550600736998), (1085, 0.6551618354727252), (860, 0.6553217664116124), (665, 0.6553927186817037), (1259, 0.655479464984285), (435, 0.6555763875352143), (1913, 0.6557429241577604), (666, 0.6559463897996176), (193, 0.6562579619750916), (1378, 0.6565556505807284), (53, 0.6567546900703669), (659, 0.6568389952505072), (1221, 0.6569988063223352), (1170, 0.6575913315498285), (1156, 0.6576856134267994), (1676, 0.6577464348988946), (152, 0.6579775197080753), (124, 0.6580400872720631), (52, 0.6580896843271213), (1775, 0.6585868504802606), (268, 0.6588392878770735), (1043, 0.6589063656585432), (1480, 0.6589563079520436), (946, 0.6590904158253746), (57, 0.6591092473077799), (453, 0.6594010934470508), (1304, 0.6594887316527192), (183, 0.6595826401957069), (376, 0.6595827448941842), (415, 0.6596963845510693), (1135, 0.6598031637833741), (347, 0.6599814159384939), (1471, 0.6601723044887406), (698, 0.6602463213300198), (518, 0.6602754858597016), (1226, 0.6604824352941485), (1358, 0.6607972279372099), (1506, 0.6612314239440277), (1982, 0.6614886148499652), (414, 0.6620433624377451), (1483, 0.6624102261689077), (1728, 0.6625602524507326), (1324, 0.6626742733711154), (514, 0.6628099250644475), (567, 0.662854248923936), (881, 0.6628620111819497), (1960, 0.6630167010628496), (236, 0.6634185965096266), (1715, 0.6634694426240139), (1460, 0.6636224829959483), (800, 0.6636613664622475), (1961, 0.6637334268169981), (1278, 0.6642060937793328), (822, 0.6642268857045165), (1532, 0.6642527137890417), (171, 0.6644457564375208), (63, 0.6645244254965019), (1999, 0.6646879562474147), (785, 0.6649783117865335), (73, 0.664991199603025), (1890, 0.6650067346087027), (555, 0.6654705440240303), (1393, 0.6655352732092483), (1971, 0.6655792193533171), (639, 0.6656571729188041), (447, 0.6659563448172152), (847, 0.6661188360367845), (904, 0.6663541187475133), (1042, 0.6663862446576917), (85, 0.6664457427181238), (113, 0.6665605032852755), (286, 0.6667298822974761), (872, 0.6669553378642785), (1162, 0.6670177432135969), (116, 0.6672150711317959), (1400, 0.6673798664526479), (558, 0.667432145929145), (1150, 0.6678234257569328), (689, 0.6678390121736757), (339, 0.6685521899222264), (1421, 0.668773090246287), (54, 0.6687745589418789), (1702, 0.6691970723719042), (1844, 0.6692505306416816), (1143, 0.6696817774504152), (1180, 0.6697156151869413), (668, 0.669879024154461), (424, 0.6701510870214746), (1647, 0.6703193695743312), (723, 0.6703713441358956), (682, 0.6704177224598632), (322, 0.6705281736673063), (1560, 0.6705915656750832), (1916, 0.6706416397871043), (464, 0.6706625561768902), (370, 0.670801174221707), (754, 0.6710474244517926), (607, 0.6714263200714472), (1628, 0.6714799371088095), (309, 0.6715447744931979), (148, 0.6715984554274188), (100, 0.671716626440723), (553, 0.6717637286654976), (403, 0.6717779993128812), (1896, 0.6719532614662211), (1147, 0.6719717846337481), (657, 0.672048671645588), (1533, 0.672466173038547), (1579, 0.6725324673353705), (1912, 0.6726554089037565), (576, 0.6727092872156009), (1979, 0.6727453926588445), (1322, 0.6727783779349404), (1031, 0.6730139111554341), (34, 0.6730155641893902), (1835, 0.6730875790655378), (1968, 0.6731171712527385), (1344, 0.6731221962998517), (51, 0.6736192327894073), (2028, 0.6737675233059993), (516, 0.6739054902088886), (637, 0.6740624088882252), (280, 0.6742860015120224), (1339, 0.6743832956065838), (1787, 0.6746686142955813), (650, 0.6749440655576813), (1627, 0.6750067372948341), (1056, 0.6750439263567044), (471, 0.675574316948267), (1850, 0.6758041247327581), (267, 0.675845302781236), (1181, 0.6759036510186549), (1820, 0.6763440276779118), (1610, 0.6766342331231459), (2020, 0.6766727410172084), (1899, 0.6771295880205868), (1476, 0.6771628665504406), (649, 0.6772049713930051), (388, 0.6773802281003999), (942, 0.6774134013831545), (814, 0.6775368383599929), (674, 0.6776536502270327), (167, 0.6777766328102419), (303, 0.6778634058580857), (724, 0.6779196907340327), (940, 0.6781153588780067), (926, 0.6781496080802594), (260, 0.6782592860164354), (2005, 0.6790517560724353), (751, 0.6792417113157263), (1965, 0.6794879581530527), (155, 0.679661123287159), (1066, 0.6798559011905093), (725, 0.6802435099207379), (690, 0.6802821667678856), (454, 0.6803495714461998), (283, 0.6804596346884833), (1576, 0.6805581363789628), (1020, 0.6805871306930089), (906, 0.6807783512275742), (253, 0.6808150596976443), (937, 0.6808894781113446), (769, 0.6808935068224964), (1416, 0.680929135722951), (1733, 0.6809897526610751), (522, 0.6810191784092084), (1376, 0.6811357200369226), (1146, 0.681300818388018), (132, 0.6813382074248482), (1823, 0.6816485932325834), (1838, 0.6816486168752112), (1735, 0.6817401023954561), (877, 0.6817674872775465), (655, 0.6820962693793993), (876, 0.68269531421181), (368, 0.6827983653162092), (1977, 0.6828356676862147), (9, 0.6830286923331472), (629, 0.683043978598959), (469, 0.6830484038087183), (276, 0.6830609154238811), (1064, 0.6832118668608844), (1325, 0.683234043030638), (1394, 0.6833517287182778), (1244, 0.6836923813730419), (1080, 0.683842916360246), (1182, 0.684352040366617), (1112, 0.6845541283347177), (908, 0.6846617677480624), (243, 0.6849446061553217), (1911, 0.6851127603514331), (715, 0.6851965681947163), (147, 0.6859411509738833), (1980, 0.6862514818950343), (1133, 0.6864082659862212), (1798, 0.6864561983580024), (787, 0.6865235252832488), (656, 0.6866332672947209), (1928, 0.6868021835919211), (287, 0.6868336505372601), (1327, 0.6873933957352447), (1300, 0.6873936188079908), (1401, 0.6875047455772564), (683, 0.6876126873942148), (46, 0.6877780456773477), (456, 0.6880688829869646), (628, 0.6881410108118597), (1690, 0.6882773351065807), (1499, 0.6882806679748398), (1206, 0.6882929251651826), (326, 0.6883684537075572), (231, 0.688391095467521), (1753, 0.6884275295382121), (2016, 0.688555126541772), (2055, 0.6887643048368859), (1873, 0.6890751694593942), (604, 0.6891945160526936), (766, 0.6897005068217391), (1559, 0.6897216127976182), (256, 0.6898687790699807), (136, 0.6900330665088277), (1113, 0.6900499931952356), (18, 0.690210244745683), (1267, 0.6903736425522424), (979, 0.6904410042573004), (610, 0.6906123767345498), (780, 0.6907569547034835), (763, 0.6912211965388613), (1641, 0.6912222265191705), (355, 0.6915135814999176), (1049, 0.6917238622324711), (2004, 0.6917430129387502), (17, 0.6918681197126819), (764, 0.6922386546285748), (33, 0.6925831536464395), (1589, 0.6925937176541126), (269, 0.6926559934573169), (274, 0.6927721984940225), (1504, 0.6927883491267415), (143, 0.6929111430379297), (1972, 0.6931705730040898), (1159, 0.693366056473907), (786, 0.6934869477466576), (1796, 0.6938327537209545), (845, 0.6940004464360029), (651, 0.6943062713577964), (925, 0.6946846508567075), (363, 0.6950751847612286), (560, 0.6951047925105331), (1727, 0.695107093920212), (1164, 0.6952573417765833), (789, 0.6956239745534469), (1811, 0.6958905875144634), (2034, 0.6958998382157814), (575, 0.6960103121960683), (1336, 0.6960643567183367), (981, 0.6963053645581423), (1909, 0.6963880485228671), (1565, 0.6966122458590308), (25, 0.6970047291025832), (463, 0.6971345530128801), (41, 0.6971352377309719), (1033, 0.6972298000325479), (633, 0.6973458590963035), (1341, 0.697395983159312), (270, 0.6974621814295995), (1884, 0.6976057194289234), (648, 0.6977344817971785), (1118, 0.6977660921200387), (1331, 0.6978438845707436), (1002, 0.6979124613034453), (262, 0.6981613918596494), (300, 0.6982696419994876), (1292, 0.6984406852622651), (1521, 0.6989643669973231), (853, 0.6992251659501576), (1632, 0.6992634114983647), (1691, 0.6993354792790704), (1749, 0.6993976872130163), (1737, 0.6996742736601368), (1799, 0.7002284613853164), (95, 0.7002299152125379), (834, 0.70058730946381), (549, 0.7006041299669041), (1741, 0.7007002818940753), (867, 0.7008766230499937), (835, 0.7009228050081897), (1810, 0.7011219760188537), (324, 0.7013068671365916), (400, 0.7013407159986946), (1709, 0.7014344290217541), (836, 0.7014423974094735), (271, 0.701695671653217), (1655, 0.7018354698607661), (528, 0.7022104673626509), (304, 0.7022105031277008), (1116, 0.7022646375617675), (56, 0.7024137040262413), (1693, 0.7025162191027396), (1600, 0.7029473401435034), (131, 0.7030736276601459), (621, 0.7031217449145657), (990, 0.7032985069401125), (588, 0.7033204335587425), (1520, 0.703410855022288), (1765, 0.7034828680324003), (1705, 0.7035137189713319), (1312, 0.7037218959834775), (1592, 0.7040946718511562), (332, 0.7042807760748137), (1530, 0.704438835128911), (1257, 0.7045251843025948), (1040, 0.7048108728399378), (1962, 0.7048691096144517), (74, 0.704898368771196), (568, 0.7049441746078486), (685, 0.7050576805601072), (1238, 0.7051933052274537), (279, 0.7052748867905589), (357, 0.7054793077033727), (1755, 0.7056070896580133), (325, 0.705621103023659), (308, 0.7057299735706501), (917, 0.7057456427034006), (1314, 0.7057835156539867), (1167, 0.7057961740866998), (554, 0.705941900557518), (1518, 0.706072010831486), (0, 0.706099145645418), (1375, 0.7063664530913389), (640, 0.7065402022100133), (1710, 0.7067687323237546), (996, 0.7071189704646805), (1807, 0.707141412765635), (539, 0.7071772014425887), (627, 0.7077634426581112), (1211, 0.7077954406754733), (1172, 0.7078077643721048), (258, 0.7081105343214187), (202, 0.7081138312590993), (983, 0.70812448420348), (1840, 0.7082027159183373), (1251, 0.7082527822295712), (242, 0.7083300750071172), (1439, 0.7083619274686705), (43, 0.7084047186058593), (975, 0.7085599393733224), (952, 0.7086669896945987), (1759, 0.7087723147624914), (174, 0.7090105348036257), (1619, 0.7090704556555836), (425, 0.7092208518906682), (371, 0.7093489695224384), (2024, 0.709427942011505), (472, 0.7094314279747762), (691, 0.7094322055869642), (493, 0.7094654796936908), (1262, 0.7094719838208008), (825, 0.7095262111355866), (1714, 0.7099301849009052), (1218, 0.7099631955502563), (199, 0.7101478968417996), (1859, 0.7101721141890942), (563, 0.7102967846993592), (1545, 0.7103346512495701), (44, 0.710391891608307), (2023, 0.7103939727334649), (88, 0.7104763723039643), (323, 0.7105277785165185), (1275, 0.7106093941062275), (91, 0.7106252359586953), (918, 0.7107731918298346), (1795, 0.7109138552544583), (595, 0.7109487070303349), (1290, 0.711144659238202), (905, 0.7111531311440239), (421, 0.7114655059006851), (1976, 0.7115571616306766), (451, 0.7115904858850595), (139, 0.7117662081742475), (1328, 0.7121584024577304), (938, 0.7121885855931627), (1231, 0.7123933353821306), (1173, 0.7124093690876652), (1959, 0.7124403618072209), (169, 0.7125594001487257), (529, 0.7127041018941407), (1870, 0.7127189800689291), (1941, 0.7127729751506076), (1108, 0.713061111754246), (792, 0.7131683506662712), (1235, 0.713376508134821), (1011, 0.7134369877672186), (1983, 0.7134953992907921), (1751, 0.7135006648772084), (405, 0.713544492628222), (1920, 0.7137073555250911), (1719, 0.7137097351888433), (790, 0.7139578593636251), (346, 0.7139765613843496), (196, 0.7140894326583375), (27, 0.7141318907957235), (1425, 0.7143383784127522), (600, 0.7143399538242203), (898, 0.7146011231872422), (884, 0.714770678845802), (115, 0.7148380919583446), (2076, 0.7150271935487518), (381, 0.7151565185885753), (1654, 0.7152955327001855), (564, 0.7154491592569983), (2008, 0.715484406212489), (1199, 0.715576199086701), (1149, 0.7157476023662037), (603, 0.7158894804827092), (1507, 0.7159621329232919), (1618, 0.7160965767485178), (1065, 0.7161447580118943), (141, 0.716151618436249), (90, 0.7161619952470629), (1716, 0.7163600773433202), (145, 0.7164266231184211), (1956, 0.7165575324642979), (892, 0.7166761192240458), (813, 0.7168446552924876), (1082, 0.7169665772983662), (98, 0.7173170919263616), (1139, 0.7173309040785425), (1350, 0.7175440259575643), (492, 0.7175523324901534), (512, 0.717597171224729), (1440, 0.7176967137623639), (417, 0.7177094582309071), (263, 0.717749874163909), (203, 0.717830020937479), (137, 0.7178328343700882), (1310, 0.7179149411238144), (738, 0.7184202517477357), (362, 0.7184477262971134), (854, 0.7185520634371563), (888, 0.7186209562075367), (1224, 0.7186681966280886), (1872, 0.7187359186467557), (1372, 0.7190376877035161), (501, 0.7192045574611984), (578, 0.7201643183316778), (481, 0.7201766819599333), (2045, 0.720283381621609), (35, 0.7204188797773714), (2048, 0.7209504276316754), (94, 0.721247392454986), (1426, 0.7212498892143934), (1626, 0.7214777244913901), (1785, 0.7215693424864043), (1970, 0.7216874342845754), (1456, 0.7217247054970317), (533, 0.7219299710186151), (1447, 0.7219792974406065), (66, 0.7225198924705658), (1534, 0.7227641198916608), (594, 0.7228622027925429), (2087, 0.7230259105345858), (1078, 0.7231615370433442), (1585, 0.7231921657056719), (1875, 0.7236669109513303), (497, 0.7240541187179247), (360, 0.7241006897448854), (673, 0.7242344289292266), (1776, 0.7242461711222503), (2010, 0.724366872494108), (1616, 0.7243779056819435), (1868, 0.7245084062644433), (1114, 0.7245546608769633), (226, 0.7252486566321462), (1650, 0.7254804218734774), (1508, 0.725885009838874), (2058, 0.7258995226912237), (1793, 0.7259917082874494), (1373, 0.7260504912417685), (1168, 0.7260648538362608), (483, 0.7262433426296662), (505, 0.7263962306465117), (1908, 0.7269257342523994), (76, 0.7271118747833641), (770, 0.7271124758903036), (1582, 0.7272125622347418), (10, 0.7272180328673248), (1022, 0.7272920835674013), (916, 0.7274087514706563), (706, 0.7276334450009689), (92, 0.7277897938490541), (831, 0.7278852479938369), (1302, 0.7279083884641449), (265, 0.7280361679787924), (1253, 0.7280748795028777), (1955, 0.7280913431007416), (615, 0.728134566534683), (2039, 0.7283861767664541), (722, 0.7284072730491098), (423, 0.7285071878698077), (1030, 0.7288665588409253), (963, 0.7289253586046239), (625, 0.7289629360713826), (1360, 0.7290537085750447), (1354, 0.7291347678954502), (1046, 0.7291493752932786), (646, 0.7292640758212237), (902, 0.7293084706249919), (804, 0.729379479735651), (1855, 0.7294703052869997), (1016, 0.7295911636097583), (530, 0.7296221496012985), (616, 0.7297328411873905), (1918, 0.7302469156418798), (708, 0.7302942773366204), (1229, 0.7304249749916633), (1340, 0.7304726327254475), (1816, 0.7306160727641506), (710, 0.7306242125421814), (1338, 0.7307247404137658), (15, 0.7308811721331411), (913, 0.7309827110707432), (1494, 0.731076647526312), (2084, 0.7311496673777322), (2031, 0.7311747656469749), (2029, 0.7313663446485701), (1914, 0.7313744627727032), (619, 0.7314225193174071), (647, 0.7315380272570673), (1037, 0.7316015153238292), (882, 0.7316021730395723), (40, 0.7317346887870821), (1782, 0.7319917995134146), (241, 0.7323806207989927), (1717, 0.7324605917569569), (807, 0.732730583901178), (1505, 0.7331649974528978), (1529, 0.7332319341710927), (1998, 0.7332851265611955), (1359, 0.7336408555438892), (1609, 0.7336564888271191), (31, 0.7338630067653884), (842, 0.7339527647037021), (1465, 0.7339558029104654), (1704, 0.7340812545437613), (1160, 0.7341214544823415), (500, 0.7343593793290335), (875, 0.73458925316917), (2089, 0.7346440814464651), (1237, 0.7351488192814821), (1987, 0.7352148896974414), (641, 0.7352576712907861), (1202, 0.7352582801429433), (2092, 0.7354015419397777), (1887, 0.7357055364381079), (234, 0.7358411983045774), (457, 0.7358582555953108), (47, 0.735897559559089), (1669, 0.7359327260129012), (142, 0.7359711746416486), (1178, 0.7360071776376232), (1303, 0.7363162883792113), (1684, 0.7363398827697828), (1734, 0.7365503656511774), (548, 0.7366600586836758), (282, 0.7367129190390963), (1839, 0.7367407012490381), (1945, 0.736900920880649), (14, 0.7371475712970894), (1004, 0.7372169878587744), (1845, 0.7375648258848441), (342, 0.7375717843674552), (1382, 0.737599041558215), (1345, 0.7376188960561995), (2088, 0.7376425677272629), (1888, 0.7377178328631326), (571, 0.7377240308809391), (1744, 0.7377924661286185), (581, 0.7378863854914135), (1434, 0.738058765280581), (2056, 0.7381549674103469), (1975, 0.7383020799978064), (264, 0.7383285496470156), (1256, 0.7383691077809668), (1951, 0.7384317531321012), (1969, 0.7384478868324871), (1269, 0.7387732314324544), (652, 0.738790145610881), (2069, 0.7388446145562824), (37, 0.7389194083274637), (218, 0.7391111889026185), (1407, 0.7393927943073444), (1083, 0.7394412082958264), (1423, 0.7396681935171782), (1711, 0.7398271129056408), (495, 0.7398410696092899), (848, 0.739959843631644), (784, 0.740012705390451), (1891, 0.7400754722702535), (1781, 0.7400882331847651), (233, 0.7402381720202938), (1280, 0.740489787606621), (2091, 0.7405469319143927), (2090, 0.7408428740277466), (740, 0.7409300565227221), (341, 0.7410145999621124), (72, 0.74113034784552), (2053, 0.7411473442292023), (103, 0.7412380047798959), (1894, 0.7413085870239027), (352, 0.741369424491539), (1736, 0.741455966250435), (220, 0.7417560670643667), (1457, 0.7420975517963417), (261, 0.7421293329870283), (335, 0.7422978007859362), (733, 0.742350672600558), (1644, 0.7425163362802965), (950, 0.742549042722985), (1315, 0.7426443206039377), (2066, 0.7426870107531025), (1013, 0.7427336242707889), (1212, 0.7427522958287638), (1546, 0.7428065735102043), (1780, 0.7428087308816826), (2083, 0.7428793973919036), (192, 0.7428915793401899), (2075, 0.7429288998066599), (2002, 0.7432386458123104), (1187, 0.7433330199299519), (254, 0.7434502396052401), (609, 0.7434514946948909), (667, 0.7435193116310552), (817, 0.7438036613323691), (1842, 0.7440993554776509), (1783, 0.744510980201577), (634, 0.7446454090797376), (1029, 0.744657906708047), (1468, 0.7449392227117755), (128, 0.7451141608784493), (1722, 0.7451534289151494), (1443, 0.7453440681012895), (1825, 0.745568148772709), (1488, 0.7455758781736032), (2085, 0.7456847488683377), (721, 0.7457794646895983), (38, 0.7458622633212483), (477, 0.7460019640285548), (28, 0.7460788415233313), (1917, 0.7461057399547644), (1895, 0.7462264714231148), (1756, 0.7462645620432121), (1910, 0.7463724763059607), (175, 0.7463931051205885), (1048, 0.7465141982099157), (1209, 0.746605772749082), (954, 0.7469596142933533), (1833, 0.7470331535397747), (2071, 0.7472618164443642), (524, 0.7473281638365679), (1729, 0.7473684836221548), (1386, 0.7474727321320132), (1750, 0.7474778587390123), (608, 0.7476878869550454), (1166, 0.7478751906734871), (1949, 0.7479047220401183), (1974, 0.7479546329296067), (476, 0.747988496236843), (1479, 0.7480764328846008), (2074, 0.7481792238891884), (1067, 0.7483186450873984), (1413, 0.7484046044678159), (1222, 0.7486608946159703), (1503, 0.7487906926568038), (676, 0.7489038751651722), (1544, 0.7489205032103448), (358, 0.749242152079342), (21, 0.7492865470073424), (138, 0.7493631877602884), (1853, 0.7494433331250494), (2082, 0.7494495684612827), (1395, 0.7495805848081563), (1418, 0.7496862760600879), (1448, 0.7496964325594064), (806, 0.7500570994058753), (1940, 0.7501010132200904), (1383, 0.7501906436973871), (1622, 0.7503076254642569), (366, 0.7504285424585947), (1527, 0.7505562378470857), (660, 0.7506485758347742), (2054, 0.750658739866589), (1329, 0.7507020829823959), (744, 0.7508282845191185), (180, 0.7508590956298327), (811, 0.7509787121537208), (359, 0.7510127717636976), (870, 0.7512266789937565), (480, 0.7514799900644027), (1519, 0.751494900034486), (1335, 0.751566852235515), (998, 0.751574984455657), (1058, 0.7516664448911115), (838, 0.7518566678074017), (1670, 0.7519424519898881), (971, 0.7520038388766803), (525, 0.7520702172115474), (1637, 0.752116163415634), (301, 0.752197207925286), (2081, 0.752374185934831), (2070, 0.752400201515356), (591, 0.7524119453041154), (1525, 0.7525335831687425), (2106, 0.7528791620901264), (2072, 0.7528890403332236), (1617, 0.75291671785254), (1784, 0.7530706944258987), (285, 0.7531078438062864), (2086, 0.7531277420411784), (144, 0.7534783419990745), (709, 0.7535302749522219), (1054, 0.7536264055324458), (1718, 0.7536894410239725), (2079, 0.7537549722183272), (924, 0.7537714314770192), (1623, 0.7540187330607275), (973, 0.7540240290894327), (2000, 0.7540454371024745), (1994, 0.754057426084225), (2030, 0.7540775226246246), (849, 0.7542332678971101), (692, 0.7543210900647923), (1770, 0.7543515847339053), (1437, 0.7544146496240536), (826, 0.7545418080784843), (1634, 0.7548458429027219), (1475, 0.7548536863091214), (235, 0.7550320018821844), (863, 0.7550813410182459), (1318, 0.7551177642060352), (1631, 0.7551223460521429), (364, 0.7551375001864954), (1018, 0.755233717183391), (1, 0.7552696277670998), (2078, 0.7555091816607704), (1847, 0.7555333704979411), (1074, 0.7555807077031349), (1462, 0.755621858664216), (369, 0.75566626292731), (1636, 0.7558346948020176), (2073, 0.755939718931757), (1236, 0.7560050997116209), (2065, 0.7560661537591364), (704, 0.7560687579075456), (791, 0.7562039649808089), (939, 0.7563776049476294), (601, 0.7565118214549555), (1958, 0.7565509844466622), (1409, 0.7565740059688285), (915, 0.756787481128228), (2057, 0.7568474193607113), (1414, 0.7568887303032925), (1730, 0.7569401369285027), (479, 0.7570752141927675), (2080, 0.7571318777187162), (1517, 0.7571811292406284), (1721, 0.757300724326805), (468, 0.757330312269495), (546, 0.7573319148836377), (29, 0.7575314678501381), (1095, 0.7575522232388194), (1997, 0.7575593533732438), (1567, 0.7576290559439571), (474, 0.7577297769397152), (596, 0.7578508794488945), (227, 0.7578661602848914), (290, 0.758016954272389), (1502, 0.7580545610298619), (519, 0.7581254100001285), (1680, 0.758147207958599), (1995, 0.7581644631473741), (1467, 0.7581783901222938), (1090, 0.7582219993015095), (319, 0.7582936942327134), (30, 0.7583192449239365), (1122, 0.7584973172131049), (1851, 0.7585669915029338), (246, 0.7585923188057205), (696, 0.7585974069827568), (2067, 0.7588737032113753), (351, 0.7589020578953856), (2077, 0.7589551316863301), (1930, 0.7589741823638976), (748, 0.7589918374444719), (1047, 0.7590456646554156), (688, 0.7590614316373018), (1739, 0.7592293244938882), (1555, 0.7592378455865725), (284, 0.7592556851095449), (252, 0.759402033190847), (579, 0.7594672152353094), (1120, 0.759533948424172), (1804, 0.7595651106002985), (1103, 0.7595718718363996), (1808, 0.7595883574944942), (1450, 0.7596017104856608), (1470, 0.7596820864201687), (1596, 0.7598060635396428), (1924, 0.7601485305644916), (318, 0.7601697867432167), (1362, 0.76031414562481), (1240, 0.7603776551662413), (186, 0.760526576290399), (1763, 0.7609303666550916), (135, 0.7612505793316807), (127, 0.7612614860344901), (1461, 0.7613260424350375), (1411, 0.7614834706095281), (544, 0.7616204367040225), (1635, 0.7616431884780818), (1649, 0.7616862171793793), (890, 0.7617748031663323), (1171, 0.7623877127894612), (681, 0.7624496280767771), (1932, 0.7624800341873123), (1586, 0.7624937240380066), (75, 0.762520204281443), (361, 0.7625347530259434), (960, 0.7626548605220644), (1981, 0.7627085277876664), (844, 0.7627688378593872), (149, 0.7629364424597659), (2064, 0.7632062398656803), (1313, 0.7632384559862951), (2061, 0.7633948672802009), (1028, 0.7634198722491022), (788, 0.7634263474215596), (1692, 0.7634475874935995), (1071, 0.7634848435327755), (71, 0.7635021180492495), (1309, 0.7636081816884026), (200, 0.7638785782919415), (1907, 0.7639493915793614), (624, 0.7639831297254213), (783, 0.7641821828990143), (240, 0.7642657676622218), (1311, 0.7643746616623468), (1305, 0.7643962852417072), (278, 0.7645154252680337), (365, 0.7647479470817563), (2009, 0.764748151801198), (1492, 0.7648829928295633), (1936, 0.7649208026875733), (1294, 0.7649294749918936), (986, 0.7649601522734495), (1857, 0.7652259987158854), (614, 0.7653231900000218), (1254, 0.7653261621918346), (545, 0.7654757481523096), (843, 0.7656805018957624), (1096, 0.7658213999126403), (742, 0.7659830632385963), (1760, 0.7660203203082324), (1550, 0.7660667882777836), (976, 0.7660822727579406), (1481, 0.7661012741381727), (1740, 0.7662623017007768), (39, 0.7663119439631918), (2068, 0.7664583553814206), (217, 0.7664910338767045), (684, 0.7666455425362217), (934, 0.7666979504044736), (275, 0.7667439013240931), (1651, 0.766867542667451), (1107, 0.7668745748689213), (1966, 0.7669048502326442), (1865, 0.7669318100040015), (726, 0.7671502843945592), (67, 0.7671722884308324), (367, 0.7673249775113822), (967, 0.7673755627901393), (1321, 0.7676582519510112), (1665, 0.7676670550347051), (1474, 0.7676728229447669), (2063, 0.7677290437166254), (850, 0.7679034420461459), (1283, 0.7679143539928415), (1061, 0.7680028391636844), (1493, 0.7680048248812635), (2017, 0.768045818964889), (521, 0.7680596935048801), (1055, 0.7681916267742896), (288, 0.7682326515557755), (2047, 0.7682534311602287), (2060, 0.7682934783502332), (1419, 0.7683153355517647), (439, 0.7684248217042126), (13, 0.7684689805855519), (1944, 0.7685550705714228), (489, 0.7686792896199721), (1742, 0.7689609399305115), (2059, 0.7691220871286499), (343, 0.7691454483245184), (1106, 0.7692878991270613), (1790, 0.7693890985960488), (1886, 0.7695327765306241), (1484, 0.7697530576715688), (577, 0.7697781208321114), (1317, 0.769849542934439), (1455, 0.770173376566371), (1023, 0.7703470790394339), (1556, 0.7704015230292033), (486, 0.7706352734023443), (2014, 0.7708007896596598), (1713, 0.7708170407314744), (803, 0.770828638078745), (1487, 0.7709103815515435), (340, 0.771344602242985), (293, 0.7713631748184571), (1605, 0.7714784804906194), (945, 0.7716336099495873), (5, 0.771670010883907), (197, 0.7717162537701645), (1369, 0.771766794033209), (2062, 0.7720000541079242), (1963, 0.7720530049455406), (6, 0.7721997523748395), (565, 0.7723539476061896), (2003, 0.7724115215141658), (16, 0.7724287606425901), (1196, 0.7725017906315824), (1268, 0.7726032443166625), (1217, 0.7726545160143722), (1163, 0.7729039027970089), (1384, 0.7730454924044085), (532, 0.77317899912288), (1152, 0.7732042305231246), (96, 0.7734644016323462), (592, 0.7734801430679346), (1001, 0.7735960840207223), (705, 0.7737962652794919), (190, 0.7738984297596121), (1233, 0.7739068236967417), (1858, 0.7740335784461392), (1698, 0.7740757173966826), (478, 0.7741906532062259), (523, 0.7743353146528449), (1819, 0.7744619953419403), (997, 0.7744732246561665), (699, 0.7745300189800846), (1307, 0.7745543003476872), (1681, 0.7747741246978475), (1789, 0.7748841202813121), (433, 0.775045459810239), (69, 0.7750498502591792), (679, 0.7751209830749828), (1188, 0.7756026672310206), (1213, 0.7756505377366618), (440, 0.7759569901217332), (1353, 0.7760849732982151), (330, 0.7762100013065766), (1514, 0.7768967758466733), (249, 0.7769881404236406), (1038, 0.7772916259722987), (1809, 0.7774596029131072), (636, 0.7780696818941628), (1566, 0.778200005582813), (1779, 0.7782071270407813), (1059, 0.778241652929005), (1898, 0.7785258724594578), (1984, 0.7785776120494046), (11, 0.7789031593921106), (1194, 0.7789564052080153), (1052, 0.7790535131642113), (1125, 0.7791893926460557), (1119, 0.7791922782594787), (929, 0.7793267087072124), (213, 0.779443661215239), (1346, 0.7795529386102906), (1284, 0.7796666824571147), (1463, 0.7796904442044619), (296, 0.779733022300369), (985, 0.7798634438525643), (1288, 0.7798641087171071), (2015, 0.7801471498109177), (1366, 0.7803782067046706), (1593, 0.7803982311512685), (32, 0.7804772145175496), (1862, 0.7806048679314811), (1552, 0.7808447824839482), (465, 0.7809827364591639), (310, 0.7809893803608642), (978, 0.7810036583206883), (1666, 0.7810603997803995), (1852, 0.7811265346658954), (572, 0.781175259482082), (743, 0.7813198263964569), (1978, 0.7813722125918351), (219, 0.78162702903432), (232, 0.7816279436925906), (1342, 0.7819189328873488), (68, 0.7820021544050448), (1866, 0.7821177397643644), (1412, 0.7822380031738771), (833, 0.7822830388894134), (868, 0.7823620239213224), (798, 0.782411897936456), (1449, 0.7824120796154727), (1289, 0.7824140987328353), (441, 0.7824288818250831), (1939, 0.7824315971270055), (1613, 0.782582564765969), (830, 0.7827417359966863), (1662, 0.782791105458192), (1127, 0.7827985209083783), (1699, 0.7828503164170149), (1648, 0.7830380313163612), (1747, 0.7831030558810733), (1989, 0.7831483540497809), (1551, 0.7837294304553677), (214, 0.7838613890243287), (894, 0.784027060360947), (2049, 0.7840861680571561), (170, 0.7840877927995782), (2011, 0.7843343487080637), (1661, 0.7843520627198195), (237, 0.7843745588779941), (749, 0.7844498475662083), (846, 0.784473671269418), (1157, 0.7844985537216673), (1367, 0.7845926444474067), (1408, 0.7847039213175139), (941, 0.7849641976805757), (1390, 0.7849961877786422), (1601, 0.7851725109702383), (840, 0.7853073668682475), (883, 0.7853771272065173), (1320, 0.7855056471364066), (1621, 0.7856256230590211), (1874, 0.7856541302957412), (930, 0.785702287730031), (1406, 0.7859142189643953), (291, 0.7859144975935617), (606, 0.7861134413688456), (1177, 0.7861841725676357), (1694, 0.7862138806146908), (1225, 0.7862543675510747), (653, 0.786322594659637), (1878, 0.7863581917611226), (957, 0.78650514072646), (1860, 0.7870546548203279), (313, 0.7872003422357116), (1109, 0.7873122133118051), (1299, 0.7873395279722584), (1523, 0.7876149906159378), (1232, 0.787643609081493), (2050, 0.788082290384488), (583, 0.788128384988215), (928, 0.7881506982074962), (1025, 0.7881523480052142), (1841, 0.7882621969477417), (895, 0.7884474194056086), (537, 0.7885920352459678), (527, 0.7888190004737057), (390, 0.78901452179941), (642, 0.789107307165618), (97, 0.7891661456424246), (20, 0.7892427079185603), (1769, 0.7893731146661708), (436, 0.789403396786732), (1261, 0.7894170471765617), (1675, 0.7894610806781984), (1365, 0.7896373270103137), (207, 0.7896703249965795), (1472, 0.7896758225778898), (1374, 0.7897568842208176), (407, 0.7898453050344676), (289, 0.7900651906451741), (504, 0.7902495456083958), (445, 0.7905719515157222), (797, 0.7909308691374828), (1772, 0.7909784355363633), (1893, 0.7912199651401215), (1633, 0.7913310567338798), (1674, 0.7915924004551368), (1879, 0.791609416504078), (574, 0.7916467278397684), (1856, 0.7916576969023592), (353, 0.7916763483921279), (389, 0.7916862210814055), (1097, 0.7916878082798509), (1089, 0.7918044317226455), (2043, 0.7918082393964792), (759, 0.7921027898691259), (1446, 0.7921539381172477), (618, 0.7921694907819546), (1241, 0.7921770868421034), (590, 0.7922364215262018), (208, 0.7923248731978613), (966, 0.7923369717520462), (1864, 0.792662129891867), (1101, 0.792680835018959), (1926, 0.7927011999553043), (1357, 0.7929723650163671), (2025, 0.793025867148299), (176, 0.7930861055392268), (327, 0.7932559548360165), (277, 0.7933731671360913), (1668, 0.7934063840144103), (1584, 0.7934203622436973), (1296, 0.7935412275692385), (920, 0.7936376908885587), (1577, 0.7938112438737701), (320, 0.7938122694982451), (1333, 0.7939379582918443), (793, 0.7940248193378359), (987, 0.7942407515002434), (664, 0.7945723358227649), (1512, 0.7947299983895519), (1767, 0.7948691088553252), (540, 0.7950991816146837), (737, 0.7951896459653982), (1399, 0.7952775969449739), (1867, 0.7953159730445375), (2044, 0.7953326530277413), (1428, 0.79544148963312), (377, 0.7954597996677361), (1950, 0.795600274481851), (216, 0.7956096051613553), (1420, 0.7958030355320966), (1243, 0.7958551991381109), (295, 0.7961300234052229), (1349, 0.7963114293231056), (1485, 0.7963287027834527), (1361, 0.7969234500560245), (238, 0.7969672341195823), (1927, 0.7969692741929826), (1934, 0.7972722508888779), (1072, 0.797439765915487), (416, 0.7974685675096247), (1234, 0.7977676873898348), (1379, 0.7977989785136754), (1389, 0.7979779798196772), (245, 0.7984723082550488), (695, 0.7987071903936371), (818, 0.7990122691478843), (1581, 0.7990617050408106), (1073, 0.7993169709876403), (1996, 0.7995590732226001), (1486, 0.7997012051110951), (1203, 0.7997310045146742), (1153, 0.7997517271703063), (1830, 0.8010579617320136), (1469, 0.8010883472681398), (1134, 0.8014986111715786), (1993, 0.8015615505513328), (118, 0.8016068572802937), (1091, 0.8016909612836545), (1050, 0.8018877561633416), (510, 0.8019813645368086), (1436, 0.8022733948141496), (328, 0.8024073396689473), (2107, 0.8025557583466358), (1547, 0.8026292482468905), (716, 0.8027130963811899), (2021, 0.802865949773326), (1392, 0.8035754927749834), (903, 0.8036591678256473), (1334, 0.8038522308203769), (22, 0.8038622028837416), (1591, 0.8038863506237477), (1100, 0.8039305739617433), (379, 0.8042158295621474), (1010, 0.804517346341044), (1189, 0.8048504154162021), (206, 0.8050790641203673), (1347, 0.8050814548887818), (1587, 0.8052133293977322), (350, 0.8054967089243026), (1871, 0.805542519723266), (907, 0.8055741072164351), (509, 0.8056058382110372), (879, 0.8056534647731823), (526, 0.8057407331201355), (404, 0.8057458636502797), (1557, 0.8057758858343158), (434, 0.8059549230678594), (239, 0.8060406243070479), (772, 0.8060613002943262), (1363, 0.806129747914084), (2026, 0.806147829418574), (173, 0.8066178066831575), (2051, 0.8070218670133725), (1572, 0.8072307943418893), (1330, 0.8073601282259911), (1215, 0.8075465316358925), (1606, 0.8075533917039056), (1892, 0.8082115283576022), (336, 0.8084551842438243), (855, 0.8085991907778335), (1897, 0.8086904791216247), (1500, 0.8090269843727431), (645, 0.8092535490914861), (617, 0.8093681443811938), (923, 0.8095882133884271), (1098, 0.8099437875413604), (1757, 0.8103099196599772), (1060, 0.8103734374805587), (1380, 0.8104157312521204), (1371, 0.8104326580551328), (1723, 0.8105326506253681), (1343, 0.8107217383902758), (488, 0.8108245890488881), (1352, 0.8114350187091377), (1179, 0.8115437773392092), (1671, 0.8115870742056928), (1293, 0.8117242884473084), (399, 0.8117761674572033), (1725, 0.8117977897686587), (1539, 0.8119284362202938), (503, 0.8120074594025423), (1957, 0.8122926711220837), (292, 0.8123389672196327), (1246, 0.8126054771906522), (1266, 0.812702652509542), (1925, 0.8129032398796557), (1204, 0.8129962650345697), (1542, 0.8132317157440152), (1285, 0.8134500630899844), (2041, 0.8135939615313397), (1549, 0.8136144179240548), (1094, 0.8139049651185861), (432, 0.8140386163629914), (1952, 0.8143678036883063), (1612, 0.8144289777181146), (1659, 0.8149579217705514), (632, 0.8151739282898527), (1255, 0.8152719315268985), (635, 0.8154121533492964), (99, 0.8155036950500558), (837, 0.8155395327338544), (78, 0.8159703543750074), (188, 0.8160785844788389), (272, 0.8166577276496085), (154, 0.8166921579308569), (187, 0.8167373288020505), (1673, 0.8167687151134073), (1452, 0.8169003935343717), (329, 0.8173369344555819), (1301, 0.8174101389067173), (1453, 0.817466953430318), (1214, 0.8176381404391191), (1754, 0.8176769127291275), (1142, 0.8177119942672659), (1053, 0.8181831836262915), (1657, 0.8186992360773885), (1573, 0.8187986635763539), (878, 0.8188006198454326), (747, 0.8188582201082955), (1599, 0.8190606748419186), (1201, 0.8191919516143047), (968, 0.8193351259370334), (1758, 0.8196167728341192), (418, 0.8196962174716126), (1748, 0.8199288988644818), (1008, 0.8199386253511685), (585, 0.8201823830235576), (612, 0.8203822082123764), (1198, 0.8204067737419951), (658, 0.8209147273072698), (422, 0.8210710089389924), (122, 0.8212706196340115), (707, 0.8213058080124271), (1863, 0.8215832040557058), (1174, 0.8216520793951101), (1656, 0.8217625031290521), (83, 0.8221689054126962), (2052, 0.8222512658846305), (485, 0.8222701482501709), (1086, 0.8223923682339976), (373, 0.8225411129589609), (1297, 0.822573873789876), (299, 0.8226226639769707), (511, 0.8226648580567126), (1319, 0.8229462707303692), (386, 0.8229477825325117), (1643, 0.8232269579909139), (1640, 0.8232319516749894), (1614, 0.8233700470459446), (297, 0.8235549064329819), (1176, 0.8236292042437837), (1003, 0.823671077902531), (101, 0.8238542635177232), (1639, 0.8238973032770827), (1138, 0.8243509458334737), (1590, 0.8245015515653329), (1538, 0.8247811362593389), (55, 0.824897537540841), (984, 0.8249038170195251), (741, 0.8250467729490399), (1248, 0.8250546247734252), (1806, 0.8253510063611958), (307, 0.8262663888822185), (586, 0.826288353730301), (1611, 0.8263501765032273), (1792, 0.826449048045993), (156, 0.8265228652764464), (1477, 0.8265488308745539), (613, 0.8267282866597014), (1102, 0.8268173267142207), (620, 0.8268871735717993), (717, 0.8275552742476138), (589, 0.827606727320286), (851, 0.8277325351338396), (1154, 0.8277431293988988), (1726, 0.8278697851940691), (1834, 0.8279588738222022), (1077, 0.8286476452227614), (430, 0.8288668651516959), (1279, 0.8295631425376077), (782, 0.8298017819167025), (538, 0.829906114441679), (1985, 0.8299456842779439), (1051, 0.8301277920023657), (1130, 0.8302075195490471), (1115, 0.8309721738966068), (244, 0.8310046736887604), (1990, 0.8310582916478327), (1190, 0.8313105435626023), (378, 0.8315594960113286), (1137, 0.8316945766016586), (1620, 0.8326763149499392), (446, 0.8327712238332622), (1646, 0.8330421812938595), (732, 0.8334020626228478), (799, 0.8335368751826666), (1435, 0.8336591173185538), (64, 0.8340644030007764), (1931, 0.8344668436814748), (487, 0.8345963343099901), (630, 0.8348765021148692), (1272, 0.8351198131240669), (995, 0.8354517556680372), (1271, 0.8354620977012186), (1429, 0.8359977099755244), (643, 0.8360705764276836), (1239, 0.8362669447865184), (900, 0.8364748600356654), (1861, 0.8365325512760922), (1652, 0.8366212193605643), (1854, 0.8367484952677252), (1370, 0.8373437343221515), (298, 0.8373968699614364), (1814, 0.8374892245142707), (1536, 0.8375851997848193), (385, 0.8376269160855598), (1291, 0.8378638890476311), (458, 0.8378828060910324), (82, 0.8381342954007992), (965, 0.8381991870941639), (133, 0.8382252486867516), (1497, 0.8382491002153262), (1131, 0.8382608414724356), (177, 0.8388260510397016), (248, 0.8389614039690283), (1405, 0.8391948129108824), (1274, 0.8396606579738322), (631, 0.8397134888156641), (1432, 0.8397237674579224), (1877, 0.8398341827752144), (1070, 0.8400899187038424), (889, 0.840109939060979), (931, 0.8401545304519832), (970, 0.8402591068923801), (229, 0.8407069312230236), (1658, 0.8407309961935285), (761, 0.8410627407672506), (1264, 0.8410695455645785), (3, 0.8414061214082054), (257, 0.8415864284689107), (956, 0.8417623858260563), (669, 0.8418263244788251), (958, 0.8421007145437148), (1265, 0.8422500441022411), (921, 0.8424510067700166), (334, 0.8424680888073777), (1558, 0.8426146201010055), (880, 0.8426609747918709), (2102, 0.8428640299235135), (344, 0.8431497601317923), (675, 0.8432670538997313), (259, 0.8433455077584207), (584, 0.8433512293773402), (1588, 0.843535848153476), (1524, 0.843673197726215), (1574, 0.8436893943241555), (2037, 0.8438572205708492), (1800, 0.8441268617142789), (201, 0.8441947109864695), (2035, 0.8444585712967001), (1682, 0.8448581960073686), (1571, 0.845171012447526), (1752, 0.845375900467332), (943, 0.8454639271623112), (1869, 0.8454994046658473), (2042, 0.8455882908187934), (1822, 0.8457587062305193), (1541, 0.8460629057504593), (866, 0.8461978631059855), (1935, 0.8462501838218306), (1451, 0.846324617887362), (1191, 0.8468212868745708), (2046, 0.846914304415326), (1145, 0.846954095413012), (969, 0.8470883712399109), (1045, 0.8471389369082372), (1263, 0.8471788797136514), (1688, 0.8473188820598339), (602, 0.8473325898395617), (962, 0.8476352331371154), (429, 0.8476410916551645), (750, 0.8476687105682665), (496, 0.8476877029487174), (2032, 0.8476979875615434), (886, 0.8483651788636969), (932, 0.8484453024150278), (223, 0.8490168360585675), (461, 0.8490636707495387), (1564, 0.8493551329058683), (781, 0.8500611048514589), (411, 0.8501911767365853), (126, 0.8501967142933601), (2006, 0.8502241783284434), (2038, 0.8504380275397421), (294, 0.8507120481498686), (1192, 0.8507464262220293), (408, 0.8508371654985546), (1252, 0.850935499449287), (23, 0.8516442229574225), (1306, 0.8523325380051433), (1316, 0.8525094401608377), (829, 0.8525249472775995), (758, 0.852750320860785), (302, 0.852804343507011), (991, 0.8528964798275508), (209, 0.8529844803924584), (1247, 0.8531665299317327), (338, 0.8533716624149362), (77, 0.8535290587725157), (412, 0.8536382898355498), (1991, 0.8536925554606797), (953, 0.8537158261679835), (547, 0.8538248514188725), (410, 0.854019858320554), (372, 0.8540744980352409), (805, 0.8542640667957073), (1992, 0.8543392364037381), (1270, 0.8543792453360863), (484, 0.8544822032210025), (1697, 0.8548568990667318), (1663, 0.8553877145396804), (247, 0.8554250811297242), (1273, 0.8555792642668868), (964, 0.8558232609201506), (1398, 0.8559218389045268), (333, 0.8559416621444362), (1123, 0.8559908601685048), (437, 0.8560032279526812), (1427, 0.8560095762963096), (1603, 0.8561021140291744), (1308, 0.856159042571017), (1144, 0.8563531608979975), (687, 0.8564200800263841), (1276, 0.8566975167731332), (1583, 0.8567269754273552), (281, 0.8569792200901093), (178, 0.8576881237648459), (1441, 0.857730314515255), (1745, 0.8578581337324063), (81, 0.8581250644844245), (670, 0.8584169792963717), (1667, 0.8591913035893166), (1803, 0.8595159479444539), (1683, 0.8597936732016076), (331, 0.8598751360005307), (734, 0.8599640718251609), (1249, 0.8600436187802379), (1356, 0.860124395650157), (1015, 0.8604693348599888), (1496, 0.8604864616372225), (1815, 0.8607072707577738), (1645, 0.8608010362191816), (36, 0.8610027412417484), (273, 0.8612579202477728), (211, 0.8614006884334333), (79, 0.8615766700974659), (1227, 0.861817544153539), (919, 0.8631267244447027), (1277, 0.863776525882777), (1513, 0.8639519564702058), (1242, 0.8640863955561098), (2022, 0.8643621206963307), (1625, 0.8645455976806085), (427, 0.864802068142118), (1026, 0.8651245609222111), (1679, 0.8651413948443571), (120, 0.8651803841157124), (573, 0.8651923564875064), (1092, 0.8653851468854024), (419, 0.865404039198612), (1111, 0.865633593232507), (1155, 0.8660424923118941), (861, 0.8661586506353468), (306, 0.8663031538339078), (1805, 0.8664541545122046), (1223, 0.8670223103662364), (1813, 0.8671019853370364), (1184, 0.8672953978590536), (671, 0.8674160796581117), (1642, 0.8676543921895679), (2007, 0.868110705622595), (746, 0.8683799232199385), (2095, 0.868380823779428), (1824, 0.8693600371763802), (1594, 0.8694118070429272), (535, 0.8699104188423934), (1298, 0.8702446613813936), (1889, 0.8708192112231741), (719, 0.8714814164733597), (552, 0.8715795399200423), (1454, 0.8718585835255684), (1597, 0.8719606841783899), (1516, 0.872103763162786), (718, 0.8725768465906143), (1391, 0.8733248680908707), (935, 0.8734321222917074), (428, 0.8737232594072697), (587, 0.8740470679425588), (570, 0.8740714910185273), (873, 0.8750638556619362), (420, 0.8751277578531339), (1598, 0.8751817862455357), (559, 0.875649148672001), (993, 0.8756878397256633), (1128, 0.8758373418135479), (1438, 0.876106445928894), (426, 0.876911745310732), (448, 0.8772153199395021), (1537, 0.8774831841603136), (1183, 0.8780511918856577), (444, 0.8783537235532903), (896, 0.8784562425195731), (1473, 0.8785035739549002), (1148, 0.8785431360448085), (1388, 0.8788268143396937), (431, 0.8791347451535553), (1678, 0.87948742526723), (922, 0.8798687494636835), (562, 0.880767365737588), (661, 0.8811663971790447), (2101, 0.8814471201846992), (1099, 0.8823290674390484), (1836, 0.8824095290071521), (311, 0.883654356848676), (1417, 0.8838356589981752), (1695, 0.8839239651195973), (1205, 0.8839353865780707), (1368, 0.8845367962946268), (204, 0.8847127208630465), (810, 0.8847653742213952), (221, 0.8851845653965315), (413, 0.885493663811265), (1208, 0.8856528688140354), (672, 0.8856620431495328), (1140, 0.8856656929445779), (449, 0.8857993553626712), (736, 0.8861834870701756), (1478, 0.8863560241134224), (1922, 0.8865402517842276), (961, 0.8866456469756646), (1415, 0.8868500925507071), (409, 0.8869200850620774), (314, 0.8870544768186372), (1664, 0.8870998738735182), (1158, 0.8876119128262426), (1831, 0.8884139984041954), (897, 0.8888770097089076), (134, 0.8891149653727136), (1948, 0.890009890316368), (999, 0.8901849680969058), (473, 0.8905048175462476), (84, 0.8908317654103763), (745, 0.8914188393168802), (1771, 0.8914962878033119), (561, 0.8919042598904297), (375, 0.8925539826512103), (1006, 0.8929937646699267), (2103, 0.892998637500298), (1007, 0.8931787139548575), (1186, 0.8934832733969438), (2099, 0.8934970657343236), (899, 0.8936621462885137), (936, 0.8938698387596083), (1175, 0.8941709354313909), (1136, 0.8951885877173336), (1124, 0.8958254904897572), (80, 0.8962620258932554), (1531, 0.8968082651921985), (1764, 0.8977587833977663), (1396, 0.8980106914713393), (1653, 0.898361831409701), (502, 0.8985579812234806), (711, 0.8989252146922567), (871, 0.8993384073371905), (1580, 0.899609279272324), (1768, 0.8996174196444888), (172, 0.9008842413362967), (1689, 0.9016377840330168), (1921, 0.9017149730200655), (777, 0.9018836978540934), (24, 0.9022944909488786), (1404, 0.9023534005668223), (1489, 0.9024510519183111), (392, 0.9024687121985617), (1032, 0.9027654746516272), (1686, 0.9029174256603365), (1535, 0.902954624576709), (1672, 0.9033925296463228), (720, 0.9035700156110976), (1943, 0.9037215767374981), (773, 0.9037683365247167), (1459, 0.9042311856326861), (70, 0.9048869204053451), (2093, 0.9049914505532981), (1129, 0.9051734512885493), (1777, 0.9058162471855113), (383, 0.9073150021776996), (1132, 0.9076597152754536), (1490, 0.9079733456563355), (2040, 0.9090502884635919), (1295, 0.9103484939076922), (819, 0.9104203426310704), (678, 0.9109647029992957), (1818, 0.9110943359465851), (1402, 0.9115400841395326), (2001, 0.9125743992574394), (541, 0.9129427613090019), (1286, 0.9132197598899965), (250, 0.9134631449805203), (387, 0.9134756627543836), (189, 0.9135383530816874), (1105, 0.9135449438636234), (774, 0.9135510504082734), (1141, 0.914347933493347), (864, 0.9148770840352438), (580, 0.9148990288949803), (1543, 0.9149634584987861), (316, 0.9151754696776115), (1630, 0.9155787330296554), (947, 0.9161616573760363), (1720, 0.9162424935866372), (1195, 0.9168433858892072), (121, 0.9175683427641137), (1595, 0.9178515725134098), (111, 0.9180823850637794), (1258, 0.9191452409844026), (1337, 0.919363472410933), (865, 0.9197123704882058), (874, 0.9199697353256356), (1829, 0.9200297610264729), (2096, 0.9207645719116148), (1185, 0.9218153309104927), (663, 0.9219667812959771), (312, 0.9223530555397059), (1332, 0.9225721959413751), (119, 0.9226361220436536), (1200, 0.922777168200266), (1000, 0.9229247502723358), (1826, 0.9229988151119322), (735, 0.9233526024823108), (210, 0.9244012010366836), (1104, 0.9252321444924795), (1828, 0.9254705937209801), (153, 0.9258427839845089), (1193, 0.9261416751455047), (796, 0.9261626599719731), (677, 0.9262982178904406), (1624, 0.9264381768360006), (1063, 0.9266474860862781), (1282, 0.927242006452968), (1883, 0.9273746868824515), (337, 0.9278882252323969), (2033, 0.9297810992263837), (1761, 0.9306475991608963), (391, 0.9307291363492333), (1466, 0.9308645176651362), (438, 0.9311594393159977), (994, 0.9317772034743871), (1554, 0.9322484283166445), (191, 0.9353643142105226), (622, 0.9357604668033344), (1885, 0.9363968312383609), (1746, 0.9386000751194057), (1827, 0.9391924666435055), (1562, 0.9393367659615062), (816, 0.939905116717068), (181, 0.9399302411544387), (1880, 0.9405046525475041), (212, 0.9408048663623263), (2100, 0.9428460384535026), (1511, 0.9442931914883426), (887, 0.9443061248456474), (760, 0.9456951817743763), (862, 0.9475368024927584), (452, 0.9488689597325219), (1778, 0.9518364515281648), (107, 0.951875376871169), (1876, 0.9526418281495649), (1882, 0.9535331073162429), (1615, 0.95409679344471), (1458, 0.9541669869816012), (2094, 0.9542954088571715), (1348, 0.9543890758474387), (1424, 0.9555754225291136), (2012, 0.9569506195668098), (86, 0.9593468223043246), (809, 0.9608875098495651), (1009, 0.9617297261324715), (2097, 0.9624793633470988), (1260, 0.9662726916233402), (2098, 0.9672613133944632), (105, 0.9672795478382886), (933, 0.9673248847172788), (1110, 0.9675285151431321), (1540, 0.9675855323995196), (1498, 0.968278794096315), (582, 0.9710569107444641), (1287, 0.9713173756518739), (1034, 0.9717993736498228), (2104, 0.9750445837497445), (1057, 0.9778445911175062), (1881, 0.978499026514509), (349, 0.9785920180250564), (1724, 0.978897163102401), (820, 0.980160306754062), (869, 0.9804164204859777), (1766, 0.9818584463219147), (1039, 0.9834525475213447), (1522, 0.9842858703676715), (2105, 0.9880309946095497), (824, 0.9881195880683503), (110, 0.9912620719732441), (1685, 0.9915201114119022), (569, 0.9926266111512321), (1482, 0.992920196318585), (315, 0.9938638297212796), (1933, 0.9940816136002557), (1528, 1.002670472053785), (1786, 1.0042656536025767), (771, 1.0119560563516192), (1027, 1.015330537525059), (1929, 1.0163138984019096), (1062, 1.1033047612807332), (1385, 1.137022044858568)]\n",
            "\n",
            "\n",
            "======================\n",
            "\n",
            "\n",
            "Query: Where is the library?\n",
            "\n",
            "Top 5 most similar sentences in corpus:\n",
            "507\n",
            "図書館はどこにありますか。 (Score: 0.0457)\n",
            "460\n",
            "読みたい本が図書館の本棚にないときは、どうしたら良いですか。 (Score: 0.1791)\n",
            "859\n",
            "図書館で本を借りたいのですが、どうしたらいいですか。 (Score: 0.1901)\n",
            "508\n",
            "図書館の本は何冊まで借りられますか。 (Score: 0.1911)\n",
            "356\n",
            "読みたい本が図書館にあるかどうか調べたいのですが。 (Score: 0.2008)\n",
            "[(1087, 0.4092701636320991), (168, 0.41419412568713254), (766, 0.42354584803896556), (59, 0.4487057822653766), (1919, 0.44879982247394046), (1075, 0.44952223946518377), (98, 0.45337271416847225), (1133, 0.4571467733968735), (251, 0.45830817371863675), (1149, 0.4605104133330987), (1901, 0.4608566933571492), (1589, 0.4642296631411674), (560, 0.46754648383569763), (61, 0.4688695003105441), (1954, 0.47238808252213316), (1122, 0.4727031686537768), (945, 0.47442549496554065), (1259, 0.4754451635497807), (877, 0.476469720981872), (1821, 0.48114340056919913), (42, 0.4851080652969816), (659, 0.4860110068781669), (114, 0.4875599525279458), (1964, 0.4901161572394297), (776, 0.49111955707600585), (454, 0.49166528951586286), (161, 0.49542610680790156), (97, 0.495810452400284), (303, 0.4973981882981663), (628, 0.5023379423057717), (765, 0.5046179502289003), (1592, 0.5057399444160953), (605, 0.5072367917303184), (959, 0.5089299551425183), (129, 0.5100805470302918), (563, 0.5105494486817646), (179, 0.5105631580048129), (832, 0.5109600703943069), (940, 0.5112547517377186), (1151, 0.5113439099239074), (951, 0.5118307118098484), (475, 0.5124969686804587), (1680, 0.5125733280814992), (775, 0.5144700327379157), (1066, 0.5169979577443974), (1043, 0.5174972077363826), (2013, 0.5190914919603491), (470, 0.5193869900974541), (1432, 0.5213949468741212), (795, 0.5217686749994264), (1549, 0.5220390781190487), (852, 0.5238429379848777), (164, 0.5255604680550459), (542, 0.5260490937205242), (1733, 0.5293244163052503), (60, 0.5293830599729881), (163, 0.5303058585975488), (100, 0.5328268256785595), (169, 0.5334876912525757), (474, 0.5350902584043915), (1481, 0.5354759049079658), (58, 0.5358695733776873), (1988, 0.5371968095400699), (162, 0.537843921447913), (1938, 0.5379599686776486), (8, 0.538010276851332), (305, 0.5387611288292484), (1022, 0.5391850064870378), (159, 0.5399217657214586), (1395, 0.5400020706455226), (1163, 0.54042257557142), (483, 0.5406287682516462), (807, 0.5420622062816083), (476, 0.5422605747756313), (1121, 0.5441326960119137), (1065, 0.5450807333964467), (166, 0.5453156004384809), (266, 0.5464191962978348), (763, 0.5464374630951632), (1280, 0.5465403223890216), (113, 0.5482083247296752), (354, 0.5488165657095052), (160, 0.5489326522089484), (442, 0.5520188484526405), (806, 0.5524402422268568), (979, 0.5529791752401485), (558, 0.5537455785767074), (955, 0.5538563610133097), (1113, 0.5539464315676575), (682, 0.5546104709914698), (804, 0.5559058114512495), (2053, 0.5563074394215973), (165, 0.5565704156243257), (581, 0.5571472442393879), (1518, 0.5590104314327675), (1054, 0.5593937566558236), (1181, 0.5598138869842463), (112, 0.5600186371802496), (394, 0.5606128517550184), (1945, 0.5610083540844841), (1115, 0.562207392085114), (1319, 0.5642180477847103), (1731, 0.5651100492859507), (630, 0.5655991553511538), (1040, 0.5664854401858099), (48, 0.5671639585605746), (637, 0.5679630987267756), (1049, 0.5688368495163403), (981, 0.5693398389735533), (1495, 0.5698905827023848), (618, 0.5700462567097658), (1523, 0.5709668565294865), (1400, 0.571501954585574), (1494, 0.5747526228403721), (2009, 0.5759580930747278), (614, 0.5762229161082508), (486, 0.5763961477307575), (380, 0.5769184734387982), (155, 0.5770043295653422), (1559, 0.5777234420798467), (321, 0.5781560289014116), (1519, 0.5782190922791901), (435, 0.5783855610250828), (345, 0.5785156580965773), (1336, 0.5795889163625952), (1206, 0.5796782498761807), (1942, 0.5796915255316947), (525, 0.580387881664681), (40, 0.5804548745766351), (35, 0.5804961659671249), (972, 0.5808905237769185), (802, 0.5810580633788343), (690, 0.5811138129408607), (1246, 0.5813066316219669), (1235, 0.5823846247377382), (579, 0.5829141134024608), (513, 0.583398980682371), (401, 0.58353188669513), (322, 0.583593817224503), (1228, 0.5840053532301495), (1870, 0.5840638604741692), (1586, 0.584783430368367), (714, 0.5850295286410574), (62, 0.5864323168674654), (1517, 0.5870779027177452), (1681, 0.5877184763169045), (1250, 0.5882304391406825), (1275, 0.5885381628795696), (34, 0.5890141107979161), (989, 0.5894867370506294), (1774, 0.5895534252343995), (255, 0.5910881118398079), (1042, 0.5910901222531414), (786, 0.5911828214288416), (115, 0.5916434117905958), (1693, 0.5917134407235609), (550, 0.5918016422379309), (507, 0.5919798139919326), (447, 0.5938515443364558), (980, 0.5941484234878327), (1165, 0.5944766543265956), (26, 0.5951757163430801), (982, 0.595187636221381), (937, 0.5954550494561246), (1465, 0.5959004287429029), (38, 0.5961485062597514), (1687, 0.5961771595979648), (586, 0.5970859265486768), (939, 0.5970923807644823), (467, 0.5970931839987998), (1020, 0.5972736274651735), (1031, 0.5973691939625434), (1492, 0.5975506528320411), (825, 0.598416197597263), (1548, 0.5990997098878248), (1156, 0.6001190918054331), (757, 0.6001301044664352), (1802, 0.6015730546722746), (1762, 0.6017893904481662), (1199, 0.6020225380233667), (755, 0.6023430592447667), (416, 0.6031322240391885), (267, 0.6035255386307402), (1791, 0.6045062576121469), (1468, 0.6052329892851462), (1019, 0.6056924830507247), (1351, 0.6057988563617338), (927, 0.6058205542983334), (691, 0.6059025766663239), (976, 0.6064031134247818), (57, 0.6066810940322465), (1292, 0.6067351804060761), (350, 0.6073625693791656), (680, 0.6078178084020559), (193, 0.608439153483052), (1442, 0.6090414586797185), (1692, 0.6092773320432578), (899, 0.609491136303376), (1491, 0.6101861661906665), (858, 0.610391343537241), (1756, 0.6106632273544446), (481, 0.6108296599403685), (127, 0.6113232779627689), (738, 0.6120155964171268), (697, 0.6122166071560837), (1053, 0.6129034319824525), (1969, 0.6132872980453963), (881, 0.6134014406965189), (203, 0.6147429787031491), (578, 0.6148680948913396), (493, 0.6148967678223639), (821, 0.6150634828459391), (1937, 0.615250897976038), (1069, 0.6154646404152724), (1527, 0.6156827737757302), (1963, 0.6160235967673273), (222, 0.6165158924651076), (767, 0.616624133305788), (1081, 0.617114486217323), (1437, 0.6172584599218753), (1079, 0.6174559673251789), (231, 0.6177487174934093), (19, 0.6185661861721341), (1247, 0.6191070818307296), (1997, 0.6195728884952982), (1737, 0.6202955149512664), (756, 0.6203465476639274), (912, 0.6203658318206209), (101, 0.6214728745545456), (167, 0.6214895791619072), (278, 0.6218391050584966), (946, 0.6222203338268071), (1118, 0.6233250168864242), (37, 0.6244197738626562), (1088, 0.6251091754415226), (1294, 0.6256034571972637), (621, 0.6257008079600759), (198, 0.6258104646250623), (384, 0.6258677704605332), (822, 0.6259236315718668), (1888, 0.626181646609413), (1381, 0.626290966226212), (567, 0.627002579943676), (324, 0.6272661358773419), (1911, 0.6275333508664569), (1076, 0.6276355381936314), (1835, 0.627892523822822), (2034, 0.6280602541611308), (769, 0.6292815614702103), (130, 0.6297179076448909), (1239, 0.6298246934537632), (381, 0.630118577641799), (572, 0.6302230588152431), (325, 0.6303368485332312), (1638, 0.6312516115030329), (332, 0.6312839749153547), (648, 0.6315078685583998), (1553, 0.6316799623805776), (1112, 0.6320499661127815), (1324, 0.6322076388526712), (357, 0.6328639198255304), (403, 0.6328771574447306), (1775, 0.6330683993835506), (1425, 0.633336343646661), (918, 0.6334540496201186), (1515, 0.6338233094513721), (1626, 0.6342382689061521), (983, 0.6344198187241479), (396, 0.6347522768700629), (938, 0.6351271683122488), (1506, 0.6351963225436617), (41, 0.6352364397612137), (1500, 0.635345926445348), (576, 0.6355137303497527), (1750, 0.6362099288287838), (1305, 0.636838784760813), (243, 0.6370545434960233), (276, 0.6372733556019803), (1470, 0.63762701605292), (635, 0.6376753617174284), (1634, 0.6378526250140968), (673, 0.638464430364947), (370, 0.6387100149989213), (689, 0.6390563759890554), (1949, 0.6393534782789363), (291, 0.6399286970300008), (942, 0.6399884112398126), (1317, 0.6402076038931162), (89, 0.6402962847648108), (1041, 0.6409404584620141), (348, 0.6410803363435129), (1735, 0.6413485630624476), (607, 0.641371890562701), (1450, 0.6413772284366274), (752, 0.6413983554413556), (1875, 0.6414475108814233), (228, 0.6420625369425915), (1449, 0.642291455052808), (1477, 0.6423306354363287), (1150, 0.6424270988405144), (1397, 0.6429438464311685), (739, 0.6431133673232705), (482, 0.6436243230109775), (256, 0.6441654714124702), (594, 0.6444731489899032), (288, 0.6445409831300987), (109, 0.6453721296097503), (1916, 0.6454718812184939), (1801, 0.6455545270495759), (7, 0.64578221937018), (988, 0.6461875104593372), (1303, 0.6463530262426764), (1734, 0.6463584260369277), (1094, 0.6463597813960875), (44, 0.6464967683892), (1476, 0.6468827230952627), (132, 0.6471299506889985), (280, 0.6473244673872718), (568, 0.6475456583228222), (505, 0.6475537912822225), (257, 0.6478230922836887), (1377, 0.6490956432682199), (205, 0.64922794542767), (640, 0.6492891671478981), (1732, 0.6494084271071306), (290, 0.649494141687875), (382, 0.6496993639909134), (252, 0.6498882373384687), (2039, 0.6504594285655942), (1820, 0.6504828351174115), (1965, 0.6506580019536767), (906, 0.650838213044489), (960, 0.6509632566235387), (1721, 0.6509740491283877), (1884, 0.6511913581182136), (1702, 0.6514120965661905), (1229, 0.6514226715496678), (917, 0.6516924990759029), (1407, 0.6517127046061759), (518, 0.6519005181010192), (268, 0.6523466857618058), (625, 0.6524545128722652), (490, 0.6525552099907791), (1331, 0.6526118707917583), (188, 0.6527688604845479), (1994, 0.6527990056083828), (753, 0.652830481393953), (712, 0.6528581604757662), (1485, 0.6528789256988177), (491, 0.653162553110237), (1722, 0.6531904771166805), (217, 0.6533173069670564), (770, 0.6533844654703713), (1736, 0.6535935928721612), (5, 0.6537202801500371), (1360, 0.6540968143466441), (1, 0.654560302883133), (367, 0.6546006966812126), (405, 0.655038259053722), (893, 0.655527204289533), (277, 0.6558197764595957), (910, 0.6560691840754229), (1920, 0.6561668460336937), (1408, 0.65618939922457), (1676, 0.656220529421697), (1694, 0.6562698208830013), (528, 0.6570834074874283), (287, 0.6571359659331486), (1534, 0.6572373253596661), (721, 0.6574093899036024), (1958, 0.6574233982935065), (1428, 0.6580289013263264), (1798, 0.6581422179565712), (633, 0.6582927785000312), (495, 0.6583451812187314), (1823, 0.6583467616314255), (376, 0.6584348699795846), (830, 0.6585066772682162), (1410, 0.6586384931430624), (805, 0.6587740870501354), (1521, 0.6589321663886346), (65, 0.6591672312186732), (1760, 0.6591737951583833), (317, 0.6592067910839412), (1619, 0.6592898043678243), (289, 0.6593263582270306), (841, 0.6593345194303147), (1953, 0.660044105761221), (263, 0.6600644061106387), (170, 0.660263797155783), (74, 0.6606317099747941), (683, 0.6610968981935721), (1739, 0.6612597703726215), (1278, 0.6613890878161042), (823, 0.6617712749103356), (1480, 0.661813380263337), (1340, 0.6619963689769173), (1093, 0.6620032565757221), (1593, 0.6620206895864748), (455, 0.6627796752787379), (180, 0.66292598948272), (876, 0.6631928717413409), (434, 0.6632304437453327), (2036, 0.6634525202213217), (1238, 0.6635304069171226), (1962, 0.6637421855590748), (1288, 0.6639911018024323), (25, 0.6642300864677545), (1343, 0.6644489149021383), (1478, 0.6645161517122397), (157, 0.6652221849793201), (713, 0.6652499335634644), (615, 0.6652508512527124), (539, 0.6655035931514746), (275, 0.6657984274751246), (731, 0.6658107943770706), (1401, 0.6658911469650433), (282, 0.6659982945862724), (1607, 0.6660498276367732), (1106, 0.6660828719107754), (911, 0.6661750525561122), (17, 0.6664458659915764), (301, 0.666532506402796), (1890, 0.6667236422416201), (2, 0.6668113000408671), (1605, 0.6671683192884925), (1610, 0.6672455142986633), (1977, 0.6673007848864063), (826, 0.6674214579122764), (1970, 0.6674361341479571), (417, 0.6674745010388579), (803, 0.6676950770191317), (364, 0.6677249601978602), (794, 0.6678734445547776), (901, 0.667996329692763), (634, 0.6680030209909373), (1644, 0.6682369569503022), (1767, 0.6684064302657887), (347, 0.6685819135296647), (1995, 0.6686419795396981), (904, 0.6688144505013534), (1651, 0.6690390079607658), (1717, 0.6691464872120114), (977, 0.6692009120772959), (1998, 0.6694889935736545), (194, 0.6694940008640686), (131, 0.6696931007766448), (1224, 0.670111833684619), (556, 0.6701209188752161), (1530, 0.6702100283616252), (1796, 0.6704571774863903), (1232, 0.6704774517785105), (158, 0.6705983890575036), (588, 0.6707326702910963), (667, 0.6707568415989859), (1345, 0.6707646634564625), (974, 0.6711065400239049), (1979, 0.6713352648483447), (1915, 0.6714975241152772), (645, 0.6720437896751386), (1180, 0.6727557375323352), (1304, 0.6728270134367176), (1705, 0.6733756439026676), (1107, 0.6734277423856613), (593, 0.6734747404189971), (224, 0.6737179892287797), (504, 0.6737621868872767), (1002, 0.6738108247313612), (599, 0.673818431267943), (1951, 0.6738631832077115), (1604, 0.6739369142414914), (1650, 0.6740831697932087), (778, 0.6742048294079541), (515, 0.6744795926833382), (1832, 0.6745753697344825), (1035, 0.674732471757231), (2003, 0.6748362108511732), (1699, 0.675249203962605), (952, 0.6752904504333359), (2014, 0.6753872734878004), (948, 0.6756441216144486), (1160, 0.6756701287883417), (398, 0.6757447309292894), (949, 0.6757884838256372), (1455, 0.6762584872036312), (218, 0.6763743169301584), (900, 0.6764878078978197), (368, 0.6766566800339016), (1013, 0.676691677904494), (1021, 0.6767571833464807), (1544, 0.6770031647600191), (619, 0.6770138421121266), (888, 0.6770375584134605), (1373, 0.6770745799107569), (1293, 0.6772075436808104), (1172, 0.6773262924897123), (517, 0.6773365010930776), (1168, 0.6773707897003897), (1561, 0.6775694996275834), (651, 0.6777395801315542), (335, 0.6778692413868066), (1688, 0.6778975712056148), (1219, 0.677969403850391), (271, 0.6781764687486292), (1631, 0.6783843836534763), (1445, 0.6784513763032405), (265, 0.6785185827661), (320, 0.6787134648122911), (1166, 0.6787749653741515), (1139, 0.678858414457614), (2032, 0.6789208713931731), (300, 0.6789914933851062), (1973, 0.6790361152467996), (1509, 0.6790446306230737), (1769, 0.6791031085114714), (890, 0.6792423974979132), (1582, 0.6793520876011289), (787, 0.6798019998954954), (764, 0.6798851875327894), (1083, 0.679952785010816), (1005, 0.6800206714554573), (958, 0.6802809015644922), (1341, 0.6805102545298268), (647, 0.680733186405618), (555, 0.6807460699851122), (1460, 0.6808224168750714), (501, 0.6810126739977336), (386, 0.6811624235699256), (1622, 0.6811941250028148), (584, 0.681366984228033), (587, 0.6815901107482805), (397, 0.6816436496950543), (1727, 0.681964182880036), (118, 0.6822787921606019), (1268, 0.6825930253056596), (202, 0.6826194116771622), (2011, 0.6827177262305406), (1290, 0.6829430148740103), (611, 0.6831250750803534), (2027, 0.6832556521366089), (1080, 0.683393603672168), (1429, 0.6834386888231313), (723, 0.6834788192226919), (1281, 0.6836517155997268), (293, 0.6836542280933231), (1588, 0.6838016458866674), (9, 0.6838778497195364), (784, 0.6839031228822607), (462, 0.6840390112589527), (828, 0.6840676987087766), (156, 0.6841604957288552), (997, 0.6845125375694898), (1394, 0.6847338868479017), (342, 0.684737678699479), (514, 0.6849711725326387), (1999, 0.6852532818343109), (262, 0.6854149756390078), (1708, 0.685639728558492), (1439, 0.6858876269626879), (908, 0.6859933285195536), (1202, 0.6873460356993404), (443, 0.6873852917032413), (1375, 0.6877108910715051), (1636, 0.6879143311490572), (175, 0.6879960534816626), (849, 0.6881463062396425), (260, 0.6882462065056782), (1612, 0.6884665787683918), (965, 0.6884742027666471), (815, 0.6885703617071148), (1666, 0.6887589262333192), (1393, 0.6888645328942695), (1520, 0.6889275549863356), (1364, 0.6892596190292715), (1230, 0.6892920060105869), (246, 0.6893788176335758), (236, 0.6894169708717433), (1550, 0.6897562619742543), (624, 0.6899918837239896), (1325, 0.6900059444628961), (1679, 0.6904831296808613), (1334, 0.6906738574463782), (860, 0.690683158894629), (662, 0.690835763797701), (1084, 0.6908381501693177), (1677, 0.6910479160780807), (878, 0.6911537597234645), (1738, 0.691207908838054), (1505, 0.6914792844490721), (827, 0.6916510693589317), (1499, 0.6917066633111968), (666, 0.6918369439435179), (867, 0.6918946293975194), (1526, 0.6919701442901998), (1114, 0.6920849723551714), (780, 0.6925114351987529), (1980, 0.6926767769501382), (2054, 0.6927144254177542), (506, 0.6927683858545279), (590, 0.6928159831011117), (460, 0.692931020367566), (829, 0.6929795337632896), (407, 0.6932064305960146), (553, 0.6932366125139506), (1101, 0.6934304753667881), (534, 0.69354794114565), (571, 0.6937108835179238), (724, 0.6939100382321319), (1776, 0.6943153705743351), (1542, 0.6944851094574243), (1532, 0.6945985051560526), (1718, 0.6946714933875883), (889, 0.6947877844374741), (793, 0.6949693058034145), (751, 0.6950173803977775), (1459, 0.6950932562662082), (1328, 0.6951548964186403), (1443, 0.6951793191122249), (655, 0.6952577953992327), (1812, 0.69527101648454), (248, 0.6952908694790786), (728, 0.6953238564371845), (116, 0.6954061417228823), (884, 0.6955344069642254), (230, 0.6956155177494345), (856, 0.6957355139892889), (1326, 0.6958003868280827), (215, 0.6958637528187475), (744, 0.695864466195501), (1912, 0.6962423133820426), (1339, 0.6962672865197728), (1712, 0.696561420231439), (85, 0.6967043909389411), (931, 0.6968256795375795), (1440, 0.6969086392643715), (2028, 0.696993159504216), (1367, 0.6970596457127269), (2030, 0.6971657749105934), (675, 0.6971874875012131), (408, 0.6972025855867333), (356, 0.6973726424158109), (604, 0.6976194345196667), (28, 0.6976704664259128), (55, 0.6979919448736867), (1628, 0.698001277302118), (601, 0.6982518437053864), (747, 0.6982521547692027), (22, 0.6982725180325806), (1262, 0.6983665662032904), (1696, 0.6987432750477912), (905, 0.6992198704874957), (1213, 0.6992669867266977), (609, 0.6992947495941723), (469, 0.6993870311641491), (1063, 0.6995010410733384), (708, 0.6996499934533076), (1058, 0.6996972597724105), (326, 0.6997894878442916), (1126, 0.6999237674557992), (1188, 0.7000687972436543), (71, 0.7001341892564528), (733, 0.7001815845921318), (549, 0.7002828185776282), (859, 0.7002915761529662), (1587, 0.7003684129728966), (1947, 0.7004212303930537), (1130, 0.7004736195381378), (508, 0.7005135469595639), (1656, 0.700608896743008), (418, 0.7007065932340346), (595, 0.7008915111306051), (1785, 0.7011026349072065), (1557, 0.7014483882127208), (653, 0.7018151415537777), (1438, 0.7019919579390048), (258, 0.7020522355479423), (1108, 0.7020669632003189), (709, 0.7021406760643217), (140, 0.7021875682269241), (1698, 0.7024563740539648), (500, 0.7026241406094413), (1926, 0.7026955056072106), (2015, 0.7027096161036547), (577, 0.7027105942665559), (91, 0.7027273544148547), (1924, 0.7027320382612753), (1169, 0.7029147068240269), (524, 0.7029273939157132), (730, 0.702975839334874), (654, 0.7030522235070578), (1403, 0.7030961967519457), (1085, 0.7032163386177279), (643, 0.7032480338469607), (529, 0.7033778256090402), (343, 0.703379447532531), (1707, 0.7036723005665709), (1794, 0.7037141924674077), (414, 0.7037750577924755), (135, 0.7041860082785164), (1388, 0.704393736990292), (589, 0.7044518923232312), (1236, 0.7046003899621018), (50, 0.7046274298220208), (726, 0.7053551224721567), (1357, 0.7054677258866978), (1420, 0.7059233426348575), (1910, 0.7060118450978357), (1566, 0.7063993980133016), (990, 0.7064474690855), (404, 0.7066068874877292), (1426, 0.7067036248594496), (1825, 0.7067323607255533), (27, 0.7067868498447616), (1892, 0.7068192244867921), (1392, 0.7068327699957886), (451, 0.7068529452884859), (855, 0.7068950758045358), (1585, 0.707035370487906), (66, 0.7071450600401639), (1501, 0.7072404824893409), (565, 0.707306932148533), (1048, 0.7073371177816807), (241, 0.7073911226649288), (1508, 0.707680933303406), (190, 0.7082375679478187), (702, 0.7083614752892871), (1913, 0.7084092964246129), (336, 0.7084263730715927), (1904, 0.7085959806637542), (1350, 0.7087056383269175), (1740, 0.7092073976362867), (575, 0.7092468402201162), (2004, 0.7093010438109026), (1082, 0.7093034601802202), (638, 0.7094011046711717), (1479, 0.7094545290409124), (1483, 0.7094857299992252), (530, 0.7095799692418094), (1161, 0.7096348175849126), (123, 0.7099508091132715), (1456, 0.7100210584981117), (1948, 0.710029096513534), (225, 0.7100366637614062), (1245, 0.710396727679552), (536, 0.7105300912274505), (388, 0.7107669194832912), (1909, 0.7108235725285563), (1167, 0.7108771071877322), (725, 0.7109834977016019), (1423, 0.7110641325846243), (715, 0.7114188996980488), (2020, 0.7116933325898249), (623, 0.7120603596405901), (1960, 0.7123216862937338), (1333, 0.7125898462164861), (1503, 0.7126285402572887), (0, 0.7127274750644303), (710, 0.7128102261222136), (1103, 0.7128282958632615), (1533, 0.7128947457974018), (1152, 0.7129027868636378), (466, 0.712938127742901), (1792, 0.712985656515387), (1056, 0.7130159555017088), (564, 0.7130334917455476), (1203, 0.7130685204905076), (854, 0.7132209044889385), (1772, 0.7133502269390359), (831, 0.7134301612485634), (1313, 0.7135387352476112), (2026, 0.713648377549585), (1704, 0.7136784640548526), (330, 0.7137226453001015), (1234, 0.7137922065977856), (1648, 0.7138831069828326), (1240, 0.7139528002522942), (2017, 0.7141298380267791), (319, 0.7141332898684934), (1127, 0.7142027016475796), (1629, 0.7143009520920074), (1355, 0.7143597468538966), (1504, 0.7144878029227647), (642, 0.714747593573611), (1941, 0.7147828560646465), (32, 0.714797990052861), (1036, 0.7148281742168169), (279, 0.714874377713669), (698, 0.7153902596171996), (1458, 0.7154737076182508), (226, 0.7159528206484695), (1565, 0.7160754870608314), (1899, 0.7160822313981263), (1387, 0.716196924156038), (453, 0.7163794568893036), (1344, 0.7167064393070124), (1539, 0.7167241135215163), (1808, 0.7168054164291999), (90, 0.7169052625927234), (2005, 0.7171734717551442), (1510, 0.7173263382692321), (839, 0.7173906403488579), (1146, 0.7174509599948669), (608, 0.7175622657905728), (892, 0.7175728372712209), (1927, 0.7175749666190275), (686, 0.7176311030028059), (1074, 0.7177479683464622), (1016, 0.7179194971253424), (249, 0.717938916292488), (2018, 0.7181123383348595), (1446, 0.7181242322016281), (1384, 0.7182944428961764), (600, 0.7183480739655703), (1472, 0.7183582058831558), (848, 0.7184496455140608), (355, 0.7186477574862156), (1068, 0.7186986572654519), (596, 0.7189043469469668), (838, 0.7190518799205279), (1868, 0.7190987268968847), (477, 0.719183697624586), (1023, 0.7195242116327587), (1461, 0.7195889202269041), (1609, 0.7195984085829941), (1744, 0.7196182314819923), (934, 0.7199656410512671), (754, 0.7200321330249932), (1584, 0.7201493427833145), (1837, 0.7201516544371902), (1741, 0.7202138431121082), (920, 0.7202324340244157), (1847, 0.7203388542883142), (1187, 0.7203640731459322), (1914, 0.7203808427190099), (1300, 0.7203856275143989), (800, 0.7204208111362114), (94, 0.7204762388314367), (1706, 0.7205373557263134), (1839, 0.7210142255261082), (597, 0.7210296252978374), (1389, 0.7210421235644819), (402, 0.7211249739729596), (1257, 0.721171942111524), (857, 0.7212820879210989), (641, 0.7213444031599076), (1751, 0.7214878933108795), (328, 0.7215844750185), (456, 0.7216663444489895), (1728, 0.7216999594059521), (450, 0.7217212109390603), (352, 0.7218560713548187), (471, 0.721861361692469), (574, 0.7218796318383947), (2019, 0.7219336780001557), (1867, 0.7222639594160081), (851, 0.7222672398902235), (2046, 0.7223737331917812), (472, 0.7224732190059514), (1851, 0.7224806424792916), (882, 0.722504933315171), (749, 0.7225166932939695), (1372, 0.7225779167785942), (1182, 0.7226528334284985), (685, 0.7228332234935941), (1060, 0.7229337489561258), (1546, 0.7231138454163147), (270, 0.7231209531100149), (195, 0.723153124904502), (297, 0.7231966339602813), (1671, 0.7233628125058906), (591, 0.7233673311064195), (1267, 0.7234603962106534), (1617, 0.7235319821344537), (436, 0.7236065137659661), (692, 0.7236256819185434), (1613, 0.7237885123329875), (1700, 0.7240268499789071), (639, 0.7240438973275763), (1946, 0.7241286563437253), (1358, 0.7241659328354), (779, 0.7242715371236941), (1441, 0.7243141191629712), (762, 0.724402833060484), (962, 0.7244079314314198), (1059, 0.7244943317654976), (1697, 0.7245283945889136), (72, 0.7246442362701975), (269, 0.7247678300638845), (916, 0.7250456896428472), (1171, 0.7250729232922231), (2024, 0.7250969483729713), (30, 0.7252947470849004), (903, 0.725530982173221), (1507, 0.7255941434245945), (512, 0.7256615668756133), (658, 0.7257334337591663), (4, 0.7257809468153611), (1811, 0.7258049144590557), (1147, 0.7258489611846539), (526, 0.725941238110859), (1529, 0.7260418682388015), (346, 0.7262020960999627), (792, 0.7264569704320081), (516, 0.7266524656519289), (693, 0.7266598206023505), (895, 0.7268728928813128), (783, 0.7272908456915407), (1754, 0.7273344180997952), (1623, 0.7275007912283152), (592, 0.7277500743153091), (1894, 0.7279569872030673), (102, 0.7281725268438306), (1352, 0.7283051281282118), (705, 0.7284795979249181), (606, 0.7287082593562617), (389, 0.7287509561094976), (182, 0.7288785153855384), (1196, 0.7290189179878124), (533, 0.7290670548991198), (240, 0.7291263344494787), (1109, 0.7292214856635426), (1930, 0.7292339493687484), (457, 0.7293712261891299), (1807, 0.7295196707764883), (1689, 0.7301235023961171), (967, 0.7301536634145076), (1675, 0.730155043332549), (1810, 0.7301802185814121), (45, 0.7305508836691852), (1710, 0.7305573865859291), (812, 0.7305909295112429), (768, 0.7305969157347961), (295, 0.7306067092011592), (1044, 0.7308537229157459), (1493, 0.7308642881579532), (1632, 0.731078881428006), (47, 0.7312051569166849), (1086, 0.7312063399941848), (722, 0.7312813447663037), (1233, 0.7313927277291112), (1314, 0.7315718646058703), (1214, 0.731638405376581), (286, 0.7316856978877495), (968, 0.7320318853061318), (1887, 0.7322203507631546), (200, 0.7322617417540004), (1743, 0.7323048336206105), (957, 0.7326175585452432), (1939, 0.7327086075408028), (1516, 0.7327406625550119), (842, 0.7328177356494894), (1643, 0.7328582263920765), (459, 0.7328842099056443), (68, 0.7329601059111821), (1753, 0.7331822119096703), (427, 0.7334795199067229), (1840, 0.7335733116905987), (1220, 0.733767194455795), (932, 0.7339911757978232), (1209, 0.7340733482262076), (1335, 0.7341647989495897), (445, 0.7341653451100882), (1886, 0.7343449858420513), (1667, 0.7343531834116033), (853, 0.7344376006827487), (2055, 0.7344956276967383), (1162, 0.7345785643336712), (1433, 0.7346192910151432), (1563, 0.7347142996018299), (1173, 0.7347232054304451), (603, 0.7348547057859875), (1579, 0.7349768205455567), (430, 0.7350203978889599), (1749, 0.7350269006600048), (1788, 0.7355748360625943), (909, 0.7358713531783816), (6, 0.7358732154321119), (14, 0.7360875799423069), (1418, 0.7361039937544006), (373, 0.7361486979800941), (1873, 0.7361606041470122), (264, 0.7362246004743868), (598, 0.7363209852609613), (1024, 0.7364469076076526), (292, 0.7364666349262753), (729, 0.7367911735582502), (681, 0.736929861537883), (557, 0.7369343872344978), (1001, 0.7369824502069584), (532, 0.7371585129906808), (423, 0.7371641289027835), (1709, 0.7372695842007146), (1321, 0.7373405836061959), (620, 0.7374431620770505), (1567, 0.7376521222771284), (798, 0.7376781538236166), (1657, 0.737753187283628), (10, 0.7377654496318162), (1720, 0.7377811109238339), (323, 0.7378335084288894), (187, 0.7380495289914798), (1383, 0.738279016667921), (706, 0.7385749618332509), (331, 0.738855846527419), (817, 0.7389756190792239), (537, 0.7391296857862313), (294, 0.7391784928623781), (554, 0.7391958102840981), (1390, 0.7394612387760042), (1669, 0.7395756493608093), (902, 0.7396214184265419), (1095, 0.7396544822475609), (1502, 0.7398125293127552), (1641, 0.7403139989147682), (308, 0.7404324866946392), (1590, 0.7405283196796577), (1918, 0.7406267848359953), (522, 0.7406654875617156), (1164, 0.7407449880154506), (1770, 0.7409886080725869), (1575, 0.7410205886301936), (494, 0.7410588234198401), (1207, 0.7412593353752063), (885, 0.7413977050116403), (1464, 0.7414540676385417), (1201, 0.7414658755209047), (283, 0.7416655512326721), (1014, 0.7416820777123585), (1955, 0.7417188346426415), (274, 0.7418811847567353), (497, 0.7419589970462448), (1621, 0.7419885150401433), (1974, 0.7422877499456342), (1660, 0.7424400448536792), (1843, 0.7425439260961362), (1302, 0.7428634600527595), (644, 0.7428871239156669), (1618, 0.742973354142265), (936, 0.743037633283033), (703, 0.7432171398608103), (1414, 0.7432613086383661), (1659, 0.7435715811723738), (1349, 0.743609349660362), (227, 0.7437519538533202), (814, 0.7438672393984365), (1318, 0.74388060493031), (1391, 0.7439847278376336), (926, 0.7441965904813519), (239, 0.7442669511675674), (1673, 0.7444729954675122), (971, 0.744491267223109), (1046, 0.744607043149422), (254, 0.7446679889082273), (1347, 0.7446750461292), (674, 0.7447109193899837), (1606, 0.7448558037988325), (1637, 0.7448698864647183), (247, 0.7449197038203443), (152, 0.7451889275998218), (1353, 0.7452563755826566), (664, 0.745417513095826), (1996, 0.7455329549325735), (1842, 0.7455796782091614), (1382, 0.7457186004696491), (781, 0.7457369297176137), (400, 0.7458635799567077), (1469, 0.7459749338734598), (95, 0.7463953232479423), (891, 0.7464346354009326), (1716, 0.7468883653173686), (964, 0.7469126814211731), (201, 0.74700653492575), (216, 0.7472314930867411), (652, 0.7472563253079959), (199, 0.747291282518103), (1599, 0.7473211848912471), (108, 0.7473276167681648), (1474, 0.7475403592350338), (1719, 0.7475818496882917), (1320, 0.7478293773458238), (1329, 0.7479795304402421), (1444, 0.7480697085625885), (13, 0.7481217250427399), (1033, 0.7481685021013507), (1858, 0.7482155754663671), (727, 0.7482940790114532), (1647, 0.7484129006335951), (1342, 0.748434936141099), (1448, 0.7487204970748649), (1976, 0.7487215306836735), (49, 0.7488452143789165), (1903, 0.7488788930919266), (1972, 0.7489010919695582), (870, 0.7489858872031641), (1037, 0.7491697828445556), (797, 0.7494372530701174), (520, 0.7495576500369044), (1266, 0.7497538168864892), (1967, 0.7497643356943062), (487, 0.7497648884673038), (1600, 0.7499479751159441), (694, 0.7499721271152004), (1120, 0.7500986630556461), (1905, 0.7502593770541165), (1902, 0.7503043639803628), (1961, 0.7503708834568089), (244, 0.7504291036731451), (1896, 0.7504314671737049), (1011, 0.7505172070044529), (196, 0.7505321469488918), (53, 0.7506093840402618), (154, 0.7507136354236463), (1117, 0.7507529367962159), (358, 0.7508159438937736), (1616, 0.7509373871021027), (660, 0.7511627216514821), (610, 0.7511964965665459), (245, 0.7512194564424548), (626, 0.7513260023830517), (813, 0.7514445809993355), (868, 0.7515496125043095), (924, 0.7515706593364178), (1222, 0.7516547370929246), (616, 0.7519616500907539), (369, 0.7520161247647442), (1144, 0.7521739512623661), (1959, 0.7523645621310914), (1570, 0.7524651179339209), (668, 0.7524652834995101), (1378, 0.752497245877584), (1330, 0.7526255162379625), (1844, 0.7528090894620447), (1850, 0.7528132636473456), (1845, 0.7529678735386491), (1089, 0.7530264422563593), (699, 0.753244366827618), (1668, 0.753786736611999), (1863, 0.7540913323278917), (915, 0.7542968375717001), (1971, 0.7543077269042394), (1975, 0.7544091474681545), (928, 0.754512265946137), (67, 0.7545759400614718), (818, 0.7545899758420381), (1061, 0.7545901336239773), (875, 0.7547170774867007), (1950, 0.754855457905716), (1574, 0.755024098039399), (1670, 0.7554914754162868), (1406, 0.7555934841739816), (1556, 0.755739906380696), (1701, 0.7560167173763214), (142, 0.7560460168522348), (1134, 0.7560861177840879), (1846, 0.756199490976097), (1795, 0.7564718895723388), (141, 0.7565088242567009), (1025, 0.7565498597198992), (464, 0.7565535115187301), (1366, 0.7566471304423786), (99, 0.7567376832219135), (1097, 0.7567794397305978), (1174, 0.7567807946478013), (2048, 0.7568617107112352), (1327, 0.7570523965658753), (2002, 0.7571250960915451), (1771, 0.7572373592896475), (406, 0.7572684268866754), (1848, 0.7573838237366617), (1210, 0.757389898816186), (1116, 0.757433789623012), (1804, 0.7575533359600255), (468, 0.7575802846976323), (1715, 0.7576344611120694), (761, 0.7576804061836717), (1241, 0.7581067770968772), (1581, 0.7583494933095289), (845, 0.7583613778067265), (1254, 0.758366547039006), (907, 0.758370598314056), (1457, 0.7584674297011307), (811, 0.7585988157370913), (671, 0.7587824057747208), (174, 0.7591186879595981), (1038, 0.7591863434575797), (12, 0.7592198743813146), (235, 0.7593074108041852), (1322, 0.7593273943696475), (424, 0.7594179584215921), (1859, 0.7594639838840299), (1893, 0.7594969152390114), (707, 0.7595572654780398), (1431, 0.7604118191895999), (540, 0.7604376401181105), (361, 0.7605407187304893), (253, 0.7606666143742102), (2016, 0.7607001893678839), (1855, 0.7607881784296575), (700, 0.7610623606956042), (1419, 0.7610657388788654), (296, 0.761348275929756), (432, 0.7615270047981211), (1413, 0.761545561521358), (863, 0.7616183433356147), (1463, 0.7618010801428805), (2021, 0.7619155697474345), (1633, 0.7619806949705794), (192, 0.7621657178818969), (1783, 0.762166302772089), (782, 0.7622150650171801), (242, 0.7623532011865883), (1635, 0.7625537072403452), (421, 0.7625686506736036), (1889, 0.7626139913902519), (1841, 0.7626733433830226), (1536, 0.7626815146104173), (374, 0.7627081275511007), (138, 0.7627648119412248), (1655, 0.7630858180939694), (362, 0.7631536382230375), (816, 0.7634449765120787), (646, 0.7638199004697233), (1652, 0.7638487263825804), (1315, 0.7639378359321423), (363, 0.7640085694992831), (1216, 0.7640252013998581), (1849, 0.7640372880560828), (29, 0.7640490663782267), (1608, 0.7641332578450678), (96, 0.76414273731696), (1310, 0.764178053082403), (996, 0.7642367840105415), (1658, 0.7642473025311838), (527, 0.7645465105648126), (1316, 0.764725799105416), (1194, 0.7652861501152116), (229, 0.7656304727875838), (701, 0.7658396190358139), (801, 0.7658609091457402), (1179, 0.7660402381160317), (492, 0.7660702167300116), (1255, 0.7661083193854146), (1015, 0.7662974326053431), (69, 0.7665022198633522), (954, 0.7665160709802458), (930, 0.7666203734261106), (1555, 0.7666484112465617), (1170, 0.7666506945770053), (327, 0.7668758065433154), (791, 0.7668892137106649), (669, 0.7670563572614185), (1484, 0.7670954625491365), (15, 0.7672761205125669), (1028, 0.7672955929925234), (1723, 0.7673256051355724), (128, 0.7674295878385521), (93, 0.7675106367015778), (54, 0.7676219165408567), (1153, 0.7677236107539439), (1787, 0.7677769982739946), (1906, 0.7680457747435909), (171, 0.7683461825654193), (538, 0.768410723978469), (1010, 0.7684206135055777), (125, 0.768694324454427), (1611, 0.7688645101594733), (531, 0.7688675974065494), (985, 0.769225566646545), (43, 0.7693521885921282), (1244, 0.769572265319342), (631, 0.7697622940103107), (1596, 0.7697796915185997), (122, 0.7697806304961883), (834, 0.7700041019579762), (1591, 0.7700284398301785), (1012, 0.7701237514515248), (441, 0.7704281840467381), (551, 0.7709256436642804), (1781, 0.7709580121710695), (1765, 0.7709757927246439), (234, 0.7709852740568651), (1096, 0.7711230129176028), (238, 0.7716100366910511), (146, 0.7716323857807582), (1026, 0.7717465971700095), (365, 0.7718665194860501), (1057, 0.7718815842102328), (665, 0.7719713382731053), (627, 0.7721122227226866), (2090, 0.7722608396887057), (1269, 0.7722747243652018), (2091, 0.7723051574803345), (1923, 0.7723092623165405), (390, 0.772412064487384), (351, 0.7724431890140171), (2000, 0.7725352253316579), (1332, 0.772789405391354), (2038, 0.7728328348569817), (1307, 0.7731422056167526), (1895, 0.7731556371747832), (304, 0.773354453902487), (1157, 0.7733849421831116), (318, 0.7734326646978928), (743, 0.773517065928567), (519, 0.7735360864185383), (184, 0.7735542706585279), (2086, 0.7735614008464995), (1346, 0.7738945473416896), (1869, 0.7739121923417884), (393, 0.7739554334864203), (1486, 0.7740616899917308), (1309, 0.7741887986941314), (1047, 0.7744451762739113), (1197, 0.7744909119745512), (1421, 0.7745801276012239), (732, 0.7746546144792437), (1159, 0.7746732099950668), (1747, 0.7746897558530831), (1052, 0.7748264469756865), (963, 0.7748461680067781), (1568, 0.7750663525253276), (1968, 0.7752735623268279), (1003, 0.7753354494851105), (250, 0.7756292723871108), (433, 0.7756937865096615), (947, 0.7757029587767073), (1386, 0.7758570386836108), (2045, 0.7759001364120147), (209, 0.7759673319434437), (480, 0.7759980966227638), (1773, 0.7760567727373618), (573, 0.7760878787020373), (1462, 0.7762043796642799), (46, 0.7762633093145359), (1416, 0.7765010651722406), (309, 0.7767379368107226), (56, 0.7769597319503172), (1135, 0.7770218499034761), (950, 0.7770324927162164), (580, 0.7770472779287803), (143, 0.7770589044638485), (2089, 0.7770765878548205), (1354, 0.7773146970798348), (1017, 0.7773905875485069), (1627, 0.7775137405503363), (1857, 0.7775302442434973), (1780, 0.777561102750119), (2076, 0.7776449865171742), (1399, 0.7777431416796804), (124, 0.7778729383100358), (2092, 0.777883094445732), (479, 0.7780317989779406), (87, 0.778403971698105), (2088, 0.7784533865807252), (1253, 0.7787693947817416), (2082, 0.7789793388180151), (1690, 0.7791749110993985), (544, 0.7794121451387062), (1817, 0.7794536203269224), (566, 0.7796005602081502), (774, 0.779930347386758), (1852, 0.779955257795437), (582, 0.7799820998845963), (18, 0.7800795827051596), (261, 0.7802572786172396), (1856, 0.7802816493728483), (1866, 0.7802823720625849), (121, 0.7805645341303181), (36, 0.7808347610173184), (684, 0.7810064529958515), (1145, 0.7811036245809622), (1412, 0.7811102958153047), (1711, 0.7812868732746141), (2087, 0.7814240396197195), (1299, 0.7815692669169066), (126, 0.7816873778886357), (329, 0.781785304366255), (923, 0.7818253629607509), (748, 0.7818357051803894), (1665, 0.7818708181968068), (52, 0.7820409484002531), (1376, 0.7820519238566472), (39, 0.782421211973709), (360, 0.782478971263807), (2025, 0.7825303097716596), (498, 0.7825505751836985), (1956, 0.7828129953098506), (150, 0.7828547760942159), (545, 0.7830033197221583), (1004, 0.7831248549136007), (147, 0.783169452249816), (833, 0.7832733702426294), (1654, 0.7832986091713696), (1359, 0.783304213590925), (439, 0.7834096167657144), (1872, 0.7834795738840191), (233, 0.7837052991067557), (2023, 0.7843944777422291), (1225, 0.784438687401335), (1018, 0.7844498025783507), (1296, 0.7846622047894445), (499, 0.7848674163518738), (704, 0.7854726699724592), (1125, 0.7856745300891034), (1363, 0.78583525478298), (1211, 0.7859233424318007), (1928, 0.7860949662346082), (73, 0.7861905054488103), (204, 0.7862114413430975), (2075, 0.7863592675562101), (1143, 0.7863599921211524), (1100, 0.7864187639578836), (478, 0.7864413063457948), (2035, 0.7865114169954808), (139, 0.786554405364671), (772, 0.7866745474834935), (1757, 0.7867726072119487), (149, 0.7868594830406249), (103, 0.7869125285516314), (1402, 0.7869425750534746), (371, 0.787306196757565), (1986, 0.787338168836619), (1552, 0.787362731476736), (220, 0.787845057797659), (1853, 0.7879099159429572), (349, 0.7879680845324641), (51, 0.7879943959948592), (1833, 0.7880927247307472), (1200, 0.7883668142034429), (670, 0.788601259231275), (1525, 0.7888911766973137), (1957, 0.7889983105271734), (1838, 0.7890779253365805), (1078, 0.7893154039917886), (1805, 0.7893309247291733), (1301, 0.7895196138368267), (1966, 0.7898063218099367), (1784, 0.7898307271080687), (1029, 0.7899637486712001), (1055, 0.7900001141974202), (2083, 0.7901967238250085), (2084, 0.7902284171639162), (1045, 0.7905166002704627), (2085, 0.7905749124924345), (1365, 0.7906985242761211), (676, 0.7908950963993834), (2078, 0.7911357362776295), (23, 0.791172365333306), (1283, 0.7912123021556261), (2001, 0.7912481203861577), (1816, 0.7913160498593188), (136, 0.7914996285774031), (1537, 0.7915219520327368), (1569, 0.7915452629116023), (2081, 0.7916050867729353), (1952, 0.7916909607358655), (186, 0.7918266566367274), (359, 0.7918464002903893), (2041, 0.7919974649779584), (1800, 0.792176746367632), (63, 0.7923357324443375), (2042, 0.792440550399538), (1177, 0.7925123833807226), (1560, 0.7927008403595184), (1312, 0.7928549343307782), (1639, 0.7928641509495269), (1285, 0.7928689724461933), (1874, 0.793033561072354), (144, 0.7930707537358009), (465, 0.7930835198180719), (1809, 0.7931093678686018), (1007, 0.7931162716304041), (944, 0.7931238058313), (2031, 0.7931630579623834), (1427, 0.7931882466343689), (16, 0.7932111328905161), (183, 0.7932473127855932), (1545, 0.7932943661433653), (415, 0.793344083614661), (992, 0.7934349237015915), (76, 0.7934545926846261), (1982, 0.7936991489032919), (2008, 0.7937380790435701), (1944, 0.7938133423181233), (759, 0.7938688539072416), (1564, 0.7939290120906651), (2050, 0.7941391888739829), (1662, 0.7942039270529478), (117, 0.7943825821625997), (1430, 0.7945433325429312), (543, 0.7945814609088525), (966, 0.7946916488451367), (1132, 0.7948333429388834), (1898, 0.7949843037691249), (1475, 0.7950401252686499), (1602, 0.7950978735325884), (1308, 0.7952837236441154), (1212, 0.79529604987518), (2077, 0.7953046895608075), (695, 0.7954789451220413), (1090, 0.7954957324692835), (2080, 0.795599567698436), (541, 0.7956251634379892), (1758, 0.7959899200517776), (1987, 0.7962066910293273), (2079, 0.7966305199689512), (1190, 0.7968031322778442), (991, 0.796888607764866), (1064, 0.7968968044065085), (1231, 0.797021434929122), (338, 0.7970931794332957), (272, 0.7972292508787288), (214, 0.7976153206245853), (1524, 0.7977261767129724), (2043, 0.7977899170285949), (1368, 0.798123669273674), (1371, 0.7983275876553233), (151, 0.7983796434993834), (808, 0.7987721948541271), (1925, 0.7989518270402621), (719, 0.7993027078515018), (496, 0.799391351859307), (1451, 0.7995871090800623), (872, 0.799662891826636), (1434, 0.7997970721756205), (1297, 0.7999475896228796), (104, 0.8000502482602223), (1374, 0.8001591326111653), (2056, 0.80026207341298), (696, 0.8004638566173907), (941, 0.80049958384677), (1936, 0.8005459637799716), (1436, 0.8005832512593942), (88, 0.8006923239153688), (1824, 0.8009803881528368), (1258, 0.8012303670017483), (395, 0.801353856866017), (562, 0.8013827610131364), (975, 0.8015342673080078), (1471, 0.8019681377754506), (561, 0.8020678588304306), (1422, 0.8024043039877435), (1338, 0.8025592383098004), (366, 0.8025707308405129), (1714, 0.8027339536569174), (921, 0.8029117962519922), (1512, 0.8030911296085683), (1362, 0.8033098962535432), (602, 0.8033691682947423), (1900, 0.8034098993250541), (1155, 0.8034131357387192), (1217, 0.8036612645236897), (523, 0.8037833031615538), (11, 0.803979434679483), (285, 0.8040353978180068), (1860, 0.8041894686938927), (1877, 0.8048125198625595), (1983, 0.8048185986699824), (1191, 0.8049568329936935), (886, 0.8053918661131558), (1932, 0.805583180400069), (1137, 0.8056260965461275), (120, 0.8056925123665041), (1227, 0.8056981828813621), (1154, 0.8057300121356809), (1178, 0.8057315502709999), (843, 0.8057732291916533), (75, 0.8057798168234783), (237, 0.8058497896621079), (1092, 0.8058905703975872), (1361, 0.8061787788957923), (1830, 0.8063161002097612), (672, 0.806324121141598), (134, 0.8064003243374487), (1204, 0.8066043136331389), (850, 0.806851170306357), (1487, 0.8069734729220415), (717, 0.8072275659603199), (1703, 0.8073090870524887), (488, 0.8073166009039501), (1098, 0.8073561470698458), (440, 0.8079975955716978), (2006, 0.808005225303153), (425, 0.8081337172961359), (1226, 0.8082808230372541), (887, 0.8083773524871412), (1237, 0.8084953572267092), (824, 0.8086398014145216), (511, 0.8086614189399477), (1077, 0.8090066405940174), (657, 0.8091808391838359), (1713, 0.8091899404630815), (379, 0.8093080094568472), (1380, 0.8093088930054027), (1128, 0.809517765121136), (650, 0.8095846701645493), (750, 0.809861819073642), (1646, 0.8101908354565343), (410, 0.8107557235121442), (1050, 0.811937570764958), (1447, 0.8119794682131947), (1289, 0.8130962817474623), (1252, 0.8133444543515147), (1356, 0.8133862624802031), (1218, 0.8137125867770307), (1221, 0.8138268251725909), (1488, 0.8138975254438747), (953, 0.8139991343937361), (1189, 0.814003644603022), (137, 0.8141790152369552), (935, 0.8143928536830206), (585, 0.8144068213840648), (546, 0.8148612877219231), (1597, 0.8149015889796096), (1192, 0.814960181520092), (1779, 0.8153938877322514), (1071, 0.8154029287920601), (1661, 0.8154065880723622), (173, 0.8155585207837758), (375, 0.8158762957754461), (1682, 0.8158793297590219), (438, 0.815886198717512), (1664, 0.8159010396554497), (2072, 0.8159074344089454), (649, 0.8159766860836488), (185, 0.8159997878789289), (1467, 0.8161528123688168), (1572, 0.8163240519565315), (1861, 0.8164639084689939), (1790, 0.8165465757000729), (2010, 0.8166865815107501), (2049, 0.8169469968525258), (503, 0.8170796613902068), (385, 0.8171221312421553), (1243, 0.8175896868206921), (2033, 0.8176016658763848), (1729, 0.8177674287990725), (1640, 0.817844134036239), (925, 0.8179915415363693), (612, 0.8181582409574362), (1099, 0.8181885454012333), (1978, 0.8182557605915066), (1993, 0.8182861982386938), (2073, 0.8183033457698183), (2071, 0.8183645001246345), (259, 0.8184807435015011), (679, 0.8185526549292994), (219, 0.8186201265048814), (2064, 0.818645057182853), (458, 0.8188015287189437), (922, 0.8188142452850603), (1782, 0.8189466551674169), (2058, 0.8189535520097794), (1645, 0.8189653378095838), (1864, 0.8189818984303345), (1337, 0.8192468665498873), (1763, 0.8194547864897614), (1683, 0.8195817031268195), (1803, 0.8196240811378352), (716, 0.8197284718164286), (1577, 0.8201030390938603), (1256, 0.8202978983519731), (1908, 0.820534058233611), (1917, 0.8205586891332027), (1547, 0.8206650937823667), (473, 0.8210692764157477), (2052, 0.8211165501736198), (1578, 0.8211172709615701), (1105, 0.821287005380797), (463, 0.8212905414775591), (844, 0.8213553136597651), (656, 0.8213784603657746), (914, 0.8214630559828517), (2068, 0.8215632093276402), (835, 0.8217080153764937), (995, 0.8217969562026708), (2074, 0.8222082219157747), (1907, 0.8224383969891225), (449, 0.8228814852572075), (1323, 0.8232845061829878), (847, 0.8233952560326637), (92, 0.8235323479089789), (894, 0.8235577823840096), (191, 0.8236769271113316), (1814, 0.8237218699112094), (521, 0.8237251074875228), (1148, 0.8241938867789296), (1649, 0.8243253469806379), (629, 0.8243567005919525), (1865, 0.8243610258963182), (1032, 0.8243981522473071), (861, 0.8246362699312262), (106, 0.8259980064716886), (1251, 0.8259998976153384), (448, 0.826232484764077), (2069, 0.8264149068387716), (1678, 0.8265457340480797), (1752, 0.8266090580949481), (883, 0.826945915550534), (1176, 0.827008338323398), (420, 0.8274956201376231), (1554, 0.8275578799388545), (207, 0.8276247995738385), (1398, 0.8276787561046788), (2070, 0.8278600633751056), (334, 0.8279377415741013), (913, 0.828419117435659), (77, 0.8284747075748363), (1691, 0.8285499858509773), (1370, 0.8287045712831269), (3, 0.8287514336803795), (1405, 0.8290251322701392), (1576, 0.829067312652277), (145, 0.8292231840176829), (1242, 0.829613183510258), (1819, 0.8299499399133655), (866, 0.8301093465814817), (718, 0.8304965858734309), (898, 0.8306621183589585), (1175, 0.8309405886742377), (2057, 0.8312019634585035), (78, 0.8313961714014639), (2066, 0.8319411569858537), (570, 0.8319436120377157), (790, 0.8320216463794983), (846, 0.8320919555594494), (1538, 0.8329320259000434), (810, 0.8330583099776114), (998, 0.8331602207752971), (1891, 0.8334918399226988), (1991, 0.8335666850803473), (1138, 0.8336312273706032), (864, 0.8337247032458974), (2065, 0.833751793335979), (986, 0.8337563801792787), (785, 0.8338597653937926), (687, 0.8340033956080006), (2047, 0.8340149606614797), (489, 0.8341211473959997), (688, 0.8345159560507379), (387, 0.8345804327048867), (1072, 0.8347625264282184), (973, 0.8348529236633884), (1123, 0.8355668814504822), (223, 0.8356283224361087), (446, 0.8358795551791637), (929, 0.8359118449381425), (2067, 0.8359238428831307), (21, 0.8359424325182969), (1943, 0.8360102519197352), (758, 0.8363005769701382), (1073, 0.8364259598261501), (2063, 0.836672130852537), (2012, 0.8369054848127573), (509, 0.836990564651507), (1198, 0.8370455929838111), (789, 0.8371295763532263), (2060, 0.8372746906439601), (208, 0.8373674611876807), (1284, 0.837657883067891), (1789, 0.8377747499253285), (1601, 0.8380147650433989), (83, 0.8381460374196104), (919, 0.8384110710466794), (559, 0.8384944891033466), (737, 0.8385306275478243), (1452, 0.8387333456445671), (1934, 0.8390161929258055), (1797, 0.8390886394403119), (1813, 0.8394370938004716), (2061, 0.8395040547099417), (1435, 0.8395498862726948), (1663, 0.8400684598821749), (176, 0.8401840636777793), (897, 0.8401914510937167), (1260, 0.840359364595013), (969, 0.8404559092515935), (632, 0.8405931885535673), (2062, 0.8408504454456324), (1369, 0.8411107679067921), (1786, 0.841175551292401), (302, 0.8412265285255949), (1067, 0.8414376879232437), (31, 0.8416185774810245), (1583, 0.841667850203595), (1854, 0.8417976231449572), (2059, 0.8418429033285945), (636, 0.841882223650948), (315, 0.8420295063360894), (1205, 0.8420631666610057), (840, 0.8423369191525687), (1411, 0.8426564828812606), (1730, 0.8426720422877558), (1822, 0.8430122258815785), (20, 0.8430263539006484), (1522, 0.8434235077627706), (1571, 0.8438080193219449), (535, 0.8439481523356102), (880, 0.8440157054397711), (1935, 0.8444567988810872), (1931, 0.844472148690894), (1761, 0.8446441009649337), (391, 0.8449090742055008), (1580, 0.8450768333912066), (873, 0.8455992995999186), (1831, 0.8457815131105778), (1985, 0.8458530009177601), (987, 0.8460160000006706), (548, 0.8468983161751904), (879, 0.8469738513870523), (1897, 0.8470810864716144), (1129, 0.8479262200161732), (281, 0.8479922257963719), (70, 0.8480437477021114), (422, 0.848053028269784), (1531, 0.8481300653276159), (1453, 0.848132187372139), (1511, 0.8482498836105901), (1279, 0.8488908916971117), (1264, 0.8489076673038882), (999, 0.8489440486363945), (1879, 0.849185438179807), (1541, 0.8494578004400486), (1725, 0.8495310320784952), (1473, 0.8497437720764085), (1404, 0.8497454438829527), (1755, 0.8497591242410376), (1030, 0.8499935203382263), (1992, 0.8505099657910422), (2107, 0.8506327334117597), (663, 0.850691396198081), (341, 0.8507557634531802), (378, 0.8507578179532789), (344, 0.8509318740896832), (1409, 0.8512489429624065), (1806, 0.8519135474528802), (1674, 0.8525649702899497), (978, 0.8526150341218888), (1695, 0.8530127640620401), (1940, 0.8530490328719975), (2029, 0.8533058579785416), (1104, 0.853465343294173), (148, 0.853467985941921), (583, 0.8535225257516745), (1261, 0.8535512968065997), (740, 0.8539798327002373), (1989, 0.8540242080959176), (1311, 0.854815430976241), (773, 0.8549074422842473), (377, 0.855069584498325), (1009, 0.8558753374854539), (1793, 0.8560669081687923), (1282, 0.8562396790857281), (1535, 0.8564829312649463), (1070, 0.8567493869869817), (431, 0.8568858668923935), (210, 0.8573921665697011), (1276, 0.857818863643941), (412, 0.8578452373724915), (510, 0.858148058363517), (1543, 0.8586106738489957), (1990, 0.8587008229217695), (1759, 0.8587350854559513), (1111, 0.8587681858004161), (1034, 0.8588771054848725), (741, 0.8593469574637143), (339, 0.8595348464691732), (970, 0.8598359849024232), (760, 0.8600101951844799), (383, 0.8608271475043616), (613, 0.860947933981896), (502, 0.8610776224531221), (1620, 0.8611095758278645), (711, 0.8612216522022949), (1594, 0.861386569857878), (836, 0.8616089059339186), (206, 0.8620168604263483), (2095, 0.8627190892018073), (617, 0.8629519139572412), (2037, 0.8630590950307537), (837, 0.8631026043194947), (1215, 0.8633135795646298), (1921, 0.8633841089481737), (1748, 0.8634580623355272), (1799, 0.863729887540003), (1051, 0.8639053465752737), (444, 0.8639804265984699), (1208, 0.8641958259680476), (1006, 0.8643405674627411), (273, 0.8643534498622378), (1195, 0.864753983846989), (1598, 0.8648719510538712), (1158, 0.8651240126125708), (1490, 0.8655279244617827), (1424, 0.8655338505909382), (961, 0.8661953177532501), (956, 0.8662467729146405), (333, 0.8666452433551963), (2101, 0.8669818086457389), (720, 0.8669881483466553), (1102, 0.8670719376723902), (1489, 0.8676468773972571), (1396, 0.868000268595075), (1286, 0.8688793972025737), (1273, 0.8690397867197689), (2040, 0.8691078438250437), (1277, 0.8692411331088898), (197, 0.8696542677330796), (33, 0.8698743799763927), (340, 0.8701705585907216), (896, 0.8706116204232041), (1265, 0.8709090133087627), (411, 0.8709818232978636), (799, 0.8711125985783885), (1871, 0.8714332617224964), (189, 0.8715183022063513), (1862, 0.8716582196997877), (865, 0.8719336692118962), (2007, 0.8728238195139864), (119, 0.8730263136671231), (299, 0.8733405612835429), (1124, 0.8733988860278894), (1624, 0.8734730947174476), (212, 0.8734809318916948), (677, 0.8735556686207251), (1249, 0.873622975239507), (1686, 0.8737529231278777), (1091, 0.874453775399604), (993, 0.8746152232479225), (313, 0.8751914167882532), (1603, 0.8753185371124705), (1295, 0.87566790758808), (1119, 0.8760330427114646), (1263, 0.8763038755291178), (133, 0.8763136240883596), (310, 0.8767324438248676), (1672, 0.8769750385950713), (1306, 0.8770859713700301), (1514, 0.8773220933435142), (788, 0.8773878282223929), (1878, 0.8786178825269164), (2022, 0.8791585273834225), (1684, 0.8806841003942967), (1110, 0.880803528344927), (1836, 0.8810789000467608), (284, 0.881463827496788), (1768, 0.8814747014426685), (1615, 0.8815242202776961), (1558, 0.8818859626264478), (79, 0.8820189247374051), (871, 0.8825162524517528), (298, 0.8827806066085077), (2044, 0.8830553834893884), (419, 0.883671242441798), (80, 0.8837505639173487), (1573, 0.8838361116531331), (1595, 0.8839412837561037), (874, 0.8840560389305789), (452, 0.8843343528539513), (1062, 0.8844099487575888), (734, 0.8845951429125324), (312, 0.8854161040434448), (1287, 0.886100102820113), (1298, 0.8869290324073922), (1497, 0.8877000461761086), (337, 0.8883555732422839), (1274, 0.8885799985030723), (2102, 0.8886380032852972), (1742, 0.8891019413542025), (485, 0.8895600534300624), (1140, 0.8903563632673606), (1540, 0.891200717197315), (82, 0.8915098789029098), (1454, 0.8915632254191974), (1726, 0.8916766755895378), (1513, 0.8918074235435242), (1981, 0.8920880850662886), (2051, 0.8923119945825682), (316, 0.8923816808621087), (1834, 0.8928054626143185), (552, 0.8942144149382609), (1653, 0.8946496831403683), (1466, 0.8954457975278142), (392, 0.8955662776102022), (1379, 0.8960929731226472), (1248, 0.8967748840905867), (771, 0.8969978509191914), (429, 0.897307013159288), (742, 0.8975365309229768), (1000, 0.8975766230863946), (211, 0.8980986651856495), (1417, 0.8984543960934208), (994, 0.8985546913414438), (221, 0.8988010291272618), (1185, 0.8992585314045944), (1551, 0.8993613206000978), (306, 0.8994758406930526), (547, 0.899840302603651), (1291, 0.8998541055365367), (1039, 0.9004055566017324), (984, 0.9004805652613893), (2099, 0.9005101195449596), (314, 0.9022298239940753), (1193, 0.9025311013531215), (1131, 0.9030881661927697), (1922, 0.9034542703919886), (437, 0.9036449119043393), (1614, 0.9037051692161358), (413, 0.9037307458554604), (1745, 0.9037317786758656), (2096, 0.9038446292817328), (64, 0.9038813967308067), (1766, 0.9039470600800094), (409, 0.9045281319358881), (678, 0.9047709488969812), (1818, 0.9063031657493953), (177, 0.9068918237135434), (745, 0.9069064300211247), (2093, 0.9069588710052727), (1630, 0.9081416121699346), (736, 0.9084449839655391), (1777, 0.9087769945150616), (2105, 0.909069741441712), (81, 0.9090873744490992), (1482, 0.9093745403766739), (178, 0.9102755900426742), (1881, 0.911214084020933), (1223, 0.9112388671213127), (1929, 0.9113936172248522), (1880, 0.9114392733687728), (1027, 0.9127572147550367), (2104, 0.9175842500829825), (1685, 0.9180890919379886), (661, 0.9194270696251577), (1008, 0.9195148672084609), (746, 0.919606233617427), (1271, 0.9204612899573857), (399, 0.921008023556849), (372, 0.9215825164835272), (933, 0.9219091233141167), (809, 0.9222985905209482), (1826, 0.9225746765419012), (1876, 0.9232012360417662), (1642, 0.9232113872563787), (2103, 0.9256616080797612), (110, 0.927317030232537), (1272, 0.9273481321515072), (2106, 0.9273550533112954), (1528, 0.9279663229394649), (820, 0.9281585034144726), (1136, 0.9290615878291416), (24, 0.9290900034358143), (213, 0.9296952996174807), (307, 0.9298363759256631), (1183, 0.9301440474709681), (1270, 0.9311953486643892), (1828, 0.9316371548335299), (1498, 0.9323615681291207), (1746, 0.932581010616616), (86, 0.935112567409238), (461, 0.9354919420793246), (353, 0.9365831039855924), (1883, 0.937304849197551), (1827, 0.9385480410891582), (1186, 0.9390736117871459), (1764, 0.9392957845160501), (2100, 0.9399058750729714), (172, 0.9400672596772731), (869, 0.9420548499409489), (622, 0.9421884122409364), (428, 0.9424872459811336), (153, 0.942646063351757), (181, 0.9440659193848189), (2094, 0.9445475113540024), (796, 0.9475010246373096), (569, 0.948011746192091), (111, 0.9494807166728361), (1142, 0.95014881837054), (232, 0.9503269386374431), (1625, 0.9505006488870704), (426, 0.9505339633920555), (1933, 0.9513743000545238), (1141, 0.9514776224860567), (1496, 0.9517732104220525), (1778, 0.9527270938385901), (819, 0.9543868500563432), (311, 0.9551606407162951), (1829, 0.9563199042046776), (1348, 0.9586426709760016), (1882, 0.9598653902644754), (777, 0.9616585832961709), (1984, 0.9649756601959962), (1415, 0.9662429437461331), (105, 0.9676043470068636), (735, 0.967840608583175), (2098, 0.9681842951221559), (1562, 0.9685681741763954), (2097, 0.9717496122739326), (484, 0.9777599538252378), (1815, 0.9786690940094652), (1385, 0.9792535117128045), (107, 0.9800599032872858), (84, 0.9827156492307556), (862, 0.9836246385165384), (1885, 0.9839800840309729), (1724, 0.986118304387915), (1184, 0.9941406384828227), (943, 1.0217339069263753)]\n",
            "\n",
            "\n",
            "======================\n",
            "\n",
            "\n",
            "Query: Is there a dog run facility?\n",
            "\n",
            "Top 5 most similar sentences in corpus:\n",
            "1087\n",
            "不登校の子どもたちが通える施設はありますか。 (Score: 0.2046)\n",
            "168\n",
            "市内で宿泊できる施設はありますか。 (Score: 0.2071)\n",
            "766\n",
            "動物園には身体障害者補助犬を伴って入園することができますか？ (Score: 0.2118)\n",
            "59\n",
            "よこはま動物園ズーラシアには小動物のふれあいコーナーがありますか？ (Score: 0.2244)\n",
            "1919\n",
            "日野こもれび納骨堂には、駐車場はありますか。 (Score: 0.2244)\n",
            "[(659, 0.2762160738524855), (558, 0.2938624935797344), (525, 0.3061918175707038), (560, 0.326577314536904), (937, 0.3726744348541765), (1087, 0.3788709782889015), (524, 0.40815848170620406), (1259, 0.4175969715907497), (1022, 0.42771157000377147), (965, 0.4333995571000251), (1020, 0.44021929314544317), (1275, 0.44091019995015646), (1122, 0.44841681124083854), (35, 0.46533737712902334), (1733, 0.46787114023385223), (38, 0.47199926975513296), (317, 0.4740974602969037), (526, 0.4743338743343879), (486, 0.47824622545228923), (1634, 0.4807200324333313), (938, 0.4807835124684047), (1133, 0.4840135838620443), (1130, 0.4842265059635106), (100, 0.485592709569742), (1888, 0.48583663416518497), (1206, 0.4941382901447354), (952, 0.49503423359823795), (1492, 0.4979477072586964), (1437, 0.49802638647284025), (474, 0.49846037299479096), (42, 0.5021899947027055), (231, 0.5044896156994346), (997, 0.5049337813707457), (129, 0.5082715322127607), (945, 0.5089308331929208), (1835, 0.5095813017967715), (364, 0.5120201629508947), (658, 0.5120533588652147), (1235, 0.5129544897413943), (590, 0.5139788843357137), (276, 0.5149792560397732), (1305, 0.518740235496707), (807, 0.5247082651824757), (1785, 0.5257954915798901), (324, 0.5263238076996501), (322, 0.5268617993485808), (262, 0.5279934056822833), (1228, 0.5294615075598518), (1506, 0.5297832043326932), (278, 0.5300082335426304), (321, 0.5300573356319732), (243, 0.5339570552760284), (605, 0.535951994712123), (618, 0.5363675447567096), (806, 0.5385462886812183), (1127, 0.5394750619921118), (959, 0.5417433442302135), (319, 0.5422073615097036), (476, 0.5434127381776539), (1042, 0.5448534824730493), (1040, 0.5471394944596604), (180, 0.5471918075613058), (804, 0.5475411448929204), (802, 0.5475556605872183), (527, 0.5476687869106973), (1636, 0.5489719927602359), (1697, 0.5493473187520346), (235, 0.5520515827654249), (1377, 0.5520708843709063), (877, 0.5530051524086552), (234, 0.5537615760165435), (1149, 0.5543765097509622), (2053, 0.5548257081603956), (1115, 0.5557679097562646), (462, 0.5557809277594425), (1126, 0.5568567020524366), (858, 0.5576486154655591), (555, 0.5578021421800567), (1832, 0.558383125310254), (765, 0.5587094397488144), (553, 0.5592051252028769), (1644, 0.5593773703330787), (241, 0.5598302948657865), (1527, 0.5611133633527225), (59, 0.5619139420075738), (325, 0.5622154471811281), (328, 0.5637632784447406), (454, 0.5639689299367492), (1428, 0.5641677864145078), (912, 0.5641914541076267), (1043, 0.5644368998737676), (288, 0.5654050618936919), (1821, 0.5655998988683008), (534, 0.5661612641299341), (1951, 0.5663709040810109), (1638, 0.5665638268201755), (578, 0.5666401485130235), (240, 0.5666533767138658), (61, 0.5667234337214266), (1731, 0.5669083228943685), (277, 0.5687765248767926), (2054, 0.568875690426961), (168, 0.5695195015008161), (581, 0.5699719323005414), (236, 0.5702769999625935), (2039, 0.5703922790067446), (251, 0.5706368391218384), (731, 0.5709455245765258), (500, 0.5712236271672725), (335, 0.5727015596034302), (1651, 0.5727865054332413), (2024, 0.5731125519021241), (1229, 0.5742747843040037), (361, 0.5747260075434987), (1360, 0.5749052010615828), (724, 0.5761611687126309), (766, 0.5763507386959545), (951, 0.5777203613956635), (1151, 0.5777397625025174), (155, 0.5783284222408303), (1688, 0.5783927108363187), (1294, 0.5784373165173762), (1734, 0.5797718279423951), (1666, 0.5798644649635041), (1047, 0.5799196933538712), (1948, 0.5804115264420593), (1769, 0.5815588671890627), (832, 0.5818448574013642), (215, 0.5823773144052635), (233, 0.5837982128022323), (318, 0.5838943365111295), (1901, 0.5846577835400615), (382, 0.5846675815802015), (1903, 0.5847102492290593), (1429, 0.585070329533675), (475, 0.5858833763737374), (1438, 0.5860272385289684), (1633, 0.5860380511427727), (1258, 0.5861173537562344), (889, 0.5862894822513861), (1328, 0.5873398212877998), (592, 0.5877736849935726), (1304, 0.5884657170170831), (1965, 0.5894714500394294), (1964, 0.5897252099646149), (899, 0.5917806565438279), (1247, 0.5943596177405728), (1680, 0.5955018650114476), (1407, 0.5957982454408419), (2021, 0.5962379913180056), (584, 0.5968787338123982), (1343, 0.5981475615598675), (878, 0.5984197623594092), (1065, 0.5997409330995846), (1334, 0.5998996587784882), (1526, 0.6002887528199807), (579, 0.600380094776952), (1954, 0.6005075470818407), (972, 0.6020783947584004), (1643, 0.6026584290612402), (1209, 0.6031435925155677), (60, 0.6034652807330794), (5, 0.6038539853753406), (942, 0.603861214493141), (786, 0.6043491090023769), (614, 0.605125531133945), (960, 0.605897930567207), (1796, 0.6064922151242481), (1, 0.6070996301385636), (1470, 0.6073061377469957), (1732, 0.6078229330199254), (712, 0.6090235340084528), (292, 0.6091445188277261), (246, 0.609495342468239), (1049, 0.6099120311924253), (225, 0.6102837920568123), (264, 0.6102840700697054), (1589, 0.610664753369496), (513, 0.6115199176925625), (1825, 0.6120376993208406), (1952, 0.6121889430265421), (518, 0.6122058294426737), (1246, 0.6128648257382521), (293, 0.6130283255732961), (1494, 0.6131486251220277), (1637, 0.6132365227683723), (1919, 0.613686345181242), (775, 0.614262898817348), (738, 0.6147352142524048), (1873, 0.6149417157182189), (362, 0.6150103519490087), (1872, 0.615162525677082), (263, 0.6153598705721681), (1950, 0.6163287862783622), (1810, 0.6165263820450313), (554, 0.6170191688058355), (1196, 0.6173442942234137), (1671, 0.6177984072684366), (714, 0.6179598790953016), (1792, 0.6180367739573718), (1708, 0.6186082578102474), (1121, 0.6192173250766992), (287, 0.6192677870956971), (1202, 0.6197515021682087), (257, 0.6199253893349944), (1687, 0.6199341155200482), (1631, 0.6205530824664758), (343, 0.6206452116484322), (767, 0.6216570831598098), (1963, 0.6221876655187784), (112, 0.6226403488953287), (40, 0.6227485612344669), (692, 0.6227722809518941), (1641, 0.6229663920525366), (1851, 0.6235171065991749), (2013, 0.6235623064073401), (1654, 0.624134053466366), (483, 0.6242354402274691), (1308, 0.6251961407139429), (1523, 0.6255037904340733), (1735, 0.6259752495158131), (1712, 0.6263781118890277), (1988, 0.6267176228868185), (776, 0.6272979303952235), (203, 0.627426552289686), (852, 0.6278783706137048), (367, 0.6285426762385798), (1203, 0.6289303682051535), (1737, 0.6302641578019332), (1555, 0.630822854534698), (1368, 0.6315268149833255), (759, 0.6316927028343792), (681, 0.6326910365788879), (327, 0.6327393673894885), (628, 0.63296481570755), (1549, 0.6331986506265112), (660, 0.6333519173633599), (2004, 0.6334089391418907), (1659, 0.6335649450791812), (1736, 0.6337209380605279), (900, 0.6338067581763908), (1446, 0.6340907064754993), (1135, 0.6347924096055273), (1481, 0.6348061737401332), (1257, 0.6349391078123532), (279, 0.6352418555221051), (1357, 0.6352676847708751), (226, 0.635389505709192), (97, 0.6357941632351971), (4, 0.6364374511482398), (275, 0.6369085656051143), (979, 0.6371029466245248), (1353, 0.6377287906828544), (615, 0.6378574855076085), (1181, 0.6384543685843045), (1817, 0.6388968975990107), (1199, 0.6393998087233694), (342, 0.6396552217354724), (673, 0.6397229938970123), (955, 0.6398485508277582), (1468, 0.6409361618700811), (1751, 0.6413505678866878), (2015, 0.6414764490806347), (1041, 0.6423107840842759), (323, 0.6423326537316223), (634, 0.6425291012740652), (1592, 0.6428147760945054), (193, 0.6431306495918193), (1449, 0.6432369725125962), (1534, 0.6439413000150918), (1448, 0.6440416663785085), (910, 0.6440517899566598), (582, 0.6445732458389304), (101, 0.6450242555640099), (1414, 0.6450965126915377), (1945, 0.6453257684325281), (1340, 0.6457178197888509), (808, 0.6457730251459406), (1469, 0.6458301077170578), (230, 0.6462653738944386), (1477, 0.6468895377422923), (1479, 0.6470649187194655), (228, 0.6471152637811921), (159, 0.6480209946932898), (179, 0.6480819214201703), (1046, 0.6482607747143025), (1128, 0.6485955327880697), (470, 0.6487364551182564), (1517, 0.64873957985801), (37, 0.6494906448708431), (266, 0.6499533361304635), (1518, 0.6501355756495923), (563, 0.650399617010487), (217, 0.650772653549311), (222, 0.6510572668449458), (320, 0.6510763735895115), (268, 0.651236478264912), (825, 0.6513716946233807), (170, 0.6517749289169865), (1019, 0.6517973996180273), (1352, 0.6525427541340201), (1031, 0.6525446441872251), (1770, 0.6526879838227664), (238, 0.6528535676712157), (1299, 0.6531365268603901), (1410, 0.6535326713667244), (842, 0.6540885982154687), (62, 0.6541457571892366), (289, 0.6547115489555637), (642, 0.6548561646731169), (388, 0.6548612632842441), (633, 0.6549355965746368), (1345, 0.6551402871680069), (1354, 0.6552023988780281), (359, 0.6561594974373344), (1381, 0.6562069245664603), (1338, 0.6564565849184447), (897, 0.6565284187866232), (1439, 0.656646145045666), (191, 0.6568876482760683), (403, 0.6568988522608701), (169, 0.6570020474649525), (1457, 0.6573796913691519), (1045, 0.6573988015611296), (1786, 0.6574316683748755), (953, 0.6574806422948963), (1739, 0.6575061300996905), (1480, 0.657893778300916), (305, 0.658189847108482), (839, 0.6582228502334315), (795, 0.6593829738237726), (1336, 0.660052568381775), (1976, 0.6601572622864054), (1762, 0.6604421186507158), (363, 0.6608788747615317), (1081, 0.6608827508297033), (1938, 0.6612474244475401), (1795, 0.6612485977983262), (1997, 0.6618043943350689), (977, 0.6619417192154766), (604, 0.662327480588611), (2003, 0.6624818216421848), (365, 0.6625624080887764), (2, 0.6625708620156121), (332, 0.6628721369131723), (1054, 0.6629745718574207), (394, 0.6633416219082813), (1461, 0.6633701441432416), (360, 0.6635031054830152), (1508, 0.6635861619336467), (1635, 0.6641067724784937), (291, 0.6642097894866741), (860, 0.6643567339124044), (1722, 0.6643761138621658), (550, 0.6644345886192329), (386, 0.664632296926474), (171, 0.6647989961475151), (1874, 0.6648306961968999), (58, 0.6650357619042464), (113, 0.6651272870658518), (703, 0.6656909563448368), (974, 0.6658018922326472), (1253, 0.6662816453170886), (1113, 0.6665287569132752), (381, 0.6668367536266773), (1626, 0.6671547680328238), (934, 0.6680720162291152), (442, 0.6682613582424758), (1887, 0.6685276672237748), (1341, 0.6685980430285959), (25, 0.668719340014785), (1317, 0.6688656055383959), (1169, 0.6688864718357856), (1645, 0.6689330978262145), (1727, 0.6689941784471506), (1367, 0.6693299931754924), (479, 0.6693448393608219), (690, 0.6695798314038257), (1351, 0.6701583953668249), (507, 0.6702185283015341), (121, 0.6709418267008802), (290, 0.6710226889622797), (216, 0.6713719954667763), (1220, 0.6715355526661975), (401, 0.671682008220764), (1234, 0.6718089385045534), (567, 0.6720487159918587), (1442, 0.6720805873248517), (1333, 0.6721191101184794), (130, 0.6722656352543953), (1692, 0.6722740723788354), (1606, 0.672546233540676), (330, 0.6725495041743256), (1232, 0.6726983539565199), (1307, 0.6728595745329761), (706, 0.6730102740429516), (1863, 0.6732085249065194), (1443, 0.67326813528144), (940, 0.673302276838784), (1458, 0.6733522569396706), (1670, 0.6737566771047246), (1450, 0.6737932618623812), (621, 0.6739179306563244), (239, 0.6739785938051526), (1889, 0.674117148701532), (1605, 0.674351545326719), (218, 0.6745588277459003), (1213, 0.6746364414299825), (893, 0.6746657468937188), (2046, 0.6747102332018974), (301, 0.6755085430988657), (1721, 0.6756234577051958), (355, 0.6756339163195233), (1310, 0.6757041906612643), (267, 0.6759787708582397), (1994, 0.6762524865046409), (1548, 0.6762576440358302), (1656, 0.6765937090493236), (763, 0.6768758734091727), (1219, 0.6769848065689945), (1544, 0.6772824614860004), (115, 0.6774209066017509), (455, 0.6775197130395207), (1076, 0.6777355611501783), (1163, 0.6777709548149633), (514, 0.678393128810276), (1668, 0.6784492192408607), (1168, 0.6789377104153197), (326, 0.6790986158351164), (650, 0.6797311320010537), (91, 0.6798058428496621), (981, 0.6800661058702548), (830, 0.6801555908089484), (2009, 0.680362569241802), (204, 0.6809895563835987), (34, 0.6814474424567127), (1519, 0.6814674841610073), (200, 0.6815267725247729), (547, 0.6817977346659061), (1542, 0.6820797783958052), (1716, 0.6827746700940829), (1738, 0.6832157239701624), (752, 0.6835772748498139), (245, 0.6836069166184933), (370, 0.6836397444508461), (895, 0.6836755618248607), (509, 0.683807734260547), (691, 0.6847087769917557), (2001, 0.6848822944837154), (1074, 0.6849653912430034), (1021, 0.6849719403217698), (114, 0.6850462477943631), (256, 0.6854823735905837), (1485, 0.6857099822628729), (1780, 0.6858570980367749), (1112, 0.6858670672992309), (1059, 0.6860350023624674), (380, 0.6861150452866921), (848, 0.6863095962539665), (682, 0.6867054524678458), (2019, 0.6867065703058887), (1478, 0.6869260404093472), (50, 0.6869905001040992), (549, 0.6871141612055709), (645, 0.6872081479161881), (1413, 0.6879898800717474), (947, 0.6880112652224397), (255, 0.6880520453376802), (1214, 0.6881266163331965), (1069, 0.688518534293852), (1324, 0.6885436603579063), (585, 0.6886993965381996), (1709, 0.6888592946285977), (1564, 0.688987076236361), (983, 0.68920715174083), (888, 0.689577338290822), (1493, 0.6897304295384012), (1676, 0.6898808362107126), (280, 0.6899390232168594), (156, 0.6899563210736954), (8, 0.6899989663275634), (542, 0.6903128101939597), (1061, 0.6904788013117853), (349, 0.690524892177334), (949, 0.6905675700884901), (556, 0.690614224988199), (30, 0.6908301315673645), (303, 0.6913597084081515), (1669, 0.6915722413892966), (982, 0.6915978770066328), (2028, 0.6918277038662162), (1693, 0.6921373250579795), (1820, 0.6922606387319231), (609, 0.6923562082777933), (689, 0.692704540019113), (944, 0.6927162733422392), (1309, 0.6929166464859329), (345, 0.6929695980351092), (435, 0.6930044736570642), (2010, 0.6930660068705607), (1182, 0.6931368402721885), (1058, 0.6932904887023355), (447, 0.6935067414587559), (508, 0.6935886667952276), (1798, 0.6938978957301445), (1619, 0.6940300055084573), (932, 0.6941049011463281), (1554, 0.6942612718539127), (1160, 0.6942937492623641), (501, 0.6943016017817516), (946, 0.6943449374694491), (387, 0.6944195364223009), (770, 0.6945380040925941), (2006, 0.6946773112531733), (1288, 0.6950393222397447), (2027, 0.6950518298936921), (1107, 0.6950764753711243), (1359, 0.6951962548054913), (571, 0.6955891481411569), (769, 0.6957341496181528), (1230, 0.6961776430885913), (744, 0.6962738326407338), (41, 0.6964404303016143), (1791, 0.6967614716029245), (572, 0.6968570612160905), (1250, 0.6968907223925518), (1750, 0.6970178177837157), (654, 0.6971234525955393), (1391, 0.6972257768286405), (964, 0.6974271905708195), (1756, 0.6974488251544447), (1967, 0.6974864242365633), (1433, 0.6975337991365567), (1423, 0.6975788310711977), (730, 0.6978297048541722), (980, 0.6981090234979661), (1899, 0.698134099070429), (1400, 0.6982484284512722), (655, 0.6982624359524168), (1980, 0.6983090189775374), (1430, 0.6987047211457053), (250, 0.6987767121798604), (1373, 0.6988721562823068), (384, 0.6992012173211848), (608, 0.6993659001353588), (1521, 0.6995014981855429), (849, 0.6995033774729643), (1850, 0.6995742128771629), (242, 0.6997261380335682), (607, 0.6998294989880492), (1156, 0.6999863769630575), (1802, 0.7003631451899119), (90, 0.7005285724817975), (651, 0.7005673152355052), (434, 0.7007232446232554), (1161, 0.7007267196435973), (397, 0.7009462611923584), (1681, 0.7010106067390801), (1667, 0.7013071084159266), (52, 0.7013669987738784), (619, 0.7013717122709004), (32, 0.7017468158510264), (747, 0.7022681132152275), (0, 0.7025226799453876), (887, 0.7026796460469791), (463, 0.7027619853849061), (26, 0.7030807990645896), (1280, 0.7032216447309061), (829, 0.7032469477643712), (1210, 0.7035063970635715), (1395, 0.7035735860768426), (616, 0.704239105785941), (1553, 0.7049051466583318), (512, 0.7050529841508151), (1167, 0.7050650087155412), (1462, 0.7050766686082577), (72, 0.7051073037487791), (1361, 0.7051456589982783), (350, 0.7057122345035683), (1286, 0.7057442561438536), (1702, 0.7061722372071197), (1459, 0.7061731933578581), (1212, 0.7061954921192685), (1281, 0.7063091013021305), (1066, 0.7063110869391118), (624, 0.7063668503342203), (1949, 0.706487708624495), (1397, 0.7065917592015668), (108, 0.7067567898093906), (396, 0.7070157764805468), (443, 0.7071515875421757), (1254, 0.7071852565517082), (685, 0.707253596676252), (803, 0.7072538534143251), (816, 0.7073527471656229), (93, 0.7076007286520352), (1313, 0.7076151359813707), (1327, 0.7076528277963308), (1426, 0.7077389306707351), (19, 0.7080592675019612), (915, 0.7081464842302131), (161, 0.7083649876105413), (1819, 0.7084194775247017), (1444, 0.7085014598757151), (1586, 0.7085040954075353), (1717, 0.7090189974464955), (1432, 0.7091332287247142), (1942, 0.7091341379505702), (1188, 0.7097308475017146), (1663, 0.7097558480312097), (625, 0.7097691425282807), (1701, 0.7098029614807331), (2005, 0.7098496914024842), (911, 0.7099106590737232), (1694, 0.710041610857931), (1962, 0.7101000874934372), (265, 0.7102470488489268), (1075, 0.7103656594799632), (163, 0.7104807178322753), (2011, 0.7104837279623322), (823, 0.7107735715864795), (510, 0.710799351193049), (65, 0.7108346707404432), (841, 0.7110619327194967), (1617, 0.7114118613197724), (1582, 0.7114215263120753), (948, 0.7117442993251902), (1575, 0.7122251604241702), (1840, 0.7123147826618619), (743, 0.7123523129911378), (1744, 0.7123644597739625), (497, 0.7124186631370122), (358, 0.7124409879106728), (739, 0.7127474002454004), (1088, 0.7128027259301329), (1268, 0.7128537137849713), (1036, 0.7130895215543727), (1956, 0.7131697391317038), (1033, 0.7131818177546647), (1332, 0.7132622341695132), (870, 0.7135890542024332), (229, 0.713620221695688), (1999, 0.7136740935807235), (1852, 0.7141792424035558), (1240, 0.7143002809828094), (931, 0.7144550756318914), (366, 0.7145530413600305), (1715, 0.7146812801436293), (1775, 0.7148827291627788), (1312, 0.7152190186327532), (737, 0.7152209107483651), (1837, 0.7153325154651693), (1489, 0.7153620332502417), (1665, 0.7154097826882444), (1696, 0.7155193723798536), (201, 0.7157070107452281), (1252, 0.7157586762477589), (1706, 0.7158420391078559), (1292, 0.7159776149093289), (1839, 0.7164314865991894), (1559, 0.7164651146131035), (733, 0.7170384690019309), (491, 0.7170623938573597), (1842, 0.717193978455144), (762, 0.7173118432482846), (1162, 0.7173682160782104), (1463, 0.7173830166130502), (416, 0.7176835752395256), (89, 0.7177052939356161), (1707, 0.7177541069425823), (94, 0.7178151712419739), (1515, 0.7178553607359259), (1434, 0.7179055674661341), (164, 0.7179945974162835), (680, 0.7180146027524501), (1797, 0.718179589912878), (451, 0.7183077417324266), (1290, 0.718330864603538), (667, 0.7186678935231369), (993, 0.718803822182636), (389, 0.7189424448320522), (1062, 0.7189441636137552), (1216, 0.7189477560222808), (755, 0.7191484792757743), (254, 0.7191735990610659), (1996, 0.7191864338183738), (162, 0.7193328478740006), (904, 0.7196001952875135), (693, 0.7198191588060738), (586, 0.7198352724491681), (354, 0.7198644457165001), (1408, 0.720167243179269), (1856, 0.7204005347008202), (400, 0.7204283035688056), (357, 0.7205505740555476), (244, 0.7205525133118307), (1599, 0.7207206208479469), (828, 0.7211580939825526), (1456, 0.7211862339277382), (1574, 0.7212484017569334), (2048, 0.721423651392108), (286, 0.7214290148666411), (1690, 0.7217335463506789), (247, 0.7219933634877309), (916, 0.7220983057485828), (1211, 0.7221082745970819), (1318, 0.7222210651650349), (1869, 0.722346327446402), (1106, 0.7223471186543524), (1119, 0.722579120725545), (732, 0.7226875343418593), (602, 0.7227923392502091), (1624, 0.7230983030321432), (751, 0.7234350918826201), (194, 0.7235929964184937), (1995, 0.7236676454328438), (688, 0.7236992660711818), (1928, 0.7237093560662062), (630, 0.7239328229298303), (160, 0.7239349081720863), (1159, 0.7242483352093185), (603, 0.7245645434878962), (838, 0.7246412193208155), (781, 0.7247063857795915), (1289, 0.7247259194201224), (876, 0.7249674268737841), (967, 0.724985608590466), (1853, 0.7254583242491498), (976, 0.7256217229743305), (1855, 0.7257655289518568), (352, 0.7259765082641444), (190, 0.726084777666898), (29, 0.7262203933133746), (175, 0.7263409265884745), (1384, 0.7263699475563532), (1848, 0.726458284277099), (1297, 0.726548550441804), (875, 0.7265872473717814), (165, 0.7268573666401519), (1440, 0.72697686783929), (1765, 0.7270124848431222), (48, 0.7272904156432987), (787, 0.7273843181573307), (1504, 0.7278389163261855), (1057, 0.7280692319434419), (1502, 0.728130649313438), (1868, 0.7282174861003597), (568, 0.7290332204812037), (939, 0.7290527741272723), (1843, 0.7292007808415223), (1364, 0.7292914023545018), (346, 0.7293407539708641), (398, 0.729352636945704), (1860, 0.729846469726504), (439, 0.7299014945348832), (1346, 0.7300055063264512), (493, 0.7301248337050801), (57, 0.7302163415942358), (457, 0.73052268499629), (237, 0.7305908232676976), (1369, 0.7308776682513962), (867, 0.7309783591461514), (227, 0.7311686968162854), (674, 0.7313077239481494), (1445, 0.7315343196416917), (896, 0.7315882572906274), (1957, 0.7317206906858491), (989, 0.7319930493733315), (935, 0.7321145079324509), (271, 0.7321157381605756), (1146, 0.7322676131024718), (805, 0.7323356229605082), (2012, 0.7323569848237949), (54, 0.7324405251788586), (1471, 0.7327827685982278), (258, 0.7328784004299533), (1718, 0.7329299044806117), (1932, 0.7329805783805291), (66, 0.7329877903686955), (53, 0.7331493822037495), (1816, 0.7332037528354876), (520, 0.7333004785703996), (528, 0.7333365556617325), (196, 0.7333457835462446), (490, 0.7334013777890622), (697, 0.7334276270930673), (1628, 0.7335640716751469), (1700, 0.7335709396061666), (675, 0.7336971298915176), (471, 0.7337612878739583), (390, 0.7338610182450883), (869, 0.7340569097186762), (2014, 0.7341498944972331), (1425, 0.7344448338099308), (1979, 0.7345055507119204), (1579, 0.7345192006942501), (481, 0.7345603711035766), (212, 0.7346996061886999), (308, 0.7357306517359975), (1814, 0.7358862040769443), (418, 0.7359586276987541), (1068, 0.7360578007921905), (544, 0.736458148270677), (71, 0.736963559874182), (859, 0.7371554595109242), (962, 0.7371664219566137), (252, 0.7373493085844409), (1173, 0.7373909851856135), (2026, 0.7376975711923406), (702, 0.7377114922700315), (773, 0.7378352006081106), (1278, 0.7381082645209942), (1847, 0.7383261870490117), (1484, 0.7383496451578855), (198, 0.7383734042406485), (1491, 0.7384079963038126), (522, 0.7384548592134385), (1401, 0.7385700709436971), (1358, 0.7385788392833981), (340, 0.7386887684652166), (1392, 0.7389939178165583), (1035, 0.7390960670131709), (1767, 0.7394186799561648), (224, 0.7394904116591965), (1823, 0.7395013598913022), (2017, 0.739514718797825), (1650, 0.7395338641612088), (1500, 0.7396761390928842), (1224, 0.7399342381430325), (1699, 0.7400724623965107), (620, 0.7403118324804836), (1207, 0.7404461653792327), (1056, 0.7406827446804813), (1629, 0.7407731766255303), (1977, 0.7408164133697768), (879, 0.7409786445466353), (705, 0.7410896127520956), (845, 0.7411721720949553), (1896, 0.7416427826900305), (1325, 0.7416914051390386), (2032, 0.7418550708567514), (348, 0.7418674124793359), (1753, 0.7418957073185318), (1465, 0.7419256366113841), (1251, 0.7420531944644893), (1859, 0.7423117386875189), (395, 0.7423525955832323), (69, 0.7423980940948155), (154, 0.7424989537120024), (924, 0.7426250964430794), (857, 0.7426407574235858), (1314, 0.7427011650596987), (1330, 0.7430139841693852), (536, 0.7434157924473248), (1014, 0.7435676322588897), (833, 0.7438677111612017), (843, 0.7440569191529907), (1300, 0.7441414850023911), (774, 0.744278893079307), (1867, 0.7447453285859811), (436, 0.744964683143009), (166, 0.7450584200678338), (1387, 0.7453895719136778), (597, 0.7456816490665193), (1293, 0.7459751464145701), (1664, 0.7461104189424261), (51, 0.7463048261366356), (1640, 0.7463373086154649), (686, 0.74639759783474), (793, 0.746507579066873), (1266, 0.746566230937749), (1323, 0.7466360710031201), (249, 0.7466463427926209), (1794, 0.7468317765317969), (855, 0.7468985168332472), (1101, 0.746916379898678), (473, 0.7469813538700585), (1394, 0.7471184724310325), (1970, 0.7472578572236039), (768, 0.7476177694190187), (517, 0.7481057726100382), (1495, 0.7481268320454253), (715, 0.7481918821773703), (927, 0.7481934341982412), (55, 0.7481938054626105), (259, 0.7482060344200123), (300, 0.748377494460431), (1565, 0.7484964812519018), (1460, 0.7485361469076166), (890, 0.7485987659681757), (1366, 0.7486428698925958), (1096, 0.7488112259657387), (1818, 0.7489335182468899), (1441, 0.7491414797400182), (1114, 0.7491563327543467), (214, 0.7492097394771084), (167, 0.7493203652785272), (1339, 0.7493507885724995), (884, 0.7493710462140746), (1171, 0.7496566496461465), (2020, 0.7496723505736241), (1226, 0.7498250951052194), (576, 0.7501832688815673), (545, 0.7502145950175385), (723, 0.7502737311996375), (1760, 0.7504112174120582), (283, 0.7506071330289039), (815, 0.7507743978616267), (611, 0.7507961926582533), (1221, 0.7508345686174672), (187, 0.7508988006146735), (1533, 0.7509864950833396), (1705, 0.7511687728392935), (1844, 0.7511805610671877), (1841, 0.7513867922296361), (1679, 0.7514992623304511), (930, 0.7515173234023127), (1801, 0.7517578077062468), (1894, 0.7519315698931872), (1108, 0.7519819412383819), (132, 0.7522002706885024), (1093, 0.7525198862070775), (1505, 0.7526546625626419), (192, 0.7530905176791822), (2034, 0.7532579467688655), (1267, 0.7534375736226331), (120, 0.7535317808077466), (2007, 0.7535549085024518), (1375, 0.7536145798655889), (1378, 0.7537381853379443), (662, 0.7537762910177099), (1279, 0.7538092594719281), (671, 0.7538875653453685), (973, 0.7539241647653618), (784, 0.7540066014666922), (18, 0.7542199778119492), (957, 0.7543462586628581), (1588, 0.7546666809404038), (1472, 0.7546989130030388), (653, 0.7547683279839466), (1370, 0.7552182199642054), (1005, 0.755588710846653), (669, 0.7555963553924434), (652, 0.7556388457916515), (489, 0.7558346841323381), (1002, 0.7559222364752304), (1607, 0.7559792467206918), (189, 0.7562158718496585), (1172, 0.7563773791000361), (958, 0.7564295133009008), (1758, 0.7565274044952056), (467, 0.7565485334160789), (1321, 0.7567321904857207), (1866, 0.7568336163388883), (1713, 0.7569998602648882), (729, 0.7570399110411724), (779, 0.7570786305022523), (1704, 0.7571669516953881), (2018, 0.7572419803059651), (1974, 0.7572564231266254), (1926, 0.7572602560366756), (1998, 0.7573055707132959), (711, 0.757434157615912), (127, 0.7574629135871335), (1205, 0.7575390405978727), (626, 0.7577035858812493), (589, 0.7577313285720267), (433, 0.7581486589494689), (1532, 0.7581996265675405), (1612, 0.7582117393139047), (1217, 0.7582182184996256), (1236, 0.7582531787028557), (1639, 0.7582542730957087), (402, 0.7583915827777733), (701, 0.7584688195652093), (1683, 0.7585101852669084), (1886, 0.7586104587340521), (17, 0.7586184766683051), (74, 0.7587684775594126), (515, 0.7589405802607575), (1082, 0.7590513705054613), (713, 0.7592672539679015), (1427, 0.759302181362938), (1849, 0.7593623222915655), (1677, 0.7594982245325456), (856, 0.7595108329959221), (373, 0.7596553034346347), (954, 0.7599018521604649), (1538, 0.7599992271906686), (2030, 0.7600485564584339), (1966, 0.7608160094561345), (425, 0.7608674280580894), (393, 0.7610765313646743), (1319, 0.7614916797489808), (1356, 0.7615209695970232), (926, 0.7615427772144343), (1870, 0.7616371054525624), (1187, 0.7621662441588892), (1774, 0.7621914560894223), (56, 0.7623330340610646), (700, 0.7623537371748585), (1877, 0.7623920101021715), (1698, 0.7624354800580861), (575, 0.7624856654049454), (460, 0.7627332282876544), (1416, 0.7631567964865876), (1567, 0.7631600591463115), (1530, 0.7632474708612599), (2038, 0.7634070420611476), (753, 0.7635076086602839), (188, 0.7637282337026187), (1875, 0.7637544462300009), (128, 0.7637559797992319), (2035, 0.7638166893078993), (406, 0.7638672081946765), (909, 0.7641548044257078), (1890, 0.7643985743571532), (1436, 0.7645788371025701), (1197, 0.7645936082654945), (574, 0.7646243858789886), (1618, 0.7647549981477851), (260, 0.7648137140653978), (749, 0.7649194343191899), (640, 0.7651600313652407), (1788, 0.7652540331281502), (1584, 0.7654495720660686), (1858, 0.7655942111810872), (1593, 0.7657486646541949), (1379, 0.7659641110726509), (1566, 0.7661300679396084), (453, 0.7662443238667795), (98, 0.7662758751559721), (801, 0.7662995369014325), (304, 0.7663207306140271), (1933, 0.7664154285390916), (569, 0.7664187296730068), (1904, 0.7664672321308685), (1262, 0.7665216698116839), (1331, 0.7667251359405082), (511, 0.7667762386160243), (1759, 0.7669198073141985), (1038, 0.7671543199219252), (202, 0.7671628391015926), (1039, 0.7671775654244627), (1025, 0.7671778414809751), (1238, 0.7672109788154379), (2029, 0.7677251905609402), (88, 0.7677520424034655), (294, 0.7678606427331747), (760, 0.7678783258672803), (1771, 0.7679251447152432), (1222, 0.7682565267356636), (1431, 0.768388420637125), (1833, 0.7684213586055606), (85, 0.7684729292851387), (917, 0.7686511994857718), (2008, 0.7688311363329223), (119, 0.769283306569043), (1362, 0.7694220261834597), (174, 0.7695022257404895), (1023, 0.7695876713778316), (1063, 0.7696864093450334), (1807, 0.769902726272742), (551, 0.7699169686192059), (441, 0.7699299414478035), (2049, 0.7700630418385843), (125, 0.7703149237039095), (1422, 0.7703355519073307), (516, 0.7703566837302063), (329, 0.7705506872288981), (1474, 0.7706116943610736), (529, 0.7706535347923011), (2103, 0.771013189889835), (1728, 0.7713429009709605), (543, 0.7715718199780978), (375, 0.7715878623776264), (1027, 0.7716720953116794), (988, 0.7716817438238271), (1342, 0.7717095144548892), (670, 0.77175074812776), (1622, 0.7717943523202275), (851, 0.7718535815144147), (261, 0.7718870491751392), (635, 0.7721906028659463), (818, 0.7722404239966809), (1604, 0.77233631514941), (415, 0.7723814713556191), (495, 0.7723817463243474), (844, 0.7723825789447605), (1295, 0.7724611453259496), (1097, 0.772686196918909), (1086, 0.7726910071217218), (1475, 0.7727203575308007), (1902, 0.772778596636636), (466, 0.7727846334848457), (427, 0.7728593734991838), (1910, 0.7729712744729627), (796, 0.7734424061411842), (440, 0.7734726412005976), (123, 0.7735911837715904), (1320, 0.7740869485874131), (950, 0.7744613453210734), (1915, 0.7745706928948676), (1591, 0.7746423219770731), (1048, 0.7747192560412508), (1937, 0.774835839465893), (668, 0.7748679859892924), (1808, 0.7750892357940812), (126, 0.775149436225796), (800, 0.7752318167146768), (449, 0.7753101450587307), (1511, 0.7754504795022091), (1503, 0.7754718733345709), (1406, 0.7755368916487244), (817, 0.7756425572305157), (338, 0.7757996981287807), (1052, 0.7760013204553478), (1845, 0.7760156684261602), (647, 0.7761245558588272), (1079, 0.7761381730231396), (821, 0.7762071929600382), (1961, 0.7762511695670192), (1516, 0.7763217906263831), (1147, 0.7764378697003329), (1095, 0.776716026132397), (891, 0.7767392095747101), (404, 0.7767709144505361), (1861, 0.7767753746326426), (606, 0.7768617655589287), (1260, 0.7769180393641895), (963, 0.7772478875908442), (92, 0.7776114240669956), (1768, 0.7776285845853911), (1547, 0.7777775515051146), (1969, 0.7779081777339711), (684, 0.7779175276535282), (124, 0.7783631381595886), (643, 0.7785028703669012), (588, 0.7785257899076635), (728, 0.7785522492951233), (992, 0.7785827775954919), (1390, 0.7786084639591193), (627, 0.7786679651320219), (1719, 0.7788812300059086), (461, 0.7792054967948462), (1467, 0.7795697334555833), (822, 0.7796896388068442), (826, 0.7797831795027632), (205, 0.7799433342421862), (1165, 0.7802283456295118), (1452, 0.7803377348982381), (1100, 0.7803392554559728), (1743, 0.7805525430389901), (1335, 0.7805730989021746), (1550, 0.7806167350981997), (1647, 0.7806171889314683), (902, 0.78065627547123), (28, 0.7806937810014722), (1393, 0.7807607684170105), (985, 0.7808412503862532), (1973, 0.7809307751685675), (1822, 0.7810087894533759), (405, 0.7810485398288268), (2016, 0.7810684860236767), (464, 0.7815896539270115), (1150, 0.7816173464440879), (565, 0.7820978676321986), (594, 0.7821601582129745), (577, 0.7822126091211712), (1689, 0.7822390729130578), (1090, 0.7823014354335461), (368, 0.7823885209316551), (906, 0.7824181887740287), (778, 0.782658155027138), (834, 0.7830567124506449), (87, 0.7832044950533332), (1194, 0.783231360444498), (531, 0.7834799473720077), (494, 0.7835895625492661), (1572, 0.7836558957398836), (881, 0.7843466422970341), (892, 0.784587530771831), (1846, 0.7850245595307126), (727, 0.7851277396569178), (1587, 0.7853452151891588), (908, 0.7853827068600032), (341, 0.7854433767391494), (248, 0.7854831743662195), (1524, 0.7857326016701974), (1315, 0.785786625259552), (7, 0.7859126154476114), (456, 0.785953641707743), (1261, 0.7859776286124314), (1225, 0.7860560188802387), (540, 0.7861721097321835), (432, 0.7861725556451062), (1602, 0.7862510502082298), (478, 0.786323075955445), (1552, 0.7863564659724838), (1129, 0.7866693490785279), (1831, 0.7866693968115878), (110, 0.7869222076244103), (1053, 0.7872474423484813), (424, 0.7873963757824796), (223, 0.7874035312825411), (407, 0.7875293888007922), (9, 0.7875321042634722), (1946, 0.7876146744480286), (1094, 0.7876922562123653), (648, 0.7878089973892224), (1215, 0.7878755207390392), (925, 0.7879758403514611), (868, 0.7879812523087784), (756, 0.78818879229049), (552, 0.7883921925523965), (1545, 0.7884000014403172), (698, 0.7884155645474826), (1838, 0.7886615880730787), (1621, 0.7886711323900263), (717, 0.7886832134823142), (295, 0.7888576421775408), (1854, 0.7888747968129732), (719, 0.7889783622846812), (632, 0.789093039662574), (1993, 0.7894494870394292), (356, 0.7896658548573063), (1920, 0.7897197793806756), (12, 0.78976500710704), (1016, 0.7898123002104276), (458, 0.7899949107627776), (1741, 0.7900758421183418), (637, 0.790429014933018), (195, 0.7908290323118562), (1895, 0.7911105682514581), (1018, 0.791282133463806), (721, 0.7913212131974433), (1363, 0.7914002257539396), (772, 0.7914946586771139), (1507, 0.7915816478228486), (1714, 0.7917253535997628), (2052, 0.7919079040704655), (2037, 0.7921551358615488), (99, 0.7922125496341279), (600, 0.7923601257263565), (1812, 0.7924043648884532), (587, 0.7925662797557252), (499, 0.7928992033370919), (1239, 0.793154565988442), (1326, 0.7933375105552349), (1905, 0.7936498414992872), (523, 0.7937459789036532), (1585, 0.7938703349376071), (103, 0.7939310289755505), (1857, 0.7941374885438922), (591, 0.7942161216287928), (708, 0.7943029200677232), (1011, 0.7943561523046843), (1947, 0.7943589384713629), (672, 0.794444263340284), (1303, 0.7945142293882346), (1590, 0.794574130288915), (44, 0.7946807480725706), (96, 0.7947327563729565), (1329, 0.794812745882355), (122, 0.795054072805628), (1655, 0.7950831600367425), (546, 0.7951073508375985), (764, 0.7951190706278715), (872, 0.7955011593951977), (748, 0.7957123384263247), (1060, 0.7957834516046989), (610, 0.7957965387729193), (16, 0.7959130335668209), (477, 0.7959962116790564), (1891, 0.796084352125721), (374, 0.7961625463922009), (504, 0.7961647374940688), (334, 0.7964615893146771), (1546, 0.7964852217820129), (1044, 0.7965356866102355), (790, 0.7965699916412439), (1389, 0.7967255060544565), (109, 0.7967690587505392), (716, 0.7970085478710316), (2031, 0.7972943141500118), (866, 0.7976404088473339), (1510, 0.7977166110312734), (414, 0.7977447123371291), (936, 0.7977850350057897), (573, 0.7978511445785677), (1935, 0.79796349988196), (1610, 0.7979864577536598), (1787, 0.7982371347002776), (1509, 0.7982836884351383), (885, 0.7983670552819004), (43, 0.7984930167776423), (1520, 0.7986125111079864), (1170, 0.7987766179353222), (1944, 0.7988208150903213), (1898, 0.7988256036442609), (1900, 0.7990248460874914), (131, 0.7990690789688386), (1179, 0.7992079273494557), (718, 0.7992133647898602), (336, 0.7992762790940571), (1337, 0.7993487045278086), (186, 0.7994895834455965), (199, 0.7996638183079425), (2047, 0.7998005907328203), (757, 0.8000463904503178), (736, 0.8001825548010213), (1972, 0.8001958267375875), (385, 0.8002127759860245), (1476, 0.800278927733566), (2045, 0.800705376594671), (1344, 0.8007535614899415), (176, 0.800785196901066), (498, 0.8008040489080428), (15, 0.8012150155800244), (1244, 0.8014367572197812), (961, 0.8014950710787256), (417, 0.8015017230683874), (1571, 0.8016813031004326), (1382, 0.8017115678548573), (482, 0.8021446148636237), (1581, 0.8021493205621435), (2094, 0.8023752266588795), (846, 0.8025868677750148), (1576, 0.8027174686477188), (1302, 0.8029588496974863), (641, 0.8030240721277769), (1424, 0.8030555775986241), (1454, 0.8031442118308343), (1380, 0.8031853072937766), (1455, 0.803283582054517), (1879, 0.8035288585415079), (1772, 0.8035591218327193), (1355, 0.8035753196416062), (1943, 0.8036820660689991), (2023, 0.8038626474822219), (1099, 0.8041991760395834), (1755, 0.8042215450540895), (45, 0.8042674220781861), (313, 0.804280611842496), (1703, 0.8043413708139842), (506, 0.8044536655570556), (905, 0.8044851601708208), (1123, 0.8046529217907993), (1409, 0.8046848555136994), (269, 0.8046889582472353), (1010, 0.80479746801785), (2002, 0.8052163933706268), (1499, 0.8053360832717505), (1830, 0.8055185313677155), (761, 0.8060885471328021), (1876, 0.8062317878903399), (1953, 0.8062391552552013), (135, 0.8062438969076793), (907, 0.8062924298338051), (1958, 0.806314263569341), (1754, 0.8063418689427002), (104, 0.8064154491453849), (2100, 0.8065447734818486), (1940, 0.8066687899542143), (1245, 0.8067669882040484), (722, 0.8067731955674682), (2033, 0.8067841455277971), (1578, 0.8068889103140983), (1083, 0.8070475116428644), (699, 0.8071691523729703), (1274, 0.8072739721414168), (1600, 0.8072906812633661), (1924, 0.8075138970863991), (1916, 0.8076956727532277), (1884, 0.8078798163241625), (102, 0.8080104918253399), (812, 0.8080281633437977), (1971, 0.8082037314515209), (1660, 0.8084169250384889), (530, 0.8085254329238138), (1347, 0.8086503663826528), (2105, 0.808653134331465), (1466, 0.8087165299742178), (557, 0.808777930631597), (2025, 0.8089383614374341), (726, 0.8092871664343704), (593, 0.8093790444043634), (1959, 0.8094392875509122), (297, 0.8097551436835766), (975, 0.8101811254284337), (1032, 0.8103273586070842), (1138, 0.8104173891230734), (1311, 0.8107838790339049), (1864, 0.8108883656689214), (813, 0.8110121288263565), (1026, 0.8110820024842067), (754, 0.8111298330935358), (480, 0.8113274934658291), (209, 0.8113792292982955), (623, 0.8114572081125562), (665, 0.8114757707139975), (918, 0.8114886474847461), (1682, 0.8119345736686648), (1017, 0.8119445301154895), (282, 0.8122091866463684), (707, 0.8128933014886373), (1834, 0.8130118137045624), (1501, 0.813125761880875), (450, 0.8131900117010178), (1561, 0.8132547901333423), (1710, 0.8132662079249043), (492, 0.8133414276888522), (284, 0.8137675084100087), (539, 0.813771194432207), (1799, 0.8138053937028038), (309, 0.8139574484992771), (219, 0.8143464129393065), (1776, 0.8143633798420338), (1763, 0.8145674849575143), (1131, 0.8146337533371969), (656, 0.8147702721955837), (1177, 0.8148319664875234), (1686, 0.8149666363499661), (2000, 0.8151099951134912), (1464, 0.8154190166781874), (809, 0.8156300958967315), (1923, 0.8159115417377295), (831, 0.8159226580547363), (285, 0.8160089813205854), (1809, 0.8162167967457755), (780, 0.8164046091586314), (1109, 0.8167740825408355), (649, 0.8170440994338732), (598, 0.8170738870995309), (1878, 0.8171891425765159), (1024, 0.817250434424465), (1233, 0.8173082608106301), (1383, 0.8174698029438753), (1483, 0.8177384756517307), (73, 0.817756526121667), (1724, 0.8181022250326514), (1227, 0.8182891627452915), (1283, 0.8184573742057295), (1134, 0.818487269425326), (1749, 0.8187565778981505), (1365, 0.8189358690800953), (253, 0.8190456596276103), (835, 0.819202787481653), (63, 0.8194914132529851), (1098, 0.8196741101842623), (1157, 0.8200725185856834), (1291, 0.8201268468857261), (1911, 0.8203158817986151), (1067, 0.8204410495029473), (1013, 0.8205194711715189), (903, 0.820691091031478), (347, 0.820789063480457), (792, 0.8208980139066842), (6, 0.8210777966140799), (1241, 0.8212079443842905), (448, 0.8212114722656038), (1960, 0.8212848280088731), (1539, 0.8213477076064291), (302, 0.8217637683493513), (1893, 0.8219008001626088), (1921, 0.8221731376856808), (566, 0.8223102460819449), (1691, 0.8223171003826708), (1269, 0.8224829715729918), (871, 0.8227844038021382), (1577, 0.8230312906971705), (771, 0.8230819738336543), (827, 0.8232451668313367), (794, 0.8235536246888877), (1608, 0.8240487532997933), (1037, 0.824236432965018), (1711, 0.8243189715558487), (1012, 0.8245015929410687), (1388, 0.8245192598884595), (472, 0.8245334332768666), (797, 0.8245544397899405), (1137, 0.8246581562509436), (220, 0.8248379841042508), (533, 0.8251932148608683), (1180, 0.8253602763037942), (1306, 0.8254272669704571), (914, 0.8255751024344272), (1152, 0.8257103912592705), (274, 0.8257302411547381), (70, 0.8257730754219763), (1570, 0.8261833551236762), (595, 0.8261928348376468), (854, 0.8262267791514475), (837, 0.8263951233449864), (559, 0.826478681655137), (1811, 0.8265109527581216), (1200, 0.8267504114191536), (785, 0.8273629872562052), (1192, 0.8273706400927219), (612, 0.8274734568439098), (206, 0.827521912853886), (873, 0.8276069740915999), (1583, 0.8279524915971751), (1623, 0.828161743256068), (1611, 0.8281997803215496), (423, 0.8282766170214453), (182, 0.8283894704414445), (1892, 0.8284209021718476), (1350, 0.8285461377514617), (118, 0.828759461051376), (310, 0.828859871421529), (601, 0.8290047894959355), (1912, 0.8291916031048822), (1930, 0.8291945692583609), (1616, 0.829212214087146), (1642, 0.8293239531670553), (694, 0.82934672896296), (1148, 0.8294065079673473), (1975, 0.8296360603577007), (1009, 0.8299135958150236), (1071, 0.8300147370465034), (1084, 0.8300670264686022), (1218, 0.8301248202264222), (666, 0.8302086368126161), (14, 0.8302876589797785), (1568, 0.830406757726418), (27, 0.830707811104235), (631, 0.8310002883161457), (1747, 0.8313858692061412), (1781, 0.8313872269347913), (1815, 0.8314275048190243), (1897, 0.8314320960029458), (1141, 0.8316069308351798), (106, 0.8316652658697941), (811, 0.8317808792621488), (1372, 0.8318435508552047), (421, 0.8319130645812448), (1941, 0.8319382260520805), (1865, 0.8320582666260564), (1779, 0.8322715674556992), (158, 0.8324529428030139), (1804, 0.833249090265658), (1399, 0.8332765411352624), (532, 0.8333068389923863), (519, 0.8333268822463072), (1242, 0.8334075105062522), (1862, 0.8338529332171405), (1243, 0.8341236972185186), (920, 0.8341421240687745), (1237, 0.8341523657124487), (344, 0.8345645199850342), (709, 0.8347723475419239), (1931, 0.8348981469821561), (1557, 0.8352749574035976), (1674, 0.8352779972896304), (134, 0.8353629193223483), (1695, 0.8355200567676018), (840, 0.8356749036478343), (1386, 0.8357315948541104), (1740, 0.8359179659096272), (913, 0.8359236480886831), (1064, 0.8359412271118261), (157, 0.8363373187537066), (1784, 0.8369891875608679), (1881, 0.837057916636714), (145, 0.8370881301314279), (1725, 0.8374267447433661), (1939, 0.8375699893373573), (847, 0.8377818716358254), (1646, 0.837943367956872), (33, 0.8379469191716493), (185, 0.8383892992769437), (2050, 0.8387616654184532), (1132, 0.8388983228725833), (86, 0.8393635376092001), (505, 0.8393648874472288), (1880, 0.8394230987622443), (1116, 0.8395214008059759), (67, 0.8396318522351629), (814, 0.8397427888283764), (1748, 0.8398980269296332), (735, 0.8401361028528671), (1412, 0.8401845851546901), (990, 0.840482293832608), (1929, 0.8405493667529936), (1882, 0.8410995144980917), (537, 0.8413481683269163), (1078, 0.8416746585916745), (929, 0.8422395539229567), (369, 0.8424162026907779), (46, 0.8424573646461357), (1201, 0.8426151158282227), (901, 0.8426188160274547), (1190, 0.8431451346571529), (270, 0.8431855170986187), (1632, 0.8431901490653055), (1403, 0.8432466691666536), (21, 0.8435452211488078), (639, 0.843616892882517), (469, 0.8436337739733404), (116, 0.8437786217551377), (798, 0.8438073526285846), (1120, 0.8439027864235314), (570, 0.843941161842998), (996, 0.8440871314975449), (1285, 0.8441995863609449), (383, 0.8443206453092315), (1118, 0.8449435023784646), (207, 0.8450223620456971), (679, 0.8452091922940214), (150, 0.8453700097556793), (422, 0.8454453973689838), (1627, 0.8455307588055938), (1657, 0.8455673549313005), (1490, 0.8456859308344185), (1613, 0.8457515358293685), (487, 0.8457527800025336), (1531, 0.84579482104089), (789, 0.845868713059183), (1420, 0.8458894103509809), (1556, 0.8459929405857423), (444, 0.8459977301131332), (36, 0.8462446514526613), (1789, 0.8462590165998681), (2055, 0.8464432226278598), (898, 0.8464695877924977), (1085, 0.8465769311119432), (1658, 0.8467524331084193), (49, 0.8469608474320918), (1089, 0.8471375419435596), (351, 0.8472342029370729), (1139, 0.8474926605627502), (151, 0.8475979354856022), (2043, 0.8476774168255985), (173, 0.8478149446289254), (1512, 0.8479125446313203), (83, 0.8480914956939486), (1176, 0.8482190786396817), (636, 0.848457943365356), (138, 0.8486513225737687), (1178, 0.8489288395934249), (882, 0.8489783445919036), (710, 0.8492100577520529), (1569, 0.8492115613886719), (1029, 0.8492816881687524), (1729, 0.8495032713543877), (1648, 0.849576428115644), (865, 0.849592328595661), (1265, 0.8497001262362645), (596, 0.8497192243797627), (147, 0.8498284891309772), (1103, 0.8499662301407792), (1535, 0.8499822755273244), (644, 0.8500679180339453), (496, 0.8503972687241173), (2102, 0.8504111426081654), (783, 0.8504200215341826), (928, 0.8508264070430065), (446, 0.8512140917363613), (1620, 0.8512152203391535), (638, 0.8513108564061829), (1186, 0.8514523570799106), (874, 0.8515293670937887), (1978, 0.8515535404132726), (1418, 0.8518140583318776), (599, 0.8519274058694807), (1034, 0.8519405406790922), (13, 0.8519777339306482), (1536, 0.8521261609115598), (683, 0.852185811382584), (149, 0.8522740378222545), (1189, 0.8524522565939681), (1298, 0.8525872072517069), (2104, 0.8526636443824396), (1757, 0.8529075636378909), (1166, 0.8529140279570155), (272, 0.8530734348393323), (1008, 0.8530958029084427), (1955, 0.8532476210021593), (296, 0.8534708202191863), (408, 0.85352817415009), (1543, 0.8537510830370663), (734, 0.8540376792990134), (1322, 0.8540552029096573), (1411, 0.854417437131358), (459, 0.8544268867472207), (1987, 0.8544438754535679), (1174, 0.8544472251479454), (1264, 0.8547634093463371), (696, 0.8547698211981978), (1673, 0.8549069813302151), (1316, 0.8551876133043711), (1918, 0.8552072064149219), (144, 0.8552330571341369), (1296, 0.855252738167725), (657, 0.8554536157730466), (758, 0.8555321701721252), (333, 0.8557170814244537), (79, 0.8558946552933345), (47, 0.8559362839043133), (613, 0.8560728774937776), (2041, 0.8562237391057612), (1563, 0.856247939774874), (676, 0.8562972378432545), (1675, 0.8564255347608807), (791, 0.8565561322766274), (541, 0.8565972037607802), (64, 0.8567593584733408), (428, 0.8569154007374702), (1800, 0.8570372148138548), (484, 0.8570749700733139), (95, 0.8571136466445683), (2051, 0.8571700522517458), (564, 0.857284919298583), (1986, 0.8573397579350542), (978, 0.8577283260719442), (409, 0.8578687333175956), (1144, 0.85920404833666), (1473, 0.8592137652708111), (2044, 0.8595647407822475), (1287, 0.8596619531563543), (1541, 0.8600672764702961), (379, 0.8601343809525278), (971, 0.8604314892346729), (1072, 0.8605706435697622), (23, 0.8606961317989534), (445, 0.8607384616205109), (580, 0.8610708969008696), (853, 0.861129141788353), (782, 0.8611654776801677), (1248, 0.8612869251466713), (1102, 0.8615180802973654), (1652, 0.8617660531585825), (1249, 0.8621618584494586), (1077, 0.8622285055762913), (2036, 0.8622357826816218), (1883, 0.8622370090813388), (1256, 0.8624238851297191), (1992, 0.8624593517496237), (1597, 0.8626825768114721), (1374, 0.863066598152297), (629, 0.8632883783033005), (725, 0.863931322702129), (377, 0.8640763286986756), (1609, 0.8640800229695721), (1922, 0.864358020737827), (1277, 0.8646050960213995), (1498, 0.86467984141764), (430, 0.8651013994927969), (68, 0.8653629808288882), (503, 0.8656674333087675), (376, 0.8661140609581863), (140, 0.8663148622561623), (315, 0.8664327598590512), (1145, 0.8665641917346846), (1560, 0.8666125003680294), (1001, 0.866739817624923), (2095, 0.8667913651616496), (184, 0.8669728653556387), (864, 0.8669832948209903), (438, 0.867252282014609), (583, 0.8675165606784503), (1055, 0.8675536625635709), (1573, 0.8676989907366895), (1421, 0.8677542338885386), (1913, 0.8679179918149527), (1927, 0.868362472829808), (2040, 0.8684038873533629), (1453, 0.8684458351935277), (1730, 0.8686617681658452), (2056, 0.868973983994152), (2076, 0.8691039455282262), (437, 0.8693683008598694), (1092, 0.8695441771267785), (133, 0.8696872678581663), (117, 0.8700327991755703), (986, 0.8701051440508861), (704, 0.8701345117788456), (1117, 0.8702900303409467), (420, 0.8712074756067484), (1826, 0.871361210274291), (1766, 0.8715594794658806), (78, 0.8716887110902485), (1385, 0.8717347095620838), (22, 0.8721970594755439), (1525, 0.8722448534619223), (312, 0.8723194489377273), (1488, 0.8724235654357395), (1125, 0.8726184462675464), (142, 0.8726699173849306), (311, 0.8728171000184568), (886, 0.8729006720844094), (1255, 0.8730080965324762), (11, 0.8731862152105092), (2058, 0.8732927337836622), (146, 0.8733878948212425), (298, 0.8734174023679214), (208, 0.8735431055731426), (562, 0.8735467050827734), (76, 0.8735819653598789), (371, 0.87361041048129), (984, 0.8737047261953477), (1764, 0.8740094801082134), (316, 0.8741034424407406), (1596, 0.8742936839861433), (1662, 0.8744079392224056), (1487, 0.8744420984766749), (1726, 0.8745624523370239), (1284, 0.8746247522010537), (1276, 0.8747086713022969), (1806, 0.8751824901412573), (410, 0.8754396481892391), (139, 0.8755982869967457), (923, 0.8763628335053774), (77, 0.8763629628194632), (1723, 0.8765204109462199), (1398, 0.8766240118854148), (1091, 0.8766655099591392), (337, 0.8768656737266826), (1417, 0.8770297475081638), (1782, 0.8771967891776449), (1451, 0.8772236426066801), (2042, 0.8773840541861012), (1272, 0.878063480821061), (921, 0.8782972060218063), (1778, 0.8785311836332332), (1263, 0.8786605316917444), (1007, 0.8788868636844449), (1909, 0.8791864485030152), (1028, 0.8792197771639665), (1529, 0.8792525079129184), (177, 0.8793055425589116), (1140, 0.8796130317733991), (1349, 0.8798354188289083), (1164, 0.8802466793081168), (2086, 0.8803986655428099), (429, 0.8817583759486196), (894, 0.8823588656504915), (850, 0.88337310701626), (1271, 0.8837021057108783), (331, 0.8837381100349362), (1773, 0.884037800066779), (1111, 0.8848697539589743), (75, 0.8853290720373023), (836, 0.8854427831203852), (281, 0.885612815449411), (141, 0.8856482453034682), (2078, 0.8857355039509682), (1601, 0.885746248864492), (10, 0.8858656006521), (152, 0.8859983692681896), (378, 0.8865199789924983), (1824, 0.8865689506456317), (1630, 0.8867244299350499), (372, 0.8867867274081602), (2022, 0.886814919885839), (824, 0.887239563373656), (419, 0.8881328930638348), (1273, 0.888183639208671), (1551, 0.8883147904264463), (2077, 0.8884305389971294), (861, 0.8885062085305271), (788, 0.8888128203392407), (2079, 0.8889800953777518), (1925, 0.8892323455343462), (1828, 0.8892752820479636), (413, 0.8893333300460348), (39, 0.8893803840067664), (1983, 0.8894835223394552), (1447, 0.889486270121232), (1153, 0.8895127501772158), (1790, 0.8898128106076376), (210, 0.8900683929336716), (183, 0.8905118916117971), (1752, 0.8905243309023603), (1073, 0.8906161367553295), (1175, 0.8907949378070724), (2093, 0.8912159581035604), (2092, 0.8914986574137664), (2091, 0.8915511873910712), (1204, 0.8916795304589652), (2089, 0.8918533580555063), (1270, 0.8922563748766242), (999, 0.8927143171187324), (968, 0.8929375770729615), (1154, 0.8930086472562803), (2075, 0.8933014763314752), (1158, 0.8933312024839579), (1783, 0.8937188640211347), (105, 0.8938100243678789), (2087, 0.8938648411568486), (2068, 0.8938676188570098), (933, 0.8940172544339294), (1914, 0.8940682381436689), (143, 0.8941655780333391), (1827, 0.8942741046810412), (2099, 0.8944912045835114), (2060, 0.8945238897408924), (1143, 0.8945350446912055), (1661, 0.8945645439280546), (31, 0.8946943886253639), (1595, 0.8949522447196326), (2071, 0.8954856082343504), (136, 0.8955120307724679), (2081, 0.8957175721966867), (1968, 0.8957325444175974), (1906, 0.8964983625985601), (1419, 0.8969046857062577), (2061, 0.8969355643443557), (2059, 0.897304130341063), (1080, 0.8974831708661117), (2073, 0.8975533607007428), (687, 0.8976526038155729), (1000, 0.8978746598846831), (2083, 0.8980372253553631), (2074, 0.8982623449630568), (1006, 0.8984693150755593), (2088, 0.8985200417145127), (863, 0.8986191861983701), (1598, 0.898934570515742), (1982, 0.8990003750584283), (1761, 0.8997080710109363), (2057, 0.900001570957057), (306, 0.9000149353210101), (273, 0.9004633299114011), (1415, 0.9006076781406198), (1981, 0.9006768514888617), (2101, 0.9007747498198861), (2090, 0.9008034656411891), (353, 0.900861364556453), (1396, 0.9009044615704601), (1625, 0.900955863015299), (646, 0.9010835283387417), (987, 0.9013870741017851), (1301, 0.9015037319324324), (538, 0.9017353509470063), (1497, 0.9019346499799721), (84, 0.9021065435774884), (1371, 0.9022439507698108), (2069, 0.902280135299208), (1558, 0.9027656646746531), (2065, 0.9029256683198185), (82, 0.9029828702750029), (1991, 0.9031785283752689), (1805, 0.9032607012294099), (1003, 0.903635220140547), (966, 0.9037988760334686), (2063, 0.9041588981396683), (919, 0.9044390315162739), (561, 0.9048070513652073), (137, 0.9049052140668192), (1191, 0.9053204041878866), (1402, 0.9053615701491535), (339, 0.9060546536789921), (2085, 0.9067986708765561), (2082, 0.906868098105275), (2072, 0.9074941404602301), (1989, 0.908017468300183), (2084, 0.9080870448645764), (20, 0.908127086693138), (741, 0.9082453502201989), (502, 0.9082606820381292), (399, 0.9085640401830587), (1742, 0.9088045718520384), (883, 0.908921634612011), (998, 0.9091448783270017), (750, 0.9093740418744382), (391, 0.9095917085805958), (695, 0.909625384730429), (2064, 0.9106333181275318), (2080, 0.9106918820203129), (2070, 0.9107818026585104), (521, 0.9111511018590246), (1185, 0.9111721236941279), (485, 0.9113063228134416), (1050, 0.911395838314667), (1614, 0.9115036333349651), (1405, 0.911734700050176), (2066, 0.9124983093044334), (1746, 0.9125113591338715), (1155, 0.9129582179058895), (548, 0.9136562795615827), (1908, 0.9137866622976656), (213, 0.9143058145027146), (1720, 0.9146058963332974), (1195, 0.9146603229785628), (941, 0.9150505818093384), (107, 0.9161328098242429), (535, 0.917032944327532), (314, 0.9170647963007161), (1282, 0.9177339405448453), (2067, 0.9177909224903528), (1124, 0.9180855790552965), (1522, 0.9183711957005747), (1885, 0.9192807216735355), (1745, 0.9195273487065867), (1486, 0.9198293707914073), (1142, 0.9202743762640841), (1603, 0.920808674314966), (1136, 0.9209063459302389), (1376, 0.9210127143541083), (1435, 0.921143264376707), (1537, 0.9213185748603749), (1231, 0.921395066243361), (2062, 0.9214700481417679), (664, 0.9215212472686349), (1684, 0.9218447602286329), (745, 0.9218449698927982), (181, 0.9219020352476477), (81, 0.9219860762550453), (746, 0.9236870472831773), (1015, 0.924285213381351), (1985, 0.9245622509935789), (1907, 0.9248257253693576), (411, 0.9254287604847888), (1990, 0.9257181434664636), (452, 0.9263109940427935), (1404, 0.9269963773293571), (1208, 0.9271738623326566), (3, 0.9276034551964674), (1223, 0.9280498821619075), (1513, 0.9282694562008836), (1813, 0.9285515602642868), (1070, 0.9287362616687957), (1829, 0.9288992494143115), (1803, 0.9290644143068708), (488, 0.9293837553686464), (720, 0.9294434419524862), (431, 0.9300970460134981), (2096, 0.9301431706135496), (1984, 0.9308842123628507), (1871, 0.9316315195890571), (178, 0.931743863374063), (1936, 0.9330299605429067), (1594, 0.9332095886963873), (1183, 0.933216880847812), (956, 0.9342407407008144), (1777, 0.9355161275895303), (995, 0.9361754821364213), (1184, 0.9364258794574686), (777, 0.9364550292659101), (1685, 0.9364776785309831), (661, 0.936586123019312), (819, 0.9369562582051723), (1540, 0.9371479675841135), (1672, 0.9377060165508935), (1678, 0.9379291051304696), (221, 0.9395226330519424), (1496, 0.940300475857798), (211, 0.9407227198077911), (465, 0.9407478206533897), (1004, 0.9409405536182175), (299, 0.9414767512386943), (1917, 0.9415105880694231), (24, 0.9428138287063517), (392, 0.9430660947010803), (742, 0.9439424346648129), (810, 0.9442221879187475), (1105, 0.944223508712378), (2098, 0.9442459556277029), (922, 0.9449279150908966), (197, 0.9456890661564886), (2106, 0.9461068289179186), (799, 0.9461152192386222), (232, 0.9467786040262816), (1580, 0.9468523169334735), (820, 0.9475153666482721), (880, 0.9478968973655155), (1562, 0.9510909109243585), (2097, 0.9514966409476816), (1193, 0.9517136019315152), (1649, 0.9525982949380668), (1030, 0.9529485553982199), (2107, 0.9537328760051094), (80, 0.9541833988819381), (1934, 0.9543203060084954), (468, 0.9544840501650056), (943, 0.9546889880573118), (1528, 0.9557862555662368), (1653, 0.9570782025440701), (1514, 0.9574488741222784), (969, 0.9597700752266549), (970, 0.9598794452541134), (307, 0.9611829761846588), (617, 0.962418591351847), (1615, 0.9632380805599683), (740, 0.9634041494968628), (991, 0.9636215631236574), (148, 0.9668372509842285), (622, 0.96957466391484), (111, 0.9697783956621338), (153, 0.9733046532006318), (1482, 0.976157084335691), (1793, 0.976502406207918), (172, 0.9772438648571278), (1198, 0.977612479422478), (426, 0.9794752125986346), (1051, 0.9811846087388856), (1836, 0.9813369674599592), (1104, 0.9868500242715693), (677, 0.9931241094719915), (862, 0.994363432947532), (678, 1.0045982230779118), (1348, 1.0099341682555452), (412, 1.0126943113646336), (663, 1.0243499539593908), (994, 1.0382230600665485), (1110, 1.0419869908139758)]\n",
            "\n",
            "\n",
            "======================\n",
            "\n",
            "\n",
            "Query: Are there any childcare subsidies\n",
            "\n",
            "Top 5 most similar sentences in corpus:\n",
            "659\n",
            "子どものための手当はありますか。（児童手当はどんな制度ですか。） (Score: 0.1381)\n",
            "558\n",
            "児童扶養手当とはどんな制度ですか (Score: 0.1469)\n",
            "525\n",
            "小児医療費助成事業に所得制限はありますか。 (Score: 0.1531)\n",
            "560\n",
            "母子家庭を対象とした貸付金制度はありますか。 (Score: 0.1633)\n",
            "937\n",
            "障害児福祉手当は、どのような手当ですか。 (Score: 0.1863)\n"
          ],
          "name": "stdout"
        }
      ]
    },
    {
      "cell_type": "code",
      "metadata": {
        "id": "AwUCEOtqyynd"
      },
      "source": [
        "import faiss\n",
        "index = faiss.IndexFlatIP(sentence_vectors_np.shape[1])\n",
        "index.add(normalization(sentence_vectors_np))"
      ],
      "execution_count": null,
      "outputs": []
    },
    {
      "cell_type": "code",
      "metadata": {
        "colab": {
          "base_uri": "https://localhost:8080/"
        },
        "id": "g-W5AmfB6QlD",
        "outputId": "d7b937f2-d737-466c-e8e8-c88dbce5b41a"
      },
      "source": [
        "index.search(np.atleast_2d(query_embeddings.numpy()[0]),5)"
      ],
      "execution_count": null,
      "outputs": [
        {
          "output_type": "execute_result",
          "data": {
            "text/plain": [
              "(array([[0.66772616, 0.6486728 , 0.58119684, 0.5652985 , 0.56367743]],\n",
              "       dtype=float32), array([[1142, 1044,  426,  429, 1140]]))"
            ]
          },
          "metadata": {
            "tags": []
          },
          "execution_count": 40
        }
      ]
    },
    {
      "cell_type": "code",
      "metadata": {
        "id": "rQjPT--cOimO"
      },
      "source": [
        "embedding = query_embeddings.numpy()[0]"
      ],
      "execution_count": null,
      "outputs": []
    },
    {
      "cell_type": "code",
      "metadata": {
        "id": "ij3wX4kPOjOw"
      },
      "source": [
        "# normalized_embedding = / np.linalg.norm(embedding)\n",
        "normalized_embedding = np.atleast_2d(embedding)/ np.linalg.norm(embedding)\n",
        "scores, indices = index.search(normalized_embedding, 5)\n",
        "scores, indices = scores[0], indices[0]"
      ],
      "execution_count": null,
      "outputs": []
    },
    {
      "cell_type": "code",
      "metadata": {
        "colab": {
          "base_uri": "https://localhost:8080/"
        },
        "id": "VY7c-9D7O7Eg",
        "outputId": "7dc3c8f9-2270-4e71-f224-dd2e47e2266a"
      },
      "source": [
        "scores, indices"
      ],
      "execution_count": null,
      "outputs": [
        {
          "output_type": "execute_result",
          "data": {
            "text/plain": [
              "(array([[0.66772616, 0.6486728 , 0.58119684, 0.5652985 , 0.56367743]],\n",
              "       dtype=float32), array([[1142, 1044,  426,  429, 1140]]))"
            ]
          },
          "metadata": {
            "tags": []
          },
          "execution_count": 46
        }
      ]
    },
    {
      "cell_type": "code",
      "metadata": {
        "colab": {
          "base_uri": "https://localhost:8080/"
        },
        "id": "whksDMt1O8zL",
        "outputId": "c9e532b6-c33f-4317-f468-14f308a26658"
      },
      "source": [
        "query_embeddings"
      ],
      "execution_count": null,
      "outputs": [
        {
          "output_type": "execute_result",
          "data": {
            "text/plain": [
              "<tf.Tensor: shape=(5, 768), dtype=float32, numpy=\n",
              "array([[-0.00093639, -0.02222647, -0.0327903 , ..., -0.01483916,\n",
              "        -0.0295632 ,  0.0411455 ],\n",
              "       [-0.05496163, -0.05505491,  0.01207532, ..., -0.05357183,\n",
              "        -0.03471528,  0.0124142 ],\n",
              "       [-0.04795488, -0.02573423, -0.05267552, ..., -0.01609408,\n",
              "        -0.00422578,  0.02394629],\n",
              "       [ 0.02564754,  0.02194745, -0.02589669, ..., -0.00886488,\n",
              "        -0.04422006, -0.0375817 ],\n",
              "       [ 0.00282799, -0.01571648, -0.05203636, ..., -0.00414213,\n",
              "        -0.0292901 , -0.0516954 ]], dtype=float32)>"
            ]
          },
          "metadata": {
            "tags": []
          },
          "execution_count": 25
        }
      ]
    },
    {
      "cell_type": "code",
      "metadata": {
        "id": "fN2qqCYTPe5o"
      },
      "source": [
        ""
      ],
      "execution_count": null,
      "outputs": []
    },
    {
      "cell_type": "code",
      "metadata": {
        "id": "BWPWaiFNaHTO"
      },
      "source": [
        "return_df = yokohama_df.iloc[indices].copy()\n",
        "return_df[\"scoer\"] = pd.Series(scores, index=return_df.index)"
      ],
      "execution_count": null,
      "outputs": []
    },
    {
      "cell_type": "code",
      "metadata": {
        "colab": {
          "base_uri": "https://localhost:8080/",
          "height": 289
        },
        "id": "Fgf9_oBRbKSz",
        "outputId": "51ca5651-d3be-4306-c851-b3122ed84bbc"
      },
      "source": [
        "return_df"
      ],
      "execution_count": null,
      "outputs": [
        {
          "output_type": "execute_result",
          "data": {
            "text/html": [
              "<div>\n",
              "<style scoped>\n",
              "    .dataframe tbody tr th:only-of-type {\n",
              "        vertical-align: middle;\n",
              "    }\n",
              "\n",
              "    .dataframe tbody tr th {\n",
              "        vertical-align: top;\n",
              "    }\n",
              "\n",
              "    .dataframe thead th {\n",
              "        text-align: right;\n",
              "    }\n",
              "</style>\n",
              "<table border=\"1\" class=\"dataframe\">\n",
              "  <thead>\n",
              "    <tr style=\"text-align: right;\">\n",
              "      <th></th>\n",
              "      <th>Question</th>\n",
              "      <th>Answer</th>\n",
              "      <th>URL</th>\n",
              "      <th>scoer</th>\n",
              "    </tr>\n",
              "  </thead>\n",
              "  <tbody>\n",
              "    <tr>\n",
              "      <th>1143</th>\n",
              "      <td>傘の出し方</td>\n",
              "      <td>まず、金属製の骨組と布部分に分けてください。そして、金属製の骨組みは、週１回の「小さな金属...</td>\n",
              "      <td>https://qa.city.yokohama.lg.jp/search-detail/1982</td>\n",
              "      <td>0.667726</td>\n",
              "    </tr>\n",
              "    <tr>\n",
              "      <th>1045</th>\n",
              "      <td>消火器はどのように廃棄すればよいか</td>\n",
              "      <td>ご家庭や職場でお持ちの消火器を廃棄する場合は、消火器リサイクル推進センターにお問い合わせく...</td>\n",
              "      <td>https://qa.city.yokohama.lg.jp/search-detail/1794</td>\n",
              "      <td>0.648673</td>\n",
              "    </tr>\n",
              "    <tr>\n",
              "      <th>426</th>\n",
              "      <td>古布の出し方</td>\n",
              "      <td>古布は、洗濯して乾いているものを中身がはっきりと確認できる半透明の袋に入れて出してください。...</td>\n",
              "      <td>https://qa.city.yokohama.lg.jp/search-detail/706</td>\n",
              "      <td>0.581197</td>\n",
              "    </tr>\n",
              "    <tr>\n",
              "      <th>429</th>\n",
              "      <td>われたもの（ガラス・陶器など）の出し方</td>\n",
              "      <td>散乱すると危険ですので、厚紙などで包み、「ガラス」「陶器」などと品物名を表示して、週２回の...</td>\n",
              "      <td>https://qa.city.yokohama.lg.jp/search-detail/710</td>\n",
              "      <td>0.565298</td>\n",
              "    </tr>\n",
              "    <tr>\n",
              "      <th>1141</th>\n",
              "      <td>発泡スチロールの処分の仕方</td>\n",
              "      <td>一番長いところの長さが５０ｃｍ未満の場合は、商品の梱包に使用されていたものは週１回の「プラ...</td>\n",
              "      <td>https://qa.city.yokohama.lg.jp/search-detail/1980</td>\n",
              "      <td>0.563677</td>\n",
              "    </tr>\n",
              "  </tbody>\n",
              "</table>\n",
              "</div>"
            ],
            "text/plain": [
              "                 Question  ...     scoer\n",
              "1143                傘の出し方  ...  0.667726\n",
              "1045    消火器はどのように廃棄すればよいか  ...  0.648673\n",
              "426                古布の出し方  ...  0.581197\n",
              "429   われたもの（ガラス・陶器など）の出し方  ...  0.565298\n",
              "1141        発泡スチロールの処分の仕方  ...  0.563677\n",
              "\n",
              "[5 rows x 4 columns]"
            ]
          },
          "metadata": {
            "tags": []
          },
          "execution_count": 74
        }
      ]
    },
    {
      "cell_type": "code",
      "metadata": {
        "colab": {
          "base_uri": "https://localhost:8080/"
        },
        "id": "jHxUH9aLbL8y",
        "outputId": "3d610550-d45b-45c6-e92b-4bc1da3673be"
      },
      "source": [
        "pd.Series(scores, index=indices)"
      ],
      "execution_count": null,
      "outputs": [
        {
          "output_type": "execute_result",
          "data": {
            "text/plain": [
              "1142    0.667726\n",
              "1044    0.648673\n",
              "426     0.581197\n",
              "429     0.565298\n",
              "1140    0.563677\n",
              "dtype: float32"
            ]
          },
          "metadata": {
            "tags": []
          },
          "execution_count": 69
        }
      ]
    },
    {
      "cell_type": "code",
      "metadata": {
        "colab": {
          "base_uri": "https://localhost:8080/"
        },
        "id": "zp63kl2Ad5Iu",
        "outputId": "0efd1a85-018e-4a4a-b79e-32bb85352b84"
      },
      "source": [
        "indices"
      ],
      "execution_count": null,
      "outputs": [
        {
          "output_type": "execute_result",
          "data": {
            "text/plain": [
              "array([1142, 1044,  426,  429, 1140])"
            ]
          },
          "metadata": {
            "tags": []
          },
          "execution_count": 72
        }
      ]
    },
    {
      "cell_type": "code",
      "metadata": {
        "id": "7pbK7maseMl0"
      },
      "source": [
        ""
      ],
      "execution_count": null,
      "outputs": []
    }
  ]
}